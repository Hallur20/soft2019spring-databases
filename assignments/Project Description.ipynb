{
 "cells": [
  {
   "cell_type": "markdown",
   "metadata": {},
   "source": [
    "# The Project\n",
    "\n",
    "The task for the semester project in the database course is to build a small application that allows to figure out which cities are mentioned in which English books from Project Gutenberg, given a city which books mentioned it, and given a location, which books mention citis in vicinity.\n",
    "\n",
    "\n",
    "## Build an Application with Various Databases\n",
    "\n",
    "The goal of the project is, that you build such an application in a way, so that you can exchange the underlying database engine. \n",
    "\n",
    "In the class, we covered four database paradigms. Key-value stores, document-oriented, relational, and graph databases. You build your application with at least **two** databases from two different paradigms, for example, PostgresSQL and Neo4j, PostgresSQL and MongoDB, Neo4j and MongoDB, etc. Of course, you are free to use any other database system from the given database paradigms.\n",
    "\n",
    "Note, in case you are lacking study-points you have to support more than two database paradigms. That is, if you are lacking a serious amount of studypoints you have to support up to four databases of different paradigms.\n",
    "\n",
    "\n",
    "## Types of End-user Queries\n",
    "\n",
    "In essence, your application will support the following basic end-user queries:\n",
    "\n",
    "  1. Given a city name your application returns all book titles with corresponding authors that mention this city.\n",
    "  2. Given a book title, your application plots all cities mentioned in this book onto a map.\n",
    "  3. Given an author name your application lists all books written by that author and plots all cities mentioned in any of the books onto a map.\n",
    "  4. Given a geolocation, your application lists all books mentioning a city in vicinity of the given geolocation.\n",
    "\n",
    "Consequently, your databases store author names, book titles, names of cities, their geolocations and their occurences in texts, and any other information that you deem important.\n",
    "\n",
    "\n",
    "## Measure Application Behavior\n",
    "\n",
    "Subsequently, you define a set of end-user test queries with at least five queries per type, see section above. That is, in total your end-user query test set contains at least 20 queries.\n",
    "\n",
    "Now, you meassure the reponsiveness of your application with respect to the end-user queries.\n",
    "\n",
    "\n",
    "## Report Results\n",
    "\n",
    "Your final report has to provide information on the following:\n",
    "\n",
    "  1. Which database engines are used.\n",
    "  * How data is modeled in the database.\n",
    "  * How data is modeled in your application.\n",
    "  * How the data is imported.\n",
    "  * Behavior of query test set. Including a discussion on how much of the query runtime is influenced by the DB engine and what is influenced by the application frontend.\n",
    "  * Your recommendation, for which database engine to use in such a project for production.\n",
    "  \n",
    "  \n",
    "**OBS** Remember to use the approprite diagram notaions for documentation."
   ]
  },
  {
   "cell_type": "markdown",
   "metadata": {},
   "source": [
    "# Hand-in Procedure\n",
    "\n",
    "  * Create a repository on Github, which includes everything, the  code of your project, all related artifacts, as well as the report.\n",
    "  * Create a Markdown (.md) file called README.md in the root of your project.\n",
    "    - That README.md describes what this project does, and contains the project report as specified above.\n",
    "  * Create a release of your project on Github, see https://help.github.com/articles/creating-releases/.\n",
    "  * Hand-in a link to this release on Moodle. Latest hand-in is on 28. May 12:00 (noon).\n",
    "\n",
    "\n"
   ]
  },
  {
   "cell_type": "markdown",
   "metadata": {},
   "source": [
    "# Hints:\n",
    "\n",
    " * A description on how to automatically download these books is available here: https://github.com/datsoftlyngby/soft2018spring-databases-teaching-material/tree/master/book_download\n",
    " * Per book you need the author(s) and the title(s). To get them you have essentially two possibilities:\n",
    "   - You parse this information out of each book's text file.\n",
    "   - You parse this information out of the XML/RDF files from the offline catalogue, see https://www.gutenberg.org/wiki/Gutenberg:Feeds\n",
    "  * Per book you need a list of cities it mentions. Of course you write a program solving this task, where you can choose one of many strategies for your implementation. Be aware that some generate more noise than others.\n",
    "    - Apply the heuristics that says: In English potential cities in a text are capitalized words\n",
    "    - Apply the above heuristiscs to find sentences potentially mentioning cities and subsequently apply natural language recognition (named entity recognition) on those sentences to find proper city names, see for example:  https://nlp.stanford.edu/software/CRF-NER.html\n",
    "  * CSV files with many cities and their geolocations is avalable from www.geonames.org, see http://download.geonames.org/export/dump/. For your project, you use either http://download.geonames.org/export/dump/cities15000.zip or http://download.geonames.org/export/dump/cities5000.zip\n",
    "    - You choose wheather you recognise ASCII names or unicode names from `cities*.txt` depending on a book's file type. That is, you use the city names in either column `name` or `asciiname`.\n",
    "    - You can neglect the city names given in column `alternatenames`.\n",
    "  * Remember that this project forms the basis of your exam _\"The exam starts with a ten minutes group presentation about the Gutenberg Books Project. Subsequently, discussion with the examiners and the group about projects, technologies, design decisions, their impact, etc.\"_\n",
    "    * The frontend of your application does not matter too much. That is, a CLI application is as good as a web-application.\n",
    "\n"
   ]
  }
 ],
 "metadata": {
  "kernelspec": {
   "display_name": "Python 3",
   "language": "python",
   "name": "python3"
  },
  "language_info": {
   "codemirror_mode": {
    "name": "ipython",
    "version": 3
   },
   "file_extension": ".py",
   "mimetype": "text/x-python",
   "name": "python",
   "nbconvert_exporter": "python",
   "pygments_lexer": "ipython3",
   "version": "3.6.4"
  }
 },
 "nbformat": 4,
 "nbformat_minor": 1
}
