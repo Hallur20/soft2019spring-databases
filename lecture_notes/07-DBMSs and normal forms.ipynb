{
 "cells": [
  {
   "cell_type": "markdown",
   "metadata": {
    "slideshow": {
     "slide_type": "slide"
    }
   },
   "source": [
    "# DBMS and normal forms\n",
    "\n",
    "``jeep@cphbusiness.dk``"
   ]
  },
  {
   "cell_type": "markdown",
   "metadata": {},
   "source": [
    "## NF1 motivation\n",
    "\n",
    "With no duplicate datae we cannot "
   ]
  },
  {
   "cell_type": "markdown",
   "metadata": {
    "slideshow": {
     "slide_type": "subslide"
    }
   },
   "source": [
    "## Agenda\n",
    "\n",
    "* Recap and hand-in evaluation\n",
    "* Recap on teaching format\n",
    "* A brief history of how not to do databases\n",
    "  * ACID properties\n",
    "* PostgreSQL\n",
    "  * Connecting to PostgreSQL\n",
    "  * Creating tables in PostgreSQL\n",
    "* Formal SQL introduction \n",
    "  * Manifesting ERD's in SQL\n",
    "  * Keys and surrogate keys\n",
    "* Normalisation\n",
    "  * Constraints\n",
    "  * 1, 2 and 3\n",
    "* Assignment for next week"
   ]
  },
  {
   "cell_type": "markdown",
   "metadata": {
    "slideshow": {
     "slide_type": "subslide"
    }
   },
   "source": [
    "## Learning outcomes\n",
    "\n",
    "## Knowledge \n",
    "* Various database types and the underlying models\n",
    "* (The particular issues raised by having many simultaneous transactions, including in connection with distributed databases)\n",
    "\n",
    "### Skills\n",
    "* Transform logical data models into physical models in various database types\n",
    "* Use the programming and other facilities provided by a modern DBMS\n"
   ]
  },
  {
   "cell_type": "markdown",
   "metadata": {
    "slideshow": {
     "slide_type": "subslide"
    }
   },
   "source": [
    "# Teaching format\n",
    "\n",
    "![Donning-Kruger effect](https://i.imgur.com/jbo2gy5.jpg)"
   ]
  },
  {
   "cell_type": "markdown",
   "metadata": {
    "slideshow": {
     "slide_type": "slide"
    }
   },
   "source": [
    "## A brief history of how not to do databases\n",
    "\n",
    "Databases typically contain important information."
   ]
  },
  {
   "cell_type": "markdown",
   "metadata": {
    "slideshow": {
     "slide_type": "fragment"
    }
   },
   "source": [
    "Imagine building a database in 1980: you have one single file, shared between many users that can execute an arbitrary amount of queries on your database. What could possibly go wrong?"
   ]
  },
  {
   "cell_type": "markdown",
   "metadata": {
    "slideshow": {
     "slide_type": "subslide"
    }
   },
   "source": [
    "## Problem 1: Concurrent executions\n",
    "\n",
    "What if user A mutates the database, but, before he is done, user B starts using the partial work of A?\n",
    "\n",
    "  * Dirty reads or lost updates: data corruction\n",
    "  \n",
    "Example: money transfer\n",
    "  * Two queries: take and put money"
   ]
  },
  {
   "cell_type": "markdown",
   "metadata": {
    "slideshow": {
     "slide_type": "fragment"
    }
   },
   "source": [
    "**Solution**: atomicity\n",
    "  * We need to promise that each transaction happen, or don't"
   ]
  },
  {
   "cell_type": "markdown",
   "metadata": {
    "slideshow": {
     "slide_type": "fragment"
    }
   },
   "source": [
    "![Do or do not](https://media.giphy.com/media/26FmQ6EOvLxp6cWyY/giphy.gif)"
   ]
  },
  {
   "cell_type": "markdown",
   "metadata": {
    "slideshow": {
     "slide_type": "subslide"
    }
   },
   "source": [
    "## Problem 2: Inconsistency\n",
    "\n",
    "So, tables cannot be corrupted. But what about their relations? They can still break!"
   ]
  },
  {
   "cell_type": "markdown",
   "metadata": {},
   "source": []
  },
  {
   "cell_type": "markdown",
   "metadata": {
    "slideshow": {
     "slide_type": "fragment"
    }
   },
   "source": [
    "**Solution**: Consistency\n",
    "  * We have to promise to always keep the database in a consistent state"
   ]
  },
  {
   "cell_type": "markdown",
   "metadata": {
    "slideshow": {
     "slide_type": "subslide"
    }
   },
   "source": [
    "## Problem 3: Concurrent execution\n",
    "\n",
    "At what point should a query be exposed?\n",
    "\n",
    "Example:\n",
    "  * Imagine that I create a table for orders and start filling in data. But before the table is finished another user wants to list all orders."
   ]
  },
  {
   "cell_type": "markdown",
   "metadata": {
    "slideshow": {
     "slide_type": "fragment"
    }
   },
   "source": [
    "**Solution**: Isolation\n",
    "  * Strict isolation: only visible when entire all the query are done\n",
    "  * Relaxed isolation: parts of the queries can be accessed before the rest is done"
   ]
  },
  {
   "cell_type": "markdown",
   "metadata": {
    "slideshow": {
     "slide_type": "subslide"
    }
   },
   "source": [
    "## Problem 4: Data integrity\n",
    "\n",
    "Disks are not reliable. Power can go down, bits can switch."
   ]
  },
  {
   "cell_type": "markdown",
   "metadata": {
    "slideshow": {
     "slide_type": "fragment"
    }
   },
   "source": [
    "**Solution: Durability**\n",
    "  * We need to promise our users that data is stored in fail-safe and non-volatile memory."
   ]
  },
  {
   "cell_type": "markdown",
   "metadata": {
    "slideshow": {
     "slide_type": "subslide"
    }
   },
   "source": [
    "## DBMS\n",
    "\n",
    "A database is no longer just a database. We need guarantees to make it work properly."
   ]
  },
  {
   "cell_type": "markdown",
   "metadata": {
    "slideshow": {
     "slide_type": "fragment"
    }
   },
   "source": [
    "At the very least we need:\n",
    "\n",
    "* Atomicity\n",
    "* Consistency\n",
    "* Isolation and\n",
    "* Durability"
   ]
  },
  {
   "cell_type": "markdown",
   "metadata": {
    "slideshow": {
     "slide_type": "fragment"
    }
   },
   "source": [
    "Also known as ACID"
   ]
  },
  {
   "cell_type": "markdown",
   "metadata": {
    "slideshow": {
     "slide_type": "slide"
    }
   },
   "source": [
    "## PostgreSQL\n",
    "\n",
    "``postgresql.org``\n",
    "\n",
    "PostgreSQL is a powerful, open source object-relational database system.\n",
    "\n",
    "And naturally ACID compliant."
   ]
  },
  {
   "cell_type": "markdown",
   "metadata": {
    "slideshow": {
     "slide_type": "slide"
    }
   },
   "source": [
    "## Common databases\n",
    "\n",
    "* MySQL/MariaDB\n",
    "* Oracle\n",
    "* PostgreSQL"
   ]
  },
  {
   "cell_type": "markdown",
   "metadata": {
    "slideshow": {
     "slide_type": "subslide"
    }
   },
   "source": [
    "## Why PostgreSQL?\n",
    "\n",
    "* Open-source\n",
    "* Extremely robust\n",
    "* Front-line of research\n",
    "* Well documented\n",
    "* Great interoperability"
   ]
  },
  {
   "cell_type": "markdown",
   "metadata": {
    "slideshow": {
     "slide_type": "subslide"
    }
   },
   "source": [
    "## Mastering PostgreSQL\n",
    "![Mastering PostgreSQL](images/book_fontaine.png)"
   ]
  },
  {
   "cell_type": "markdown",
   "metadata": {
    "slideshow": {
     "slide_type": "subslide"
    }
   },
   "source": [
    "## Running PostgreSQL\n",
    "\n",
    "``docker run -p 5432:5432 -d postgres:alpine``"
   ]
  },
  {
   "cell_type": "markdown",
   "metadata": {
    "slideshow": {
     "slide_type": "fragment"
    }
   },
   "source": [
    "``docker run -p 5432:5432 -d -v postgres-data:/var/lib/postgresql/data --name psql postgres:alpine``"
   ]
  },
  {
   "cell_type": "markdown",
   "metadata": {
    "slideshow": {
     "slide_type": "subslide"
    }
   },
   "source": [
    "## Connecting to PostgreSQL\n",
    "\n",
    "* Normal psql connection command \n",
    "  * ``psql``\n",
    "* With user ``postgres``\n",
    "  * ``psql -U postgres``"
   ]
  },
  {
   "cell_type": "markdown",
   "metadata": {
    "slideshow": {
     "slide_type": "fragment"
    }
   },
   "source": [
    "* Connecting to a shell in a Docker container\n",
    "  * ``docker exec -it psql bash``"
   ]
  },
  {
   "cell_type": "markdown",
   "metadata": {
    "slideshow": {
     "slide_type": "fragment"
    }
   },
   "source": [
    "* Connecting to PostgreSQL through the shell in the Docker container\n",
    "  * ``docker exec -it psql bash -c \"psql -U postgres\"``"
   ]
  },
  {
   "cell_type": "markdown",
   "metadata": {
    "slideshow": {
     "slide_type": "slide"
    }
   },
   "source": [
    "# Formal SQL introduction\n",
    "\n",
    "* First appeared in 1974\n",
    "  * Based on Edgar F. Codd's from 1970\n",
    "* Standard since 80's\n",
    "  * Now [SQL:2016](https://en.wikipedia.org/wiki/SQL:2016)\n",
    "  * Not all follow these standard\n",
    "    * Example: Case-sensitivity"
   ]
  },
  {
   "cell_type": "markdown",
   "metadata": {
    "slideshow": {
     "slide_type": "fragment"
    }
   },
   "source": [
    "* SQL syntax recap\n",
    "* Data types\n",
    "* Table creation\n",
    "* Table keys\n",
    "* Modeling relations"
   ]
  },
  {
   "cell_type": "markdown",
   "metadata": {
    "slideshow": {
     "slide_type": "subslide"
    }
   },
   "source": [
    "# Structured query language (SQL)\n",
    "<div style=\"float:right; width: 45%\"><br/><br/><img alt=\"SQL\" style=\"width:100%;\" src=\"https://wikimedia.org/api/rest_v1/media/math/render/svg/b0bfef3c941c1a88d3990bd1472653e60cf02d0a\" /></div>\n",
    "* Statements\n",
    "  * May also be a query\n",
    "* Clauses\n",
    "  * ``select``-clause, ``where``-clause etc.\n",
    "* Expressions\n",
    "  * ``population + 1``, ``\"Boris Jeltsin\"``\n",
    "* Predicates\n",
    "  * ``name = ’USA‘``"
   ]
  },
  {
   "cell_type": "markdown",
   "metadata": {
    "slideshow": {
     "slide_type": "fragment"
    }
   },
   "source": [
    "* Statements must end with ``;``"
   ]
  },
  {
   "cell_type": "markdown",
   "metadata": {
    "slideshow": {
     "slide_type": "subslide"
    }
   },
   "source": [
    "## SQL data types\n",
    "\n",
    "* Character Types\n",
    "\n",
    "  * Character (CHAR)\n",
    "  * Character Varying (VARCHAR)\n",
    "  * Character Large Object (CLOB)\n",
    "\n",
    "* Binary Types\n",
    "  * Binary (BINARY)\n",
    "  * Binary Varying (VARBINARY)\n",
    "  * Binary Large Object (BLOB)\n",
    "\n",
    "* Numeric Types\n",
    "  * Exact Numeric Types (NUMERIC, DECIMAL, SMALLINT, INTEGER, BIGINT)\n",
    "  * Approximate Numeric Types (FLOAT, REAL, DOUBLE PRECISION)\n",
    "\n",
    "* Datetime Types (DATE, TIME, TIMESTAMP)\n",
    "* Interval Type (INTERVAL)\n",
    "* Boolean\n",
    "* XML\n",
    "* null<sup>TM</sup>"
   ]
  },
  {
   "cell_type": "markdown",
   "metadata": {
    "slideshow": {
     "slide_type": "subslide"
    }
   },
   "source": [
    "## SQL relations\n",
    "\n",
    "* We needed a language that can model\n",
    "  * Entities\n",
    "  * Attributes\n",
    "  * Relationships"
   ]
  },
  {
   "cell_type": "markdown",
   "metadata": {
    "slideshow": {
     "slide_type": "fragment"
    }
   },
   "source": [
    "* In SQL\n",
    "  * Entities $=$ Tables $=$ Relations\n",
    "  * Attributes $=$ Columns\n",
    "  * Relationships $\\approx$ foreing keys"
   ]
  },
  {
   "cell_type": "markdown",
   "metadata": {
    "slideshow": {
     "slide_type": "subslide"
    }
   },
   "source": [
    "## Creating entities\n",
    "\n",
    "* ``CREATE TABLE [name];``\n",
    "* ``DROP TABLE [name];``"
   ]
  },
  {
   "cell_type": "markdown",
   "metadata": {
    "slideshow": {
     "slide_type": "fragment"
    }
   },
   "source": [
    "## .. with attributes\n",
    "\n",
    "    CREATE TABLE [name] (\n",
    "      [attribute1] [type],\n",
    "      [attribute2] [type]\n",
    "    );"
   ]
  },
  {
   "cell_type": "markdown",
   "metadata": {
    "slideshow": {
     "slide_type": "fragment"
    }
   },
   "source": [
    "* Example:\n",
    "\n",
    "    CREATE TABLE actors (\n",
    "      name VARCHAR,\n",
    "      age int\n",
    "    );"
   ]
  },
  {
   "cell_type": "markdown",
   "metadata": {},
   "source": [
    "## Inspecting tables in PostgreSQL\n",
    "\n",
    "  * ``\\dt``: lists tables\n",
    "  * ``\\d [name]``: describes the structure of a table"
   ]
  },
  {
   "cell_type": "markdown",
   "metadata": {
    "slideshow": {
     "slide_type": "subslide"
    }
   },
   "source": [
    "## Identifying tuples/rows\n",
    "\n",
    "How do we find the needle in the haystack? \n",
    "  * By some kind of identifier, a **key**"
   ]
  },
  {
   "cell_type": "markdown",
   "metadata": {
    "slideshow": {
     "slide_type": "fragment"
    }
   },
   "source": [
    "* Example:\n",
    "    CREATE TABLE actors (\n",
    "      name VARCHAR PRIMARY KEY,\n",
    "      age int\n",
    "    );"
   ]
  },
  {
   "cell_type": "markdown",
   "metadata": {
    "slideshow": {
     "slide_type": "fragment"
    }
   },
   "source": [
    "What if you want to identify a tuple by more than one column?"
   ]
  },
  {
   "cell_type": "markdown",
   "metadata": {
    "slideshow": {
     "slide_type": "fragment"
    }
   },
   "source": [
    "* Example: \n",
    "    CREATE TABLE actors (\n",
    "      name VARCHAR,\n",
    "      age int,\n",
    "      PRIMARY KEY (name, age)\n",
    "    );"
   ]
  },
  {
   "cell_type": "markdown",
   "metadata": {
    "slideshow": {
     "slide_type": "subslide"
    }
   },
   "source": [
    "## Inspecting tables in PostgreSQL\n",
    "\n",
    "  * ``\\dt``: lists tables\n",
    "  * ``\\d [name]``: describes the structure of a table"
   ]
  },
  {
   "cell_type": "markdown",
   "metadata": {
    "slideshow": {
     "slide_type": "subslide"
    }
   },
   "source": [
    "## A note on primary keys\n",
    "\n",
    "Primary keys are unique, you cannot have two entries with the same primary key combination. They also **can not** be null."
   ]
  },
  {
   "cell_type": "markdown",
   "metadata": {
    "slideshow": {
     "slide_type": "fragment"
    }
   },
   "source": [
    "* Unique: ``UNIQUE (name, age)``\n",
    "* Not-null: ``name VARCHAR NOT NULL``"
   ]
  },
  {
   "cell_type": "markdown",
   "metadata": {
    "slideshow": {
     "slide_type": "fragment"
    }
   },
   "source": [
    "* Example: \n",
    "\n",
    "    CREATE TABLE actors (\n",
    "      name VARCHAR NOT NULL,\n",
    "      age int NOT NULL,\n",
    "      UNIQUE (name, age)\n",
    "    );"
   ]
  },
  {
   "cell_type": "markdown",
   "metadata": {
    "slideshow": {
     "slide_type": "subslide"
    }
   },
   "source": [
    "## Describing relations in SQL\n",
    "\n",
    "Relations require that you can point to them. Now we can!"
   ]
  },
  {
   "cell_type": "markdown",
   "metadata": {
    "slideshow": {
     "slide_type": "fragment"
    }
   },
   "source": [
    "Say we have a table:\n",
    "\n",
    "    CREATE TABLE actors (\n",
    "      name VARCHAR PRIMARY KEY,\n",
    "      age\n",
    "    );"
   ]
  },
  {
   "cell_type": "markdown",
   "metadata": {
    "slideshow": {
     "slide_type": "fragment"
    }
   },
   "source": [
    "Then we can **reference** the ``name`` column in another table:\n",
    "    \n",
    "    CREATE TABLE role (\n",
    "      actor VARCHAR REFERENCES actors(name),\n",
    "      movie VARCHAR REFERENCES movies(title)\n",
    "    );"
   ]
  },
  {
   "cell_type": "markdown",
   "metadata": {
    "slideshow": {
     "slide_type": "subslide"
    }
   },
   "source": [
    "## Constraints\n",
    "\n",
    "* ``REFERENCES``, ``UNIQUE``, ``NOT NULL`` and ``PRIMARY KEY`` are **constraints**\n",
    "* They **cannot** be broken\n",
    "  * Similar to ``assert``\n",
    "* Example:\n",
    "  * ``INSERT INTO role (actor, movie) VALUES ('The Rock', 'G.I.Joe'); -- Crash!``"
   ]
  },
  {
   "cell_type": "markdown",
   "metadata": {
    "slideshow": {
     "slide_type": "slide"
    }
   },
   "source": [
    "## Normal forms\n",
    "\n",
    "We talked about how databases would keep the data safe and consistent.\n",
    "\n",
    "But what about performance and data constraints?"
   ]
  },
  {
   "cell_type": "markdown",
   "metadata": {
    "slideshow": {
     "slide_type": "fragment"
    }
   },
   "source": [
    "* Functional dependencies\n",
    "* Database optimisation problems\n",
    "* Normal forms"
   ]
  },
  {
   "cell_type": "markdown",
   "metadata": {
    "slideshow": {
     "slide_type": "subslide"
    }
   },
   "source": [
    "## Functional dependency\n",
    "\n",
    "* A constraint between two sets of attributes in a table.\n",
    "* Column B is functionally dependent on column A if and only if each value in A is associated with precisely one value in B\n",
    "* Or column A is said to **functionally determine** column B\n",
    "* Written A → B"
   ]
  },
  {
   "cell_type": "markdown",
   "metadata": {
    "slideshow": {
     "slide_type": "fragment"
    }
   },
   "source": [
    "* Example: \n",
    "\n",
    "| CPR | Name | Address |\n",
    "|---------|---------|-------------|\n",
    "|140298-1234|Thomas|Copenhagen|\n",
    "|041297-5367|Nikoline|Aarhus|\n",
    "|151197-2352|Claus|Dragør|\n",
    "|050596-1142|Martin|Copenhagen|"
   ]
  },
  {
   "cell_type": "markdown",
   "metadata": {
    "slideshow": {
     "slide_type": "subslide"
    }
   },
   "source": [
    "## Database optimisation\n",
    "\n",
    "We need our databases to run fast. Functional dependencies are needed because they can find and eliminate redundancies.\n",
    "\n",
    "The question is how we can affect the quality of our design:\n",
    "\n",
    "  * Relations\n",
    "  * Attributes\n",
    "  * Constraints"
   ]
  },
  {
   "cell_type": "markdown",
   "metadata": {
    "slideshow": {
     "slide_type": "subslide"
    }
   },
   "source": [
    "# Database normalisation\n",
    "\n",
    "Definition:\n",
    "  * \"The process of restructuring a relational database in accordance with a series of so-called normal forms in order to reduce data redundancy and improve data integrity\" - [Wikipedia](https://en.wikipedia.org/wiki/Database_normalization)\n",
    "\n",
    "1. To free the collection of relations from undesirable insertion, update and deletion dependencies;\n",
    "2. To reduce the need for restructuring the collection of relations, as new types of data are introduced, and thus increase the life span of application programs;\n",
    "3. To make the relational model more informative to users;\n",
    "4. To make the collection of relations neutral to the query statistics, where these statistics are liable to change as time goes by.\n",
    "\n",
    "     — E.F. Codd, \"Further Normalization of the Data Base Relational Model\"[3]\n"
   ]
  },
  {
   "cell_type": "markdown",
   "metadata": {
    "slideshow": {
     "slide_type": "subslide"
    }
   },
   "source": [
    "## Database normalisation hierarchy\n",
    "\n",
    "![Normalisation hierarchy](images/normalisation.png)"
   ]
  },
  {
   "cell_type": "markdown",
   "metadata": {
    "slideshow": {
     "slide_type": "subslide"
    }
   },
   "source": [
    "## Normal form 1\n",
    "\n",
    "**Definition**: All fields are atomic:\n",
    "\n",
    "1. There are no duplicated rows in the table.\n",
    "2. Each cell is single-valued (no repeating groups or arrays).\n",
    "3. Entries in a column (field) are of the same kind."
   ]
  },
  {
   "cell_type": "markdown",
   "metadata": {
    "slideshow": {
     "slide_type": "fragment"
    }
   },
   "source": [
    "\n",
    "Example:\n",
    "\n",
    "| CPR | Name | Address |\n",
    "|---------|---------|-------------|\n",
    "|050596-1142|Martin|Copenhagen|\n",
    "|140298-1234|Thomas|Copenhagen <br>Aarhus|\n",
    "|041297-5367|null|Aarhus|\n",
    "|151197-2352|Claus|Dragør|\n",
    "|050596-1142|Martin|Copenhagen|"
   ]
  },
  {
   "cell_type": "markdown",
   "metadata": {
    "slideshow": {
     "slide_type": "fragment"
    }
   },
   "source": [
    "**Motivation**: Duplication makes it hard to change (update and delete anomalies)"
   ]
  },
  {
   "cell_type": "markdown",
   "metadata": {
    "slideshow": {
     "slide_type": "subslide"
    }
   },
   "source": [
    "## Normal form 2\n",
    "\n",
    "**Definition**: Non-key attributes are dependent on all of the key.\n",
    "\n",
    "  1. Relation is in 1st NF\n",
    "  2. Eliminate redundant data: if an attribute depends on only part of a multi-valued key, remove it to a separate table"
   ]
  },
  {
   "cell_type": "markdown",
   "metadata": {
    "slideshow": {
     "slide_type": "fragment"
    }
   },
   "source": [
    "Example (what is the key?):\n",
    "\n",
    "| Puppy Number | Trick ID| Trick Name| Skill Level|\n",
    "|-----|------|------------|------|\n",
    "|52  |27|“roll over” |9|\n",
    "|53 |16 |“Nose Stand”|9|\n",
    "|54|27  |“roll over”|5|"
   ]
  },
  {
   "cell_type": "markdown",
   "metadata": {
    "slideshow": {
     "slide_type": "fragment"
    }
   },
   "source": [
    "**Motivation**: Imagine you wanted to give a trick a different ID: update anomaly."
   ]
  },
  {
   "cell_type": "markdown",
   "metadata": {
    "slideshow": {
     "slide_type": "subslide"
    }
   },
   "source": [
    "## Normal form 3\n",
    "\n",
    "**Definition**: No transitive dependencies"
   ]
  },
  {
   "cell_type": "markdown",
   "metadata": {
    "slideshow": {
     "slide_type": "subslide"
    }
   },
   "source": [
    "## Transitive dependency\n",
    "\n",
    "* A functional dependency X → Z  is transitive if X → Y → Z, unless Y → X\n",
    "\n",
    "* Example: \n",
    "\n",
    "| Book |Author| Author_age|\n",
    "|------------------|------------------|-------|\n",
    "|Game of Thrones|George R. R. Martin|66|\n",
    "|Harry Potter|J. K. Rowling|49|\n",
    "|Dying of the Light|George R. R. Martin|66|"
   ]
  },
  {
   "cell_type": "markdown",
   "metadata": {
    "slideshow": {
     "slide_type": "subslide"
    }
   },
   "source": [
    "## Normal form 3\n",
    "\n",
    "**Definition**: No transitive dependencies\n",
    "\n",
    "1. Relation is in 2NF\n",
    "2. If attributes do not contribute to a description of the key, remove them to a separate table."
   ]
  },
  {
   "cell_type": "markdown",
   "metadata": {
    "slideshow": {
     "slide_type": "slide"
    }
   },
   "source": [
    "## Assignment \n",
    "\n",
    "Given a SQL table over some Twitter data, construct a normalised relation to the 3rd NF\n",
    "\n",
    "* **Deadline**: 6th of March 12:00\n",
    "* **Review**: 7th of March 23:59\n",
    "* If you are interested, data is available here: http://followthehashtag.com/datasets/free-twitter-dataset-usa-200000-free-usa-tweets/\n",
    "\n",
    "    create table tweet\n",
    "     (\n",
    "       id         bigint primary key,\n",
    "       date       date,\n",
    "       hour       time,\n",
    "       uname      text,\n",
    "       nickname   text,\n",
    "       bio        text,                -- User biography\n",
    "       message    text,\n",
    "       favs       bigint,              -- Number of user that favourited this tweet\n",
    "       rts        bigint,              -- Number of times this tweet has been retweeted\n",
    "       latitude   double precision,\n",
    "       longitude  double precision,\n",
    "       country    text,                -- The country where this tweet was tweeted from\n",
    "       place      text,                -- The name of the location thi tweet was tweeted from (if any)\n",
    "       picture    text,                -- A picture in this tweet (if any)\n",
    "       followers  bigint,              -- Number of users followers \n",
    "       following  bigint,              -- Number of users following\n",
    "       listed     bigint,              -- ID of the list, this tweet belongs to (if any)\n",
    "                                       -- In Twitter a tweet can be an a list (conversation), started by a user\n",
    "       lang       text,                -- Tweet language (not user)\n",
    "       url        text                 -- Tweet URL\n",
    "     );\n"
   ]
  }
 ],
 "metadata": {
  "celltoolbar": "Slideshow",
  "kernelspec": {
   "display_name": "Python 3",
   "language": "python",
   "name": "python3"
  },
  "language_info": {
   "codemirror_mode": {
    "name": "ipython",
    "version": 3
   },
   "file_extension": ".py",
   "mimetype": "text/x-python",
   "name": "python",
   "nbconvert_exporter": "python",
   "pygments_lexer": "ipython3",
   "version": "3.6.3"
  }
 },
 "nbformat": 4,
 "nbformat_minor": 2
}
