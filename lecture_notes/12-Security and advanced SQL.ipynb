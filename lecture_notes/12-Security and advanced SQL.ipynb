{
 "cells": [
  {
   "cell_type": "markdown",
   "metadata": {
    "slideshow": {
     "slide_type": "slide"
    }
   },
   "source": [
    " ## Security and advanced SQL\n",
    "\n",
    "``<jeep@cphbusiness.dk>``"
   ]
  },
  {
   "cell_type": "markdown",
   "metadata": {},
   "source": []
  },
  {
   "cell_type": "markdown",
   "metadata": {
    "slideshow": {
     "slide_type": "subslide"
    }
   },
   "source": [
    "## Agenda\n",
    "\n",
    "* Security in PostgreSQL\n",
    "  * Users and user-access\n",
    "  * Row-level security\n",
    "  * `pg_hba.conf`\n",
    "  * Backups\n",
    "* Advanced read/write statistics\n",
    "* Exotic uses of SQL databases\n",
    "  * Prepared statements\n",
    "  * Continuous views\n",
    "  * Cursors\n",
    "  * Foreign tables\n",
    "* Course learning outcome\n",
    "* Assignment 10"
   ]
  },
  {
   "cell_type": "markdown",
   "metadata": {
    "slideshow": {
     "slide_type": "slide"
    }
   },
   "source": [
    "# Security\n",
    "\n",
    "(Our last serious topic)\n",
    "\n",
    "* Users\n",
    "* Row-level security\n",
    "* Access configuration\n",
    "* Backup strategies"
   ]
  },
  {
   "cell_type": "markdown",
   "metadata": {
    "slideshow": {
     "slide_type": "subslide"
    }
   },
   "source": [
    "## Users in SQL\n",
    "\n",
    "* RDBMS are managed by users (roles) with certain permissions\n",
    "  * `CREATE USER name`"
   ]
  },
  {
   "cell_type": "markdown",
   "metadata": {
    "slideshow": {
     "slide_type": "fragment"
    }
   },
   "source": [
    "* `SUPERUSER`: Permission to override access restrictions\n",
    "* `CREATEDB`: Permission to create databases\n",
    "* `CONNECTION LIMIT`: Amount of connections"
   ]
  },
  {
   "cell_type": "markdown",
   "metadata": {
    "slideshow": {
     "slide_type": "fragment"
    }
   },
   "source": [
    "* Just like other SQL entities users can be `ALTER`ed or `DROP`ped"
   ]
  },
  {
   "cell_type": "markdown",
   "metadata": {
    "slideshow": {
     "slide_type": "subslide"
    }
   },
   "source": [
    "## The `GRANT` command\n",
    "\n",
    "* Permissions can be given on a very granular level\n",
    "  * `GRANT [SELECT | INSERT | UPDATE ...] ON table TO name`\n",
    "  \n",
    "* Example: `GRANT INSERT ON mytable TO myuser`"
   ]
  },
  {
   "cell_type": "markdown",
   "metadata": {
    "slideshow": {
     "slide_type": "fragment"
    }
   },
   "source": [
    "* Permissions can also be `REVOKE`d\n",
    "\n",
    "* Example: `REVOKE INSERT ON mytable FROM myuser`"
   ]
  },
  {
   "cell_type": "markdown",
   "metadata": {
    "slideshow": {
     "slide_type": "subslide"
    }
   },
   "source": [
    "## User creation example"
   ]
  },
  {
   "cell_type": "code",
   "execution_count": 149,
   "metadata": {
    "slideshow": {
     "slide_type": "subslide"
    }
   },
   "outputs": [
    {
     "name": "stdout",
     "output_type": "stream",
     "text": [
      "The sql extension is already loaded. To reload it, use:\n",
      "  %reload_ext sql\n"
     ]
    },
    {
     "data": {
      "text/plain": [
       "'Connected: appdev@appdev'"
      ]
     },
     "execution_count": 149,
     "metadata": {},
     "output_type": "execute_result"
    }
   ],
   "source": [
    "%load_ext sql\n",
    "%sql postgres://appdev@0.0.0.0/appdev"
   ]
  },
  {
   "cell_type": "code",
   "execution_count": 150,
   "metadata": {
    "slideshow": {
     "slide_type": "subslide"
    }
   },
   "outputs": [
    {
     "name": "stdout",
     "output_type": "stream",
     "text": [
      "Done.\n"
     ]
    },
    {
     "data": {
      "text/plain": [
       "[]"
      ]
     },
     "execution_count": 150,
     "metadata": {},
     "output_type": "execute_result"
    }
   ],
   "source": [
    "%sql CREATE USER myuser;"
   ]
  },
  {
   "cell_type": "code",
   "execution_count": 157,
   "metadata": {
    "slideshow": {
     "slide_type": "fragment"
    }
   },
   "outputs": [
    {
     "data": {
      "text/plain": [
       "'Connected: myuser@appdev'"
      ]
     },
     "execution_count": 157,
     "metadata": {},
     "output_type": "execute_result"
    }
   ],
   "source": [
    "%sql postgres://myuser@0.0.0.0/appdev"
   ]
  },
  {
   "cell_type": "code",
   "execution_count": 158,
   "metadata": {
    "slideshow": {
     "slide_type": "fragment"
    }
   },
   "outputs": [
    {
     "name": "stdout",
     "output_type": "stream",
     "text": [
      "1 rows affected.\n"
     ]
    },
    {
     "data": {
      "text/plain": [
       "[]"
      ]
     },
     "execution_count": 158,
     "metadata": {},
     "output_type": "execute_result"
    }
   ],
   "source": [
    "%sql INSERT INTO hello(language, hello) VALUES('Yiddish', 'אַ גוט יאָר');"
   ]
  },
  {
   "cell_type": "markdown",
   "metadata": {},
   "source": []
  },
  {
   "cell_type": "code",
   "execution_count": 156,
   "metadata": {
    "slideshow": {
     "slide_type": "fragment"
    }
   },
   "outputs": [
    {
     "name": "stdout",
     "output_type": "stream",
     "text": [
      "Done.\n"
     ]
    },
    {
     "data": {
      "text/plain": [
       "[]"
      ]
     },
     "execution_count": 156,
     "metadata": {},
     "output_type": "execute_result"
    }
   ],
   "source": [
    "%sql GRANT SELECT, INSERT ON hello TO myuser"
   ]
  },
  {
   "cell_type": "markdown",
   "metadata": {
    "slideshow": {
     "slide_type": "subslide"
    }
   },
   "source": [
    "## User exercise\n",
    "\n",
    "During the exercise you might encounter problems. Your job is to fix them so you can get the job done\n",
    "\n",
    "* Create a user with a cool name and login with that user\n",
    "* Login with that user and create a database with another cool name\n",
    "* Login with the `appdev` user and \n",
    "  * Create a table within your new database\n",
    "  * Add a column (`language`) that references the `language` column from the `hello` table within the `appdev` database\n",
    "* Login with your new user and insert the equivalent of \"hello world\" in the `whitespace` programming language"
   ]
  },
  {
   "cell_type": "markdown",
   "metadata": {
    "slideshow": {
     "slide_type": "subslide"
    }
   },
   "source": [
    "## User access\n",
    "\n",
    "* `pg_hba.conf` is a configuration file for allowed logins\n",
    "  * So far: login with password\n",
    "\n",
    "* Best practice: Only allow localhost logins\n",
    "  * Login with SSH tunnel"
   ]
  },
  {
   "cell_type": "markdown",
   "metadata": {
    "slideshow": {
     "slide_type": "fragment"
    }
   },
   "source": [
    "* Unfortunately this requires ssh to be installed on the PostgreSQL server (the docker image)\n",
    "\n",
    "* See https://www.postgresql.org/docs/current/static/ssh-tunnels.html"
   ]
  },
  {
   "cell_type": "markdown",
   "metadata": {
    "slideshow": {
     "slide_type": "subslide"
    }
   },
   "source": [
    "# Row-level security\n",
    "\n",
    "* Permissions can be set on table- or even row level\n",
    "  * `CREATE POLICY name ON table TO role [USING expression] [WITH CHECK expression]`\n",
    "  * `USING` is checked during row selection\n",
    "  * `WITH CHECK` is checked during `INSERT` and `UPDATE`"
   ]
  },
  {
   "cell_type": "markdown",
   "metadata": {
    "slideshow": {
     "slide_type": "fragment"
    }
   },
   "source": [
    "* Must be enabled: `ALTER TABLE table ENABLE ROW LEVEL SECURITY`"
   ]
  },
  {
   "cell_type": "markdown",
   "metadata": {
    "slideshow": {
     "slide_type": "fragment"
    }
   },
   "source": [
    "* Quick note: can cause problems in select statements, see https://www.dbrnd.com/2016/08/postgresql-9-5-using-for-update-skip-locked-option-select-only-committed-records-mvcc-lock-with-nowait-thread/"
   ]
  },
  {
   "cell_type": "code",
   "execution_count": 160,
   "metadata": {
    "slideshow": {
     "slide_type": "subslide"
    }
   },
   "outputs": [
    {
     "name": "stdout",
     "output_type": "stream",
     "text": [
      "Done.\n"
     ]
    },
    {
     "data": {
      "text/plain": [
       "[]"
      ]
     },
     "execution_count": 160,
     "metadata": {},
     "output_type": "execute_result"
    }
   ],
   "source": [
    "%sql postgres://appdev@0.0.0.0/appdev\n",
    "%sql CREATE POLICY my_policy ON hello TO myuser USING (language = 'Yiddish')"
   ]
  },
  {
   "cell_type": "code",
   "execution_count": 162,
   "metadata": {
    "slideshow": {
     "slide_type": "fragment"
    }
   },
   "outputs": [
    {
     "name": "stdout",
     "output_type": "stream",
     "text": [
      "55 rows affected.\n"
     ]
    },
    {
     "data": {
      "text/html": [
       "<table>\n",
       "    <tr>\n",
       "        <th>language</th>\n",
       "        <th>hello</th>\n",
       "    </tr>\n",
       "    <tr>\n",
       "        <td>Amharic (አማርኛ)</td>\n",
       "        <td>ሠላም</td>\n",
       "    </tr>\n",
       "    <tr>\n",
       "        <td>Arabic (العربيّة)</td>\n",
       "        <td>السّلام عليكم</td>\n",
       "    </tr>\n",
       "    <tr>\n",
       "        <td>Armenian (հայերեն)</td>\n",
       "        <td>Բարև ձեզ</td>\n",
       "    </tr>\n",
       "    <tr>\n",
       "        <td>Bengali (বাংলা)</td>\n",
       "        <td>নমস্কার</td>\n",
       "    </tr>\n",
       "    <tr>\n",
       "        <td>Braille</td>\n",
       "        <td>⠓⠑⠇⠇⠕</td>\n",
       "    </tr>\n",
       "    <tr>\n",
       "        <td>Burmese (မြန်မာ)</td>\n",
       "        <td>မင်္ဂလာပါ</td>\n",
       "    </tr>\n",
       "    <tr>\n",
       "        <td>C</td>\n",
       "        <td>printf (Hello, world!\\n);</td>\n",
       "    </tr>\n",
       "    <tr>\n",
       "        <td>Czech (čeština)</td>\n",
       "        <td>Dobrý den</td>\n",
       "    </tr>\n",
       "    <tr>\n",
       "        <td>Danish (dansk)</td>\n",
       "        <td>Hej / Goddag / Halløj</td>\n",
       "    </tr>\n",
       "    <tr>\n",
       "        <td>Dutch (Nederlands)</td>\n",
       "        <td>Hallo / Dag</td>\n",
       "    </tr>\n",
       "    <tr>\n",
       "        <td>Emacs</td>\n",
       "        <td>emacs --no-splash -f view-hello-file</td>\n",
       "    </tr>\n",
       "    <tr>\n",
       "        <td>English /ˈɪŋɡlɪʃ/</td>\n",
       "        <td>Hello</td>\n",
       "    </tr>\n",
       "    <tr>\n",
       "        <td>Esperanto</td>\n",
       "        <td>Saluton (Eĥoŝanĝo ĉiuĵaŭde)</td>\n",
       "    </tr>\n",
       "    <tr>\n",
       "        <td>Estonian (eesti keel)</td>\n",
       "        <td>Tere päevast / Tere õhtust</td>\n",
       "    </tr>\n",
       "    <tr>\n",
       "        <td>Finnish (suomi)</td>\n",
       "        <td>Hei / Hyvää päivää</td>\n",
       "    </tr>\n",
       "    <tr>\n",
       "        <td>French (français)</td>\n",
       "        <td>Bonjour / Salut</td>\n",
       "    </tr>\n",
       "    <tr>\n",
       "        <td>Georgian (ქართველი)</td>\n",
       "        <td>გამარჯობა</td>\n",
       "    </tr>\n",
       "    <tr>\n",
       "        <td>German (Deutsch)</td>\n",
       "        <td>Guten Tag / Grüß Gott</td>\n",
       "    </tr>\n",
       "    <tr>\n",
       "        <td>Greek (ελληνικά)</td>\n",
       "        <td>Γειά σας</td>\n",
       "    </tr>\n",
       "    <tr>\n",
       "        <td>Greek, ancient (ἑλληνική)</td>\n",
       "        <td>Οὖλέ τε καὶ μέγα χαῖρε</td>\n",
       "    </tr>\n",
       "    <tr>\n",
       "        <td>Gujarati (ગુજરાતી)</td>\n",
       "        <td>નમસ્તે</td>\n",
       "    </tr>\n",
       "    <tr>\n",
       "        <td>Hebrew (עברית)</td>\n",
       "        <td>שלום</td>\n",
       "    </tr>\n",
       "    <tr>\n",
       "        <td>Hungarian (magyar)</td>\n",
       "        <td>Szép jó napot!</td>\n",
       "    </tr>\n",
       "    <tr>\n",
       "        <td>Hindi (हिंदी)</td>\n",
       "        <td>नमस्ते / नमस्कार ।</td>\n",
       "    </tr>\n",
       "    <tr>\n",
       "        <td>Italian (italiano)</td>\n",
       "        <td>Ciao / Buon giorno</td>\n",
       "    </tr>\n",
       "    <tr>\n",
       "        <td>Javanese (Jawa)</td>\n",
       "        <td>System.out.println(Sugeng siang!);</td>\n",
       "    </tr>\n",
       "    <tr>\n",
       "        <td>Kannada (ಕನ್ನಡ)</td>\n",
       "        <td>ನಮಸ್ಕಾರ</td>\n",
       "    </tr>\n",
       "    <tr>\n",
       "        <td>Khmer (ភាសាខ្មែរ)</td>\n",
       "        <td>ជំរាបសួរ</td>\n",
       "    </tr>\n",
       "    <tr>\n",
       "        <td>Lao (ພາສາລາວ)</td>\n",
       "        <td>ສະບາຍດີ / ຂໍໃຫ້ໂຊກດີ</td>\n",
       "    </tr>\n",
       "    <tr>\n",
       "        <td>Malayalam (മലയാളം)</td>\n",
       "        <td>നമസ്കാരം</td>\n",
       "    </tr>\n",
       "    <tr>\n",
       "        <td>Maltese (il-Malti)</td>\n",
       "        <td>Bonġu / Saħħa</td>\n",
       "    </tr>\n",
       "    <tr>\n",
       "        <td>Mathematics</td>\n",
       "        <td>∀ p ∈ world • hello p  □</td>\n",
       "    </tr>\n",
       "    <tr>\n",
       "        <td>Mongolian (монгол хэл)</td>\n",
       "        <td>Сайн байна уу?</td>\n",
       "    </tr>\n",
       "    <tr>\n",
       "        <td>Norwegian (norsk)</td>\n",
       "        <td>Hei / God dag</td>\n",
       "    </tr>\n",
       "    <tr>\n",
       "        <td>Oriya (ଓଡ଼ିଆ)</td>\n",
       "        <td>ଶୁଣିବେ</td>\n",
       "    </tr>\n",
       "    <tr>\n",
       "        <td>Polish  (język polski)</td>\n",
       "        <td>Dzień dobry! / Cześć!</td>\n",
       "    </tr>\n",
       "    <tr>\n",
       "        <td>Russian (русский)</td>\n",
       "        <td>Здра́вствуйте!</td>\n",
       "    </tr>\n",
       "    <tr>\n",
       "        <td>Sinhala (සිංහල)</td>\n",
       "        <td>ආයුබෝවන්</td>\n",
       "    </tr>\n",
       "    <tr>\n",
       "        <td>Slovak (slovenčina)</td>\n",
       "        <td>Dobrý deň</td>\n",
       "    </tr>\n",
       "    <tr>\n",
       "        <td>Slovenian (slovenščina)</td>\n",
       "        <td>Pozdravljeni!</td>\n",
       "    </tr>\n",
       "    <tr>\n",
       "        <td>Spanish (español)</td>\n",
       "        <td>¡Hola!</td>\n",
       "    </tr>\n",
       "    <tr>\n",
       "        <td>Swedish (svenska)</td>\n",
       "        <td>Hej / Goddag / Hallå</td>\n",
       "    </tr>\n",
       "    <tr>\n",
       "        <td>Tamil (தமிழ்)</td>\n",
       "        <td>வணக்கம்</td>\n",
       "    </tr>\n",
       "    <tr>\n",
       "        <td>Telugu (తెలుగు)</td>\n",
       "        <td>నమస్కారం</td>\n",
       "    </tr>\n",
       "    <tr>\n",
       "        <td>Thai (ภาษาไทย)</td>\n",
       "        <td>สวัสดีครับ / สวัสดีค่ะ</td>\n",
       "    </tr>\n",
       "    <tr>\n",
       "        <td>Tibetan (བོད་སྐད་)</td>\n",
       "        <td>བཀྲ་ཤིས་བདེ་ལེགས༎</td>\n",
       "    </tr>\n",
       "    <tr>\n",
       "        <td>Tigrigna (ትግርኛ)</td>\n",
       "        <td>ሰላማት</td>\n",
       "    </tr>\n",
       "    <tr>\n",
       "        <td>Turkish (Türkçe)</td>\n",
       "        <td>Merhaba</td>\n",
       "    </tr>\n",
       "    <tr>\n",
       "        <td>Ukrainian (українська)</td>\n",
       "        <td>Вітаю</td>\n",
       "    </tr>\n",
       "    <tr>\n",
       "        <td>Vietnamese (tiếng Việt)</td>\n",
       "        <td>Chào bạn</td>\n",
       "    </tr>\n",
       "    <tr>\n",
       "        <td>Japanese (日本語)</td>\n",
       "        <td>こんにちは / ｺﾝﾆﾁﾊ</td>\n",
       "    </tr>\n",
       "    <tr>\n",
       "        <td>Chinese (中文,普通话,汉语)</td>\n",
       "        <td>你好</td>\n",
       "    </tr>\n",
       "    <tr>\n",
       "        <td>Cantonese (粵語,廣東話)</td>\n",
       "        <td>早晨, 你好</td>\n",
       "    </tr>\n",
       "    <tr>\n",
       "        <td>Korean (한글)</td>\n",
       "        <td>안녕하세요 / 안녕하십니까</td>\n",
       "    </tr>\n",
       "    <tr>\n",
       "        <td>Yiddish</td>\n",
       "        <td>אַ גוט יאָר</td>\n",
       "    </tr>\n",
       "</table>"
      ],
      "text/plain": [
       "[('Amharic (አማርኛ)', 'ሠላም'),\n",
       " ('Arabic (العربيّة)', 'السّلام عليكم'),\n",
       " ('Armenian (հայերեն)', 'Բարև ձեզ'),\n",
       " ('Bengali (বাংলা)', 'নমস্কার'),\n",
       " ('Braille', '⠓⠑⠇⠇⠕'),\n",
       " ('Burmese (မြန်မာ)', 'မင်္ဂလာပါ'),\n",
       " ('C', 'printf (Hello, world!\\\\n);'),\n",
       " ('Czech (čeština)', 'Dobrý den'),\n",
       " ('Danish (dansk)', 'Hej / Goddag / Halløj'),\n",
       " ('Dutch (Nederlands)', 'Hallo / Dag'),\n",
       " ('Emacs', 'emacs --no-splash -f view-hello-file'),\n",
       " ('English /ˈɪŋɡlɪʃ/', 'Hello'),\n",
       " ('Esperanto', 'Saluton (Eĥoŝanĝo ĉiuĵaŭde)'),\n",
       " ('Estonian (eesti keel)', 'Tere päevast / Tere õhtust'),\n",
       " ('Finnish (suomi)', 'Hei / Hyvää päivää'),\n",
       " ('French (français)', 'Bonjour / Salut'),\n",
       " ('Georgian (ქართველი)', 'გამარჯობა'),\n",
       " ('German (Deutsch)', 'Guten Tag / Grüß Gott'),\n",
       " ('Greek (ελληνικά)', 'Γειά σας'),\n",
       " ('Greek, ancient (ἑλληνική)', 'Οὖλέ τε καὶ μέγα χαῖρε'),\n",
       " ('Gujarati (ગુજરાતી)', 'નમસ્તે'),\n",
       " ('Hebrew (עברית)', 'שלום'),\n",
       " ('Hungarian (magyar)', 'Szép jó napot!'),\n",
       " ('Hindi (हिंदी)', 'नमस्ते / नमस्कार ।'),\n",
       " ('Italian (italiano)', 'Ciao / Buon giorno'),\n",
       " ('Javanese (Jawa)', 'System.out.println(Sugeng siang!);'),\n",
       " ('Kannada (ಕನ್ನಡ)', 'ನಮಸ್ಕಾರ'),\n",
       " ('Khmer (ភាសាខ្មែរ)', 'ជំរាបសួរ'),\n",
       " ('Lao (ພາສາລາວ)', 'ສະບາຍດີ / ຂໍໃຫ້ໂຊກດີ'),\n",
       " ('Malayalam (മലയാളം)', 'നമസ്കാരം'),\n",
       " ('Maltese (il-Malti)', 'Bonġu / Saħħa'),\n",
       " ('Mathematics', '∀ p ∈ world • hello p  □'),\n",
       " ('Mongolian (монгол хэл)', 'Сайн байна уу?'),\n",
       " ('Norwegian (norsk)', 'Hei / God dag'),\n",
       " ('Oriya (ଓଡ଼ିଆ)', 'ଶୁଣିବେ'),\n",
       " ('Polish  (język polski)', 'Dzień dobry! / Cześć!'),\n",
       " ('Russian (русский)', 'Здра́вствуйте!'),\n",
       " ('Sinhala (සිංහල)', 'ආයුබෝවන්'),\n",
       " ('Slovak (slovenčina)', 'Dobrý deň'),\n",
       " ('Slovenian (slovenščina)', 'Pozdravljeni!'),\n",
       " ('Spanish (español)', '¡Hola!'),\n",
       " ('Swedish (svenska)', 'Hej / Goddag / Hallå'),\n",
       " ('Tamil (தமிழ்)', 'வணக்கம்'),\n",
       " ('Telugu (తెలుగు)', 'నమస్కారం'),\n",
       " ('Thai (ภาษาไทย)', 'สวัสดีครับ / สวัสดีค่ะ'),\n",
       " ('Tibetan (བོད་སྐད་)', 'བཀྲ་ཤིས་བདེ་ལེགས༎'),\n",
       " ('Tigrigna (ትግርኛ)', 'ሰላማት'),\n",
       " ('Turkish (Türkçe)', 'Merhaba'),\n",
       " ('Ukrainian (українська)', 'Вітаю'),\n",
       " ('Vietnamese (tiếng Việt)', 'Chào bạn'),\n",
       " ('Japanese (日本語)', 'こんにちは / ｺﾝﾆﾁﾊ'),\n",
       " ('Chinese (中文,普通话,汉语)', '你好'),\n",
       " ('Cantonese (粵語,廣東話)', '早晨, 你好'),\n",
       " ('Korean (한글)', '안녕하세요 / 안녕하십니까'),\n",
       " ('Yiddish', 'אַ גוט יאָר')]"
      ]
     },
     "execution_count": 162,
     "metadata": {},
     "output_type": "execute_result"
    }
   ],
   "source": [
    "%sql postgres://myuser@0.0.0.0/appdev\n",
    "%sql SELECT * FROM hello;"
   ]
  },
  {
   "cell_type": "code",
   "execution_count": null,
   "metadata": {
    "slideshow": {
     "slide_type": "fragment"
    }
   },
   "outputs": [],
   "source": [
    "%sql ALTER TABLE hello ENABLE ROW LEVEL SECURITY"
   ]
  },
  {
   "cell_type": "markdown",
   "metadata": {
    "slideshow": {
     "slide_type": "subslide"
    }
   },
   "source": [
    "## SSH tunnel example"
   ]
  },
  {
   "cell_type": "markdown",
   "metadata": {
    "slideshow": {
     "slide_type": "fragment"
    }
   },
   "source": [
    "`pg_hba.conf`    \n",
    "    # TYPE  DATABASE        USER            ADDRESS                 METHOD\n",
    "    host    all             all             127.0.0.1/32            trust"
   ]
  },
  {
   "cell_type": "markdown",
   "metadata": {
    "slideshow": {
     "slide_type": "fragment"
    }
   },
   "source": [
    "* `ssh -L 63333:localhost:5432 joe@foo.com`"
   ]
  },
  {
   "cell_type": "markdown",
   "metadata": {
    "slideshow": {
     "slide_type": "fragment"
    }
   },
   "source": [
    "* `psql -h localhost -p 63333 postgres`"
   ]
  },
  {
   "cell_type": "markdown",
   "metadata": {
    "slideshow": {
     "slide_type": "subslide"
    }
   },
   "source": [
    "## Backups\n",
    "\n",
    "* Backups are important - even if you are on a cluster!!\n",
    "  * See https://www.postgresql.org/docs/current/static/backup.html"
   ]
  },
  {
   "cell_type": "markdown",
   "metadata": {
    "slideshow": {
     "slide_type": "fragment"
    }
   },
   "source": [
    "* Backing up: `pg_dump database`\n",
    "  * Example: `pg_dump appdev > appdev.sql`"
   ]
  },
  {
   "cell_type": "markdown",
   "metadata": {
    "slideshow": {
     "slide_type": "fragment"
    }
   },
   "source": [
    "* Restoring from dump: `psql < dumpfile`\n",
    "  * Example: `psql -U appdev < dumpfile`"
   ]
  },
  {
   "cell_type": "markdown",
   "metadata": {
    "slideshow": {
     "slide_type": "subslide"
    }
   },
   "source": [
    "## Backup exercise\n",
    "\n",
    "See https://www.postgresql.org/docs/current/static/backup.html\n",
    "\n",
    "* Restart your docker container to kill all connections\n",
    "* Backup your appdev database using `pg_dump` from inside your container\n",
    "* Destroy the `appdev` database by\n",
    "  1. Connect with your *appdev* database with your *appdev* user `psql appdev appdev`\n",
    "  2. Change to another database (for instance the postgres database) by writing `\\c postgres`\n",
    "    * You can list databases with `\\l`\n",
    "  3. Run `DROP DATABASE appdev;`\n",
    "* Realise that all your data is gone\n",
    "* Restore the database by\n",
    "  1. Re-create the database by logging in with the postgres user and creating the database\n",
    "  2. `GRANT` the `appdev` user permission to do whatever it want on the database\n",
    "  3. Exit the database and restore the data using `psql -U appdev`"
   ]
  },
  {
   "cell_type": "markdown",
   "metadata": {
    "slideshow": {
     "slide_type": "slide"
    }
   },
   "source": [
    "# Advanced statistics\n",
    "\n",
    "* Tons of statistics available in the `pg_catalog` schema\n",
    "  * See https://www.postgresql.org/docs/current/static/monitoring-stats.html"
   ]
  },
  {
   "cell_type": "markdown",
   "metadata": {
    "slideshow": {
     "slide_type": "fragment"
    }
   },
   "source": [
    "* `pg_stat_activity`\n",
    "* `pg_stat_database`\n",
    "* `pg_stat_all_indexes`\n",
    "* `pg_stat_all_tables`"
   ]
  },
  {
   "cell_type": "markdown",
   "metadata": {
    "slideshow": {
     "slide_type": "subslide"
    }
   },
   "source": [
    "## Statistics exercise\n",
    "\n",
    "Source: https://www.postgresql.org/docs/current/static/monitoring-stats.html\n",
    "\n",
    "* Figure out how many connections you have open right now\n",
    "* Find the table where you've scanned the most tuples sequentially\n",
    "* Find the index where you've fetched the most tuples from"
   ]
  },
  {
   "cell_type": "markdown",
   "metadata": {
    "slideshow": {
     "slide_type": "slide"
    }
   },
   "source": [
    "# Exotic uses of SQL databases\n",
    "\n",
    "* Prepared statements\n",
    "* Cursors\n",
    "* Continuous views\n",
    "* Foreign tables"
   ]
  },
  {
   "cell_type": "markdown",
   "metadata": {
    "slideshow": {
     "slide_type": "subslide"
    }
   },
   "source": [
    "## Prepared statements\n",
    "\n",
    "* Prepared statements can be hard-coded into the database\n",
    "  * See https://www.postgresql.org/docs/current/static/sql-prepare.html\n",
    "  \n",
    "  \n",
    "    PREPARE fooplan (int, text, bool, numeric) AS\n",
    "    INSERT INTO foo VALUES($1, $2, $3, $4);\n",
    "    EXECUTE fooplan(1, 'Hunter Valley', 't', 200.00);"
   ]
  },
  {
   "cell_type": "markdown",
   "metadata": {
    "slideshow": {
     "slide_type": "slide"
    }
   },
   "source": [
    "## Cursors\n",
    "\n",
    "* A query can be broken up into piece with cursors\n",
    "  * Similar to a text cursor pointer or file iterator\n",
    "* Useful for accumulating a specific result before returning"
   ]
  },
  {
   "cell_type": "markdown",
   "metadata": {
    "slideshow": {
     "slide_type": "fragment"
    }
   },
   "source": [
    "* Needs to be `DECLARE`d, and then you can start to `FETCH` data"
   ]
  },
  {
   "cell_type": "markdown",
   "metadata": {
    "slideshow": {
     "slide_type": "subslide"
    }
   },
   "source": [
    "    BEGIN WORK;\n",
    "\n",
    "    -- Set up a cursor:\n",
    "    DECLARE liahona SCROLL CURSOR FOR SELECT * FROM films;\n",
    "\n",
    "    -- Fetch the first 5 rows in the cursor liahona:\n",
    "    FETCH FORWARD 5 FROM liahona;\n",
    "\n",
    "     code  |          title          | did | date_prod  |   kind   |  len\n",
    "    -------+-------------------------+-----+------------+----------+-------\n",
    "     BL101 | The Third Man           | 101 | 1949-12-23 | Drama    | 01:44\n",
    "     BL102 | The African Queen       | 101 | 1951-08-11 | Romantic | 01:43\n",
    "     JL201 | Une Femme est une Femme | 102 | 1961-03-12 | Romantic | 01:25\n",
    "     P_301 | Vertigo                 | 103 | 1958-11-14 | Action   | 02:08\n",
    "     P_302 | Becket                  | 103 | 1964-02-03 | Drama    | 02:28\n",
    "\n",
    "    -- Fetch the previous row:\n",
    "    FETCH PRIOR FROM liahona;\n",
    "\n",
    "     code  |  title  | did | date_prod  |  kind  |  len\n",
    "    -------+---------+-----+------------+--------+-------\n",
    "     P_301 | Vertigo | 103 | 1958-11-14 | Action | 02:08\n",
    "\n",
    "    -- Close the cursor and end the transaction:\n",
    "    CLOSE liahona;\n",
    "    COMMIT WORK;"
   ]
  },
  {
   "cell_type": "markdown",
   "metadata": {
    "slideshow": {
     "slide_type": "slide"
    }
   },
   "source": [
    "## Continuous views\n",
    "\n",
    "An idea from PipelineDB: https://www.pipelinedb.com/\n",
    "\n",
    "Imagine real-time analytics and data flows. Not very handy with modern RDBMS. Or is it?"
   ]
  },
  {
   "cell_type": "markdown",
   "metadata": {
    "slideshow": {
     "slide_type": "fragment"
    }
   },
   "source": [
    "    CREATE CONTINUOUS VIEW latency AS\n",
    "    SELECT\n",
    "      percentile_cont(array[90, 95, 99])\n",
    "    WITHIN GROUP (ORDER BY latency::integer)\n",
    "    FROM latency_stream; "
   ]
  },
  {
   "cell_type": "markdown",
   "metadata": {
    "slideshow": {
     "slide_type": "slide"
    }
   },
   "source": [
    "# SQL part: learning outcome\n",
    "\n",
    "## Knowledge\n",
    "The student must have knowledge of:\n",
    "\n",
    " * Various database types and the underlying models\n",
    " * A specific database system’s storage organisation  and query execution\n",
    " * A specific database system’s optimisation possibilities – including advantages and disadvantages\n",
    " * Database-specific security problems and their solutions\n",
    " * Concepts and issues when handling big data\n",
    " * The particular issues raised by having many simultaneous transactions, including in connection with distributed databases\n",
    " * Relational algebra (including its relationship to execution plans)"
   ]
  },
  {
   "cell_type": "markdown",
   "metadata": {
    "slideshow": {
     "slide_type": "subslide"
    }
   },
   "source": [
    "## Skills\n",
    "The student can:\n",
    "\n",
    " * Transform logical data models into physical models in various database types\n",
    " * Implement database optimisation\n",
    " * Use parts of the administration tool to assist in the optimisation and tuning of existing databases, including the incorporation of a specific DBMS’ execution plans\n",
    " * Use a specific database system’s tools for handling simultaneous transactions\n",
    " * Use the programming and other facilities provided by a modern DBMS"
   ]
  },
  {
   "cell_type": "markdown",
   "metadata": {
    "slideshow": {
     "slide_type": "slide"
    }
   },
   "source": [
    "# Assignment 10: Modelling OECD data\n",
    "\n",
    "* **Deadline**: 11th of May 12:00\n",
    "* **Review deadline**: 13th of May 23:59\n",
    "\n",
    "This assignment aims to wrap up all that you've learned so far. Your job is to go from some data, design a logical data model, transfer it to a physical data model, insert the data and finally get some relevant information from it.\n",
    "\n",
    "The domain is extracted from OECD data (https://data.oecd.org/) and we'll be looking at Gross Domestic Product (GDP), education, and life expectancy over time. The data is available via Peergrade in the files `gdp.csv`, `education.csv` and `lifeexpectancy.csv` respectively. Education is defined as the percentage of people in a country that is below upper secondary school (lower values means a more well-educated population). \n",
    "\n",
    "1. Have a look at the files and draw a logical data model\n",
    "2. Transfer that logical data model into a physical data model and create the necessary tables in PostgreSQL\n",
    "3. Load all the data into your database\n",
    "  * Hint: You can do this in Python very easily if you load the csv data using Pandas (`pandas.read_csv`) and iterate over the rows\n",
    "4. Find the country whose GDP has grown the most over time and plot the level of education on the x axis and the life expectancy on the y axis. Do the same thing for the country whose GDP has grown the least over time\n",
    "\n",
    "Hand-in: A drawing of your logical data model. The SQL you used to create your physical model and the two plots."
   ]
  }
 ],
 "metadata": {
  "celltoolbar": "Slideshow",
  "kernelspec": {
   "display_name": "Python 3",
   "language": "python",
   "name": "python3"
  },
  "language_info": {
   "codemirror_mode": {
    "name": "ipython",
    "version": 3
   },
   "file_extension": ".py",
   "mimetype": "text/x-python",
   "name": "python",
   "nbconvert_exporter": "python",
   "pygments_lexer": "ipython3",
   "version": "3.6.3"
  }
 },
 "nbformat": 4,
 "nbformat_minor": 2
}
