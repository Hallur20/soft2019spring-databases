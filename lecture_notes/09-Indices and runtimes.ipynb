{
 "cells": [
  {
   "cell_type": "markdown",
   "metadata": {
    "slideshow": {
     "slide_type": "slide"
    }
   },
   "source": [
    "# Indices and runtimes\n",
    "\n",
    "* 15th of March 2018\n",
    "\n",
    "``<jeep@cphbusiness.dk>``"
   ]
  },
  {
   "cell_type": "markdown",
   "metadata": {
    "slideshow": {
     "slide_type": "subslide"
    }
   },
   "source": [
    "# Agenda\n",
    "\n",
    "* Normal form examples\n",
    "* Exercise walk through\n",
    "* Indices\n",
    "  * Hash trees, B-trees R-trees, GIST trees and Bloom filters\n",
    "* Joins\n",
    "  * Inner joins, outer joins and cross joins\n",
    "* Denormalisation\n",
    "* Views\n",
    "  * Logical views\n",
    "  * Materialised views\n",
    "* Hand-in"
   ]
  },
  {
   "cell_type": "markdown",
   "metadata": {
    "slideshow": {
     "slide_type": "subslide"
    }
   },
   "source": [
    "# Learning objectives\n",
    "## Knowledge\n",
    "The student must have knowledge of:\n",
    "\n",
    " * Various database types and the underlying models\n",
    " * A specific database system’s storage organisation  and query execution\n",
    " * A specific database system’s optimisation possibilities – including advantages and disadvantages\n",
    " * Database-specific security problems and their solutions\n",
    " * Concepts and issues when handling big data\n",
    " * The particular issues raised by having many simultaneous transactions, including in connection with distributed databases\n",
    " * Relational algebra (including its relationship to execution plans)"
   ]
  },
  {
   "cell_type": "markdown",
   "metadata": {
    "slideshow": {
     "slide_type": "subslide"
    }
   },
   "source": [
    "## Skills\n",
    "The student can:\n",
    "\n",
    " * Transform logical data models into physical models in various database types\n",
    " * Implement database optimisation\n",
    " * Use parts of the administration tool to assist in the optimisation and tuning of existing databases, including the incorporation of a specific DBMS’ execution plans\n",
    " * Use a specific database system’s tools for handling simultaneous transactions\n",
    " * Use the programming and other facilities provided by a modern DBMS"
   ]
  },
  {
   "cell_type": "markdown",
   "metadata": {
    "slideshow": {
     "slide_type": "subslide"
    }
   },
   "source": [
    "\n",
    "## Competencies\n",
    "The student can:\n",
    " \n",
    " * Analyse the application domain in order to select a database type\n",
    " * Divide responsibility for tasks between the application and DBMS during system development, to ensure the best possible implementation.\n"
   ]
  },
  {
   "cell_type": "code",
   "execution_count": 2,
   "metadata": {
    "scrolled": false,
    "slideshow": {
     "slide_type": "subslide"
    }
   },
   "outputs": [
    {
     "name": "stderr",
     "output_type": "stream",
     "text": [
      "/home/jens/.virtualenvs/slides/lib/python3.6/site-packages/psycopg2/__init__.py:144: UserWarning: The psycopg2 wheel package will be renamed from release 2.8; in order to keep installing from binary please use \"pip install psycopg2-binary\" instead. For details see: <http://initd.org/psycopg/docs/install.html#binary-install-from-pypi>.\n",
      "  \"\"\")\n"
     ]
    },
    {
     "data": {
      "text/plain": [
       "'Connected: appdev@appdev'"
      ]
     },
     "execution_count": 2,
     "metadata": {},
     "output_type": "execute_result"
    }
   ],
   "source": [
    "%load_ext sql\n",
    "%sql postgresql://appdev@0.0.0.0/appdev"
   ]
  },
  {
   "cell_type": "markdown",
   "metadata": {
    "slideshow": {
     "slide_type": "slide"
    }
   },
   "source": [
    "\n",
    "# Normal form examples\n",
    "\n",
    "* Stolen from \n",
    "  * [William Kent: A Simple Guide to Five Normal Forms in Relational Database Theory](http://www.bkent.net/Doc/simple5.htm)\n",
    "  * [Computer science course Toronto 343](http://www.cs.toronto.edu/~faye/343/f07/lectures/wk12/wk12_BCNF2-up.pdf)\n",
    "  \n",
    "* Other nice examples\n",
    "  * [Wikipedia](https://en.wikipedia.org/wiki/Database_normalization) (seriously)\n",
    "  * [Rules of normalisation](https://web.archive.org/web/20080805014412/http://www.datamodel.org/NormalizationRules.html#bcnf)"
   ]
  },
  {
   "cell_type": "markdown",
   "metadata": {
    "slideshow": {
     "slide_type": "subslide"
    }
   },
   "source": [
    "## Boyce-Codd normal form, or normal form 3.5\n",
    "\n",
    "**Definition**: No redundant functional dependencies. Or every determinant is a candidate key.\n",
    "\n",
    "1. $X \\rightarrow Y$ is a trivial functional dependency\n",
    "2. $X$ is a *superkey*"
   ]
  },
  {
   "cell_type": "markdown",
   "metadata": {
    "slideshow": {
     "slide_type": "fragment"
    }
   },
   "source": [
    "<quote>Typically, any relation that is in 3NF is also in BCNF. However, a 3NF relation won't be in BCNF if (a) there are multiple candidate keys, (b) the keys are composed of multiple attributes, and (c) there are common attributes between the keys.</quote> - [Rules of data normalisation](https://web.archive.org/web/20080805014412/http://www.datamodel.org/NormalizationRules.html#bcnf)"
   ]
  },
  {
   "cell_type": "markdown",
   "metadata": {
    "slideshow": {
     "slide_type": "fragment"
    }
   },
   "source": [
    "**Motivation**: Less redundancy"
   ]
  },
  {
   "cell_type": "markdown",
   "metadata": {
    "slideshow": {
     "slide_type": "subslide"
    }
   },
   "source": [
    "## BCNF normal form examples\n",
    "\n",
    "* ``Person(CPR, Name, Address)``\n",
    "  * Is in BCNF, because CPR $\\rightarrow$ (Name, Address)\n",
    "  * Note that Name does not imply Address: it is *not* a transitive dependency"
   ]
  },
  {
   "cell_type": "markdown",
   "metadata": {
    "slideshow": {
     "slide_type": "fragment"
    }
   },
   "source": [
    "\n",
    "* ``HasAccount(AccountNumber, ClientId, OfficeId)``\n",
    "  * The functional dependency AccountNumber $\\rightarrow$ ClientId is not in BCNF\n",
    "  * Because we have 1) multiple keys ($\\{AccountNumber, ClientId\\}$ and $\\{ClientId, OfficeId\\}$) b) multible attributes and c) keys that share attributes"
   ]
  },
  {
   "cell_type": "markdown",
   "metadata": {
    "slideshow": {
     "slide_type": "fragment"
    }
   },
   "source": [
    "* ``ManagerBranch(Manager, Project, Branch)``\n",
    "  * Is in 3NF: no transitive dependencies\n",
    "  * Is not in BCNF because each manager works in a particular branch ($Manager \\rightarrow Branch$), but the branch can have different manager for different projects ($\\{Project,Branch\\} \\rightarrow Manager$)"
   ]
  },
  {
   "cell_type": "markdown",
   "metadata": {},
   "source": [
    "## Normal form 4\n",
    "\n",
    "* Introduced in 1977 by Ronald Fagin\n",
    "* Normally implies normal form 5\n",
    "\n",
    "* **Definition**: No multivalued dependencies\n",
    "  * For non-trivial multivalued dependencies X ↠ Y, X is a superkey"
   ]
  },
  {
   "cell_type": "markdown",
   "metadata": {
    "slideshow": {
     "slide_type": "fragment"
    }
   },
   "source": [
    "**Motivation**: De-duplication, by having fewer fields in the candidate keys"
   ]
  },
  {
   "cell_type": "markdown",
   "metadata": {
    "slideshow": {
     "slide_type": "subslide"
    }
   },
   "source": [
    "## Normal form 4 example\n",
    "\n",
    "    -------------------------------\n",
    "    | EMPLOYEE | SKILL | LANGUAGE |\n",
    "    ==============================="
   ]
  },
  {
   "cell_type": "markdown",
   "metadata": {
    "slideshow": {
     "slide_type": "fragment"
    }
   },
   "source": [
    "*Problem*: A record should not contain two or more independent multi-valued records"
   ]
  },
  {
   "cell_type": "markdown",
   "metadata": {
    "slideshow": {
     "slide_type": "fragment"
    }
   },
   "source": [
    "*Solution*: Break up the table, and reduce the amount of columns in the candidate key\n",
    "    \n",
    "    --------------------  -----------------------\n",
    "    | EMPLOYEE | SKILL |  | EMPLOYEE | LANGUAGE |\n",
    "    ====================  ======================="
   ]
  },
  {
   "cell_type": "markdown",
   "metadata": {
    "slideshow": {
     "slide_type": "subslide"
    }
   },
   "source": [
    "## Normal form 5\n",
    "\n",
    "* Also known as project-join normal form; Ronald Fagin 1979\n",
    "* **Definition**: Every non-trivial join dependency in a table is implied by the candidate keys\n"
   ]
  },
  {
   "cell_type": "markdown",
   "metadata": {
    "slideshow": {
     "slide_type": "fragment"
    }
   },
   "source": [
    "**Motivation**: Avoid redundancy"
   ]
  },
  {
   "cell_type": "markdown",
   "metadata": {
    "slideshow": {
     "slide_type": "fragment"
    }
   },
   "source": [
    "<quote>Roughly speaking, we may say that a record type is in fifth normal form when its information content cannot be reconstructed from several smaller record types</quote> - William Kent"
   ]
  },
  {
   "cell_type": "markdown",
   "metadata": {
    "slideshow": {
     "slide_type": "subslide"
    }
   },
   "source": [
    "# Normal form 5 example\n",
    "\n",
    "Suppose that agents represents companies and companies sells cars\n",
    "\n",
    "    -----------------------------\n",
    "    | AGENT | COMPANY | PRODUCT |\n",
    "    |-------+---------+---------|\n",
    "    | Smith | Ford    | car     | \n",
    "    | Smith | GM      | truck   | \n",
    "    -----------------------------"
   ]
  },
  {
   "cell_type": "markdown",
   "metadata": {
    "slideshow": {
     "slide_type": "fragment"
    }
   },
   "source": [
    "Now suppose that an agent sells a product, and represents a company throught that product. What is the problem with the above?"
   ]
  },
  {
   "cell_type": "markdown",
   "metadata": {
    "slideshow": {
     "slide_type": "fragment"
    }
   },
   "source": [
    "The candidate key doesn't imply all the columns!    \n",
    "    \n",
    "    -------------------   ---------------------   ------------------- \n",
    "    | AGENT | COMPANY |   | COMPANY | PRODUCT |   | AGENT | PRODUCT |\n",
    "    |-------+---------|   |---------+---------|   |-------+---------|\n",
    "    | Smith | Ford    |   | Ford    | car     |   | Smith | car     |\n",
    "    | Smith | GM      |   | Ford    | truck   |   | Smith | truck   |\n",
    "    | Jones | Ford    |   | GM      | car     |   | Jones | car     |\n",
    "    -------------------   | GM      | truck   |   -------------------\n",
    "                          ---------------------"
   ]
  },
  {
   "cell_type": "markdown",
   "metadata": {
    "slideshow": {
     "slide_type": "subslide"
    }
   },
   "source": [
    "## Exercise normalisation walk through\n",
    "\n",
    "* This exercise is stolen from Mastering PostgreSQL by D. Fontaine"
   ]
  },
  {
   "cell_type": "markdown",
   "metadata": {
    "slideshow": {
     "slide_type": "fragment"
    }
   },
   "source": [
    "* There's neither a unique constraint nor primary key, so there is nothing preventing insertion of duplicates entries, violating 1NF."
   ]
  },
  {
   "cell_type": "markdown",
   "metadata": {
    "slideshow": {
     "slide_type": "fragment"
    }
   },
   "source": [
    "\n",
    "* Some non-key attributes are not dependent on the key because we mix data from the Twitter account posting the  message and themessage itself, violating 2NF. This is the case with all the user's attributes, such as the nickname, bio, picture, followers, following, and listed attributes."
   ]
  },
  {
   "cell_type": "markdown",
   "metadata": {
    "slideshow": {
     "slide_type": "fragment"
    }
   },
   "source": [
    "\n",
    "* We have transitive dependencies in the model, which violates 3NF.\n",
    "  * The country and place attributes  depend  on  the location attribute. \n",
    "  * The hour attributes depend on the date attribute, as the hour alone can't represent when the tweet was transmitted.\n",
    "  * The longitude and latitude should really be a single location column, given PostgreSQL's ability to deal with geometric data types. "
   ]
  },
  {
   "cell_type": "markdown",
   "metadata": {
    "slideshow": {
     "slide_type": "slide"
    }
   },
   "source": [
    "# Indexing\n",
    "\n",
    "Indices are basically datastructures added to your relations. They give us:\n",
    "\n",
    "* Fast lookups\n",
    "* Checks on relation constraints"
   ]
  },
  {
   "cell_type": "markdown",
   "metadata": {
    "slideshow": {
     "slide_type": "subslide"
    }
   },
   "source": [
    "## Memory versus processing tradeoff\n",
    "\n",
    "* Imagine a linked list of 1'000'000 elements\n",
    "  * How much space does it take up?\n",
    "  * How much work would it take in terms of memory and processing to find a particular element?"
   ]
  },
  {
   "cell_type": "markdown",
   "metadata": {
    "slideshow": {
     "slide_type": "fragment"
    }
   },
   "source": [
    "* Imagine a tree structure containing 1'000'000 elements\n",
    "  * How much space does it take up?\n",
    "  * How much work would it take in terms of memory and processing to find a particular element?"
   ]
  },
  {
   "cell_type": "markdown",
   "metadata": {
    "slideshow": {
     "slide_type": "subslide"
    }
   },
   "source": [
    "## The ``EXPLAIN`` query\n",
    "\n",
    "* RDBMS have seriously advanced query execution planners\n",
    "* The execution planners plan how your queries are executed\n",
    "  * Are are queries performed correct?\n",
    "  * How long will they take?\n",
    "  * Can they be improved?\n",
    "  \n",
    "* ``EXPLAIN ANALYZE`` runs the query and analyses the result"
   ]
  },
  {
   "cell_type": "code",
   "execution_count": null,
   "metadata": {
    "slideshow": {
     "slide_type": "fragment"
    }
   },
   "outputs": [],
   "source": [
    "%sql EXPLAIN SELECT * FROM public.tweet;"
   ]
  },
  {
   "cell_type": "code",
   "execution_count": null,
   "metadata": {
    "slideshow": {
     "slide_type": "fragment"
    }
   },
   "outputs": [],
   "source": [
    "%sql EXPLAIN SELECT * FROM public.tweet WHERE uname = 'test';"
   ]
  },
  {
   "cell_type": "markdown",
   "metadata": {
    "slideshow": {
     "slide_type": "subslide"
    }
   },
   "source": [
    "## Hash trees\n",
    "\n",
    "* Calculates a hash for your data\n",
    "* Allows for faster comparisons"
   ]
  },
  {
   "cell_type": "markdown",
   "metadata": {
    "slideshow": {
     "slide_type": "subslide"
    }
   },
   "source": [
    "## B trees\n",
    "\n",
    "* Extension of the binary tree, where you can have more than two leaves\n",
    "* Default indices in PostgreSQL\n",
    "* $O(log(n))$ lookup\n",
    "\n",
    "![B tree](https://upload.wikimedia.org/wikipedia/commons/thumb/6/65/B-tree.svg/400px-B-tree.svg.png)"
   ]
  },
  {
   "cell_type": "code",
   "execution_count": null,
   "metadata": {
    "slideshow": {
     "slide_type": "subslide"
    }
   },
   "outputs": [],
   "source": [
    "%sql SELECT * from information_schema.columns where table_name = 'tweet';"
   ]
  },
  {
   "cell_type": "code",
   "execution_count": null,
   "metadata": {
    "slideshow": {
     "slide_type": "subslide"
    }
   },
   "outputs": [],
   "source": [
    "%sql select * from information_schema.tables where table_schema = 'pg_catalog';"
   ]
  },
  {
   "cell_type": "code",
   "execution_count": null,
   "metadata": {
    "slideshow": {
     "slide_type": "subslide"
    }
   },
   "outputs": [],
   "source": [
    "%sql select * from pg_indexes where tablename = 'tweet';"
   ]
  },
  {
   "cell_type": "code",
   "execution_count": null,
   "metadata": {
    "slideshow": {
     "slide_type": "subslide"
    }
   },
   "outputs": [],
   "source": [
    "%sql SELECT * FROM tweet WHERE id = 721318437075685382;"
   ]
  },
  {
   "cell_type": "code",
   "execution_count": null,
   "metadata": {
    "slideshow": {
     "slide_type": "subslide"
    }
   },
   "outputs": [],
   "source": [
    "%sql EXPLAIN ANALYZE SELECT * FROM tweet WHERE id = 721318437075685382;"
   ]
  },
  {
   "cell_type": "code",
   "execution_count": null,
   "metadata": {
    "slideshow": {
     "slide_type": "subslide"
    }
   },
   "outputs": [],
   "source": [
    "%sql ALTER TABLE tweet DROP CONSTRAINT tweet_pkey;"
   ]
  },
  {
   "cell_type": "code",
   "execution_count": null,
   "metadata": {
    "slideshow": {
     "slide_type": "subslide"
    }
   },
   "outputs": [],
   "source": [
    "%sql EXPLAIN ANALYZE SELECT * FROM tweet WHERE id = 721318437075685382;"
   ]
  },
  {
   "cell_type": "code",
   "execution_count": null,
   "metadata": {
    "slideshow": {
     "slide_type": "subslide"
    }
   },
   "outputs": [],
   "source": [
    "%sql CREATE UNIQUE INDEX tweet_pkey ON tweet USING btree (id)"
   ]
  },
  {
   "cell_type": "markdown",
   "metadata": {
    "slideshow": {
     "slide_type": "subslide"
    }
   },
   "source": [
    "# R-trees\n",
    "\n",
    "* What happens when you have geospatial data?\n",
    "* R-trees uses rectangles to index your data\n",
    "* $O(log_M(n))$, where $_M$ is the amount of children per node\n",
    "\n",
    "![R-tree](https://upload.wikimedia.org/wikipedia/commons/thumb/6/6f/R-tree.svg/400px-R-tree.svg.png)"
   ]
  },
  {
   "cell_type": "markdown",
   "metadata": {
    "slideshow": {
     "slide_type": "subslide"
    }
   },
   "source": [
    "## BRIN indexes\n",
    "\n",
    "**B**lock **R**ange **IN**dex\n",
    "\n",
    "* Allows us to index ordered elements in blocks\n",
    "* Close to horizontal scaling \n",
    "* Useful when handling extremely large data\n",
    "\n",
    "![BRIN index](https://upload.wikimedia.org/wikipedia/commons/thumb/7/78/BRIN_index.svg/220px-BRIN_index.svg.png)"
   ]
  },
  {
   "cell_type": "code",
   "execution_count": null,
   "metadata": {
    "slideshow": {
     "slide_type": "subslide"
    }
   },
   "outputs": [],
   "source": [
    "%sql CREATE INDEX tweet_brin_date ON tweet USING brin(date);"
   ]
  },
  {
   "cell_type": "code",
   "execution_count": null,
   "metadata": {
    "slideshow": {
     "slide_type": "subslide"
    }
   },
   "outputs": [],
   "source": [
    "%sql EXPLAIN ANALYZE SELECT COUNT(*) FROM tweet WHERE date > '2016-04-14' AND date < '2016-04-16';"
   ]
  },
  {
   "cell_type": "code",
   "execution_count": null,
   "metadata": {
    "slideshow": {
     "slide_type": "subslide"
    }
   },
   "outputs": [],
   "source": [
    "%sql DROP INDEX tweet_brin_date;"
   ]
  },
  {
   "cell_type": "code",
   "execution_count": null,
   "metadata": {
    "slideshow": {
     "slide_type": "subslide"
    }
   },
   "outputs": [],
   "source": [
    "%sql EXPLAIN ANALYZE SELECT COUNT(*) FROM tweet WHERE date > '2016-04-14' AND date < '2016-04-16';"
   ]
  },
  {
   "cell_type": "markdown",
   "metadata": {
    "slideshow": {
     "slide_type": "subslide"
    }
   },
   "source": [
    "# Bloom filters\n",
    "\n",
    "Probabilistic datastructure that allows to test whether an element is contained in a set\n",
    "\n",
    "* Have $n$ elements\n",
    "* Have $k$ hash functions that uniformely distributes hash values from 0 to $n$\n",
    "* Build a bit map that can either contain or not contain a bit from 0 to $n$\n",
    "* Useful to test whether something is a part of a set with many attributes\n",
    "\n",
    "![Bloom filter](https://upload.wikimedia.org/wikipedia/commons/thumb/a/ac/Bloom_filter.svg/360px-Bloom_filter.svg.png)"
   ]
  },
  {
   "cell_type": "markdown",
   "metadata": {
    "slideshow": {
     "slide_type": "subslide"
    }
   },
   "source": [
    "# GiST trees\n",
    "\n",
    "**G**eneral**i**sed **S**earch **T**rees\n",
    "\n",
    "* Allows us to generalise our search structures, so we can build them on whicheever type we choose\n",
    "* Contains a balanced tree structure like we've seen above\n",
    "  * But with <key, pointer> pairs instead of integers (like in B-trees)\n",
    "  * Instead, each node represents some condition that is true for all nodes in that leaf\n",
    "* Works for tons of datastructures!\n",
    "  * Including spatial data!"
   ]
  },
  {
   "cell_type": "code",
   "execution_count": null,
   "metadata": {
    "slideshow": {
     "slide_type": "subslide"
    }
   },
   "outputs": [],
   "source": [
    "%sql SELECT * FROM pg_indexes WHERE tablename = 'circuits';"
   ]
  },
  {
   "cell_type": "code",
   "execution_count": null,
   "metadata": {
    "slideshow": {
     "slide_type": "subslide"
    }
   },
   "outputs": [],
   "source": [
    "%sql SELECT * FROM circuits ORDER BY point(lng,lat) <-> point(2.349014, 48.864716);"
   ]
  },
  {
   "cell_type": "code",
   "execution_count": null,
   "metadata": {
    "slideshow": {
     "slide_type": "subslide"
    }
   },
   "outputs": [],
   "source": [
    "%sql EXPLAIN ANALYZE SELECT * FROM circuits ORDER BY position <-> point(2.349014, 48.864716);"
   ]
  },
  {
   "cell_type": "code",
   "execution_count": null,
   "metadata": {
    "slideshow": {
     "slide_type": "subslide"
    }
   },
   "outputs": [],
   "source": [
    "%sql DROP INDEX circuits_position_idx;"
   ]
  },
  {
   "cell_type": "code",
   "execution_count": null,
   "metadata": {
    "slideshow": {
     "slide_type": "subslide"
    }
   },
   "outputs": [],
   "source": [
    "%sql EXPLAIN ANALYZE SELECT * FROM circuits ORDER BY position <-> point(2.349014, 48.864716);"
   ]
  },
  {
   "cell_type": "code",
   "execution_count": null,
   "metadata": {
    "slideshow": {
     "slide_type": "subslide"
    }
   },
   "outputs": [],
   "source": [
    "%sql CREATE INDEX circuits_position_idx ON circuits USING gist (\"position\")"
   ]
  },
  {
   "cell_type": "markdown",
   "metadata": {
    "slideshow": {
     "slide_type": "slide"
    }
   },
   "source": [
    "# Joins\n",
    "\n",
    "* Joins calculates the *joint set* between two relations which fulfills a condition\n",
    "  * Combines attributes from your relations into a single table\n",
    "\n",
    "* Can be done in a number of ways\n",
    "  * Equi join\n",
    "  * Inner joins\n",
    "  * Outer joins\n",
    "  * Cross joins\n",
    "  * Self joins"
   ]
  },
  {
   "cell_type": "markdown",
   "metadata": {
    "slideshow": {
     "slide_type": "subslide"
    }
   },
   "source": [
    "## Equi joins ($\\theta$)\n",
    "\n",
    "* Using equality ($=$) to identify where to join\n",
    "* Example: \n",
    "\n",
    "      SELECT * FROM employee, department \n",
    "      WHERE employee.DepartmentID = department.DepartmentID;\n",
    "      \n",
    "      SELECT * FROM employee \n",
    "      JOIN customer \n",
    "      ON employee.employeeid = customer.supportrepid;"
   ]
  },
  {
   "cell_type": "code",
   "execution_count": null,
   "metadata": {
    "slideshow": {
     "slide_type": "subslide"
    }
   },
   "outputs": [],
   "source": [
    "%sql SELECT * FROM employee, customer WHERE employee.employeeid = customer.supportrepid;"
   ]
  },
  {
   "cell_type": "code",
   "execution_count": null,
   "metadata": {
    "slideshow": {
     "slide_type": "subslide"
    }
   },
   "outputs": [],
   "source": [
    "%sql EXPLAIN SELECT * FROM employee, customer WHERE employee.employeeid = customer.supportrepid;"
   ]
  },
  {
   "cell_type": "code",
   "execution_count": null,
   "metadata": {
    "slideshow": {
     "slide_type": "subslide"
    }
   },
   "outputs": [],
   "source": [
    "%sql SELECT * FROM employee JOIN customer ON employee.employeeid = customer.supportrepid;"
   ]
  },
  {
   "cell_type": "code",
   "execution_count": null,
   "metadata": {
    "slideshow": {
     "slide_type": "subslide"
    }
   },
   "outputs": [],
   "source": [
    "%sql EXPLAIN SELECT * FROM employee JOIN customer ON employee.employeeid = customer.supportrepid;"
   ]
  },
  {
   "cell_type": "markdown",
   "metadata": {
    "slideshow": {
     "slide_type": "subslide"
    }
   },
   "source": [
    "## Natural joins ($\\bowtie$)\n",
    "\n",
    "* Joins two relations where all their common attributes have the same values\n",
    "  \n",
    "$R \\bowtie S = \\left\\{ r \\cup s \\ \\vert \\ r \\in R \\ \\land \\ s \\in S \\ \\land \\ \\mathit{Fun}(r \\cup s) \\right\\}$\n",
    "\n",
    "\n",
    "Example:\n",
    "\n",
    "      SELECT * FROM employee NATURAL JOIN department;\n"
   ]
  },
  {
   "cell_type": "code",
   "execution_count": 28,
   "metadata": {
    "slideshow": {
     "slide_type": "subslide"
    }
   },
   "outputs": [
    {
     "name": "stdout",
     "output_type": "stream",
     "text": [
      "0 rows affected.\n"
     ]
    },
    {
     "data": {
      "text/html": [
       "<table>\n",
       "    <tr>\n",
       "        <th>employeeid</th>\n",
       "        <th>lastname</th>\n",
       "        <th>firstname</th>\n",
       "        <th>address</th>\n",
       "        <th>city</th>\n",
       "        <th>state</th>\n",
       "        <th>country</th>\n",
       "        <th>postalcode</th>\n",
       "        <th>phone</th>\n",
       "        <th>fax</th>\n",
       "        <th>email</th>\n",
       "        <th>title</th>\n",
       "        <th>reportsto</th>\n",
       "        <th>birthdate</th>\n",
       "        <th>hiredate</th>\n",
       "        <th>customerid</th>\n",
       "        <th>company</th>\n",
       "    </tr>\n",
       "</table>"
      ],
      "text/plain": [
       "[]"
      ]
     },
     "execution_count": 28,
     "metadata": {},
     "output_type": "execute_result"
    }
   ],
   "source": [
    "%sql SELECT * FROM employee NATURAL JOIN customer;"
   ]
  },
  {
   "cell_type": "markdown",
   "metadata": {
    "slideshow": {
     "slide_type": "subslide"
    }
   },
   "source": [
    "## Inner joins\n",
    "\n",
    "* Requires each row in the two joined tables to have matching column values\n",
    "\n",
    "![Inner join](https://upload.wikimedia.org/wikipedia/commons/thumb/1/18/SQL_Join_-_07_A_Inner_Join_B.svg/220px-SQL_Join_-_07_A_Inner_Join_B.svg.png)"
   ]
  },
  {
   "cell_type": "markdown",
   "metadata": {
    "slideshow": {
     "slide_type": "subslide"
    }
   },
   "source": [
    "## Inner join example\n",
    "\n",
    "    SELECT employee.LastName, employee.DepartmentID, department.DepartmentName \n",
    "    FROM employee \n",
    "    INNER JOIN department ON\n",
    "    employee.DepartmentID = department.DepartmentID\n",
    "    \n",
    "* ``INNER`` is optional"
   ]
  },
  {
   "cell_type": "code",
   "execution_count": null,
   "metadata": {
    "slideshow": {
     "slide_type": "subslide"
    }
   },
   "outputs": [],
   "source": [
    "%%sql \n",
    "SELECT employee.employeeid, employee.lastname, customer.customerId, customer.lastname \n",
    "FROM employee \n",
    "INNER JOIN customer \n",
    "ON employee.employeeid = customer.supportrepid;"
   ]
  },
  {
   "cell_type": "code",
   "execution_count": null,
   "metadata": {
    "slideshow": {
     "slide_type": "subslide"
    }
   },
   "outputs": [],
   "source": [
    "%%sql \n",
    "EXPLAIN ANALYZE SELECT employee.employeeid, employee.lastname, customer.customerId, customer.lastname \n",
    "FROM employee \n",
    "INNER JOIN customer \n",
    "ON employee.employeeid = customer.supportrepid;"
   ]
  },
  {
   "cell_type": "markdown",
   "metadata": {
    "slideshow": {
     "slide_type": "subslide"
    }
   },
   "source": [
    "## Outer joins\n",
    "\n",
    "Outer joins retains each row — even if no other matching row exists\n",
    "\n",
    "* Left outer joins (⟕)\n",
    "* Right outer joins (⟖)\n",
    "* Full outer joins (⟗)"
   ]
  },
  {
   "cell_type": "markdown",
   "metadata": {
    "slideshow": {
     "slide_type": "subslide"
    }
   },
   "source": [
    "## Left outer joins\n",
    "\n",
    "* Retains all the tuples in the left relations, *even if* the join condition didn't hold\n",
    "\n",
    "Example\n",
    "\n",
    "     SELECT *\n",
    "     FROM employee \n",
    "     LEFT OUTER JOIN department ON employee.DepartmentID = department.DepartmentID;\n",
    "\n",
    "![Left outer join](https://upload.wikimedia.org/wikipedia/commons/thumb/f/f6/SQL_Join_-_01_A_Left_Join_B.svg/220px-SQL_Join_-_01_A_Left_Join_B.svg.png)"
   ]
  },
  {
   "cell_type": "code",
   "execution_count": null,
   "metadata": {
    "slideshow": {
     "slide_type": "subslide"
    }
   },
   "outputs": [],
   "source": [
    "%sql SELECT * FROM employee LEFT OUTER JOIN customer ON employee.employeeid = customer.supportrepid;"
   ]
  },
  {
   "cell_type": "code",
   "execution_count": null,
   "metadata": {
    "slideshow": {
     "slide_type": "subslide"
    }
   },
   "outputs": [],
   "source": [
    "%sql EXPLAIN SELECT * FROM employee LEFT OUTER JOIN customer ON employee.employeeid = customer.supportrepid;"
   ]
  },
  {
   "cell_type": "markdown",
   "metadata": {
    "slideshow": {
     "slide_type": "subslide"
    }
   },
   "source": [
    "## Right outer joins\n",
    "\n",
    "* Retains all the tuples in the right relations, *even if* the join condition didn't hold\n",
    "\n",
    "Example\n",
    "\n",
    "     SELECT *\n",
    "     FROM employee \n",
    "     RIGHT OUTER JOIN department ON employee.DepartmentID = department.DepartmentID;\n",
    "\n",
    "![Right outer join](https://upload.wikimedia.org/wikipedia/commons/thumb/5/5f/SQL_Join_-_03_A_Right_Join_B.svg/220px-SQL_Join_-_03_A_Right_Join_B.svg.png)"
   ]
  },
  {
   "cell_type": "code",
   "execution_count": null,
   "metadata": {
    "slideshow": {
     "slide_type": "subslide"
    }
   },
   "outputs": [],
   "source": [
    "%sql SELECT * FROM employee RIGHT OUTER JOIN customer ON employee.employeeid = customer.supportrepid;"
   ]
  },
  {
   "cell_type": "code",
   "execution_count": null,
   "metadata": {
    "slideshow": {
     "slide_type": "subslide"
    }
   },
   "outputs": [],
   "source": [
    "%sql EXPLAIN SELECT * FROM employee LEFT OUTER JOIN customer ON employee.employeeid = customer.supportrepid;"
   ]
  },
  {
   "cell_type": "markdown",
   "metadata": {
    "slideshow": {
     "slide_type": "subslide"
    }
   },
   "source": [
    "## Full outer join\n",
    "\n",
    "Combines the results of a *left* and *right* outer join, returning null whenever a values is missing\n",
    "\n",
    "Example\n",
    "\n",
    "    SELECT *\n",
    "    FROM employee FULL OUTER JOIN department\n",
    "      ON employee.DepartmentID = department.DepartmentID;\n",
    "      \n",
    "![Full outer join](https://upload.wikimedia.org/wikipedia/commons/thumb/3/3d/SQL_Join_-_05b_A_Full_Join_B.svg/220px-SQL_Join_-_05b_A_Full_Join_B.svg.png)"
   ]
  },
  {
   "cell_type": "code",
   "execution_count": null,
   "metadata": {
    "slideshow": {
     "slide_type": "subslide"
    }
   },
   "outputs": [],
   "source": [
    "%sql SELECT * FROM employee FULL OUTER JOIN customer ON employee.employeeid = customer.supportrepid;"
   ]
  },
  {
   "cell_type": "code",
   "execution_count": null,
   "metadata": {
    "slideshow": {
     "slide_type": "subslide"
    }
   },
   "outputs": [],
   "source": [
    "%sql EXPLAIN SELECT * FROM employee FULL OUTER JOIN customer ON employee.employeeid = customer.supportrepid;"
   ]
  },
  {
   "cell_type": "markdown",
   "metadata": {
    "slideshow": {
     "slide_type": "subslide"
    }
   },
   "source": [
    "## Formula one examples"
   ]
  },
  {
   "cell_type": "code",
   "execution_count": null,
   "metadata": {
    "slideshow": {
     "slide_type": "subslide"
    }
   },
   "outputs": [],
   "source": [
    "%sql SELECT date,name,results.time FROM races JOIN results on results.raceid = races.raceid AND results.position = 1;"
   ]
  },
  {
   "cell_type": "code",
   "execution_count": null,
   "metadata": {
    "slideshow": {
     "slide_type": "subslide"
    }
   },
   "outputs": [],
   "source": [
    "%sql EXPLAIN SELECT date,name,results.time FROM races JOIN results on results.raceid = races.raceid AND results.position = 1;"
   ]
  },
  {
   "cell_type": "code",
   "execution_count": null,
   "metadata": {
    "slideshow": {
     "slide_type": "subslide"
    }
   },
   "outputs": [],
   "source": [
    "%sql SELECT date,name,results.time FROM races LEFT JOIN results on results.raceid = races.raceid AND results.position = 1;"
   ]
  },
  {
   "cell_type": "code",
   "execution_count": null,
   "metadata": {
    "slideshow": {
     "slide_type": "subslide"
    }
   },
   "outputs": [],
   "source": [
    "%sql SELECT COUNT(*) FROM races RIGHT JOIN results on results.raceid = races.raceid AND results.position = 1;"
   ]
  },
  {
   "cell_type": "code",
   "execution_count": null,
   "metadata": {
    "slideshow": {
     "slide_type": "subslide"
    }
   },
   "outputs": [],
   "source": [
    "%sql SELECT COUNT(*) FROM races FULL JOIN results on results.raceid = races.raceid AND results.position = 1;"
   ]
  },
  {
   "cell_type": "markdown",
   "metadata": {
    "slideshow": {
     "slide_type": "subslide"
    }
   },
   "source": [
    "## Cross joins\n",
    "\n",
    "The cartesian product of two relations\n",
    "\n",
    "    SELECT *\n",
    "    FROM employee CROSS JOIN department;\n",
    "\n",
    "Equivalent to\n",
    "\n",
    "    SELECT *\n",
    "    FROM employee, department;\n"
   ]
  },
  {
   "cell_type": "markdown",
   "metadata": {
    "slideshow": {
     "slide_type": "subslide"
    }
   },
   "source": [
    "## Exercise\n",
    "\n",
    "* Get the number of tuples in the ``CROSS JOIN`` between ``employee`` and ``customer``\n",
    "* Now count the number of tuples in ``employee`` and ``customer``. How does that relate to the ``COUNT`` in the above cross join?\n",
    "\n",
    "\n",
    "* Run ``EXPLAIN ANALYZE`` on the ``LEFT JOIN``, ``RIGHT JOIN`` and ``FULL JOIN``\n",
    "* Explain what is happening\n",
    "* Explain why they are different"
   ]
  },
  {
   "cell_type": "markdown",
   "metadata": {
    "slideshow": {
     "slide_type": "subslide"
    }
   },
   "source": [
    "## Multiple joins\n",
    "\n",
    "You can join several table at once. Here I would like to get all the names of the winners:\n",
    "\n",
    "    SELECT name, date, driver.surname FROM races \n",
    "    JOIN results ON results.raceid = races.raceid AND results.position = 1 \n",
    "    JOIN drivers USING (driverid)\n",
    "    ORDER BY date;"
   ]
  },
  {
   "cell_type": "code",
   "execution_count": null,
   "metadata": {
    "slideshow": {
     "slide_type": "subslide"
    }
   },
   "outputs": [],
   "source": [
    "%%sql\n",
    "SELECT name, date, drivers.surname FROM races \n",
    "JOIN results ON results.raceid = races.raceid AND results.position = 1 \n",
    "JOIN drivers USING (driverid)\n",
    "ORDER BY date DESC;"
   ]
  },
  {
   "cell_type": "markdown",
   "metadata": {
    "slideshow": {
     "slide_type": "subslide"
    }
   },
   "source": [
    "## Join performance\n",
    "\n",
    "* When you join several tables on several conditions, things quickly get very very slow\n",
    "  * For every field you add, your complexity rises exponentially!\n",
    "* Never forget indexing!"
   ]
  },
  {
   "cell_type": "markdown",
   "metadata": {
    "slideshow": {
     "slide_type": "slide"
    }
   },
   "source": [
    "# Views\n",
    "\n",
    "* A 'virtual' table, or a *stored* query\n",
    "* Makes it possible to persist some of your queries\n",
    "\n"
   ]
  },
  {
   "cell_type": "code",
   "execution_count": null,
   "metadata": {
    "slideshow": {
     "slide_type": "subslide"
    }
   },
   "outputs": [],
   "source": [
    "%%sql EXPLAIN ANALYZE \n",
    "SELECT name, date, drivers.surname FROM races \n",
    "JOIN results ON results.raceid = races.raceid AND results.position = 1 \n",
    "JOIN drivers USING (driverid)\n",
    "ORDER BY date DESC;"
   ]
  },
  {
   "cell_type": "code",
   "execution_count": null,
   "metadata": {
    "slideshow": {
     "slide_type": "subslide"
    }
   },
   "outputs": [],
   "source": [
    "%%sql CREATE VIEW race_winners AS\n",
    "SELECT name, date, drivers.surname FROM races \n",
    "JOIN results ON results.raceid = races.raceid AND results.position = 1 \n",
    "JOIN drivers USING (driverid)\n",
    "ORDER BY date DESC;"
   ]
  },
  {
   "cell_type": "code",
   "execution_count": null,
   "metadata": {
    "slideshow": {
     "slide_type": "subslide"
    }
   },
   "outputs": [],
   "source": [
    "%sql EXPLAIN ANALYZE SELECT * FROM race_winners;"
   ]
  },
  {
   "cell_type": "markdown",
   "metadata": {
    "slideshow": {
     "slide_type": "subslide"
    }
   },
   "source": [
    "## Materialised views\n",
    "\n",
    "* In views, the view query is executed every time the view is queried\n",
    "* Materialised views are cached views\n",
    "\n",
    "      CREATE MATERIALIZED VIEW race_winners_cache AS race_winners;\n",
    "      \n",
    "* Materialised views are **static** snapshots\n",
    "  * They will **NOT** update if your data is updated\n",
    "  \n",
    "      REFRESH MATERIALIZED VIEW race_winners_cache;"
   ]
  },
  {
   "cell_type": "code",
   "execution_count": null,
   "metadata": {
    "slideshow": {
     "slide_type": "subslide"
    }
   },
   "outputs": [],
   "source": [
    "%sql CREATE MATERIALIZED VIEW race_winners_cache AS SELECT * FROM race_winners;"
   ]
  },
  {
   "cell_type": "code",
   "execution_count": 111,
   "metadata": {
    "slideshow": {
     "slide_type": "subslide"
    }
   },
   "outputs": [
    {
     "name": "stdout",
     "output_type": "stream",
     "text": [
      "3 rows affected.\n"
     ]
    },
    {
     "data": {
      "text/html": [
       "<table>\n",
       "    <tr>\n",
       "        <th>QUERY PLAN</th>\n",
       "    </tr>\n",
       "    <tr>\n",
       "        <td>Seq Scan on race_winners_cache  (cost=0.00..10.70 rows=70 width=1036) (actual time=0.034..0.417 rows=974 loops=1)</td>\n",
       "    </tr>\n",
       "    <tr>\n",
       "        <td>Planning time: 0.212 ms</td>\n",
       "    </tr>\n",
       "    <tr>\n",
       "        <td>Execution time: 0.594 ms</td>\n",
       "    </tr>\n",
       "</table>"
      ],
      "text/plain": [
       "[('Seq Scan on race_winners_cache  (cost=0.00..10.70 rows=70 width=1036) (actual time=0.034..0.417 rows=974 loops=1)',),\n",
       " ('Planning time: 0.212 ms',),\n",
       " ('Execution time: 0.594 ms',)]"
      ]
     },
     "execution_count": 111,
     "metadata": {},
     "output_type": "execute_result"
    }
   ],
   "source": [
    "%sql EXPLAIN ANALYZE SELECT * FROM race_winners_cache;"
   ]
  },
  {
   "cell_type": "markdown",
   "metadata": {
    "slideshow": {
     "slide_type": "slide"
    }
   },
   "source": [
    "# Hand-in: Materialised joins\n",
    "\n",
    "* **Deadline**: 20th of March 12:00\n",
    "* **Review deadline**: 21th of March 23:59\n",
    "\n",
    "Your job is to 1) describe the content and function of an index, 2) analyse a join query on some tables in the f1db schema and 3) create a materialised view of it. You will have to\n",
    "\n",
    "1. On the table ``circuits`` report:\n",
    "  * What type of indices exists for the table and why they are of that type (and not some other type)\n",
    "  * The amount of space each index takes up\n",
    "2. We are talent scouts looking to win over some of the best new drivers there are. But we don't want them too old! Write a query that finds the winner of all the races, but only if they are younger than 38 years. The query should give return the date, driver surname, driver age, track time in milliseconds, race name and circuit name for all races.\n",
    "3. Describe the query using ``EXPLAIN ANALYZE`` with at least 5 lines of text. Answer at least the following:\n",
    "   * How many calls are you making? \n",
    "   * How long does it take to perform the query?\n",
    "4. Create a materialized view of your query. Using ``EXPLAIN ANALYZE`` try to query the view. Write at least 5 lines of text explaining what's going on and why the query execution time changed."
   ]
  }
 ],
 "metadata": {
  "celltoolbar": "Slideshow",
  "kernelspec": {
   "display_name": "Python 3",
   "language": "python",
   "name": "python3"
  },
  "language_info": {
   "codemirror_mode": {
    "name": "ipython",
    "version": 3
   },
   "file_extension": ".py",
   "mimetype": "text/x-python",
   "name": "python",
   "nbconvert_exporter": "python",
   "pygments_lexer": "ipython3",
   "version": "3.6.3"
  }
 },
 "nbformat": 4,
 "nbformat_minor": 2
}
