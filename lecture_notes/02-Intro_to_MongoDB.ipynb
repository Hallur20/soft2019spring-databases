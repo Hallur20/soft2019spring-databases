{
 "cells": [
  {
   "cell_type": "markdown",
   "metadata": {
    "slideshow": {
     "slide_type": "slide"
    }
   },
   "source": [
    "# Feb 7th - Document-oriented DB 1\n",
    "\n",
    "#### Literature\n",
    "* K. Banker, P. Bakkum, S. Verch, D. Garrett  _\"MongoDB in Action, Second Edition\"_\n",
    "    - Chapter 1\n",
    "    - Chapter 2\n",
    "    - Chapter 3\n",
    "* https://github.com/datsoftlyngby/soft2019spring-databases/blob/master/literature/session_2.zip\n",
    "* An important part of databases are *transactions*. In case you have not read about the **ACID** criteria, this blog is both correct and short: https://blog.yugabyte.com/a-primer-on-acid-transactions/.\n",
    "\n",
    "#### Handin\n",
    "\n",
    "See end of this document\n",
    "\n",
    "#### Study activity\n",
    "\n",
    "  * Read 3 hrs (notice - a lot to read)\n",
    "  * Exercises 5 hrs"
   ]
  },
  {
   "cell_type": "markdown",
   "metadata": {
    "slideshow": {
     "slide_type": "subslide"
    }
   },
   "source": [
    "# Follow up on last hand-in\n",
    "\n"
   ]
  },
  {
   "cell_type": "markdown",
   "metadata": {
    "slideshow": {
     "slide_type": "slide"
    }
   },
   "source": [
    "# Data Models\n",
    "\n",
    "\n",
    "  > Data models are perhaps the most important part of developing software, because they have such a profound effect: not only on how the software is written, but also on how we think about the problem that we are solving.\n",
    "  >\n",
    "  > Martin Kleppmann, _Designing Data-Intensive Applications\n",
    "  \n",
    "  (_His usage of \"data model\" is what some call \"database schema\"_)"
   ]
  },
  {
   "cell_type": "markdown",
   "metadata": {
    "collapsed": true,
    "slideshow": {
     "slide_type": "subslide"
    }
   },
   "source": [
    "## What was the Data Model in the Last Lecture and Exercise?"
   ]
  },
  {
   "cell_type": "markdown",
   "metadata": {
    "slideshow": {
     "slide_type": "slide"
    }
   },
   "source": [
    "# Object relational mismatch\n",
    "\n",
    "```java\n",
    "class Person {\n",
    "    String name;\n",
    "    int yearBorn;\n",
    "    Image avatar;\n",
    "    HashMap<String, String> socialMedia;\n",
    "    List<String> posts;\n",
    "    List<Person> friends;\n",
    "}\n",
    "```\n",
    "\n",
    "## In class exercise: Make a relational model wich can Person objects"
   ]
  },
  {
   "cell_type": "markdown",
   "metadata": {
    "slideshow": {
     "slide_type": "subslide"
    }
   },
   "source": [
    "## The Document Data Model\n",
    "\n",
    "\n",
    "A document is essentially a set of property names and their values.\n",
    "\n",
    "```json\n",
    "{ name: \"Þjóðbjörg\", born:1998, ...}\n",
    "```\n",
    "\n",
    "The values can be simple data types, such as _strings_, _numbers_, and _dates_. \n",
    "\n",
    "But these values can also be arrays and even other documents.\n",
    "\n",
    "Objects: {key<sub>0</sub>:value<sub>0</sub>, key<sub>1</sub>:value<sub>1</sub>, ...}<br>\n",
    "Arrays: \\[value<sub>0</sub>, value<sub>1</sub>, value<sub>2</sub>, ...\\]\n",
    "\n"
   ]
  },
  {
   "cell_type": "markdown",
   "metadata": {
    "slideshow": {
     "slide_type": "fragment"
    }
   },
   "source": [
    "```javascript\n",
    "{\n",
    "  _id: ObjectID('4bd9e8e17cefd644108961bb'),     // _id field, primary key\n",
    "  title: 'Adventures in Databases',\n",
    "  url: 'http://example.com/databases.txt',\n",
    "  author: 'msmith',\n",
    "  vote_count: 20,\n",
    "  tags: ['databases', 'mongodb', 'indexing'],    // Tags stored as array of strings\n",
    "  image: {                                       // Attribute pointing to another document\n",
    "    url: 'http://example.com/db.jpg',\n",
    "    caption: 'A database.',\n",
    "    type: 'jpg',\n",
    "    size: 75381,\n",
    "    data: 'Binary'\n",
    "  },\n",
    "  comments: [                                    // Comments stored as array of comment objects\n",
    "    {\n",
    "      user: 'bjones',\n",
    "      text: 'Interesting article.'\n",
    "    },\n",
    "    {\n",
    "      user: 'sverch',\n",
    "      text: 'Color me skeptical!'\n",
    "    }\n",
    "  ]\n",
    "}\n",
    "```\n",
    "\n",
    "Note, a JSON document needs double quotes everywhere except for numeric values. The listing shows the JavaScript version of a JSON document. Internally, MongoDB stores documents in a format called _Binary JSON_, or **BSON**."
   ]
  },
  {
   "cell_type": "markdown",
   "metadata": {
    "slideshow": {
     "slide_type": "subslide"
    }
   },
   "source": [
    "## The Document Data Model in MongoDB\n",
    "\n",
    "On top of documents, MongoDB has the concept of _collections_. _Collections_ can be considered as grouped _documents_.\n",
    "\n",
    "_Collections_ are similar to tables in the relational world.\n",
    "\n",
    "The document-oriented data model naturally represents data in an aggregate form, allowing you to work with an object holistically."
   ]
  },
  {
   "cell_type": "markdown",
   "metadata": {
    "slideshow": {
     "slide_type": "slide"
    }
   },
   "source": [
    "# Architecture of Databases System for Experimenting"
   ]
  },
  {
   "cell_type": "markdown",
   "metadata": {
    "slideshow": {
     "slide_type": "subslide"
    }
   },
   "source": [
    "## A Database Container\n",
    "\n",
    "![](images/DB_containers_internal.png)\n",
    "\n",
    "```bash\n",
    "$ docker run --rm --publish=27017:27017 --name dbms -d mongo:latest\n",
    "$ docker run -it --link dbms:mongo --rm mongo sh -c 'exec mongo \"$MONGO_PORT_27017_TCP_ADDR:$MONGO_PORT_27017_TCP_PORT/test\"'\n",
    "```\n",
    "\n",
    "\n",
    "**OBS** Do not do this in production. This is a setup that we will use for experimentation only!"
   ]
  },
  {
   "cell_type": "code",
   "execution_count": 158,
   "metadata": {
    "slideshow": {
     "slide_type": "skip"
    }
   },
   "outputs": [
    {
     "name": "stdout",
     "output_type": "stream",
     "text": [
      "MongoDB shell version v4.0.5\n",
      "connecting to: mongodb://172.17.0.2:27017/test?gssapiServiceName=mongodb\n",
      "Implicit session: session { \"id\" : UUID(\"5e3dd146-55cf-4f86-828b-98d75443d13b\") }\n",
      "MongoDB server version: 4.0.5\n",
      "bye\n"
     ]
    }
   ],
   "source": [
    "%%bash\n",
    "#\"docker run --rm --publish=27017:27017 --name dbms -d mongo:latest\n",
    "docker run -i --link dbms:mongo --rm mongo sh -c 'exec mongo \"$MONGO_PORT_27017_TCP_ADDR:$MONGO_PORT_27017_TCP_PORT/test\"'"
   ]
  },
  {
   "cell_type": "markdown",
   "metadata": {
    "slideshow": {
     "slide_type": "subslide"
    }
   },
   "source": [
    "## A Database Container\n",
    "\n",
    "What is the issue with such a setup?"
   ]
  },
  {
   "cell_type": "markdown",
   "metadata": {
    "slideshow": {
     "slide_type": "subslide"
    }
   },
   "source": [
    "## Containerized DB Setup for Production\n",
    "\n",
    "![](images/DB_containers_external.png)\n",
    "\n",
    "\n",
    "```bash\n",
    "$ docker run --rm -v $(pwd)/data:/data/db --publish=27017:27017 --name dbms -d mongo:latest\n",
    "$ docker run -it --link dbms:mongo --rm mongo sh -c 'exec mongo \"$MONGO_PORT_27017_TCP_ADDR:$MONGO_PORT_27017_TCP_PORT/test\"'\n",
    "```"
   ]
  },
  {
   "cell_type": "markdown",
   "metadata": {
    "slideshow": {
     "slide_type": "subslide"
    }
   },
   "source": [
    "## Containerized DB Setup for Production\n",
    "\n",
    "\n",
    "What is the advantage of such a setup?"
   ]
  },
  {
   "cell_type": "code",
   "execution_count": 1,
   "metadata": {
    "slideshow": {
     "slide_type": "fragment"
    }
   },
   "outputs": [
    {
     "data": {
      "text/plain": [
       "total 104\n",
       "-rw-r--r--@  1 rhp  staff     0 Jan 23 10:20 .gitkeep\n",
       "drwxr-xr-x  13 rhp  staff   442 Feb  2 15:39 ..\n",
       "-rw-------   1 rhp  staff   114 Feb  7 18:05 storage.bson\n",
       "-rw-------   1 rhp  staff  4096 Feb  7 18:05 sizeStorer.wt\n",
       "-rw-------   1 rhp  staff     2 Feb  7 18:05 mongod.lock\n",
       "drwx------   5 rhp  staff   170 Feb  7 18:05 journal\n",
       "-rw-------   1 rhp  staff  4096 Feb  7 18:05 index-3--7174197220278716654.wt\n",
       "-rw-------   1 rhp  staff  4096 Feb  7 18:05 index-1--7174197220278716654.wt\n",
       "-rw-------   1 rhp  staff  4096 Feb  7 18:05 collection-2--7174197220278716654.wt\n",
       "-rw-------   1 rhp  staff  4096 Feb  7 18:05 collection-0--7174197220278716654.wt\n",
       "-rw-------   1 rhp  staff  4096 Feb  7 18:05 _mdb_catalog.wt\n",
       "-rw-------   1 rhp  staff  4096 Feb  7 18:05 WiredTigerLAS.wt\n",
       "-rw-------   1 rhp  staff  4096 Feb  7 18:05 WiredTiger.wt\n",
       "-rw-------   1 rhp  staff   889 Feb  7 18:05 WiredTiger.turtle\n",
       "-rw-------   1 rhp  staff    21 Feb  7 18:05 WiredTiger.lock\n",
       "-rw-------   1 rhp  staff    45 Feb  7 18:05 WiredTiger\n",
       "drwxr-xr-x@ 18 rhp  staff   612 Feb  7 18:05 .\n",
       "drwx------   4 rhp  staff   136 Feb  7 18:05 diagnostic.data\n"
      ]
     },
     "execution_count": 1,
     "metadata": {},
     "output_type": "execute_result"
    }
   ],
   "source": [
    "%%bash\n",
    "ls -ltra ../data"
   ]
  },
  {
   "cell_type": "markdown",
   "metadata": {
    "slideshow": {
     "slide_type": "subslide"
    }
   },
   "source": [
    "## Starting a MongoDB Instance for the Lectures\n",
    "\n",
    "  * Via a container, see https://hub.docker.com/_/mongo/:\n",
    "  ```bash\n",
    "  docker run --rm --publish=27017:27017 --name dbms -d mongo:latest\n",
    "  ```\n",
    "  ```bash\n",
    "  docker run --rm -v $(pwd)/data:/data/db --publish=27017:27017 --name dbms -d mongo:latest\n",
    "  ```\n",
    "  * Installation in the provided VM, see https://github.com/datsoftlyngby/soft2019spring-databases\n",
    "  * Installation of MongoDB on the host machine, see https://docs.mongodb.com/manual/administration/install-community/\n",
    "\n"
   ]
  },
  {
   "cell_type": "markdown",
   "metadata": {
    "slideshow": {
     "slide_type": "subslide"
    }
   },
   "source": [
    "## Connecting to MongoDB\n",
    "\n",
    "  * Via a Mongo shell installed in a container: \n",
    "  ```bash\n",
    "  docker run -it --link dbms:mongo --rm mongo sh -c 'exec mongo \"$MONGO_PORT_27017_TCP_ADDR:$MONGO_PORT_27017_TCP_PORT/test\"'```\n",
    "  * Via the Mongo shell installed on a host: \n",
    "  ```bash\n",
    "  mongo --host 127.0.0.1:27017\n",
    "  ```\n",
    "  * Via the GUI client RoboMongo, see https://robomongo.org/download\n",
    "![](https://robomongo.org/static/screens-transparent-6e2a44fd.png)\n",
    "  * Via your own application, see in the end of the lecture."
   ]
  },
  {
   "cell_type": "markdown",
   "metadata": {
    "slideshow": {
     "slide_type": "slide"
    }
   },
   "source": [
    "# The MongoDB Query Language\n",
    "\n",
    "  > MongoDB queries are represented as a JSON-like structure, just like documents. To build a query, you specify a document with properties you wish the results to match. MongoDB treats each property as having an implicit boolean AND. It natively supports boolean OR queries, but you must use a special operator ($or) to achieve it. In addition to exact matches, MongoDB has operators for greater than, less than, etc.\n",
    "  >\n",
    "  > https://www.safaribooksonline.com/library/view/mongodb-and-python/9781449312817/ch02s06.html\n",
    "  \n",
    "The MongoDB documentation calls the Query Language itself _Query Documents_, see https://docs.mongodb.com/manual/tutorial/query-documents/."
   ]
  },
  {
   "cell_type": "markdown",
   "metadata": {
    "slideshow": {
     "slide_type": "subslide"
    }
   },
   "source": [
    "## Hey, I think I know everything you want to tell us here! \n",
    "\n",
    "![](http://static3.businessinsider.com/image/4fbfb86becad044879000001-506-253/suddenly-startups-have-gotten-very-boring.jpg)\n",
    "\n",
    "Cool! Then I would like you to ask for your help. I would like those who know Mongo well to check out MySQL 8.\n",
    "\n",
    "In particular:\n",
    "\n",
    "  * Figure out how to use the JSON support in MySQL 8.0\n",
    "  * Figure out how to do JSON queries\n",
    "  * Figure out how to do queries that merge SQL and JSON\n",
    "\n",
    "See:\n",
    "  * https://mysqlserverteam.com/json_table-the-best-of-both-worlds/\n",
    "  \n"
   ]
  },
  {
   "cell_type": "markdown",
   "metadata": {
    "slideshow": {
     "slide_type": "slide"
    }
   },
   "source": [
    "## Switching to a collection / Creating a new collection"
   ]
  },
  {
   "cell_type": "code",
   "execution_count": 2,
   "metadata": {
    "slideshow": {
     "slide_type": "fragment"
    }
   },
   "outputs": [
    {
     "name": "stdout",
     "output_type": "stream",
     "text": [
      "Done\n"
     ]
    }
   ],
   "source": [
    "import pymongo\n",
    "from pymongo import MongoClient\n",
    "client = MongoClient()\n",
    "db = client.testDB\n",
    "users = db.users\n",
    "print(\"Done\")"
   ]
  },
  {
   "cell_type": "markdown",
   "metadata": {
    "slideshow": {
     "slide_type": "slide"
    }
   },
   "source": [
    "## Select All Documents in a Collection\n",
    "\n",
    "To select all documents in the collection, pass an empty document as the query filter parameter to the `find` method."
   ]
  },
  {
   "cell_type": "code",
   "execution_count": 19,
   "metadata": {
    "slideshow": {
     "slide_type": "fragment"
    }
   },
   "outputs": [
    {
     "name": "stdout",
     "output_type": "stream",
     "text": [
      "{'_id': ObjectId('5c594dea3d356cc77adcbd71'),\n",
      " 'age': 22,\n",
      " 'favorites': {'cafe': ['Vaffelbageren', 'Café BoPa', 'Conditori La Glace']},\n",
      " 'username': 'Hansen'}\n",
      "{'_id': ObjectId('5c594e163d356cc77adcbd72'),\n",
      " 'age': 24,\n",
      " 'country': 'Denmark',\n",
      " 'username': 'Nielsen'}\n",
      "{'_id': ObjectId('5c5954553d356cc77adcbd73'), 'country': 'Canada'}\n"
     ]
    }
   ],
   "source": [
    "import pprint\n",
    "\n",
    "def pp(obj):\n",
    "    pprint.pprint(obj)\n",
    "    \n",
    "def ppall(col):\n",
    "    for p in col:\n",
    "        pp( p )\n",
    "ppall( users.find({} ) )"
   ]
  },
  {
   "cell_type": "markdown",
   "metadata": {
    "slideshow": {
     "slide_type": "subslide"
    }
   },
   "source": [
    "```bash\n",
    "db.users.find({})\n",
    "``` \n",
    "\n",
    "is synonymous to `db.users.find()`. \n",
    "\n",
    "However the former is more explicit and preferred.\n",
    "\n",
    "In SQL the above query correpsonds to\n",
    "\n",
    "\n",
    "```sql\n",
    "SELECT * FROM users\n",
    "```"
   ]
  },
  {
   "cell_type": "markdown",
   "metadata": {
    "slideshow": {
     "slide_type": "slide"
    }
   },
   "source": [
    "## Inserting Data\n",
    "\n",
    "To be able to query some data in the following, let's first create some in the database."
   ]
  },
  {
   "cell_type": "code",
   "execution_count": 86,
   "metadata": {},
   "outputs": [
    {
     "name": "stdout",
     "output_type": "stream",
     "text": [
      "<pymongo.results.InsertOneResult object at 0x1081a97c8>\n"
     ]
    }
   ],
   "source": [
    "res = users.insert_one({\"username\": \"Møller\", \"age\": 25})\n",
    "pp( res )"
   ]
  },
  {
   "cell_type": "code",
   "execution_count": 28,
   "metadata": {
    "slideshow": {
     "slide_type": "fragment"
    }
   },
   "outputs": [],
   "source": [
    "ppall( users.find({}) )"
   ]
  },
  {
   "cell_type": "markdown",
   "metadata": {
    "slideshow": {
     "slide_type": "slide"
    }
   },
   "source": [
    "## Deleting Documents\n",
    "\n",
    "### Delete a Single Document "
   ]
  },
  {
   "cell_type": "code",
   "execution_count": 27,
   "metadata": {},
   "outputs": [
    {
     "name": "stdout",
     "output_type": "stream",
     "text": [
      "Deleted: 6\n"
     ]
    }
   ],
   "source": [
    "res = users.delete_many({\"username\": \"Møller\"})\n",
    "print(\"Deleted: \" + str(res.deleted_count) )"
   ]
  },
  {
   "cell_type": "markdown",
   "metadata": {
    "slideshow": {
     "slide_type": "subslide"
    }
   },
   "source": [
    "### Delete all Documents of a Collection"
   ]
  },
  {
   "cell_type": "code",
   "execution_count": 37,
   "metadata": {
    "slideshow": {
     "slide_type": "fragment"
    }
   },
   "outputs": [
    {
     "data": {
      "text/plain": [
       "0"
      ]
     },
     "execution_count": 37,
     "metadata": {},
     "output_type": "execute_result"
    }
   ],
   "source": [
    "users.delete_many({}).deleted_count"
   ]
  },
  {
   "cell_type": "code",
   "execution_count": 40,
   "metadata": {
    "slideshow": {
     "slide_type": "fragment"
    }
   },
   "outputs": [],
   "source": [
    "ppall( users.find({}) )"
   ]
  },
  {
   "cell_type": "markdown",
   "metadata": {
    "slideshow": {
     "slide_type": "slide"
    }
   },
   "source": [
    "### Deleting an Entire Collection"
   ]
  },
  {
   "cell_type": "code",
   "execution_count": 45,
   "metadata": {
    "slideshow": {
     "slide_type": "-"
    }
   },
   "outputs": [],
   "source": [
    "db.users.drop()"
   ]
  },
  {
   "cell_type": "markdown",
   "metadata": {
    "slideshow": {
     "slide_type": "fragment"
    }
   },
   "source": [
    "### What is the _id field?\n",
    "\n",
    "The `_id` value can be considered a document’s primary key. Every MongoDB document requires an `_id`.\n",
    "\n",
    "If none is present at creation time, a special MongoDB ObjectID will be generated and added to the document."
   ]
  },
  {
   "cell_type": "code",
   "execution_count": 46,
   "metadata": {
    "slideshow": {
     "slide_type": "subslide"
    }
   },
   "outputs": [
    {
     "data": {
      "text/plain": [
       "ObjectId('5c594dea3d356cc77adcbd71')"
      ]
     },
     "execution_count": 46,
     "metadata": {},
     "output_type": "execute_result"
    }
   ],
   "source": [
    "res = db.users.insert_one({\"username\": \"Hansen\", \"age\": 22})\n",
    "res.inserted_id"
   ]
  },
  {
   "cell_type": "code",
   "execution_count": 48,
   "metadata": {},
   "outputs": [
    {
     "data": {
      "text/plain": [
       "<pymongo.results.InsertOneResult at 0x108149f88>"
      ]
     },
     "execution_count": 48,
     "metadata": {},
     "output_type": "execute_result"
    }
   ],
   "source": [
    "db.users.insert_one({\"username\": \"Nielsen\", \"age\": 24})"
   ]
  },
  {
   "cell_type": "code",
   "execution_count": 70,
   "metadata": {
    "slideshow": {
     "slide_type": "fragment"
    }
   },
   "outputs": [
    {
     "name": "stdout",
     "output_type": "stream",
     "text": [
      "{'_id': ObjectId('5c594dea3d356cc77adcbd71'), 'age': 22, 'username': 'Hansen'}\n",
      "{'_id': ObjectId('5c594e163d356cc77adcbd72'), 'age': 24, 'username': 'Nielsen'}\n"
     ]
    }
   ],
   "source": [
    "ppall( db.users.find({}) )"
   ]
  },
  {
   "cell_type": "code",
   "execution_count": 59,
   "metadata": {
    "slideshow": {
     "slide_type": "fragment"
    }
   },
   "outputs": [
    {
     "data": {
      "text/plain": [
       "2"
      ]
     },
     "execution_count": 59,
     "metadata": {},
     "output_type": "execute_result"
    }
   ],
   "source": [
    "users.count_documents({})"
   ]
  },
  {
   "cell_type": "markdown",
   "metadata": {
    "slideshow": {
     "slide_type": "subslide"
    }
   },
   "source": [
    "## Query Documents in a Collection\n",
    "\n",
    "### Matching Selector\n",
    "\n",
    "A query selector is a document that is used to match against all documents in the collection. \n",
    "\n",
    "It specifies the _equality condition_, i.e. fields and values, which must be equal in the documents you want to select.\n",
    "\n",
    "To specify equality conditions, use `<field>:<value>` expressions in the query selector document:\n",
    "\n",
    "```\n",
    "{ <field1>: <value1>, ... }\n",
    "```"
   ]
  },
  {
   "cell_type": "code",
   "execution_count": 64,
   "metadata": {
    "slideshow": {
     "slide_type": "subslide"
    }
   },
   "outputs": [
    {
     "name": "stdout",
     "output_type": "stream",
     "text": [
      "{'_id': ObjectId('5c594dea3d356cc77adcbd71'), 'age': 22, 'username': 'Hansen'}\n"
     ]
    }
   ],
   "source": [
    "res = users.find({\"username\": \"Hansen\"})\n",
    "ppall( res )"
   ]
  },
  {
   "cell_type": "markdown",
   "metadata": {
    "slideshow": {
     "slide_type": "fragment"
    }
   },
   "source": [
    "That query is equivalent to the following SQL query:\n",
    "\n",
    "```SQL\n",
    "SELECT * FROM users WHERE username = \"Hansen\"\n",
    "```"
   ]
  },
  {
   "cell_type": "code",
   "execution_count": 66,
   "metadata": {
    "slideshow": {
     "slide_type": "subslide"
    }
   },
   "outputs": [
    {
     "name": "stdout",
     "output_type": "stream",
     "text": [
      "{'_id': ObjectId('5c594dea3d356cc77adcbd71'), 'age': 22, 'username': 'Hansen'}\n"
     ]
    }
   ],
   "source": [
    "res = db.users.find({ \"username\": \"Hansen\",\n",
    "                \"age\" : 22 })\n",
    "ppall( res )"
   ]
  },
  {
   "cell_type": "markdown",
   "metadata": {
    "slideshow": {
     "slide_type": "subslide"
    }
   },
   "source": [
    "The matching selector with various fields and values:\n",
    "\n",
    "```javascript\n",
    "db.users.find({ username: \"Hansen\",\n",
    "                \"age\" : 22 })\n",
    "```\n",
    "\n",
    "is eqiuvalent to the following with an explicit conjunction (`$and`)."
   ]
  },
  {
   "cell_type": "code",
   "execution_count": 68,
   "metadata": {
    "slideshow": {
     "slide_type": "fragment"
    }
   },
   "outputs": [
    {
     "name": "stdout",
     "output_type": "stream",
     "text": [
      "{'_id': ObjectId('5c594dea3d356cc77adcbd71'), 'age': 22, 'username': 'Hansen'}\n"
     ]
    }
   ],
   "source": [
    "ppall( db.users.find({ \"$and\": [ { \"username\": \"Hansen\" },\n",
    "                        { \"age\": 22 } ] }) )"
   ]
  },
  {
   "cell_type": "code",
   "execution_count": 71,
   "metadata": {
    "slideshow": {
     "slide_type": "subslide"
    }
   },
   "outputs": [
    {
     "name": "stdout",
     "output_type": "stream",
     "text": [
      "{'_id': ObjectId('5c594dea3d356cc77adcbd71'), 'age': 22, 'username': 'Hansen'}\n",
      "{'_id': ObjectId('5c594e163d356cc77adcbd72'), 'age': 24, 'username': 'Nielsen'}\n"
     ]
    }
   ],
   "source": [
    "ppall( db.users.find({ \"$or\": [ { \"username\": \"Nielsen\" }, \n",
    "                       { \"username\": \"Hansen\" } ]}) )"
   ]
  },
  {
   "cell_type": "markdown",
   "metadata": {
    "slideshow": {
     "slide_type": "subslide"
    }
   },
   "source": [
    "## The `$in` Operator More Compactly as Containment Check"
   ]
  },
  {
   "cell_type": "code",
   "execution_count": 72,
   "metadata": {},
   "outputs": [
    {
     "name": "stdout",
     "output_type": "stream",
     "text": [
      "{'_id': ObjectId('5c594dea3d356cc77adcbd71'), 'age': 22, 'username': 'Hansen'}\n",
      "{'_id': ObjectId('5c594e163d356cc77adcbd72'), 'age': 24, 'username': 'Nielsen'}\n"
     ]
    }
   ],
   "source": [
    "ppall( db.users.find( \n",
    "    { \"username\": { \"$in\": [ \"Nielsen\", \"Hansen\" ] } } ) )"
   ]
  },
  {
   "cell_type": "markdown",
   "metadata": {
    "slideshow": {
     "slide_type": "subslide"
    }
   },
   "source": [
    "## Regular Expressions in Matching Queries\n",
    "\n",
    "You can use reqular expressions in you matching queries in either of the two following forms:\n",
    "\n",
    "```\n",
    "db.users.find({ username: /en$/ })\n",
    "db.users.find({ username: { $regex: \"en$\" } })\n",
    "```\n",
    "(Notice: the first form is language dependent, the last is generic)"
   ]
  },
  {
   "cell_type": "code",
   "execution_count": 77,
   "metadata": {},
   "outputs": [
    {
     "name": "stdout",
     "output_type": "stream",
     "text": [
      "{'_id': ObjectId('5c594dea3d356cc77adcbd71'), 'age': 22, 'username': 'Hansen'}\n",
      "{'_id': ObjectId('5c594e163d356cc77adcbd72'), 'age': 24, 'username': 'Nielsen'}\n"
     ]
    }
   ],
   "source": [
    "ppall( users.find({ \"username\": {\"$regex\": \"en$\"} }) )"
   ]
  },
  {
   "cell_type": "markdown",
   "metadata": {
    "slideshow": {
     "slide_type": "subslide"
    }
   },
   "source": [
    "## Range Queries\n",
    "\n",
    "The Mongo query language supports the following query operators: `$eq`, `$gt`, `$gte`, `$in`, `$lt`, `$lte`, `$ne`, `$nin`"
   ]
  },
  {
   "cell_type": "code",
   "execution_count": 78,
   "metadata": {},
   "outputs": [
    {
     "name": "stdout",
     "output_type": "stream",
     "text": [
      "{'_id': ObjectId('5c594dea3d356cc77adcbd71'), 'age': 22, 'username': 'Hansen'}\n",
      "{'_id': ObjectId('5c594e163d356cc77adcbd72'), 'age': 24, 'username': 'Nielsen'}\n"
     ]
    }
   ],
   "source": [
    "ppall( users.find( { \"username\": {\"$regex\": \"en$\"}, \n",
    "                 \"age\": { \"$lte\": 24 } } ))"
   ]
  },
  {
   "cell_type": "markdown",
   "metadata": {
    "slideshow": {
     "slide_type": "slide"
    }
   },
   "source": [
    "## Updating Documents\n",
    "\n",
    "Generally, there are two types of updates with different semantics and use cases:\n",
    "\n",
    "  * Updating a single document or many documents, i.e., modification of corresponding fields and values.\n",
    "  * Replacement of old documents with new ones.\n",
    "  \n"
   ]
  },
  {
   "cell_type": "markdown",
   "metadata": {
    "slideshow": {
     "slide_type": "subslide"
    }
   },
   "source": [
    "### Operator Update"
   ]
  },
  {
   "cell_type": "code",
   "execution_count": 82,
   "metadata": {},
   "outputs": [
    {
     "name": "stdout",
     "output_type": "stream",
     "text": [
      "{'n': 0, 'nModified': 0, 'ok': 1.0, 'updatedExisting': False}\n"
     ]
    },
    {
     "name": "stderr",
     "output_type": "stream",
     "text": [
      "/Users/kasper/anaconda3/lib/python3.7/site-packages/ipykernel_launcher.py:2: DeprecationWarning: update is deprecated. Use replace_one, update_one or update_many instead.\n",
      "  \n"
     ]
    }
   ],
   "source": [
    "res = users.update( { \"username\": \"Nielsen\" }, \n",
    "                 { \"$set\": { \"country\": \"Denmark\" } } )\n",
    "pp( res )"
   ]
  },
  {
   "cell_type": "code",
   "execution_count": 118,
   "metadata": {},
   "outputs": [
    {
     "data": {
      "text/plain": [
       "{'n': 1, 'nModified': 0, 'ok': 1.0, 'updatedExisting': True}"
      ]
     },
     "execution_count": 118,
     "metadata": {},
     "output_type": "execute_result"
    }
   ],
   "source": [
    "res = users.update_one( { \"username\": \"Nielsen\" }, \n",
    "                 { \"$set\": { \"country\": \"Denmark\" } } )\n",
    "res.raw_result"
   ]
  },
  {
   "cell_type": "code",
   "execution_count": 87,
   "metadata": {
    "slideshow": {
     "slide_type": "fragment"
    }
   },
   "outputs": [
    {
     "name": "stdout",
     "output_type": "stream",
     "text": [
      "{'_id': ObjectId('5c5954553d356cc77adcbd73'), 'age': 25, 'username': 'Møller'}\n"
     ]
    }
   ],
   "source": [
    "ppall( db.users.find({\"username\": \"Møller\"}) )"
   ]
  },
  {
   "cell_type": "markdown",
   "metadata": {
    "slideshow": {
     "slide_type": "subslide"
    }
   },
   "source": [
    "### Replacement Update"
   ]
  },
  {
   "cell_type": "code",
   "execution_count": 120,
   "metadata": {},
   "outputs": [
    {
     "name": "stdout",
     "output_type": "stream",
     "text": [
      "'n'\n",
      "'nModified'\n",
      "'ok'\n",
      "'updatedExisting'\n"
     ]
    },
    {
     "name": "stderr",
     "output_type": "stream",
     "text": [
      "/Users/kasper/anaconda3/lib/python3.7/site-packages/ipykernel_launcher.py:2: DeprecationWarning: update is deprecated. Use replace_one, update_one or update_many instead.\n",
      "  \n"
     ]
    }
   ],
   "source": [
    "ppall( users.update( { \"username\": \"Møller\" }, \n",
    "                 { \"country\": \"Canada\" } ))"
   ]
  },
  {
   "cell_type": "code",
   "execution_count": 95,
   "metadata": {
    "slideshow": {
     "slide_type": "fragment"
    }
   },
   "outputs": [
    {
     "name": "stdout",
     "output_type": "stream",
     "text": [
      "{'_id': ObjectId('5c594dea3d356cc77adcbd71'), 'age': 22, 'username': 'Hansen'}\n",
      "{'_id': ObjectId('5c594e163d356cc77adcbd72'), 'age': 24, 'username': 'Nielsen'}\n",
      "{'_id': ObjectId('5c5954553d356cc77adcbd73'), 'country': 'Canada'}\n"
     ]
    }
   ],
   "source": [
    "ppall (db.users.find( {} ) )"
   ]
  },
  {
   "cell_type": "code",
   "execution_count": 97,
   "metadata": {
    "slideshow": {
     "slide_type": "-"
    }
   },
   "outputs": [
    {
     "name": "stdout",
     "output_type": "stream",
     "text": [
      "{'_id': ObjectId('5c5954553d356cc77adcbd73'), 'country': 'Canada'}\n"
     ]
    }
   ],
   "source": [
    "ppall( users.find( { \"country\": \"Canada\" } ))"
   ]
  },
  {
   "cell_type": "markdown",
   "metadata": {
    "slideshow": {
     "slide_type": "subslide"
    }
   },
   "source": [
    "Let's add the username back to the record for our example."
   ]
  },
  {
   "cell_type": "code",
   "execution_count": 100,
   "metadata": {},
   "outputs": [
    {
     "name": "stdout",
     "output_type": "stream",
     "text": [
      "'n'\n",
      "'nModified'\n",
      "'ok'\n",
      "'updatedExisting'\n"
     ]
    },
    {
     "name": "stderr",
     "output_type": "stream",
     "text": [
      "/Users/kasper/anaconda3/lib/python3.7/site-packages/ipykernel_launcher.py:2: DeprecationWarning: update is deprecated. Use replace_one, update_one or update_many instead.\n",
      "  \n"
     ]
    }
   ],
   "source": [
    "res = db.users.update( { \"country\": \"Canada\" }, \n",
    "                 { \"$set\": { \"username\": \"Møller\" } } )\n",
    "ppall(res)"
   ]
  },
  {
   "cell_type": "code",
   "execution_count": 101,
   "metadata": {},
   "outputs": [
    {
     "name": "stdout",
     "output_type": "stream",
     "text": [
      "{'_id': ObjectId('5c5954553d356cc77adcbd73'),\n",
      " 'country': 'Canada',\n",
      " 'username': 'Møller'}\n"
     ]
    }
   ],
   "source": [
    "ppall( db.users.find( { \"country\": \"Canada\" } ) )"
   ]
  },
  {
   "cell_type": "markdown",
   "metadata": {
    "slideshow": {
     "slide_type": "subslide"
    }
   },
   "source": [
    "### Removing a field from a document\n",
    "\n",
    "Value can be removed as with the help of the `$unset` operator."
   ]
  },
  {
   "cell_type": "code",
   "execution_count": 102,
   "metadata": {},
   "outputs": [
    {
     "name": "stdout",
     "output_type": "stream",
     "text": [
      "'n'\n",
      "'nModified'\n",
      "'ok'\n",
      "'updatedExisting'\n"
     ]
    },
    {
     "name": "stderr",
     "output_type": "stream",
     "text": [
      "/Users/kasper/anaconda3/lib/python3.7/site-packages/ipykernel_launcher.py:2: DeprecationWarning: update is deprecated. Use replace_one, update_one or update_many instead.\n",
      "  \n"
     ]
    }
   ],
   "source": [
    "res = db.users.update( { \"username\": \"Møller\" }, \n",
    "                 { \"$unset\": { \"country\": 1 } } )\n",
    "ppall(res)"
   ]
  },
  {
   "cell_type": "code",
   "execution_count": 103,
   "metadata": {
    "slideshow": {
     "slide_type": "fragment"
    }
   },
   "outputs": [
    {
     "name": "stdout",
     "output_type": "stream",
     "text": [
      "{'_id': ObjectId('5c5954553d356cc77adcbd73'), 'username': 'Møller'}\n"
     ]
    }
   ],
   "source": [
    "ppall( db.users.find( { \"username\": \"Møller\" } ) )"
   ]
  },
  {
   "cell_type": "markdown",
   "metadata": {
    "slideshow": {
     "slide_type": "subslide"
    }
   },
   "source": [
    "### Complex Updates"
   ]
  },
  {
   "cell_type": "code",
   "execution_count": 104,
   "metadata": {},
   "outputs": [
    {
     "name": "stdout",
     "output_type": "stream",
     "text": [
      "'n'\n",
      "'nModified'\n",
      "'ok'\n",
      "'updatedExisting'\n"
     ]
    },
    {
     "name": "stderr",
     "output_type": "stream",
     "text": [
      "/Users/kasper/anaconda3/lib/python3.7/site-packages/ipykernel_launcher.py:5: DeprecationWarning: update is deprecated. Use replace_one, update_one or update_many instead.\n",
      "  \"\"\"\n"
     ]
    }
   ],
   "source": [
    "ppall( db.users.update( { \"username\": \"Møller\" }, \n",
    "                 {  \"$set\": {\n",
    "                      \"favorites\": { \n",
    "                        \"restaurant\": [ \"La Petanque\", \"Hija de Sanchez\" ], \n",
    "                        \"cafe\": [ \"Paludan Bog & Café\", \"Café Retro\", \"Conditori La Glace\" ] \n",
    "                      }\n",
    "                    } \n",
    "                  }))"
   ]
  },
  {
   "cell_type": "code",
   "execution_count": 105,
   "metadata": {
    "slideshow": {
     "slide_type": "fragment"
    }
   },
   "outputs": [
    {
     "name": "stdout",
     "output_type": "stream",
     "text": [
      "'n'\n",
      "'nModified'\n",
      "'ok'\n",
      "'updatedExisting'\n"
     ]
    },
    {
     "name": "stderr",
     "output_type": "stream",
     "text": [
      "/Users/kasper/anaconda3/lib/python3.7/site-packages/ipykernel_launcher.py:4: DeprecationWarning: update is deprecated. Use replace_one, update_one or update_many instead.\n",
      "  after removing the cwd from sys.path.\n"
     ]
    }
   ],
   "source": [
    "ppall(db.users.update( { \"username\": \"Hansen\" }, \n",
    "                 {  \"$set\": {\n",
    "                      \"favorites\": { \n",
    "                        \"cafe\": [ \"Vaffelbageren\", \"Café BoPa\", \"Conditori La Glace\" ] \n",
    "                      }\n",
    "                    } \n",
    "                 }))"
   ]
  },
  {
   "cell_type": "code",
   "execution_count": 106,
   "metadata": {
    "slideshow": {
     "slide_type": "subslide"
    }
   },
   "outputs": [
    {
     "name": "stdout",
     "output_type": "stream",
     "text": [
      "{'_id': ObjectId('5c594dea3d356cc77adcbd71'),\n",
      " 'age': 22,\n",
      " 'favorites': {'cafe': ['Vaffelbageren', 'Café BoPa', 'Conditori La Glace']},\n",
      " 'username': 'Hansen'}\n",
      "{'_id': ObjectId('5c594e163d356cc77adcbd72'), 'age': 24, 'username': 'Nielsen'}\n",
      "{'_id': ObjectId('5c5954553d356cc77adcbd73'),\n",
      " 'favorites': {'cafe': ['Paludan Bog & Café',\n",
      "                        'Café Retro',\n",
      "                        'Conditori La Glace'],\n",
      "               'restaurant': ['La Petanque', 'Hija de Sanchez']},\n",
      " 'username': 'Møller'}\n"
     ]
    }
   ],
   "source": [
    "ppall(db.users.find({}))"
   ]
  },
  {
   "cell_type": "code",
   "execution_count": 111,
   "metadata": {
    "slideshow": {
     "slide_type": "subslide"
    }
   },
   "outputs": [
    {
     "name": "stdout",
     "output_type": "stream",
     "text": [
      "{'_id': ObjectId('5c594dea3d356cc77adcbd71'),\n",
      " 'age': 22,\n",
      " 'favorites': {'cafe': ['Vaffelbageren', 'Café BoPa', 'Conditori La Glace']},\n",
      " 'username': 'Hansen'}\n",
      "{'_id': ObjectId('5c5954553d356cc77adcbd73'),\n",
      " 'favorites': {'cafe': ['Paludan Bog & Café',\n",
      "                        'Café Retro',\n",
      "                        'Conditori La Glace',\n",
      "                        'Lagkagehuset'],\n",
      "               'restaurant': ['La Petanque', 'Hija de Sanchez']},\n",
      " 'username': 'Møller'}\n"
     ]
    }
   ],
   "source": [
    "ppall(users.find( { \"favorites.cafe\": \"Conditori La Glace\" } ))"
   ]
  },
  {
   "cell_type": "markdown",
   "metadata": {
    "slideshow": {
     "slide_type": "subslide"
    }
   },
   "source": [
    "#### Adding Elements to Nested Sets\n",
    "\n",
    "Suppose we know that any user who likes _Café Retro_ also likes _Lagkagehuset_ and that our database shall reflect this fact.\n",
    "\n",
    "##### What does the `false`and the `true` mean?\n",
    "\n",
    "```javascript\n",
    "> db.users.update\n",
    "function (query, obj, upsert, multi) {\n",
    "...\n",
    "}\n",
    "```\n",
    "(`Upsert` - An operation that inserts rows into a database table if they do not already exist, or updates them if they do`)"
   ]
  },
  {
   "cell_type": "code",
   "execution_count": 110,
   "metadata": {
    "slideshow": {
     "slide_type": "fragment"
    }
   },
   "outputs": [
    {
     "name": "stdout",
     "output_type": "stream",
     "text": [
      "'n'\n",
      "'nModified'\n",
      "'ok'\n",
      "'updatedExisting'\n"
     ]
    },
    {
     "name": "stderr",
     "output_type": "stream",
     "text": [
      "/Users/kasper/anaconda3/lib/python3.7/site-packages/ipykernel_launcher.py:3: DeprecationWarning: update is deprecated. Use replace_one, update_one or update_many instead.\n",
      "  This is separate from the ipykernel package so we can avoid doing imports until\n"
     ]
    }
   ],
   "source": [
    "ppall( db.users.update( { \"favorites.cafe\": \"Café Retro\" }, \n",
    "                 { \"$addToSet\": { \"favorites.cafe\": \"Lagkagehuset\" } }, \n",
    "                 False, True))"
   ]
  },
  {
   "cell_type": "markdown",
   "metadata": {
    "slideshow": {
     "slide_type": "slide"
    }
   },
   "source": [
    "# Querying with Indexes\n",
    "\n",
    "Let's start with creating a large collection of numbers.\n",
    "\n",
    "You know Javascript. How do I specify a loop from `0` to `20000` in Javascript?"
   ]
  },
  {
   "cell_type": "code",
   "execution_count": 127,
   "metadata": {},
   "outputs": [
    {
     "name": "stdout",
     "output_type": "stream",
     "text": [
      "None\n"
     ]
    }
   ],
   "source": [
    "res = db.numbers.drop()\n",
    "pp(res)"
   ]
  },
  {
   "cell_type": "code",
   "execution_count": 128,
   "metadata": {
    "slideshow": {
     "slide_type": "fragment"
    }
   },
   "outputs": [],
   "source": [
    "for i in range(0,20000): \n",
    "    db.numbers.insert_one( { \"num\": i } ); "
   ]
  },
  {
   "cell_type": "code",
   "execution_count": 125,
   "metadata": {},
   "outputs": [
    {
     "data": {
      "text/plain": [
       "20000"
      ]
     },
     "execution_count": 125,
     "metadata": {},
     "output_type": "execute_result"
    }
   ],
   "source": [
    "db.numbers.count_documents({})"
   ]
  },
  {
   "cell_type": "code",
   "execution_count": 135,
   "metadata": {
    "slideshow": {
     "slide_type": "subslide"
    }
   },
   "outputs": [
    {
     "name": "stdout",
     "output_type": "stream",
     "text": [
      "{'_id': ObjectId('5c59610c3d356cc77add0b94'), 'num': 0}\n",
      "{'_id': ObjectId('5c59610c3d356cc77add0b95'), 'num': 1}\n",
      "{'_id': ObjectId('5c59610c3d356cc77add0b96'), 'num': 2}\n",
      "{'_id': ObjectId('5c59610c3d356cc77add0b97'), 'num': 3}\n",
      "{'_id': ObjectId('5c59610c3d356cc77add0b98'), 'num': 4}\n"
     ]
    }
   ],
   "source": [
    "res = db.numbers.find( {} )\n",
    "ppall( res.limit(5) )"
   ]
  },
  {
   "cell_type": "code",
   "execution_count": 137,
   "metadata": {
    "slideshow": {
     "slide_type": "subslide"
    }
   },
   "outputs": [
    {
     "name": "stdout",
     "output_type": "stream",
     "text": [
      "{'_id': ObjectId('5c59610c3d356cc77add0ba9'), 'num': 21}\n",
      "{'_id': ObjectId('5c59610c3d356cc77add0baa'), 'num': 22}\n",
      "{'_id': ObjectId('5c59610c3d356cc77add0bab'), 'num': 23}\n",
      "{'_id': ObjectId('5c59610c3d356cc77add0bac'), 'num': 24}\n"
     ]
    }
   ],
   "source": [
    "ppall( db.numbers.find( { \"num\": { \"$gt\": 20, \"$lt\": 25 } } ) )"
   ]
  },
  {
   "cell_type": "markdown",
   "metadata": {
    "slideshow": {
     "slide_type": "subslide"
    }
   },
   "source": [
    "## Execution Statistics\n",
    "\n",
    "When any database receives a query, it must plan out how to execute it. This is called a _query plan_.\n",
    "\n",
    "The `explain` method describes query paths and allows developers to diagnose slow operations by determining which indexes a query has used."
   ]
  },
  {
   "cell_type": "code",
   "execution_count": 141,
   "metadata": {},
   "outputs": [
    {
     "data": {
      "text/plain": [
       "{'executionSuccess': True,\n",
       " 'nReturned': 4,\n",
       " 'executionTimeMillis': 10,\n",
       " 'totalKeysExamined': 0,\n",
       " 'totalDocsExamined': 20000,\n",
       " 'executionStages': {'stage': 'COLLSCAN',\n",
       "  'filter': {'num': {'$gt': 19995}},\n",
       "  'nReturned': 4,\n",
       "  'executionTimeMillisEstimate': 0,\n",
       "  'works': 20002,\n",
       "  'advanced': 4,\n",
       "  'needTime': 19997,\n",
       "  'needYield': 0,\n",
       "  'saveState': 156,\n",
       "  'restoreState': 156,\n",
       "  'isEOF': 1,\n",
       "  'invalidates': 0,\n",
       "  'direction': 'forward',\n",
       "  'docsExamined': 20000},\n",
       " 'allPlansExecution': []}"
      ]
     },
     "execution_count": 141,
     "metadata": {},
     "output_type": "execute_result"
    }
   ],
   "source": [
    "db.numbers.find( { \n",
    "                   \"num\": { \n",
    "                     \"$gt\": 19995 \n",
    "                   } \n",
    "                 } ).explain()[\"executionStats\"]"
   ]
  },
  {
   "cell_type": "markdown",
   "metadata": {
    "slideshow": {
     "slide_type": "subslide"
    }
   },
   "source": [
    "## Creating an Index in MongoDB\n",
    "\n",
    "On top of the indexes that you create manually, every collection in MongoDB has an index on the `_id` field, which is created automatically for every collection.\n",
    "\n",
    "MongoDB indexes use a _B-tree_ data structure. We will return to this datastructure later."
   ]
  },
  {
   "cell_type": "code",
   "execution_count": 145,
   "metadata": {
    "slideshow": {
     "slide_type": "fragment"
    }
   },
   "outputs": [
    {
     "data": {
      "text/plain": [
       "'num_1'"
      ]
     },
     "execution_count": 145,
     "metadata": {},
     "output_type": "execute_result"
    }
   ],
   "source": [
    "db.numbers.create_index( \"num\" )"
   ]
  },
  {
   "cell_type": "code",
   "execution_count": 147,
   "metadata": {
    "slideshow": {
     "slide_type": "fragment"
    }
   },
   "outputs": [
    {
     "name": "stdout",
     "output_type": "stream",
     "text": [
      "{'key': SON([('_id', 1)]),\n",
      " 'name': '_id_',\n",
      " 'ns': 'testDB.numbers',\n",
      " 'v': 2}\n",
      "{'key': SON([('num', 1)]),\n",
      " 'name': 'num_1',\n",
      " 'ns': 'testDB.numbers',\n",
      " 'v': 2}\n"
     ]
    }
   ],
   "source": [
    "ppall( db.numbers.list_indexes()) # getIndexes"
   ]
  },
  {
   "cell_type": "code",
   "execution_count": 148,
   "metadata": {
    "slideshow": {
     "slide_type": "subslide"
    }
   },
   "outputs": [
    {
     "data": {
      "text/plain": [
       "{'executionSuccess': True,\n",
       " 'nReturned': 4,\n",
       " 'executionTimeMillis': 5,\n",
       " 'totalKeysExamined': 4,\n",
       " 'totalDocsExamined': 4,\n",
       " 'executionStages': {'stage': 'FETCH',\n",
       "  'nReturned': 4,\n",
       "  'executionTimeMillisEstimate': 0,\n",
       "  'works': 5,\n",
       "  'advanced': 4,\n",
       "  'needTime': 0,\n",
       "  'needYield': 0,\n",
       "  'saveState': 0,\n",
       "  'restoreState': 0,\n",
       "  'isEOF': 1,\n",
       "  'invalidates': 0,\n",
       "  'docsExamined': 4,\n",
       "  'alreadyHasObj': 0,\n",
       "  'inputStage': {'stage': 'IXSCAN',\n",
       "   'nReturned': 4,\n",
       "   'executionTimeMillisEstimate': 0,\n",
       "   'works': 5,\n",
       "   'advanced': 4,\n",
       "   'needTime': 0,\n",
       "   'needYield': 0,\n",
       "   'saveState': 0,\n",
       "   'restoreState': 0,\n",
       "   'isEOF': 1,\n",
       "   'invalidates': 0,\n",
       "   'keyPattern': {'num': 1},\n",
       "   'indexName': 'num_1',\n",
       "   'isMultiKey': False,\n",
       "   'multiKeyPaths': {'num': []},\n",
       "   'isUnique': False,\n",
       "   'isSparse': False,\n",
       "   'isPartial': False,\n",
       "   'indexVersion': 2,\n",
       "   'direction': 'forward',\n",
       "   'indexBounds': {'num': ['(19995, inf.0]']},\n",
       "   'keysExamined': 4,\n",
       "   'seeks': 1,\n",
       "   'dupsTested': 0,\n",
       "   'dupsDropped': 0,\n",
       "   'seenInvalidated': 0}},\n",
       " 'allPlansExecution': []}"
      ]
     },
     "execution_count": 148,
     "metadata": {},
     "output_type": "execute_result"
    }
   ],
   "source": [
    "db.numbers.find( { \n",
    "                   \"num\": { \n",
    "                     \"$gt\": 19995 \n",
    "                   } \n",
    "                 } ).explain()[\"executionStats\"]"
   ]
  },
  {
   "cell_type": "code",
   "execution_count": 149,
   "metadata": {
    "slideshow": {
     "slide_type": "subslide"
    }
   },
   "outputs": [],
   "source": [
    "for i in range(20000,50000): \n",
    "    db.numbers.insert_one( { \"num\": i } ); \n",
    "    "
   ]
  },
  {
   "cell_type": "code",
   "execution_count": 153,
   "metadata": {},
   "outputs": [
    {
     "name": "stdout",
     "output_type": "stream",
     "text": [
      "{'_id': ObjectId('5c59679c3d356cc77addcee0'), 'num': 49996}\n",
      "{'_id': ObjectId('5c59679c3d356cc77addcee1'), 'num': 49997}\n",
      "{'_id': ObjectId('5c59679c3d356cc77addcee2'), 'num': 49998}\n",
      "{'_id': ObjectId('5c59679c3d356cc77addcee3'), 'num': 49999}\n"
     ]
    }
   ],
   "source": [
    "ppall(db.numbers.find( { \n",
    "                   \"num\": { \n",
    "                     \"$gt\": 49995 \n",
    "                   } \n",
    "                 } ))"
   ]
  },
  {
   "cell_type": "markdown",
   "metadata": {
    "slideshow": {
     "slide_type": "slide"
    }
   },
   "source": [
    "# Connect to MongoDB from a Java Maven Project\n",
    "\n",
    "https://mongodb.github.io/mongo-java-driver/3.0/driver/getting-started/installation-guide/\n",
    "\n",
    "```xml\n",
    "<dependency>\n",
    "    <groupId>org.mongodb</groupId>\n",
    "    <artifactId>mongodb-driver</artifactId>\n",
    "    <version>3.9.1</version>\n",
    "</dependency>\n",
    "```"
   ]
  },
  {
   "cell_type": "markdown",
   "metadata": {
    "slideshow": {
     "slide_type": "subslide"
    }
   },
   "source": [
    "Based on https://mongodb.github.io/mongo-java-driver/3.0/driver/getting-started/quick-tour/\n",
    "\n",
    "```java\n",
    "package dk.cphbusiness.db.meassurements;\n",
    "\n",
    "import com.mongodb.MongoClient;\n",
    "import com.mongodb.MongoClientURI;\n",
    "import com.mongodb.client.MongoCollection;\n",
    "import com.mongodb.client.MongoDatabase;\n",
    "import org.bson.Document;\n",
    "\n",
    "public class MongoTest {\n",
    "\n",
    "    public static void main(String[] args) {\n",
    "        MongoClientURI connStr = new MongoClientURI(\"mongodb://localhost:27017\");\n",
    "        MongoClient mongoClient = new MongoClient(connStr);\n",
    "\n",
    "        MongoDatabase db = mongoClient.getDatabase(\"test-database\");\n",
    "        MongoCollection<Document> collection = db.getCollection(\"tweets\");\n",
    "\n",
    "        Document myDoc = collection.find().first();\n",
    "        System.out.println(myDoc.toJson());\n",
    "    }\n",
    "}\n",
    "```"
   ]
  },
  {
   "cell_type": "markdown",
   "metadata": {
    "slideshow": {
     "slide_type": "slide"
    }
   },
   "source": [
    "# Importing Data\n",
    "\n",
    "You can either write a program which inserts documents into a database or you use MongoDB's CLI import tool.\n",
    "\n",
    "```bash\n",
    "mongoimport --drop --db social_net --collection tweets --type csv --headerline --file testdata.manual.2009.06.14.csv\n",
    "```\n"
   ]
  },
  {
   "cell_type": "code",
   "execution_count": 155,
   "metadata": {
    "slideshow": {
     "slide_type": "subslide"
    }
   },
   "outputs": [
    {
     "name": "stderr",
     "output_type": "stream",
     "text": [
      "bash: line 1: mongoimport: command not found\n"
     ]
    }
   ],
   "source": [
    "%%bash\n",
    "mongoimport --help"
   ]
  },
  {
   "cell_type": "code",
   "execution_count": 13,
   "metadata": {},
   "outputs": [
    {
     "data": {
      "text/plain": [
       "'all dropped'"
      ]
     },
     "execution_count": 13,
     "metadata": {},
     "output_type": "execute_result"
    }
   ],
   "source": [
    "db.books.drop()\n",
    "\"all dropped\""
   ]
  },
  {
   "cell_type": "code",
   "execution_count": 14,
   "metadata": {},
   "outputs": [
    {
     "data": {
      "text/plain": [
       "431"
      ]
     },
     "execution_count": 14,
     "metadata": {},
     "output_type": "execute_result"
    }
   ],
   "source": [
    "from urllib.request import urlopen\n",
    "import json\n",
    "from bson.json_util import loads\n",
    "\n",
    "link = \"https://raw.githubusercontent.com/ozlerhakan/mongodb-json-files/master/datasets/catalog.books.json\"\n",
    "f = urlopen(link)\n",
    "myfile = f.read()\n",
    "allBooks = myfile.decode(\"utf-8\")\n",
    "count = 0\n",
    "for line in allBooks.splitlines():\n",
    "    jsonbook = loads(line)\n",
    "    #print( str(count) +\": \" + str(jsonbook) )\n",
    "    db.books.insert_one(jsonbook)\n",
    "    count = count + 1\n",
    "db.books.count_documents({})"
   ]
  },
  {
   "cell_type": "code",
   "execution_count": 23,
   "metadata": {},
   "outputs": [
    {
     "name": "stdout",
     "output_type": "stream",
     "text": [
      "{'authors': ['W. Frank Ableson', 'Charlie Collins', 'Robi Sen'],\n",
      " 'title': 'Unlocking Android'}\n",
      "{'authors': ['W. Frank Ableson', 'Robi Sen'],\n",
      " 'title': 'Android in Action, Second Edition'}\n",
      "{'authors': ['Charlie Collins', 'Michael D. Galpin', '', 'Matthias Kaeppler'],\n",
      " 'title': 'Android in Practice'}\n",
      "{'authors': ['Matthias Kaeppler', 'Michael D. Galpin', 'Charlie Collins'],\n",
      " 'title': 'Android in Practice'}\n",
      "{'authors': ['W. Frank Ableson', 'Robi Sen', 'Chris King', 'C. Enrique Ortiz'],\n",
      " 'title': 'Android in Action, Third Edition'}\n",
      "{'authors': ['Carlos M. Sessa'], 'title': '50 Android Hacks'}\n"
     ]
    }
   ],
   "source": [
    "ppall(db.books.find( {\"title\": {\"$regex\": \"Android\"}}, \n",
    "                    {\"title\":1, \"authors\":1, \"_id\":0}) ) # project "
   ]
  },
  {
   "cell_type": "markdown",
   "metadata": {
    "slideshow": {
     "slide_type": "slide"
    }
   },
   "source": [
    "# Your turn at home!\n",
    "\n",
    "\n",
    "## Assignment 2 - Analysis of Twitter Data\n",
    "\n",
    "Your task is to implement a small database application, which imports a dataset of Twitter tweets from the CSV file into database.\n",
    "\n",
    "Your application has to be able to answer queries corresponding to the following questions:\n",
    "\n",
    "  1. How many Twitter users are in the database?\n",
    "  2. Which Twitter users link the most to other Twitter users? (Provide the top ten.)\n",
    "  * Who is are the most mentioned Twitter users? (Provide the top five.)\n",
    "  * Who are the most active Twitter users (top ten)?\n",
    "  * Who are the five most grumpy (most negative tweets) and the most happy (most positive tweets)? (Provide five users for each group)\n",
    "\n",
    "Your application can be written in the language of your choice. It must have a form of UI but it is not important if it is an API, a CLI UI, a GUI, or a Web-based UI.\n",
    "\n",
    "You present your system's answers to the questions above in a Markdown file on your Github account. That is, you hand in this assignment via Github, with one hand-in per group. Push your solution, source, code, and presentation of the results to a Github repository per group and push a link to your solution in the  hand-in area.\n",
    "\n",
    "\n",
    "## Hints\n",
    "\n",
    "You can download and uncompress a dataset of Twitter tweets from http://help.sentiment140.com/for-students/.\n",
    "\n",
    "\n",
    "Connect to your Docker container running the MongoDB DBMS.\n",
    "\n",
    "```bash\n",
    "$ docker run --rm -v $(pwd)/data:/data/db --publish=27017:27017 --name dbms -d mongo\n",
    "88385afac5fe88a5ba47cd60c084bc1855cae6089a7e7d95ba24f0ba6fea1404\n",
    "$ docker exec -it 88385afa bash\n",
    "```\n",
    "\n",
    "On that container install `wget` and `unzip`. **Note**: everything from here on, is a generic description for how to work on a Linux with the `apt` package manager, such as Ubuntu, Debian, etc.\n",
    "\n",
    "```bash\n",
    "root@88385afac5fe:/$ apt-get update\n",
    "root@88385afac5fe:/$ apt-get install -y wget, unzip\n",
    "```\n",
    "\n",
    "Continue with downloading the data\n",
    "\n",
    "```bash\n",
    "root@88385afac5fe:/$ wget http://cs.stanford.edu/people/alecmgo/trainingandtestdata.zip\n",
    "```\n",
    "\n",
    "In your VM the unzip package is not installed by default. \n",
    "\n",
    "Now you can uncompress the Twitter dataset to your current directory with:\n",
    "\n",
    "```bash\n",
    "root@88385afac5fe:/$ unzip trainingandtestdata.zip\n",
    "```\n",
    "\n",
    "After uncompression you will have a folder with two files. For your exercise you will use the bigger one training.1600000.processed.noemoticon.csv. However, both files are CSV files, which do not contain a header row. The documentation on http://help.sentiment140.com/for-students/ says that the columns contain the following.\n",
    "\n",
    "  > The data is a CSV with emoticons removed. Data file format has 6 fields:\n",
    "  > 0 - the polarity of the tweet (0 = negative, 2 = neutral, 4 = positive)\n",
    "  > 1 - the id of the tweet (2087)\n",
    "  > 2 - the date of the tweet (Sat May 16 23:58:44 UTC 2009)\n",
    "  > 3 - the query (lyx). If there is no query, then this value is NO_QUERY.\n",
    "  > 4 - the user that tweeted (robotickilldozr)\n",
    "  > 5 - the text of the tweet (Lyx is cool)\n",
    "\n",
    "To make use of the `--headerline` switch when importing the data with mongoimport, we add a headerline accordingly:\n",
    "\n",
    "```bash\n",
    "root@88385afac5fe:/# sed -i '1s;^;polarity,id,date,query,user,text\\n;' training.1600000.processed.noemoticon.csv\n",
    "```\n",
    "\n",
    "That leads to that the fields of our documents are named according to the given headerfields.\n",
    "After importing the dataset, the dates are represented as strings instead of proper date objects. You might want to convert them with the following code:\n",
    "\n",
    "```javascript\n",
    "db.tweets.find().forEach(function(doc){\n",
    "    if (doc.date instanceof Date !== true) {\n",
    "        doc.date = new Date(doc.date);\n",
    "        db.tweets.save(doc);\n",
    "    }\n",
    "});\n",
    "```\n",
    "\n",
    "For some of the questions, you might want to have a look into MongoDB's aggregation framework and queries using regular expressions. For example, the following query finds all tweets mentioning another Twitter user.\n",
    "\n",
    "```\n",
    "db.tweets.aggregate(\n",
    "    {$match:{text:/@\\w+\\/}},\n",
    "    {$group:{_id:null,text:{$push:\"$text\"}}\n",
    "})\n",
    "```\n",
    "\n",
    "\n",
    "## Hand-in procedure\n",
    "\n",
    "  * Provide all code and documentation for this assignment in a repository on Github.\n",
    "  * Create a Markdown (.md) file called README.md in the root of your project.\n",
    "  * That README.md describes what this project does and how to make it work. That is, you reviewer has to be able to clone your project, build it -you have to define steps for how to do that and what dependencies are required-, and use it.\n",
    "  * A presentation of your system's reply to the **five** queries above.\n",
    "  * Hand-in a link to your repository on www.peergrade.io.\n",
    "  * Hand-in at latest on 10. Feb. 16:00.\n",
    "  \n",
    "## Review procedure\n",
    "\n",
    "  * Log onto www.peergrade.io with your school email addresss.\n",
    "  * Finish your review on www.peergrade.io at latest on 12. Feb. 23:00\n",
    "  * Make use of the review criteria in peergrade giving feedback.\n",
    "\n"
   ]
  },
  {
   "cell_type": "markdown",
   "metadata": {
    "slideshow": {
     "slide_type": "slide"
    }
   },
   "source": [
    "# Video\n",
    "\n",
    "  * https://www.youtube.com/watch?v=1sLjWlWvCsc\n",
    "\n",
    "# Literature\n",
    "\n",
    "  * http://www.redbook.io/pdf/redbook-5th-edition.pdf\n",
    "  * http://15721.courses.cs.cmu.edu/spring2016/papers/whatgoesaround-stonebraker.pdf\n",
    "  * https://docs.mongodb.com/manual/tutorial/query-documents/\n",
    "  * https://docs.mongodb.com/manual/reference/\n",
    "  \n",
    "  * https://docs.mongodb.com/manual/indexes/\n",
    "  * https://docs.mongodb.com/manual/reference/program/mongoimport/\n"
   ]
  }
 ],
 "metadata": {
  "celltoolbar": "Slideshow",
  "kernelspec": {
   "display_name": "Python 3",
   "language": "python",
   "name": "python3"
  },
  "language_info": {
   "codemirror_mode": {
    "name": "ipython",
    "version": 3
   },
   "file_extension": ".py",
   "mimetype": "text/x-python",
   "name": "python",
   "nbconvert_exporter": "python",
   "pygments_lexer": "ipython3",
   "version": "3.7.0"
  }
 },
 "nbformat": 4,
 "nbformat_minor": 2
}
