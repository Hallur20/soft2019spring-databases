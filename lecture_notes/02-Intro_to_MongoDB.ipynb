{
 "cells": [
  {
   "cell_type": "markdown",
   "metadata": {
    "slideshow": {
     "slide_type": "slide"
    }
   },
   "source": [
    "# Data Models\n",
    "\n",
    "\n",
    "  > Data models are perhaps the most important part of developing software, because they have such a profound effect: not only on how the software is written, but also on how we think about the problem that we are solving.\n",
    "  >\n",
    "  > Martin Kleppmann, _Designing Data-Intensive Applications"
   ]
  },
  {
   "cell_type": "markdown",
   "metadata": {
    "collapsed": true,
    "slideshow": {
     "slide_type": "subslide"
    }
   },
   "source": [
    "## What was the Data Model in the Last Lecture and Exercise?"
   ]
  },
  {
   "cell_type": "markdown",
   "metadata": {
    "slideshow": {
     "slide_type": "subslide"
    }
   },
   "source": [
    "## Information Management System (IMS) - Hierarchical Data Model\n",
    "\n",
    "  > IBM Information Management System (IMS) is a joint hierarchical database and information management system...\n",
    "  >\n",
    "  > The first \"IMS READY\" message appeared on an IBM 2740 terminal in Downey, California, on 14 August 1968.\n",
    "  > \n",
    "  > https://en.wikipedia.org/wiki/IBM_Information_Management_System\n",
    "  \n",
    "It is still in use and sold today: https://www.ibm.com/support/knowledgecenter/zosbasics/com.ibm.imsintro.doc.intro/ip0ind0011003584.htm"
   ]
  },
  {
   "cell_type": "markdown",
   "metadata": {
    "slideshow": {
     "slide_type": "subslide"
    }
   },
   "source": [
    "## Hierarchical Data Model\n",
    "\n",
    "![](https://www.tutorialspoint.com/ims_db/images/random_processing.png)\n",
    "https://www.tutorialspoint.com/ims_db/ims_db_dli_processing.htm"
   ]
  },
  {
   "cell_type": "markdown",
   "metadata": {
    "slideshow": {
     "slide_type": "subslide"
    }
   },
   "source": [
    "## The Document Data Model\n",
    "\n",
    "\n",
    "A document is essentially a set of property names and their values. The values can be simple data types, such as strings, numbers, and dates. But these values can also be arrays and even other documents."
   ]
  },
  {
   "cell_type": "markdown",
   "metadata": {
    "slideshow": {
     "slide_type": "fragment"
    }
   },
   "source": [
    "```javascript\n",
    "{\n",
    "  _id: ObjectID('4bd9e8e17cefd644108961bb'),     // _id field, primary key\n",
    "  title: 'Adventures in Databases',\n",
    "  url: 'http://example.com/databases.txt',\n",
    "  author: 'msmith',\n",
    "  vote_count: 20,\n",
    "  tags: ['databases', 'mongodb', 'indexing'],    // Tags stored as array of strings\n",
    "  image: {                                       // Attribute pointing to another document\n",
    "    url: 'http://example.com/db.jpg',\n",
    "    caption: 'A database.',\n",
    "    type: 'jpg',\n",
    "    size: 75381,\n",
    "    data: 'Binary'\n",
    "  },\n",
    "  comments: [                                    // Comments stored as array of comment objects\n",
    "    {\n",
    "      user: 'bjones',\n",
    "      text: 'Interesting article.'\n",
    "    },\n",
    "    {\n",
    "      user: 'sverch',\n",
    "      text: 'Color me skeptical!'\n",
    "    }\n",
    "  ]\n",
    "}\n",
    "```\n",
    "\n",
    "Note, a JSON document needs double quotes everywhere except for numeric values. The listing shows the JavaScript version of a JSON document. Internally, MongoDB stores documents in a format called _Binary JSON_, or **BSON**."
   ]
  },
  {
   "cell_type": "markdown",
   "metadata": {
    "slideshow": {
     "slide_type": "subslide"
    }
   },
   "source": [
    "## The Document Data Model in MongoDB\n",
    "\n",
    "On top of documents, MongoDB has the concept of _collections_. _Collections_ can be considered as grouped _documents_.\n",
    "\n",
    "_Collections_ are similar to tables in the relational world.\n",
    "\n",
    "The document-oriented data model naturally represents data in an aggregate form, allowing you to work with an object holistically."
   ]
  },
  {
   "cell_type": "markdown",
   "metadata": {
    "slideshow": {
     "slide_type": "subslide"
    }
   },
   "source": [
    "## The Object-Relational Mismatch\n",
    "\n",
    "![](http://www.agiledata.org/images/impedanceMismatchClassDiagram.gif)\n",
    "\n",
    "![](http://www.agiledata.org/images/impedanceMismatchPDM.gif)\n",
    "\n",
    "http://www.agiledata.org/essays/impedanceMismatch.html"
   ]
  },
  {
   "cell_type": "markdown",
   "metadata": {
    "slideshow": {
     "slide_type": "slide"
    }
   },
   "source": [
    "# Architecture of Databases System for Teaching"
   ]
  },
  {
   "cell_type": "markdown",
   "metadata": {
    "slideshow": {
     "slide_type": "subslide"
    }
   },
   "source": [
    "## A Database Container\n",
    "\n",
    "![](images/DB_containers_internal.png)\n",
    "\n",
    "```bash\n",
    "$ docker run --rm --publish=27017:27017 --name dbms -d mongo:latest\n",
    "$ docker run -it --link dbms:mongo --rm mongo sh -c 'exec mongo \"$MONGO_PORT_27017_TCP_ADDR:$MONGO_PORT_27017_TCP_PORT/test\"'\n",
    "```\n",
    "\n",
    "\n",
    "**OBS** Do not do this in production. This is a setup that we will use for experimentation only!"
   ]
  },
  {
   "cell_type": "markdown",
   "metadata": {
    "slideshow": {
     "slide_type": "subslide"
    }
   },
   "source": [
    "## A Database Container\n",
    "\n",
    "What is the issue with such a setup?"
   ]
  },
  {
   "cell_type": "markdown",
   "metadata": {
    "slideshow": {
     "slide_type": "subslide"
    }
   },
   "source": [
    "## Containerized DB Setup for Production\n",
    "\n",
    "![](images/DB_containers_external.png)\n",
    "\n",
    "\n",
    "```bash\n",
    "$ docker run --rm -v $(pwd)/data:/data/db --publish=27017:27017 --name dbms -d mongo:latest\n",
    "$ docker run -it --link dbms:mongo --rm mongo sh -c 'exec mongo \"$MONGO_PORT_27017_TCP_ADDR:$MONGO_PORT_27017_TCP_PORT/test\"'\n",
    "```"
   ]
  },
  {
   "cell_type": "markdown",
   "metadata": {
    "slideshow": {
     "slide_type": "subslide"
    }
   },
   "source": [
    "## Containerized DB Setup for Production\n",
    "\n",
    "\n",
    "What is the advantage of such a setup?"
   ]
  },
  {
   "cell_type": "code",
   "execution_count": 1,
   "metadata": {
    "slideshow": {
     "slide_type": "fragment"
    }
   },
   "outputs": [
    {
     "data": {
      "text/plain": [
       "total 104\n",
       "-rw-r--r--@  1 rhp  staff     0 Jan 23 10:20 .gitkeep\n",
       "drwxr-xr-x  13 rhp  staff   442 Feb  2 15:39 ..\n",
       "-rw-------   1 rhp  staff   114 Feb  7 18:05 storage.bson\n",
       "-rw-------   1 rhp  staff  4096 Feb  7 18:05 sizeStorer.wt\n",
       "-rw-------   1 rhp  staff     2 Feb  7 18:05 mongod.lock\n",
       "drwx------   5 rhp  staff   170 Feb  7 18:05 journal\n",
       "-rw-------   1 rhp  staff  4096 Feb  7 18:05 index-3--7174197220278716654.wt\n",
       "-rw-------   1 rhp  staff  4096 Feb  7 18:05 index-1--7174197220278716654.wt\n",
       "-rw-------   1 rhp  staff  4096 Feb  7 18:05 collection-2--7174197220278716654.wt\n",
       "-rw-------   1 rhp  staff  4096 Feb  7 18:05 collection-0--7174197220278716654.wt\n",
       "-rw-------   1 rhp  staff  4096 Feb  7 18:05 _mdb_catalog.wt\n",
       "-rw-------   1 rhp  staff  4096 Feb  7 18:05 WiredTigerLAS.wt\n",
       "-rw-------   1 rhp  staff  4096 Feb  7 18:05 WiredTiger.wt\n",
       "-rw-------   1 rhp  staff   889 Feb  7 18:05 WiredTiger.turtle\n",
       "-rw-------   1 rhp  staff    21 Feb  7 18:05 WiredTiger.lock\n",
       "-rw-------   1 rhp  staff    45 Feb  7 18:05 WiredTiger\n",
       "drwxr-xr-x@ 18 rhp  staff   612 Feb  7 18:05 .\n",
       "drwx------   4 rhp  staff   136 Feb  7 18:05 diagnostic.data\n"
      ]
     },
     "execution_count": 1,
     "metadata": {},
     "output_type": "execute_result"
    }
   ],
   "source": [
    "%%bash\n",
    "ls -ltra ../data"
   ]
  },
  {
   "cell_type": "markdown",
   "metadata": {
    "slideshow": {
     "slide_type": "subslide"
    }
   },
   "source": [
    "## Starting a MongoDB Instance for the Lectures\n",
    "\n",
    "  * Via a container, see https://hub.docker.com/_/mongo/:\n",
    "  ```bash\n",
    "  docker run --rm --publish=27017:27017 --name dbms -d mongo:latest\n",
    "  ```\n",
    "  ```bash\n",
    "  docker run --rm -v $(pwd)/data:/data/db --publish=27017:27017 --name dbms -d mongo:latest\n",
    "  ```\n",
    "  * Installation in the provided VM, see https://github.com/datsoftlyngby/soft2018spring-databases-teaching-material\n",
    "  * Installation of MongoDB on the host machine, see https://docs.mongodb.com/manual/administration/install-community/\n",
    "\n"
   ]
  },
  {
   "cell_type": "markdown",
   "metadata": {
    "slideshow": {
     "slide_type": "subslide"
    }
   },
   "source": [
    "## Connecting to MongoDB\n",
    "\n",
    "  * Via a Mongo shell installed in a container: \n",
    "  ```bash\n",
    "  docker run -it --link dbms:mongo --rm mongo sh -c 'exec mongo \"$MONGO_PORT_27017_TCP_ADDR:$MONGO_PORT_27017_TCP_PORT/test\"'```\n",
    "  * Via the Mongo shell installed on a host: \n",
    "  ```bash\n",
    "  mongo --host 127.0.0.1:27017\n",
    "  ```\n",
    "  * Via the GUI client RoboMongo, see https://robomongo.org/download\n",
    "![](https://robomongo.org/static/screens-transparent-6e2a44fd.png)\n",
    "  * Via your own application, see in the end of the lecture."
   ]
  },
  {
   "cell_type": "markdown",
   "metadata": {
    "slideshow": {
     "slide_type": "slide"
    }
   },
   "source": [
    "# The MongoDB Query Language\n",
    "\n",
    "  > MongoDB queries are represented as a JSON-like structure, just like documents. To build a query, you specify a document with properties you wish the results to match. MongoDB treats each property as having an implicit boolean AND. It natively supports boolean OR queries, but you must use a special operator ($or) to achieve it. In addition to exact matches, MongoDB has operators for greater than, less than, etc.\n",
    "  >\n",
    "  > https://www.safaribooksonline.com/library/view/mongodb-and-python/9781449312817/ch02s06.html\n",
    "  \n",
    "The MongoDB documentation calls the Query Language itself _Query Documents_, see https://docs.mongodb.com/manual/tutorial/query-documents/."
   ]
  },
  {
   "cell_type": "markdown",
   "metadata": {
    "slideshow": {
     "slide_type": "subslide"
    }
   },
   "source": [
    "## Hov, I think I know everything you want to tell us here! \n",
    "\n",
    "![](http://static3.businessinsider.com/image/4fbfb86becad044879000001-506-253/suddenly-startups-have-gotten-very-boring.jpg)\n",
    "\n",
    "Cool! Then I would like you to ask for your help. Especially, that you help your fellow students by:\n",
    "\n",
    "  * Figure out how to do CRUD operations in CouchDB\n",
    "  * Figure out how to do range queries\n",
    "  * Figure out how to do queries over text content\n",
    "\n",
    "\n",
    "Get the DBMS quickly:\n",
    "\n",
    "```bash\n",
    "docker run -d -p 5984:5984 --name couchdbms couchdb\n",
    "```\n",
    "\n",
    "See:\n",
    "  \n",
    "  * The official homepage https://couchdb.apache.org\n",
    "  * An introductory tutorial http://docs.couchdb.org/en/2.1.1/intro/tour.html\n",
    "  * The image in Dockerhub https://hub.docker.com/_/couchdb/"
   ]
  },
  {
   "cell_type": "markdown",
   "metadata": {
    "slideshow": {
     "slide_type": "slide"
    }
   },
   "source": [
    "## Switching to a collection / Creating a new collection"
   ]
  },
  {
   "cell_type": "code",
   "execution_count": null,
   "metadata": {
    "collapsed": true,
    "slideshow": {
     "slide_type": "fragment"
    }
   },
   "outputs": [],
   "source": [
    "use users"
   ]
  },
  {
   "cell_type": "markdown",
   "metadata": {
    "slideshow": {
     "slide_type": "slide"
    }
   },
   "source": [
    "## Select All Documents in a Collection\n",
    "\n",
    "To select all documents in the collection, pass an empty document as the query filter parameter to the find method."
   ]
  },
  {
   "cell_type": "code",
   "execution_count": 2,
   "metadata": {
    "collapsed": true,
    "slideshow": {
     "slide_type": "fragment"
    }
   },
   "outputs": [],
   "source": [
    "db.users.find({})"
   ]
  },
  {
   "cell_type": "markdown",
   "metadata": {
    "slideshow": {
     "slide_type": "subslide"
    }
   },
   "source": [
    "```bash\n",
    "db.users.find({})\n",
    "``` \n",
    "\n",
    "is synonymous to `db.users.find()`. \n",
    "\n",
    "However the former is more explicit and preferred.\n",
    "\n",
    "In SQL the above query correpsonds to\n",
    "\n",
    "\n",
    "```sql\n",
    "SELECT * FROM users\n",
    "```"
   ]
  },
  {
   "cell_type": "markdown",
   "metadata": {
    "slideshow": {
     "slide_type": "slide"
    }
   },
   "source": [
    "## Inserting Data\n",
    "\n",
    "To be able to query some data in the following, let's first create some in the database."
   ]
  },
  {
   "cell_type": "code",
   "execution_count": 3,
   "metadata": {},
   "outputs": [
    {
     "data": {},
     "metadata": {},
     "output_type": "display_data"
    },
    {
     "data": {},
     "metadata": {},
     "output_type": "display_data"
    },
    {
     "data": {
      "text/plain": [
       "WriteResult({ \"nInserted\" : 1 })"
      ]
     },
     "execution_count": 3,
     "metadata": {},
     "output_type": "execute_result"
    }
   ],
   "source": [
    "db.users.insert({username: \"Møller\", age: 25})"
   ]
  },
  {
   "cell_type": "code",
   "execution_count": 4,
   "metadata": {
    "slideshow": {
     "slide_type": "fragment"
    }
   },
   "outputs": [
    {
     "data": {
      "text/html": [
       "<style>a.disclosure:link{text-decoration:none;}a.disclosure:visited{text-decoration:none;}.disclosure{color:#337AB7;font-size:150%;}.syntax{color:grey;}.string{color:#9A334F;}.number{color:#5C9632;}.boolean{color:#AA9739;}.key{color:#403075;}.keyword{color:#AA9739;}.object.syntax{color:#337AB7;}.array.syntax{color:#337AB7;}></style><div id=\"3fd06044-780f-46e6-aac8-725cd6d3aada\"></div>"
      ]
     },
     "metadata": {},
     "output_type": "display_data"
    },
    {
     "data": {
      "application/javascript": [
       "require([\"https://rawgit.com/caldwell/renderjson/master/renderjson.js\"], function() {document.getElementById('3fd06044-780f-46e6-aac8-725cd6d3aada').appendChild(renderjson.set_show_to_level(2)([{\"_id\": {\"$oid\": \"5a7b31df0b1e5fccffb6e492\"}, \"username\": \"M\\u00f8ller\", \"age\": 25}]))});"
      ]
     },
     "metadata": {},
     "output_type": "display_data"
    },
    {
     "data": {
      "text/plain": [
       "{ \"_id\" : ObjectId(\"5a7b31df0b1e5fccffb6e492\"), \"username\" : \"Møller\", \"age\" : 25 }"
      ]
     },
     "execution_count": 4,
     "metadata": {},
     "output_type": "execute_result"
    }
   ],
   "source": [
    "db.users.find({})"
   ]
  },
  {
   "cell_type": "markdown",
   "metadata": {
    "slideshow": {
     "slide_type": "fragment"
    }
   },
   "source": [
    "### What is the _id field?\n",
    "\n",
    "The `_id` value can be considered a document’s primary key. Every MongoDB document requires an `_id`.\n",
    "\n",
    "If none is present at creation time, a special MongoDB ObjectID will be generated and added to the document."
   ]
  },
  {
   "cell_type": "code",
   "execution_count": 5,
   "metadata": {
    "slideshow": {
     "slide_type": "subslide"
    }
   },
   "outputs": [
    {
     "data": {},
     "metadata": {},
     "output_type": "display_data"
    },
    {
     "data": {},
     "metadata": {},
     "output_type": "display_data"
    },
    {
     "data": {
      "text/plain": [
       "WriteResult({ \"nInserted\" : 1 })"
      ]
     },
     "execution_count": 5,
     "metadata": {},
     "output_type": "execute_result"
    }
   ],
   "source": [
    "db.users.insert({username: \"Hansen\", age: 22})"
   ]
  },
  {
   "cell_type": "code",
   "execution_count": 6,
   "metadata": {},
   "outputs": [
    {
     "data": {},
     "metadata": {},
     "output_type": "display_data"
    },
    {
     "data": {},
     "metadata": {},
     "output_type": "display_data"
    },
    {
     "data": {
      "text/plain": [
       "WriteResult({ \"nInserted\" : 1 })"
      ]
     },
     "execution_count": 6,
     "metadata": {},
     "output_type": "execute_result"
    }
   ],
   "source": [
    "db.users.insert({username: \"Nielsen\", age: 24})"
   ]
  },
  {
   "cell_type": "code",
   "execution_count": 7,
   "metadata": {
    "slideshow": {
     "slide_type": "fragment"
    }
   },
   "outputs": [
    {
     "data": {
      "text/html": [
       "<style>a.disclosure:link{text-decoration:none;}a.disclosure:visited{text-decoration:none;}.disclosure{color:#337AB7;font-size:150%;}.syntax{color:grey;}.string{color:#9A334F;}.number{color:#5C9632;}.boolean{color:#AA9739;}.key{color:#403075;}.keyword{color:#AA9739;}.object.syntax{color:#337AB7;}.array.syntax{color:#337AB7;}></style><div id=\"b7c4c4e9-508d-4462-b44c-1820312be62c\"></div>"
      ]
     },
     "metadata": {},
     "output_type": "display_data"
    },
    {
     "data": {
      "application/javascript": [
       "require([\"https://rawgit.com/caldwell/renderjson/master/renderjson.js\"], function() {document.getElementById('b7c4c4e9-508d-4462-b44c-1820312be62c').appendChild(renderjson.set_show_to_level(2)([{\"_id\": {\"$oid\": \"5a7b31df0b1e5fccffb6e492\"}, \"username\": \"M\\u00f8ller\", \"age\": 25}, {\"_id\": {\"$oid\": \"5a7b31e50b1e5fccffb6e493\"}, \"username\": \"Hansen\", \"age\": 22}, {\"_id\": {\"$oid\": \"5a7b31e70b1e5fccffb6e494\"}, \"username\": \"Nielsen\", \"age\": 24}]))});"
      ]
     },
     "metadata": {},
     "output_type": "display_data"
    },
    {
     "data": {
      "text/plain": [
       "{ \"_id\" : ObjectId(\"5a7b31df0b1e5fccffb6e492\"), \"username\" : \"Møller\", \"age\" : 25 }\r\n",
       "{ \"_id\" : ObjectId(\"5a7b31e50b1e5fccffb6e493\"), \"username\" : \"Hansen\", \"age\" : 22 }\r\n",
       "{ \"_id\" : ObjectId(\"5a7b31e70b1e5fccffb6e494\"), \"username\" : \"Nielsen\", \"age\" : 24 }"
      ]
     },
     "execution_count": 7,
     "metadata": {},
     "output_type": "execute_result"
    }
   ],
   "source": [
    "db.users.find({})"
   ]
  },
  {
   "cell_type": "code",
   "execution_count": 8,
   "metadata": {
    "slideshow": {
     "slide_type": "fragment"
    }
   },
   "outputs": [
    {
     "data": {
      "text/html": [
       "<style>a.disclosure:link{text-decoration:none;}a.disclosure:visited{text-decoration:none;}.disclosure{color:#337AB7;font-size:150%;}.syntax{color:grey;}.string{color:#9A334F;}.number{color:#5C9632;}.boolean{color:#AA9739;}.key{color:#403075;}.keyword{color:#AA9739;}.object.syntax{color:#337AB7;}.array.syntax{color:#337AB7;}></style><div id=\"4af1ff19-2b9f-4286-a1a1-97beedab48ad\"></div>"
      ]
     },
     "metadata": {},
     "output_type": "display_data"
    },
    {
     "data": {
      "application/javascript": [
       "require([\"https://rawgit.com/caldwell/renderjson/master/renderjson.js\"], function() {document.getElementById('4af1ff19-2b9f-4286-a1a1-97beedab48ad').appendChild(renderjson.set_show_to_level(2)(3))});"
      ]
     },
     "metadata": {},
     "output_type": "display_data"
    },
    {
     "data": {
      "text/plain": [
       "3"
      ]
     },
     "execution_count": 8,
     "metadata": {},
     "output_type": "execute_result"
    }
   ],
   "source": [
    "db.users.count()"
   ]
  },
  {
   "cell_type": "markdown",
   "metadata": {
    "slideshow": {
     "slide_type": "subslide"
    }
   },
   "source": [
    "## Query Documents in a Collection\n",
    "\n",
    "### Matching Selector\n",
    "\n",
    "A query selector is a document that is used to match against all documents in the collection. \n",
    "\n",
    "It specifies the _equality condition_, i.e. fields and values, which must be equal in the documents you want to select.\n",
    "\n",
    "To specify equality conditions, use `<field>:<value>` expressions in the query selector document:\n",
    "\n",
    "```\n",
    "{ <field1>: <value1>, ... }\n",
    "```"
   ]
  },
  {
   "cell_type": "code",
   "execution_count": 9,
   "metadata": {
    "slideshow": {
     "slide_type": "subslide"
    }
   },
   "outputs": [
    {
     "data": {
      "text/html": [
       "<style>a.disclosure:link{text-decoration:none;}a.disclosure:visited{text-decoration:none;}.disclosure{color:#337AB7;font-size:150%;}.syntax{color:grey;}.string{color:#9A334F;}.number{color:#5C9632;}.boolean{color:#AA9739;}.key{color:#403075;}.keyword{color:#AA9739;}.object.syntax{color:#337AB7;}.array.syntax{color:#337AB7;}></style><div id=\"234bab68-f86c-49fd-bb77-cdc9948e88e3\"></div>"
      ]
     },
     "metadata": {},
     "output_type": "display_data"
    },
    {
     "data": {
      "application/javascript": [
       "require([\"https://rawgit.com/caldwell/renderjson/master/renderjson.js\"], function() {document.getElementById('234bab68-f86c-49fd-bb77-cdc9948e88e3').appendChild(renderjson.set_show_to_level(2)([{\"_id\": {\"$oid\": \"5a7b31e50b1e5fccffb6e493\"}, \"username\": \"Hansen\", \"age\": 22}]))});"
      ]
     },
     "metadata": {},
     "output_type": "display_data"
    },
    {
     "data": {
      "text/plain": [
       "{ \"_id\" : ObjectId(\"5a7b31e50b1e5fccffb6e493\"), \"username\" : \"Hansen\", \"age\" : 22 }"
      ]
     },
     "execution_count": 9,
     "metadata": {},
     "output_type": "execute_result"
    }
   ],
   "source": [
    "db.users.find({username: \"Hansen\"})"
   ]
  },
  {
   "cell_type": "markdown",
   "metadata": {
    "slideshow": {
     "slide_type": "fragment"
    }
   },
   "source": [
    "That query is equivalent to the following SQL query:\n",
    "\n",
    "```SQL\n",
    "SELECT * FROM users WHERE username = \"Hansen\"\n",
    "```"
   ]
  },
  {
   "cell_type": "code",
   "execution_count": 10,
   "metadata": {
    "slideshow": {
     "slide_type": "subslide"
    }
   },
   "outputs": [
    {
     "data": {
      "text/html": [
       "<style>a.disclosure:link{text-decoration:none;}a.disclosure:visited{text-decoration:none;}.disclosure{color:#337AB7;font-size:150%;}.syntax{color:grey;}.string{color:#9A334F;}.number{color:#5C9632;}.boolean{color:#AA9739;}.key{color:#403075;}.keyword{color:#AA9739;}.object.syntax{color:#337AB7;}.array.syntax{color:#337AB7;}></style><div id=\"a741df4a-faa5-4449-9a5c-ee3334af6bc8\"></div>"
      ]
     },
     "metadata": {},
     "output_type": "display_data"
    },
    {
     "data": {
      "application/javascript": [
       "require([\"https://rawgit.com/caldwell/renderjson/master/renderjson.js\"], function() {document.getElementById('a741df4a-faa5-4449-9a5c-ee3334af6bc8').appendChild(renderjson.set_show_to_level(2)([{\"_id\": {\"$oid\": \"5a7b31e50b1e5fccffb6e493\"}, \"username\": \"Hansen\", \"age\": 22}]))});"
      ]
     },
     "metadata": {},
     "output_type": "display_data"
    },
    {
     "data": {
      "text/plain": [
       "{ \"_id\" : ObjectId(\"5a7b31e50b1e5fccffb6e493\"), \"username\" : \"Hansen\", \"age\" : 22 }"
      ]
     },
     "execution_count": 10,
     "metadata": {},
     "output_type": "execute_result"
    }
   ],
   "source": [
    "db.users.find({ username: \"Hansen\",\n",
    "                \"age\" : 22 })"
   ]
  },
  {
   "cell_type": "markdown",
   "metadata": {
    "slideshow": {
     "slide_type": "subslide"
    }
   },
   "source": [
    "The matching selector with various fields and values:\n",
    "\n",
    "```javascript\n",
    "db.users.find({ username: \"Hansen\",\n",
    "                \"age\" : 22 })\n",
    "```\n",
    "\n",
    "is eqiuvalent to the following with an explicit conjunction (`$and`)."
   ]
  },
  {
   "cell_type": "code",
   "execution_count": 11,
   "metadata": {
    "slideshow": {
     "slide_type": "fragment"
    }
   },
   "outputs": [
    {
     "data": {
      "text/html": [
       "<style>a.disclosure:link{text-decoration:none;}a.disclosure:visited{text-decoration:none;}.disclosure{color:#337AB7;font-size:150%;}.syntax{color:grey;}.string{color:#9A334F;}.number{color:#5C9632;}.boolean{color:#AA9739;}.key{color:#403075;}.keyword{color:#AA9739;}.object.syntax{color:#337AB7;}.array.syntax{color:#337AB7;}></style><div id=\"1bbc6874-f55b-4026-bdc1-0bc790c13b88\"></div>"
      ]
     },
     "metadata": {},
     "output_type": "display_data"
    },
    {
     "data": {
      "application/javascript": [
       "require([\"https://rawgit.com/caldwell/renderjson/master/renderjson.js\"], function() {document.getElementById('1bbc6874-f55b-4026-bdc1-0bc790c13b88').appendChild(renderjson.set_show_to_level(2)([{\"_id\": {\"$oid\": \"5a7b31e50b1e5fccffb6e493\"}, \"username\": \"Hansen\", \"age\": 22}]))});"
      ]
     },
     "metadata": {},
     "output_type": "display_data"
    },
    {
     "data": {
      "text/plain": [
       "{ \"_id\" : ObjectId(\"5a7b31e50b1e5fccffb6e493\"), \"username\" : \"Hansen\", \"age\" : 22 }"
      ]
     },
     "execution_count": 11,
     "metadata": {},
     "output_type": "execute_result"
    }
   ],
   "source": [
    "db.users.find({ $and: [ { username: \"Hansen\" },\n",
    "                        { \"age\": 22 } ] })"
   ]
  },
  {
   "cell_type": "code",
   "execution_count": 12,
   "metadata": {
    "slideshow": {
     "slide_type": "subslide"
    }
   },
   "outputs": [
    {
     "data": {
      "text/html": [
       "<style>a.disclosure:link{text-decoration:none;}a.disclosure:visited{text-decoration:none;}.disclosure{color:#337AB7;font-size:150%;}.syntax{color:grey;}.string{color:#9A334F;}.number{color:#5C9632;}.boolean{color:#AA9739;}.key{color:#403075;}.keyword{color:#AA9739;}.object.syntax{color:#337AB7;}.array.syntax{color:#337AB7;}></style><div id=\"6256a495-e6a0-4867-8cb1-b34f19c66632\"></div>"
      ]
     },
     "metadata": {},
     "output_type": "display_data"
    },
    {
     "data": {
      "application/javascript": [
       "require([\"https://rawgit.com/caldwell/renderjson/master/renderjson.js\"], function() {document.getElementById('6256a495-e6a0-4867-8cb1-b34f19c66632').appendChild(renderjson.set_show_to_level(2)([{\"_id\": {\"$oid\": \"5a7b31df0b1e5fccffb6e492\"}, \"username\": \"M\\u00f8ller\", \"age\": 25}, {\"_id\": {\"$oid\": \"5a7b31e50b1e5fccffb6e493\"}, \"username\": \"Hansen\", \"age\": 22}]))});"
      ]
     },
     "metadata": {},
     "output_type": "display_data"
    },
    {
     "data": {
      "text/plain": [
       "{ \"_id\" : ObjectId(\"5a7b31df0b1e5fccffb6e492\"), \"username\" : \"Møller\", \"age\" : 25 }\r\n",
       "{ \"_id\" : ObjectId(\"5a7b31e50b1e5fccffb6e493\"), \"username\" : \"Hansen\", \"age\" : 22 }"
      ]
     },
     "execution_count": 12,
     "metadata": {},
     "output_type": "execute_result"
    }
   ],
   "source": [
    "db.users.find({ $or: [ { username: \"Møller\" }, \n",
    "                       { username: \"Hansen\" } ]})"
   ]
  },
  {
   "cell_type": "markdown",
   "metadata": {
    "slideshow": {
     "slide_type": "subslide"
    }
   },
   "source": [
    "## The `$or` Operator More Compactly as Containment Check"
   ]
  },
  {
   "cell_type": "code",
   "execution_count": 13,
   "metadata": {},
   "outputs": [
    {
     "data": {
      "text/html": [
       "<style>a.disclosure:link{text-decoration:none;}a.disclosure:visited{text-decoration:none;}.disclosure{color:#337AB7;font-size:150%;}.syntax{color:grey;}.string{color:#9A334F;}.number{color:#5C9632;}.boolean{color:#AA9739;}.key{color:#403075;}.keyword{color:#AA9739;}.object.syntax{color:#337AB7;}.array.syntax{color:#337AB7;}></style><div id=\"7b24cd8c-41b7-4046-9bab-6f772305610a\"></div>"
      ]
     },
     "metadata": {},
     "output_type": "display_data"
    },
    {
     "data": {
      "application/javascript": [
       "require([\"https://rawgit.com/caldwell/renderjson/master/renderjson.js\"], function() {document.getElementById('7b24cd8c-41b7-4046-9bab-6f772305610a').appendChild(renderjson.set_show_to_level(2)([{\"_id\": {\"$oid\": \"5a7b31df0b1e5fccffb6e492\"}, \"username\": \"M\\u00f8ller\", \"age\": 25}, {\"_id\": {\"$oid\": \"5a7b31e50b1e5fccffb6e493\"}, \"username\": \"Hansen\", \"age\": 22}]))});"
      ]
     },
     "metadata": {},
     "output_type": "display_data"
    },
    {
     "data": {
      "text/plain": [
       "{ \"_id\" : ObjectId(\"5a7b31df0b1e5fccffb6e492\"), \"username\" : \"Møller\", \"age\" : 25 }\r\n",
       "{ \"_id\" : ObjectId(\"5a7b31e50b1e5fccffb6e493\"), \"username\" : \"Hansen\", \"age\" : 22 }"
      ]
     },
     "execution_count": 13,
     "metadata": {},
     "output_type": "execute_result"
    }
   ],
   "source": [
    "db.users.find( { username: { $in: [ \"Møller\", \"Hansen\" ] } } )"
   ]
  },
  {
   "cell_type": "markdown",
   "metadata": {
    "slideshow": {
     "slide_type": "subslide"
    }
   },
   "source": [
    "## Regular Expressions in Matching Queries\n",
    "\n",
    "You can use reqular expressions in you matching queries in either of the two following forms:\n",
    "\n",
    "```\n",
    "db.users.find({ username: /en$/ })\n",
    "db.users.find({ username: { $regex: \"en$\" } })\n",
    "```"
   ]
  },
  {
   "cell_type": "code",
   "execution_count": 14,
   "metadata": {},
   "outputs": [
    {
     "data": {
      "text/html": [
       "<style>a.disclosure:link{text-decoration:none;}a.disclosure:visited{text-decoration:none;}.disclosure{color:#337AB7;font-size:150%;}.syntax{color:grey;}.string{color:#9A334F;}.number{color:#5C9632;}.boolean{color:#AA9739;}.key{color:#403075;}.keyword{color:#AA9739;}.object.syntax{color:#337AB7;}.array.syntax{color:#337AB7;}></style><div id=\"9c190790-b6ea-4c45-ab5a-1d30b9154839\"></div>"
      ]
     },
     "metadata": {},
     "output_type": "display_data"
    },
    {
     "data": {
      "application/javascript": [
       "require([\"https://rawgit.com/caldwell/renderjson/master/renderjson.js\"], function() {document.getElementById('9c190790-b6ea-4c45-ab5a-1d30b9154839').appendChild(renderjson.set_show_to_level(2)([{\"_id\": {\"$oid\": \"5a7b31e50b1e5fccffb6e493\"}, \"username\": \"Hansen\", \"age\": 22}, {\"_id\": {\"$oid\": \"5a7b31e70b1e5fccffb6e494\"}, \"username\": \"Nielsen\", \"age\": 24}]))});"
      ]
     },
     "metadata": {},
     "output_type": "display_data"
    },
    {
     "data": {
      "text/plain": [
       "{ \"_id\" : ObjectId(\"5a7b31e50b1e5fccffb6e493\"), \"username\" : \"Hansen\", \"age\" : 22 }\r\n",
       "{ \"_id\" : ObjectId(\"5a7b31e70b1e5fccffb6e494\"), \"username\" : \"Nielsen\", \"age\" : 24 }"
      ]
     },
     "execution_count": 14,
     "metadata": {},
     "output_type": "execute_result"
    }
   ],
   "source": [
    "db.users.find({ username: /en$/ })"
   ]
  },
  {
   "cell_type": "markdown",
   "metadata": {
    "slideshow": {
     "slide_type": "subslide"
    }
   },
   "source": [
    "## Range Queries\n",
    "\n",
    "The Mongo query language supports the following query operators: `$eq`, `$gt`, `$gte`, `$in`, `$lt`, `$lte`, `$ne`, `$nin`"
   ]
  },
  {
   "cell_type": "code",
   "execution_count": 15,
   "metadata": {},
   "outputs": [
    {
     "data": {
      "text/html": [
       "<style>a.disclosure:link{text-decoration:none;}a.disclosure:visited{text-decoration:none;}.disclosure{color:#337AB7;font-size:150%;}.syntax{color:grey;}.string{color:#9A334F;}.number{color:#5C9632;}.boolean{color:#AA9739;}.key{color:#403075;}.keyword{color:#AA9739;}.object.syntax{color:#337AB7;}.array.syntax{color:#337AB7;}></style><div id=\"45c74c81-476e-4ecb-9a6d-805765930f72\"></div>"
      ]
     },
     "metadata": {},
     "output_type": "display_data"
    },
    {
     "data": {
      "application/javascript": [
       "require([\"https://rawgit.com/caldwell/renderjson/master/renderjson.js\"], function() {document.getElementById('45c74c81-476e-4ecb-9a6d-805765930f72').appendChild(renderjson.set_show_to_level(2)([{\"_id\": {\"$oid\": \"5a7b31e50b1e5fccffb6e493\"}, \"username\": \"Hansen\", \"age\": 22}, {\"_id\": {\"$oid\": \"5a7b31e70b1e5fccffb6e494\"}, \"username\": \"Nielsen\", \"age\": 24}]))});"
      ]
     },
     "metadata": {},
     "output_type": "display_data"
    },
    {
     "data": {
      "text/plain": [
       "{ \"_id\" : ObjectId(\"5a7b31e50b1e5fccffb6e493\"), \"username\" : \"Hansen\", \"age\" : 22 }\r\n",
       "{ \"_id\" : ObjectId(\"5a7b31e70b1e5fccffb6e494\"), \"username\" : \"Nielsen\", \"age\" : 24 }"
      ]
     },
     "execution_count": 15,
     "metadata": {},
     "output_type": "execute_result"
    }
   ],
   "source": [
    "db.users.find( { username: /en$/, \n",
    "                 age: { $lte: 24 } } )"
   ]
  },
  {
   "cell_type": "markdown",
   "metadata": {
    "slideshow": {
     "slide_type": "slide"
    }
   },
   "source": [
    "## Updating Documents\n",
    "\n",
    "Generally, there are two types of updates with different semantics and use cases:\n",
    "\n",
    "  * Updating a single document or many documents, i.e., modification of corresponding fields and values.\n",
    "  * Replacement of old documents with new ones.\n",
    "  \n"
   ]
  },
  {
   "cell_type": "markdown",
   "metadata": {
    "slideshow": {
     "slide_type": "subslide"
    }
   },
   "source": [
    "### Operator Update"
   ]
  },
  {
   "cell_type": "code",
   "execution_count": 16,
   "metadata": {},
   "outputs": [
    {
     "data": {},
     "metadata": {},
     "output_type": "display_data"
    },
    {
     "data": {},
     "metadata": {},
     "output_type": "display_data"
    },
    {
     "data": {
      "text/plain": [
       "WriteResult({ \"nMatched\" : 1, \"nUpserted\" : 0, \"nModified\" : 1 })"
      ]
     },
     "execution_count": 16,
     "metadata": {},
     "output_type": "execute_result"
    }
   ],
   "source": [
    "db.users.update( { username: \"Møller\" }, \n",
    "                 { $set: { country: \"Denmark\" } } )"
   ]
  },
  {
   "cell_type": "code",
   "execution_count": null,
   "metadata": {
    "collapsed": true,
    "slideshow": {
     "slide_type": "fragment"
    }
   },
   "outputs": [],
   "source": [
    "db.users.find({username: \"Møller\"})"
   ]
  },
  {
   "cell_type": "markdown",
   "metadata": {
    "slideshow": {
     "slide_type": "subslide"
    }
   },
   "source": [
    "### Replacement Update"
   ]
  },
  {
   "cell_type": "code",
   "execution_count": 17,
   "metadata": {},
   "outputs": [
    {
     "data": {},
     "metadata": {},
     "output_type": "display_data"
    },
    {
     "data": {},
     "metadata": {},
     "output_type": "display_data"
    },
    {
     "data": {
      "text/plain": [
       "WriteResult({ \"nMatched\" : 1, \"nUpserted\" : 0, \"nModified\" : 1 })"
      ]
     },
     "execution_count": 17,
     "metadata": {},
     "output_type": "execute_result"
    }
   ],
   "source": [
    "db.users.update( { username: \"Møller\" }, \n",
    "                 { country: \"Canada\" } )"
   ]
  },
  {
   "cell_type": "code",
   "execution_count": 18,
   "metadata": {
    "collapsed": true,
    "slideshow": {
     "slide_type": "fragment"
    }
   },
   "outputs": [],
   "source": [
    "db.users.find( { username: \"Møller\" } )"
   ]
  },
  {
   "cell_type": "code",
   "execution_count": 19,
   "metadata": {
    "slideshow": {
     "slide_type": "-"
    }
   },
   "outputs": [
    {
     "data": {
      "text/html": [
       "<style>a.disclosure:link{text-decoration:none;}a.disclosure:visited{text-decoration:none;}.disclosure{color:#337AB7;font-size:150%;}.syntax{color:grey;}.string{color:#9A334F;}.number{color:#5C9632;}.boolean{color:#AA9739;}.key{color:#403075;}.keyword{color:#AA9739;}.object.syntax{color:#337AB7;}.array.syntax{color:#337AB7;}></style><div id=\"74cbf605-b8ee-4105-96d4-f77ba6e5753d\"></div>"
      ]
     },
     "metadata": {},
     "output_type": "display_data"
    },
    {
     "data": {
      "application/javascript": [
       "require([\"https://rawgit.com/caldwell/renderjson/master/renderjson.js\"], function() {document.getElementById('74cbf605-b8ee-4105-96d4-f77ba6e5753d').appendChild(renderjson.set_show_to_level(2)([{\"_id\": {\"$oid\": \"5a7b31df0b1e5fccffb6e492\"}, \"country\": \"Canada\"}]))});"
      ]
     },
     "metadata": {},
     "output_type": "display_data"
    },
    {
     "data": {
      "text/plain": [
       "{ \"_id\" : ObjectId(\"5a7b31df0b1e5fccffb6e492\"), \"country\" : \"Canada\" }"
      ]
     },
     "execution_count": 19,
     "metadata": {},
     "output_type": "execute_result"
    }
   ],
   "source": [
    "db.users.find( { country: \"Canada\" } )"
   ]
  },
  {
   "cell_type": "markdown",
   "metadata": {
    "slideshow": {
     "slide_type": "subslide"
    }
   },
   "source": [
    "Let's add the username back to the record for our example."
   ]
  },
  {
   "cell_type": "code",
   "execution_count": 20,
   "metadata": {},
   "outputs": [
    {
     "data": {},
     "metadata": {},
     "output_type": "display_data"
    },
    {
     "data": {},
     "metadata": {},
     "output_type": "display_data"
    },
    {
     "data": {
      "text/plain": [
       "WriteResult({ \"nMatched\" : 1, \"nUpserted\" : 0, \"nModified\" : 1 })"
      ]
     },
     "execution_count": 20,
     "metadata": {},
     "output_type": "execute_result"
    }
   ],
   "source": [
    "db.users.update( { country: \"Canada\" }, \n",
    "                 { $set: { username: \"Møller\" } } )"
   ]
  },
  {
   "cell_type": "code",
   "execution_count": 21,
   "metadata": {},
   "outputs": [
    {
     "data": {
      "text/html": [
       "<style>a.disclosure:link{text-decoration:none;}a.disclosure:visited{text-decoration:none;}.disclosure{color:#337AB7;font-size:150%;}.syntax{color:grey;}.string{color:#9A334F;}.number{color:#5C9632;}.boolean{color:#AA9739;}.key{color:#403075;}.keyword{color:#AA9739;}.object.syntax{color:#337AB7;}.array.syntax{color:#337AB7;}></style><div id=\"74066fda-4b6c-4cf1-a9e3-0c0aa25b92bc\"></div>"
      ]
     },
     "metadata": {},
     "output_type": "display_data"
    },
    {
     "data": {
      "application/javascript": [
       "require([\"https://rawgit.com/caldwell/renderjson/master/renderjson.js\"], function() {document.getElementById('74066fda-4b6c-4cf1-a9e3-0c0aa25b92bc').appendChild(renderjson.set_show_to_level(2)([{\"_id\": {\"$oid\": \"5a7b31df0b1e5fccffb6e492\"}, \"country\": \"Canada\", \"username\": \"M\\u00f8ller\"}]))});"
      ]
     },
     "metadata": {},
     "output_type": "display_data"
    },
    {
     "data": {
      "text/plain": [
       "{ \"_id\" : ObjectId(\"5a7b31df0b1e5fccffb6e492\"), \"country\" : \"Canada\", \"username\" : \"Møller\" }"
      ]
     },
     "execution_count": 21,
     "metadata": {},
     "output_type": "execute_result"
    }
   ],
   "source": [
    "db.users.find( { country: \"Canada\" } )"
   ]
  },
  {
   "cell_type": "markdown",
   "metadata": {
    "slideshow": {
     "slide_type": "subslide"
    }
   },
   "source": [
    "### Removing a field from a document\n",
    "\n",
    "Value can be removed as with the help of the `$unset` operator."
   ]
  },
  {
   "cell_type": "code",
   "execution_count": 22,
   "metadata": {},
   "outputs": [
    {
     "data": {},
     "metadata": {},
     "output_type": "display_data"
    },
    {
     "data": {},
     "metadata": {},
     "output_type": "display_data"
    },
    {
     "data": {
      "text/plain": [
       "WriteResult({ \"nMatched\" : 1, \"nUpserted\" : 0, \"nModified\" : 1 })"
      ]
     },
     "execution_count": 22,
     "metadata": {},
     "output_type": "execute_result"
    }
   ],
   "source": [
    "db.users.update( { username: \"Møller\" }, \n",
    "                 { $unset: { country: 1 } } )"
   ]
  },
  {
   "cell_type": "code",
   "execution_count": 23,
   "metadata": {
    "slideshow": {
     "slide_type": "fragment"
    }
   },
   "outputs": [
    {
     "data": {
      "text/html": [
       "<style>a.disclosure:link{text-decoration:none;}a.disclosure:visited{text-decoration:none;}.disclosure{color:#337AB7;font-size:150%;}.syntax{color:grey;}.string{color:#9A334F;}.number{color:#5C9632;}.boolean{color:#AA9739;}.key{color:#403075;}.keyword{color:#AA9739;}.object.syntax{color:#337AB7;}.array.syntax{color:#337AB7;}></style><div id=\"128aaea4-b1cd-4927-94ff-c19819060903\"></div>"
      ]
     },
     "metadata": {},
     "output_type": "display_data"
    },
    {
     "data": {
      "application/javascript": [
       "require([\"https://rawgit.com/caldwell/renderjson/master/renderjson.js\"], function() {document.getElementById('128aaea4-b1cd-4927-94ff-c19819060903').appendChild(renderjson.set_show_to_level(2)([{\"_id\": {\"$oid\": \"5a7b31df0b1e5fccffb6e492\"}, \"username\": \"M\\u00f8ller\"}]))});"
      ]
     },
     "metadata": {},
     "output_type": "display_data"
    },
    {
     "data": {
      "text/plain": [
       "{ \"_id\" : ObjectId(\"5a7b31df0b1e5fccffb6e492\"), \"username\" : \"Møller\" }"
      ]
     },
     "execution_count": 23,
     "metadata": {},
     "output_type": "execute_result"
    }
   ],
   "source": [
    "db.users.find( { username: \"Møller\" } )"
   ]
  },
  {
   "cell_type": "markdown",
   "metadata": {
    "slideshow": {
     "slide_type": "subslide"
    }
   },
   "source": [
    "### Complex Updates"
   ]
  },
  {
   "cell_type": "code",
   "execution_count": 24,
   "metadata": {},
   "outputs": [
    {
     "data": {},
     "metadata": {},
     "output_type": "display_data"
    },
    {
     "data": {},
     "metadata": {},
     "output_type": "display_data"
    },
    {
     "data": {
      "text/plain": [
       "WriteResult({ \"nMatched\" : 1, \"nUpserted\" : 0, \"nModified\" : 1 })"
      ]
     },
     "execution_count": 24,
     "metadata": {},
     "output_type": "execute_result"
    }
   ],
   "source": [
    "db.users.update( { username: \"Møller\" }, \n",
    "                 {  $set: {\n",
    "                      favorites: { \n",
    "                        restaurant: [ \"La Petanque\", \"Hija de Sanchez\" ], \n",
    "                        cafe: [ \"Paludan Bog & Café\", \"Café Retro\", \"Conditori La Glace\" ] \n",
    "                      }\n",
    "                    } \n",
    "                  })"
   ]
  },
  {
   "cell_type": "code",
   "execution_count": 25,
   "metadata": {
    "slideshow": {
     "slide_type": "fragment"
    }
   },
   "outputs": [
    {
     "data": {},
     "metadata": {},
     "output_type": "display_data"
    },
    {
     "data": {},
     "metadata": {},
     "output_type": "display_data"
    },
    {
     "data": {
      "text/plain": [
       "WriteResult({ \"nMatched\" : 1, \"nUpserted\" : 0, \"nModified\" : 1 })"
      ]
     },
     "execution_count": 25,
     "metadata": {},
     "output_type": "execute_result"
    }
   ],
   "source": [
    "db.users.update( { username: \"Hansen\" }, \n",
    "                 {  $set: {\n",
    "                      favorites: { \n",
    "                        cafe: [ \"Vaffelbageren\", \"Café BoPa\", \"Conditori La Glace\" ] \n",
    "                      }\n",
    "                    } \n",
    "                 })"
   ]
  },
  {
   "cell_type": "code",
   "execution_count": 26,
   "metadata": {
    "slideshow": {
     "slide_type": "subslide"
    }
   },
   "outputs": [
    {
     "data": {
      "text/html": [
       "<style>a.disclosure:link{text-decoration:none;}a.disclosure:visited{text-decoration:none;}.disclosure{color:#337AB7;font-size:150%;}.syntax{color:grey;}.string{color:#9A334F;}.number{color:#5C9632;}.boolean{color:#AA9739;}.key{color:#403075;}.keyword{color:#AA9739;}.object.syntax{color:#337AB7;}.array.syntax{color:#337AB7;}></style><div id=\"0e6c3d39-5dd8-4acd-a895-19d512efddf2\"></div>"
      ]
     },
     "metadata": {},
     "output_type": "display_data"
    },
    {
     "data": {
      "application/javascript": [
       "require([\"https://rawgit.com/caldwell/renderjson/master/renderjson.js\"], function() {document.getElementById('0e6c3d39-5dd8-4acd-a895-19d512efddf2').appendChild(renderjson.set_show_to_level(2)([{\"_id\": {\"$oid\": \"5a7b31df0b1e5fccffb6e492\"}, \"username\": \"M\\u00f8ller\", \"favorites\": {\"restaurant\": [\"La Petanque\", \"Hija de Sanchez\"], \"cafe\": [\"Paludan Bog & Caf\\u00e9\", \"Caf\\u00e9 Retro\", \"Conditori La Glace\"]}}, {\"_id\": {\"$oid\": \"5a7b31e50b1e5fccffb6e493\"}, \"username\": \"Hansen\", \"age\": 22, \"favorites\": {\"cafe\": [\"Vaffelbageren\", \"Caf\\u00e9 BoPa\", \"Conditori La Glace\"]}}, {\"_id\": {\"$oid\": \"5a7b31e70b1e5fccffb6e494\"}, \"username\": \"Nielsen\", \"age\": 24}]))});"
      ]
     },
     "metadata": {},
     "output_type": "display_data"
    },
    {
     "data": {
      "text/plain": [
       "{ \"_id\" : ObjectId(\"5a7b31df0b1e5fccffb6e492\"), \"username\" : \"Møller\", \"favorites\" : { \"restaurant\" : [ \"La Petanque\", \"Hija de Sanchez\" ], \"cafe\" : [ \"Paludan Bog & Café\", \"Café Retro\", \"Conditori La Glace\" ] } }\r\n",
       "{ \"_id\" : ObjectId(\"5a7b31e50b1e5fccffb6e493\"), \"username\" : \"Hansen\", \"age\" : 22, \"favorites\" : { \"cafe\" : [ \"Vaffelbageren\", \"Café BoPa\", \"Conditori La Glace\" ] } }\r\n",
       "{ \"_id\" : ObjectId(\"5a7b31e70b1e5fccffb6e494\"), \"username\" : \"Nielsen\", \"age\" : 24 }"
      ]
     },
     "execution_count": 26,
     "metadata": {},
     "output_type": "execute_result"
    }
   ],
   "source": [
    "db.users.find({})"
   ]
  },
  {
   "cell_type": "code",
   "execution_count": 27,
   "metadata": {
    "slideshow": {
     "slide_type": "subslide"
    }
   },
   "outputs": [
    {
     "data": {
      "text/html": [
       "<style>a.disclosure:link{text-decoration:none;}a.disclosure:visited{text-decoration:none;}.disclosure{color:#337AB7;font-size:150%;}.syntax{color:grey;}.string{color:#9A334F;}.number{color:#5C9632;}.boolean{color:#AA9739;}.key{color:#403075;}.keyword{color:#AA9739;}.object.syntax{color:#337AB7;}.array.syntax{color:#337AB7;}></style><div id=\"38e86c4b-d5ac-4cc4-916f-78ed46d6804d\"></div>"
      ]
     },
     "metadata": {},
     "output_type": "display_data"
    },
    {
     "data": {
      "application/javascript": [
       "require([\"https://rawgit.com/caldwell/renderjson/master/renderjson.js\"], function() {document.getElementById('38e86c4b-d5ac-4cc4-916f-78ed46d6804d').appendChild(renderjson.set_show_to_level(2)([{\"_id\": {\"$oid\": \"5a7b31df0b1e5fccffb6e492\"}, \"username\": \"M\\u00f8ller\", \"favorites\": {\"restaurant\": [\"La Petanque\", \"Hija de Sanchez\"], \"cafe\": [\"Paludan Bog & Caf\\u00e9\", \"Caf\\u00e9 Retro\", \"Conditori La Glace\"]}}, {\"_id\": {\"$oid\": \"5a7b31e50b1e5fccffb6e493\"}, \"username\": \"Hansen\", \"age\": 22, \"favorites\": {\"cafe\": [\"Vaffelbageren\", \"Caf\\u00e9 BoPa\", \"Conditori La Glace\"]}}]))});"
      ]
     },
     "metadata": {},
     "output_type": "display_data"
    },
    {
     "data": {
      "text/plain": [
       "{ \"_id\" : ObjectId(\"5a7b31df0b1e5fccffb6e492\"), \"username\" : \"Møller\", \"favorites\" : { \"restaurant\" : [ \"La Petanque\", \"Hija de Sanchez\" ], \"cafe\" : [ \"Paludan Bog & Café\", \"Café Retro\", \"Conditori La Glace\" ] } }\r\n",
       "{ \"_id\" : ObjectId(\"5a7b31e50b1e5fccffb6e493\"), \"username\" : \"Hansen\", \"age\" : 22, \"favorites\" : { \"cafe\" : [ \"Vaffelbageren\", \"Café BoPa\", \"Conditori La Glace\" ] } }"
      ]
     },
     "execution_count": 27,
     "metadata": {},
     "output_type": "execute_result"
    }
   ],
   "source": [
    "db.users.find( { \"favorites.cafe\": \"Conditori La Glace\" } )"
   ]
  },
  {
   "cell_type": "markdown",
   "metadata": {
    "slideshow": {
     "slide_type": "subslide"
    }
   },
   "source": [
    "#### Adding Elements to Nested Sets\n",
    "\n",
    "Suppose we know that any user who likes _Café Retro_ also likes _Lagkagehuset_ and that our database shall reflect this fact.\n",
    "\n",
    "##### What does the `false`and the `true` mean?\n",
    "\n",
    "```javascript\n",
    "> db.users.update\n",
    "function (query, obj, upsert, multi) {\n",
    "...\n",
    "}\n",
    "```"
   ]
  },
  {
   "cell_type": "code",
   "execution_count": 28,
   "metadata": {},
   "outputs": [
    {
     "data": {},
     "metadata": {},
     "output_type": "display_data"
    },
    {
     "data": {},
     "metadata": {},
     "output_type": "display_data"
    },
    {
     "data": {
      "text/plain": [
       "WriteResult({ \"nMatched\" : 1, \"nUpserted\" : 0, \"nModified\" : 1 })"
      ]
     },
     "execution_count": 28,
     "metadata": {},
     "output_type": "execute_result"
    }
   ],
   "source": [
    "db.users.update( { \"favorites.cafe\": \"Café Retro\" }, \n",
    "                 { $addToSet: { \"favorites.cafe\": \"Lagkagehuset\" } }, \n",
    "                 false, true)"
   ]
  },
  {
   "cell_type": "markdown",
   "metadata": {
    "slideshow": {
     "slide_type": "slide"
    }
   },
   "source": [
    "## Deleting Documents\n",
    "\n",
    "### Delete a Single Document "
   ]
  },
  {
   "cell_type": "code",
   "execution_count": 29,
   "metadata": {},
   "outputs": [
    {
     "data": {},
     "metadata": {},
     "output_type": "display_data"
    },
    {
     "data": {},
     "metadata": {},
     "output_type": "display_data"
    },
    {
     "data": {
      "text/plain": [
       "WriteResult({ \"nRemoved\" : 1 })"
      ]
     },
     "execution_count": 29,
     "metadata": {},
     "output_type": "execute_result"
    }
   ],
   "source": [
    "db.users.remove({\"favorites.cafe\": \"Café Retro\"})"
   ]
  },
  {
   "cell_type": "markdown",
   "metadata": {
    "slideshow": {
     "slide_type": "subslide"
    }
   },
   "source": [
    "### Delete all Documents of a Collection"
   ]
  },
  {
   "cell_type": "code",
   "execution_count": 30,
   "metadata": {
    "slideshow": {
     "slide_type": "fragment"
    }
   },
   "outputs": [
    {
     "data": {},
     "metadata": {},
     "output_type": "display_data"
    },
    {
     "data": {},
     "metadata": {},
     "output_type": "display_data"
    },
    {
     "data": {
      "text/plain": [
       "WriteResult({ \"nRemoved\" : 2 })"
      ]
     },
     "execution_count": 30,
     "metadata": {},
     "output_type": "execute_result"
    }
   ],
   "source": [
    "db.users.remove({})"
   ]
  },
  {
   "cell_type": "code",
   "execution_count": 31,
   "metadata": {
    "collapsed": true,
    "slideshow": {
     "slide_type": "fragment"
    }
   },
   "outputs": [],
   "source": [
    "db.users.find({})"
   ]
  },
  {
   "cell_type": "markdown",
   "metadata": {
    "slideshow": {
     "slide_type": "slide"
    }
   },
   "source": [
    "### Deleting an Entire Collection"
   ]
  },
  {
   "cell_type": "code",
   "execution_count": 32,
   "metadata": {
    "slideshow": {
     "slide_type": "-"
    }
   },
   "outputs": [
    {
     "data": {
      "text/html": [
       "<style>a.disclosure:link{text-decoration:none;}a.disclosure:visited{text-decoration:none;}.disclosure{color:#337AB7;font-size:150%;}.syntax{color:grey;}.string{color:#9A334F;}.number{color:#5C9632;}.boolean{color:#AA9739;}.key{color:#403075;}.keyword{color:#AA9739;}.object.syntax{color:#337AB7;}.array.syntax{color:#337AB7;}></style><div id=\"d4d4e3c0-9776-4864-a6da-6c94862b614e\"></div>"
      ]
     },
     "metadata": {},
     "output_type": "display_data"
    },
    {
     "data": {
      "application/javascript": [
       "require([\"https://rawgit.com/caldwell/renderjson/master/renderjson.js\"], function() {document.getElementById('d4d4e3c0-9776-4864-a6da-6c94862b614e').appendChild(renderjson.set_show_to_level(2)(true))});"
      ]
     },
     "metadata": {},
     "output_type": "display_data"
    },
    {
     "data": {
      "text/plain": [
       "true"
      ]
     },
     "execution_count": 32,
     "metadata": {},
     "output_type": "execute_result"
    }
   ],
   "source": [
    "db.users.drop()"
   ]
  },
  {
   "cell_type": "markdown",
   "metadata": {
    "slideshow": {
     "slide_type": "subslide"
    }
   },
   "source": [
    "## Getting `help`"
   ]
  },
  {
   "cell_type": "code",
   "execution_count": null,
   "metadata": {
    "collapsed": true
   },
   "outputs": [],
   "source": [
    "help"
   ]
  },
  {
   "cell_type": "code",
   "execution_count": null,
   "metadata": {
    "collapsed": true,
    "slideshow": {
     "slide_type": "fragment"
    }
   },
   "outputs": [],
   "source": [
    "db.users.help()"
   ]
  },
  {
   "cell_type": "markdown",
   "metadata": {
    "slideshow": {
     "slide_type": "slide"
    }
   },
   "source": [
    "# Querying with Indexes\n",
    "\n",
    "Let's start with creating a large collection of numbers.\n",
    "\n",
    "You know Javascript. How do I specify a loop from `0` to `20000` in Javascript?"
   ]
  },
  {
   "cell_type": "code",
   "execution_count": 33,
   "metadata": {
    "slideshow": {
     "slide_type": "fragment"
    }
   },
   "outputs": [
    {
     "data": {},
     "metadata": {},
     "output_type": "display_data"
    },
    {
     "data": {},
     "metadata": {},
     "output_type": "display_data"
    },
    {
     "data": {
      "text/plain": [
       "WriteResult({ \"nInserted\" : 1 })"
      ]
     },
     "execution_count": 33,
     "metadata": {},
     "output_type": "execute_result"
    }
   ],
   "source": [
    "for(i = 0; i < 20000; i++) { \n",
    "    db.numbers.save( { num: i } ); \n",
    "}"
   ]
  },
  {
   "cell_type": "code",
   "execution_count": 34,
   "metadata": {},
   "outputs": [
    {
     "data": {
      "text/html": [
       "<style>a.disclosure:link{text-decoration:none;}a.disclosure:visited{text-decoration:none;}.disclosure{color:#337AB7;font-size:150%;}.syntax{color:grey;}.string{color:#9A334F;}.number{color:#5C9632;}.boolean{color:#AA9739;}.key{color:#403075;}.keyword{color:#AA9739;}.object.syntax{color:#337AB7;}.array.syntax{color:#337AB7;}></style><div id=\"bc82043f-7aa1-49b2-8cd9-7c3930ed9dfd\"></div>"
      ]
     },
     "metadata": {},
     "output_type": "display_data"
    },
    {
     "data": {
      "application/javascript": [
       "require([\"https://rawgit.com/caldwell/renderjson/master/renderjson.js\"], function() {document.getElementById('bc82043f-7aa1-49b2-8cd9-7c3930ed9dfd').appendChild(renderjson.set_show_to_level(2)(20000))});"
      ]
     },
     "metadata": {},
     "output_type": "display_data"
    },
    {
     "data": {
      "text/plain": [
       "20000"
      ]
     },
     "execution_count": 34,
     "metadata": {},
     "output_type": "execute_result"
    }
   ],
   "source": [
    "db.numbers.count()"
   ]
  },
  {
   "cell_type": "code",
   "execution_count": 35,
   "metadata": {
    "slideshow": {
     "slide_type": "subslide"
    }
   },
   "outputs": [
    {
     "data": {
      "text/html": [
       "<style>a.disclosure:link{text-decoration:none;}a.disclosure:visited{text-decoration:none;}.disclosure{color:#337AB7;font-size:150%;}.syntax{color:grey;}.string{color:#9A334F;}.number{color:#5C9632;}.boolean{color:#AA9739;}.key{color:#403075;}.keyword{color:#AA9739;}.object.syntax{color:#337AB7;}.array.syntax{color:#337AB7;}></style><div id=\"ab409540-0ca8-4f25-aed8-75ecb3d0d3f5\"></div>"
      ]
     },
     "metadata": {},
     "output_type": "display_data"
    },
    {
     "data": {
      "application/javascript": [
       "require([\"https://rawgit.com/caldwell/renderjson/master/renderjson.js\"], function() {document.getElementById('ab409540-0ca8-4f25-aed8-75ecb3d0d3f5').appendChild(renderjson.set_show_to_level(2)([{\"_id\": {\"$oid\": \"5a7b32440b1e5fccffb6e495\"}, \"num\": 0}, {\"_id\": {\"$oid\": \"5a7b32440b1e5fccffb6e496\"}, \"num\": 1}, {\"_id\": {\"$oid\": \"5a7b32440b1e5fccffb6e497\"}, \"num\": 2}, {\"_id\": {\"$oid\": \"5a7b32440b1e5fccffb6e498\"}, \"num\": 3}, {\"_id\": {\"$oid\": \"5a7b32440b1e5fccffb6e499\"}, \"num\": 4}]))});"
      ]
     },
     "metadata": {},
     "output_type": "display_data"
    },
    {
     "data": {
      "text/plain": [
       "{ \"_id\" : ObjectId(\"5a7b32440b1e5fccffb6e495\"), \"num\" : 0 }\r\n",
       "{ \"_id\" : ObjectId(\"5a7b32440b1e5fccffb6e496\"), \"num\" : 1 }\r\n",
       "{ \"_id\" : ObjectId(\"5a7b32440b1e5fccffb6e497\"), \"num\" : 2 }\r\n",
       "{ \"_id\" : ObjectId(\"5a7b32440b1e5fccffb6e498\"), \"num\" : 3 }\r\n",
       "{ \"_id\" : ObjectId(\"5a7b32440b1e5fccffb6e499\"), \"num\" : 4 }"
      ]
     },
     "execution_count": 35,
     "metadata": {},
     "output_type": "execute_result"
    }
   ],
   "source": [
    "db.numbers.find( {} ).limit( 5 )"
   ]
  },
  {
   "cell_type": "code",
   "execution_count": 36,
   "metadata": {
    "slideshow": {
     "slide_type": "subslide"
    }
   },
   "outputs": [
    {
     "data": {
      "text/html": [
       "<style>a.disclosure:link{text-decoration:none;}a.disclosure:visited{text-decoration:none;}.disclosure{color:#337AB7;font-size:150%;}.syntax{color:grey;}.string{color:#9A334F;}.number{color:#5C9632;}.boolean{color:#AA9739;}.key{color:#403075;}.keyword{color:#AA9739;}.object.syntax{color:#337AB7;}.array.syntax{color:#337AB7;}></style><div id=\"3abcb0ab-c587-4083-a150-e1381f771868\"></div>"
      ]
     },
     "metadata": {},
     "output_type": "display_data"
    },
    {
     "data": {
      "application/javascript": [
       "require([\"https://rawgit.com/caldwell/renderjson/master/renderjson.js\"], function() {document.getElementById('3abcb0ab-c587-4083-a150-e1381f771868').appendChild(renderjson.set_show_to_level(2)([{\"_id\": {\"$oid\": \"5a7b32440b1e5fccffb6e4aa\"}, \"num\": 21}, {\"_id\": {\"$oid\": \"5a7b32440b1e5fccffb6e4ab\"}, \"num\": 22}, {\"_id\": {\"$oid\": \"5a7b32440b1e5fccffb6e4ac\"}, \"num\": 23}, {\"_id\": {\"$oid\": \"5a7b32440b1e5fccffb6e4ad\"}, \"num\": 24}]))});"
      ]
     },
     "metadata": {},
     "output_type": "display_data"
    },
    {
     "data": {
      "text/plain": [
       "{ \"_id\" : ObjectId(\"5a7b32440b1e5fccffb6e4aa\"), \"num\" : 21 }\r\n",
       "{ \"_id\" : ObjectId(\"5a7b32440b1e5fccffb6e4ab\"), \"num\" : 22 }\r\n",
       "{ \"_id\" : ObjectId(\"5a7b32440b1e5fccffb6e4ac\"), \"num\" : 23 }\r\n",
       "{ \"_id\" : ObjectId(\"5a7b32440b1e5fccffb6e4ad\"), \"num\" : 24 }"
      ]
     },
     "execution_count": 36,
     "metadata": {},
     "output_type": "execute_result"
    }
   ],
   "source": [
    "db.numbers.find( { num: { \"$gt\": 20, \"$lt\": 25 } } )"
   ]
  },
  {
   "cell_type": "markdown",
   "metadata": {
    "slideshow": {
     "slide_type": "subslide"
    }
   },
   "source": [
    "## Execution Statistics\n",
    "\n",
    "When any database receives a query, it must plan out how to execute it. This is called a _query plan_.\n",
    "\n",
    "The `explain` method describes query paths and allows developers to diagnose slow operations by determining which indexes a query has used."
   ]
  },
  {
   "cell_type": "code",
   "execution_count": 37,
   "metadata": {},
   "outputs": [
    {
     "data": {
      "text/html": [
       "<style>a.disclosure:link{text-decoration:none;}a.disclosure:visited{text-decoration:none;}.disclosure{color:#337AB7;font-size:150%;}.syntax{color:grey;}.string{color:#9A334F;}.number{color:#5C9632;}.boolean{color:#AA9739;}.key{color:#403075;}.keyword{color:#AA9739;}.object.syntax{color:#337AB7;}.array.syntax{color:#337AB7;}></style><div id=\"ebe85b0b-3674-4f8f-bdbe-994589541ef8\"></div>"
      ]
     },
     "metadata": {},
     "output_type": "display_data"
    },
    {
     "data": {
      "application/javascript": [
       "require([\"https://rawgit.com/caldwell/renderjson/master/renderjson.js\"], function() {document.getElementById('ebe85b0b-3674-4f8f-bdbe-994589541ef8').appendChild(renderjson.set_show_to_level(2)({\"queryPlanner\": {\"plannerVersion\": 1, \"namespace\": \"test.numbers\", \"indexFilterSet\": false, \"parsedQuery\": {\"num\": {\"$gt\": 19995}}, \"winningPlan\": {\"stage\": \"COLLSCAN\", \"filter\": {\"num\": {\"$gt\": 19995}}, \"direction\": \"forward\"}, \"rejectedPlans\": []}, \"executionStats\": {\"executionSuccess\": true, \"nReturned\": 4, \"executionTimeMillis\": 7, \"totalKeysExamined\": 0, \"totalDocsExamined\": 20000, \"executionStages\": {\"stage\": \"COLLSCAN\", \"filter\": {\"num\": {\"$gt\": 19995}}, \"nReturned\": 4, \"executionTimeMillisEstimate\": 0, \"works\": 20002, \"advanced\": 4, \"needTime\": 19997, \"needYield\": 0, \"saveState\": 156, \"restoreState\": 156, \"isEOF\": 1, \"invalidates\": 0, \"direction\": \"forward\", \"docsExamined\": 20000}}, \"serverInfo\": {\"host\": \"88e2572f678b\", \"port\": 27017, \"version\": \"3.6.2\", \"gitVersion\": \"489d177dbd0f0420a8ca04d39fd78d0a2c539420\"}, \"ok\": 1}))});"
      ]
     },
     "metadata": {},
     "output_type": "display_data"
    },
    {
     "data": {
      "text/plain": [
       "{\r\n",
       "\t\"queryPlanner\" : {\r\n",
       "\t\t\"plannerVersion\" : 1,\r\n",
       "\t\t\"namespace\" : \"test.numbers\",\r\n",
       "\t\t\"indexFilterSet\" : false,\r\n",
       "\t\t\"parsedQuery\" : {\r\n",
       "\t\t\t\"num\" : {\r\n",
       "\t\t\t\t\"$gt\" : 19995\r\n",
       "\t\t\t}\r\n",
       "\t\t},\r\n",
       "\t\t\"winningPlan\" : {\r\n",
       "\t\t\t\"stage\" : \"COLLSCAN\",\r\n",
       "\t\t\t\"filter\" : {\r\n",
       "\t\t\t\t\"num\" : {\r\n",
       "\t\t\t\t\t\"$gt\" : 19995\r\n",
       "\t\t\t\t}\r\n",
       "\t\t\t},\r\n",
       "\t\t\t\"direction\" : \"forward\"\r\n",
       "\t\t},\r\n",
       "\t\t\"rejectedPlans\" : [ ]\r\n",
       "\t},\r\n",
       "\t\"executionStats\" : {\r\n",
       "\t\t\"executionSuccess\" : true,\r\n",
       "\t\t\"nReturned\" : 4,\r\n",
       "\t\t\"executionTimeMillis\" : 7,\r\n",
       "\t\t\"totalKeysExamined\" : 0,\r\n",
       "\t\t\"totalDocsExamined\" : 20000,\r\n",
       "\t\t\"executionStages\" : {\r\n",
       "\t\t\t\"stage\" : \"COLLSCAN\",\r\n",
       "\t\t\t\"filter\" : {\r\n",
       "\t\t\t\t\"num\" : {\r\n",
       "\t\t\t\t\t\"$gt\" : 19995\r\n",
       "\t\t\t\t}\r\n",
       "\t\t\t},\r\n",
       "\t\t\t\"nReturned\" : 4,\r\n",
       "\t\t\t\"executionTimeMillisEstimate\" : 0,\r\n",
       "\t\t\t\"works\" : 20002,\r\n",
       "\t\t\t\"advanced\" : 4,\r\n",
       "\t\t\t\"needTime\" : 19997,\r\n",
       "\t\t\t\"needYield\" : 0,\r\n",
       "\t\t\t\"saveState\" : 156,\r\n",
       "\t\t\t\"restoreState\" : 156,\r\n",
       "\t\t\t\"isEOF\" : 1,\r\n",
       "\t\t\t\"invalidates\" : 0,\r\n",
       "\t\t\t\"direction\" : \"forward\",\r\n",
       "\t\t\t\"docsExamined\" : 20000\r\n",
       "\t\t}\r\n",
       "\t},\r\n",
       "\t\"serverInfo\" : {\r\n",
       "\t\t\"host\" : \"88e2572f678b\",\r\n",
       "\t\t\"port\" : 27017,\r\n",
       "\t\t\"version\" : \"3.6.2\",\r\n",
       "\t\t\"gitVersion\" : \"489d177dbd0f0420a8ca04d39fd78d0a2c539420\"\r\n",
       "\t},\r\n",
       "\t\"ok\" : 1\r\n",
       "}"
      ]
     },
     "execution_count": 37,
     "metadata": {},
     "output_type": "execute_result"
    }
   ],
   "source": [
    "db.numbers.find( { \n",
    "                   num: { \n",
    "                     \"$gt\": 19995 \n",
    "                   } \n",
    "                 } ).explain(\"executionStats\")"
   ]
  },
  {
   "cell_type": "markdown",
   "metadata": {
    "slideshow": {
     "slide_type": "subslide"
    }
   },
   "source": [
    "## Creating an Index in MongoDB\n",
    "\n",
    "On top of the indexes that you create manually, every collection in MongoDB has an index on the `_id` field, which is created automatically for every collection.\n",
    "\n",
    "MongoDB indexes use a _B-tree_ data structure. Jens will tell you more about this datastructure."
   ]
  },
  {
   "cell_type": "code",
   "execution_count": 38,
   "metadata": {
    "slideshow": {
     "slide_type": "fragment"
    }
   },
   "outputs": [
    {
     "data": {
      "text/html": [
       "<style>a.disclosure:link{text-decoration:none;}a.disclosure:visited{text-decoration:none;}.disclosure{color:#337AB7;font-size:150%;}.syntax{color:grey;}.string{color:#9A334F;}.number{color:#5C9632;}.boolean{color:#AA9739;}.key{color:#403075;}.keyword{color:#AA9739;}.object.syntax{color:#337AB7;}.array.syntax{color:#337AB7;}></style><div id=\"eb3210d1-ac22-42a1-963b-3d91812c7be4\"></div>"
      ]
     },
     "metadata": {},
     "output_type": "display_data"
    },
    {
     "data": {
      "application/javascript": [
       "require([\"https://rawgit.com/caldwell/renderjson/master/renderjson.js\"], function() {document.getElementById('eb3210d1-ac22-42a1-963b-3d91812c7be4').appendChild(renderjson.set_show_to_level(2)({\"createdCollectionAutomatically\": false, \"numIndexesBefore\": 1, \"numIndexesAfter\": 2, \"ok\": 1}))});"
      ]
     },
     "metadata": {},
     "output_type": "display_data"
    },
    {
     "data": {
      "text/plain": [
       "{\r\n",
       "\t\"createdCollectionAutomatically\" : false,\r\n",
       "\t\"numIndexesBefore\" : 1,\r\n",
       "\t\"numIndexesAfter\" : 2,\r\n",
       "\t\"ok\" : 1\r\n",
       "}"
      ]
     },
     "execution_count": 38,
     "metadata": {},
     "output_type": "execute_result"
    }
   ],
   "source": [
    "db.numbers.createIndex( { num: 1 } )"
   ]
  },
  {
   "cell_type": "code",
   "execution_count": 39,
   "metadata": {
    "slideshow": {
     "slide_type": "fragment"
    }
   },
   "outputs": [
    {
     "data": {
      "text/html": [
       "<style>a.disclosure:link{text-decoration:none;}a.disclosure:visited{text-decoration:none;}.disclosure{color:#337AB7;font-size:150%;}.syntax{color:grey;}.string{color:#9A334F;}.number{color:#5C9632;}.boolean{color:#AA9739;}.key{color:#403075;}.keyword{color:#AA9739;}.object.syntax{color:#337AB7;}.array.syntax{color:#337AB7;}></style><div id=\"0df6ba87-6ca9-44a5-a1d3-c5dbffd84ea6\"></div>"
      ]
     },
     "metadata": {},
     "output_type": "display_data"
    },
    {
     "data": {
      "application/javascript": [
       "require([\"https://rawgit.com/caldwell/renderjson/master/renderjson.js\"], function() {document.getElementById('0df6ba87-6ca9-44a5-a1d3-c5dbffd84ea6').appendChild(renderjson.set_show_to_level(2)([{\"v\": 2, \"key\": {\"_id\": 1}, \"name\": \"_id_\", \"ns\": \"test.numbers\"}, {\"v\": 2, \"key\": {\"num\": 1}, \"name\": \"num_1\", \"ns\": \"test.numbers\"}]))});"
      ]
     },
     "metadata": {},
     "output_type": "display_data"
    },
    {
     "data": {
      "text/plain": [
       "[\r\n",
       "\t{\r\n",
       "\t\t\"v\" : 2,\r\n",
       "\t\t\"key\" : {\r\n",
       "\t\t\t\"_id\" : 1\r\n",
       "\t\t},\r\n",
       "\t\t\"name\" : \"_id_\",\r\n",
       "\t\t\"ns\" : \"test.numbers\"\r\n",
       "\t},\r\n",
       "\t{\r\n",
       "\t\t\"v\" : 2,\r\n",
       "\t\t\"key\" : {\r\n",
       "\t\t\t\"num\" : 1\r\n",
       "\t\t},\r\n",
       "\t\t\"name\" : \"num_1\",\r\n",
       "\t\t\"ns\" : \"test.numbers\"\r\n",
       "\t}\r\n",
       "]"
      ]
     },
     "execution_count": 39,
     "metadata": {},
     "output_type": "execute_result"
    }
   ],
   "source": [
    "db.numbers.getIndexes()"
   ]
  },
  {
   "cell_type": "code",
   "execution_count": 40,
   "metadata": {
    "slideshow": {
     "slide_type": "subslide"
    }
   },
   "outputs": [
    {
     "data": {
      "text/html": [
       "<style>a.disclosure:link{text-decoration:none;}a.disclosure:visited{text-decoration:none;}.disclosure{color:#337AB7;font-size:150%;}.syntax{color:grey;}.string{color:#9A334F;}.number{color:#5C9632;}.boolean{color:#AA9739;}.key{color:#403075;}.keyword{color:#AA9739;}.object.syntax{color:#337AB7;}.array.syntax{color:#337AB7;}></style><div id=\"8a524444-4be7-4632-9aec-c50c0a9e37ce\"></div>"
      ]
     },
     "metadata": {},
     "output_type": "display_data"
    },
    {
     "data": {
      "application/javascript": [
       "require([\"https://rawgit.com/caldwell/renderjson/master/renderjson.js\"], function() {document.getElementById('8a524444-4be7-4632-9aec-c50c0a9e37ce').appendChild(renderjson.set_show_to_level(2)({\"queryPlanner\": {\"plannerVersion\": 1, \"namespace\": \"test.numbers\", \"indexFilterSet\": false, \"parsedQuery\": {\"num\": {\"$gt\": 19995}}, \"winningPlan\": {\"stage\": \"FETCH\", \"inputStage\": {\"stage\": \"IXSCAN\", \"keyPattern\": {\"num\": 1}, \"indexName\": \"num_1\", \"isMultiKey\": false, \"multiKeyPaths\": {\"num\": []}, \"isUnique\": false, \"isSparse\": false, \"isPartial\": false, \"indexVersion\": 2, \"direction\": \"forward\", \"indexBounds\": {\"num\": [\"(19995.0, inf.0]\"]}}}, \"rejectedPlans\": []}, \"executionStats\": {\"executionSuccess\": true, \"nReturned\": 4, \"executionTimeMillis\": 4, \"totalKeysExamined\": 4, \"totalDocsExamined\": 4, \"executionStages\": {\"stage\": \"FETCH\", \"nReturned\": 4, \"executionTimeMillisEstimate\": 0, \"works\": 5, \"advanced\": 4, \"needTime\": 0, \"needYield\": 0, \"saveState\": 0, \"restoreState\": 0, \"isEOF\": 1, \"invalidates\": 0, \"docsExamined\": 4, \"alreadyHasObj\": 0, \"inputStage\": {\"stage\": \"IXSCAN\", \"nReturned\": 4, \"executionTimeMillisEstimate\": 0, \"works\": 5, \"advanced\": 4, \"needTime\": 0, \"needYield\": 0, \"saveState\": 0, \"restoreState\": 0, \"isEOF\": 1, \"invalidates\": 0, \"keyPattern\": {\"num\": 1}, \"indexName\": \"num_1\", \"isMultiKey\": false, \"multiKeyPaths\": {\"num\": []}, \"isUnique\": false, \"isSparse\": false, \"isPartial\": false, \"indexVersion\": 2, \"direction\": \"forward\", \"indexBounds\": {\"num\": [\"(19995.0, inf.0]\"]}, \"keysExamined\": 4, \"seeks\": 1, \"dupsTested\": 0, \"dupsDropped\": 0, \"seenInvalidated\": 0}}}, \"serverInfo\": {\"host\": \"88e2572f678b\", \"port\": 27017, \"version\": \"3.6.2\", \"gitVersion\": \"489d177dbd0f0420a8ca04d39fd78d0a2c539420\"}, \"ok\": 1}))});"
      ]
     },
     "metadata": {},
     "output_type": "display_data"
    },
    {
     "data": {
      "text/plain": [
       "{\r\n",
       "\t\"queryPlanner\" : {\r\n",
       "\t\t\"plannerVersion\" : 1,\r\n",
       "\t\t\"namespace\" : \"test.numbers\",\r\n",
       "\t\t\"indexFilterSet\" : false,\r\n",
       "\t\t\"parsedQuery\" : {\r\n",
       "\t\t\t\"num\" : {\r\n",
       "\t\t\t\t\"$gt\" : 19995\r\n",
       "\t\t\t}\r\n",
       "\t\t},\r\n",
       "\t\t\"winningPlan\" : {\r\n",
       "\t\t\t\"stage\" : \"FETCH\",\r\n",
       "\t\t\t\"inputStage\" : {\r\n",
       "\t\t\t\t\"stage\" : \"IXSCAN\",\r\n",
       "\t\t\t\t\"keyPattern\" : {\r\n",
       "\t\t\t\t\t\"num\" : 1\r\n",
       "\t\t\t\t},\r\n",
       "\t\t\t\t\"indexName\" : \"num_1\",\r\n",
       "\t\t\t\t\"isMultiKey\" : false,\r\n",
       "\t\t\t\t\"multiKeyPaths\" : {\r\n",
       "\t\t\t\t\t\"num\" : [ ]\r\n",
       "\t\t\t\t},\r\n",
       "\t\t\t\t\"isUnique\" : false,\r\n",
       "\t\t\t\t\"isSparse\" : false,\r\n",
       "\t\t\t\t\"isPartial\" : false,\r\n",
       "\t\t\t\t\"indexVersion\" : 2,\r\n",
       "\t\t\t\t\"direction\" : \"forward\",\r\n",
       "\t\t\t\t\"indexBounds\" : {\r\n",
       "\t\t\t\t\t\"num\" : [\r\n",
       "\t\t\t\t\t\t\"(19995.0, inf.0]\"\r\n",
       "\t\t\t\t\t]\r\n",
       "\t\t\t\t}\r\n",
       "\t\t\t}\r\n",
       "\t\t},\r\n",
       "\t\t\"rejectedPlans\" : [ ]\r\n",
       "\t},\r\n",
       "\t\"executionStats\" : {\r\n",
       "\t\t\"executionSuccess\" : true,\r\n",
       "\t\t\"nReturned\" : 4,\r\n",
       "\t\t\"executionTimeMillis\" : 4,\r\n",
       "\t\t\"totalKeysExamined\" : 4,\r\n",
       "\t\t\"totalDocsExamined\" : 4,\r\n",
       "\t\t\"executionStages\" : {\r\n",
       "\t\t\t\"stage\" : \"FETCH\",\r\n",
       "\t\t\t\"nReturned\" : 4,\r\n",
       "\t\t\t\"executionTimeMillisEstimate\" : 0,\r\n",
       "\t\t\t\"works\" : 5,\r\n",
       "\t\t\t\"advanced\" : 4,\r\n",
       "\t\t\t\"needTime\" : 0,\r\n",
       "\t\t\t\"needYield\" : 0,\r\n",
       "\t\t\t\"saveState\" : 0,\r\n",
       "\t\t\t\"restoreState\" : 0,\r\n",
       "\t\t\t\"isEOF\" : 1,\r\n",
       "\t\t\t\"invalidates\" : 0,\r\n",
       "\t\t\t\"docsExamined\" : 4,\r\n",
       "\t\t\t\"alreadyHasObj\" : 0,\r\n",
       "\t\t\t\"inputStage\" : {\r\n",
       "\t\t\t\t\"stage\" : \"IXSCAN\",\r\n",
       "\t\t\t\t\"nReturned\" : 4,\r\n",
       "\t\t\t\t\"executionTimeMillisEstimate\" : 0,\r\n",
       "\t\t\t\t\"works\" : 5,\r\n",
       "\t\t\t\t\"advanced\" : 4,\r\n",
       "\t\t\t\t\"needTime\" : 0,\r\n",
       "\t\t\t\t\"needYield\" : 0,\r\n",
       "\t\t\t\t\"saveState\" : 0,\r\n",
       "\t\t\t\t\"restoreState\" : 0,\r\n",
       "\t\t\t\t\"isEOF\" : 1,\r\n",
       "\t\t\t\t\"invalidates\" : 0,\r\n",
       "\t\t\t\t\"keyPattern\" : {\r\n",
       "\t\t\t\t\t\"num\" : 1\r\n",
       "\t\t\t\t},\r\n",
       "\t\t\t\t\"indexName\" : \"num_1\",\r\n",
       "\t\t\t\t\"isMultiKey\" : false,\r\n",
       "\t\t\t\t\"multiKeyPaths\" : {\r\n",
       "\t\t\t\t\t\"num\" : [ ]\r\n",
       "\t\t\t\t},\r\n",
       "\t\t\t\t\"isUnique\" : false,\r\n",
       "\t\t\t\t\"isSparse\" : false,\r\n",
       "\t\t\t\t\"isPartial\" : false,\r\n",
       "\t\t\t\t\"indexVersion\" : 2,\r\n",
       "\t\t\t\t\"direction\" : \"forward\",\r\n",
       "\t\t\t\t\"indexBounds\" : {\r\n",
       "\t\t\t\t\t\"num\" : [\r\n",
       "\t\t\t\t\t\t\"(19995.0, inf.0]\"\r\n",
       "\t\t\t\t\t]\r\n",
       "\t\t\t\t},\r\n",
       "\t\t\t\t\"keysExamined\" : 4,\r\n",
       "\t\t\t\t\"seeks\" : 1,\r\n",
       "\t\t\t\t\"dupsTested\" : 0,\r\n",
       "\t\t\t\t\"dupsDropped\" : 0,\r\n",
       "\t\t\t\t\"seenInvalidated\" : 0\r\n",
       "\t\t\t}\r\n",
       "\t\t}\r\n",
       "\t},\r\n",
       "\t\"serverInfo\" : {\r\n",
       "\t\t\"host\" : \"88e2572f678b\",\r\n",
       "\t\t\"port\" : 27017,\r\n",
       "\t\t\"version\" : \"3.6.2\",\r\n",
       "\t\t\"gitVersion\" : \"489d177dbd0f0420a8ca04d39fd78d0a2c539420\"\r\n",
       "\t},\r\n",
       "\t\"ok\" : 1\r\n",
       "}"
      ]
     },
     "execution_count": 40,
     "metadata": {},
     "output_type": "execute_result"
    }
   ],
   "source": [
    "db.numbers.find( { \n",
    "                   num: { \n",
    "                     \"$gt\": 19995 \n",
    "                   } \n",
    "                 } ).explain(\"executionStats\")"
   ]
  },
  {
   "cell_type": "code",
   "execution_count": 41,
   "metadata": {
    "slideshow": {
     "slide_type": "subslide"
    }
   },
   "outputs": [
    {
     "data": {},
     "metadata": {},
     "output_type": "display_data"
    },
    {
     "data": {},
     "metadata": {},
     "output_type": "display_data"
    },
    {
     "data": {
      "text/plain": [
       "WriteResult({ \"nInserted\" : 1 })"
      ]
     },
     "execution_count": 41,
     "metadata": {},
     "output_type": "execute_result"
    }
   ],
   "source": [
    "for(i = 20000; i < 50000; i++) { \n",
    "    db.numbers.save( { num: i } ); \n",
    "}"
   ]
  },
  {
   "cell_type": "code",
   "execution_count": 42,
   "metadata": {},
   "outputs": [
    {
     "data": {
      "text/html": [
       "<style>a.disclosure:link{text-decoration:none;}a.disclosure:visited{text-decoration:none;}.disclosure{color:#337AB7;font-size:150%;}.syntax{color:grey;}.string{color:#9A334F;}.number{color:#5C9632;}.boolean{color:#AA9739;}.key{color:#403075;}.keyword{color:#AA9739;}.object.syntax{color:#337AB7;}.array.syntax{color:#337AB7;}></style><div id=\"9963d5a4-9b42-4b3c-a7b3-a1e828ded4f5\"></div>"
      ]
     },
     "metadata": {},
     "output_type": "display_data"
    },
    {
     "data": {
      "application/javascript": [
       "require([\"https://rawgit.com/caldwell/renderjson/master/renderjson.js\"], function() {document.getElementById('9963d5a4-9b42-4b3c-a7b3-a1e828ded4f5').appendChild(renderjson.set_show_to_level(2)([{\"_id\": {\"$oid\": \"5a7b32750b1e5fccffb7a7e1\"}, \"num\": 49996}, {\"_id\": {\"$oid\": \"5a7b32750b1e5fccffb7a7e2\"}, \"num\": 49997}, {\"_id\": {\"$oid\": \"5a7b32750b1e5fccffb7a7e3\"}, \"num\": 49998}, {\"_id\": {\"$oid\": \"5a7b32750b1e5fccffb7a7e4\"}, \"num\": 49999}]))});"
      ]
     },
     "metadata": {},
     "output_type": "display_data"
    },
    {
     "data": {
      "text/plain": [
       "{ \"_id\" : ObjectId(\"5a7b32750b1e5fccffb7a7e1\"), \"num\" : 49996 }\r\n",
       "{ \"_id\" : ObjectId(\"5a7b32750b1e5fccffb7a7e2\"), \"num\" : 49997 }\r\n",
       "{ \"_id\" : ObjectId(\"5a7b32750b1e5fccffb7a7e3\"), \"num\" : 49998 }\r\n",
       "{ \"_id\" : ObjectId(\"5a7b32750b1e5fccffb7a7e4\"), \"num\" : 49999 }"
      ]
     },
     "execution_count": 42,
     "metadata": {},
     "output_type": "execute_result"
    }
   ],
   "source": [
    "db.numbers.find( { \n",
    "                   num: { \n",
    "                     \"$gt\": 49995 \n",
    "                   } \n",
    "                 } )"
   ]
  },
  {
   "cell_type": "markdown",
   "metadata": {
    "slideshow": {
     "slide_type": "slide"
    }
   },
   "source": [
    "# Connect to MongoDB from a Java Maven Project\n",
    "\n",
    "https://mongodb.github.io/mongo-java-driver/3.0/driver/getting-started/installation-guide/\n",
    "\n",
    "```xml\n",
    "<dependency>\n",
    "    <groupId>org.mongodb</groupId>\n",
    "    <artifactId>mongodb-driver</artifactId>\n",
    "    <version>3.0.4</version>\n",
    "</dependency>\n",
    "```"
   ]
  },
  {
   "cell_type": "markdown",
   "metadata": {
    "slideshow": {
     "slide_type": "subslide"
    }
   },
   "source": [
    "Based on https://mongodb.github.io/mongo-java-driver/3.0/driver/getting-started/quick-tour/\n",
    "\n",
    "```java\n",
    "package dk.cphbusiness.db.meassurements;\n",
    "\n",
    "import com.mongodb.MongoClient;\n",
    "import com.mongodb.MongoClientURI;\n",
    "import com.mongodb.client.MongoCollection;\n",
    "import com.mongodb.client.MongoDatabase;\n",
    "import org.bson.Document;\n",
    "\n",
    "public class MongoTest {\n",
    "\n",
    "    public static void main(String[] args) {\n",
    "        MongoClientURI connStr = new MongoClientURI(\"mongodb://localhost:27017\");\n",
    "        MongoClient mongoClient = new MongoClient(connStr);\n",
    "\n",
    "        MongoDatabase db = mongoClient.getDatabase(\"test-database\");\n",
    "        MongoCollection<Document> collection = db.getCollection(\"tweets\");\n",
    "\n",
    "        Document myDoc = collection.find().first();\n",
    "        System.out.println(myDoc.toJson());\n",
    "    }\n",
    "}\n",
    "```"
   ]
  },
  {
   "cell_type": "markdown",
   "metadata": {
    "slideshow": {
     "slide_type": "slide"
    }
   },
   "source": [
    "# Importing Data\n",
    "\n",
    "You can either write a program which inserts documents into a database or you use MongoDB's CLI import tool.\n",
    "\n",
    "```bash\n",
    "mongoimport --drop --db social_net --collection tweets --type csv --headerline --file testdata.manual.2009.06.14.csv\n",
    "```\n"
   ]
  },
  {
   "cell_type": "markdown",
   "metadata": {
    "slideshow": {
     "slide_type": "slide"
    }
   },
   "source": [
    "# Your turn at home!\n",
    "\n",
    "![](http://www.twenty19.com/blog/wp-content/uploads/2017/07/typing2.gif)\n",
    "\n",
    "## Assignment 2 - Analysis of Twitter Data\n",
    "\n",
    "Your task is to implement a small database application, which imports a dataset of Twitter tweets from the CSV file into database.\n",
    "\n",
    "Your application has to be able to answer queries corresponding to the following questions:\n",
    "\n",
    "  1. How many Twitter users are in the database?\n",
    "  2. Which Twitter users link the most to other Twitter users? (Provide the top ten.)\n",
    "  * Who is are the most mentioned Twitter users? (Provide the top five.)\n",
    "  * Who are the most active Twitter users (top ten)?\n",
    "  * Who are the five most grumpy (most negative tweets) and the most happy (most positive tweets)? (Provide five users for each group)\n",
    "\n",
    "Your application can be written in the language of your choice. It must have a form of UI but it is not important if it is an API, a CLI UI, a GUI, or a Web-based UI.\n",
    "\n",
    "You present your system's answers to the questions above in a Markdown file on your Github account. That is, you hand in this assignment via Github, with one hand-in per group. Push your solution, source, code, and presentation of the results to a Github repository per group and push a link to your solution in the  hand-in area.\n",
    "\n",
    "\n",
    "## Hints\n",
    "\n",
    "You can download and uncompress a dataset of Twitter tweets from http://help.sentiment140.com/for-students/.\n",
    "\n",
    "\n",
    "Connect to your Docker container running the MongoDB DBMS.\n",
    "\n",
    "```bash\n",
    "$ docker run --rm -v $(pwd)/data:/data/db --publish=27017:27017 --name dbms -d mongo\n",
    "88385afac5fe88a5ba47cd60c084bc1855cae6089a7e7d95ba24f0ba6fea1404\n",
    "$ docker exec -it 88385afa bash\n",
    "```\n",
    "\n",
    "On that container install `wget` and `unzip`. **Note**: everything from here on, is a generic description for how to work on a Linux with the `apt` package manager, such as Ubuntu, Debian, etc.\n",
    "\n",
    "```bash\n",
    "root@88385afac5fe:/$ apt-get update\n",
    "root@88385afac5fe:/$ apt-get install -y wget, unzip\n",
    "```\n",
    "\n",
    "Continue with downloading the data\n",
    "\n",
    "```bash\n",
    "root@88385afac5fe:/$ wget http://cs.stanford.edu/people/alecmgo/trainingandtestdata.zip\n",
    "```\n",
    "\n",
    "In your VM the unzip package is not installed by default. \n",
    "\n",
    "Now you can uncompress the Twitter dataset to your current directory with:\n",
    "\n",
    "```bash\n",
    "root@88385afac5fe:/$ unzip trainingandtestdata.zip\n",
    "```\n",
    "\n",
    "After uncompression you will have a folder with two files. For your exercise you will use the bigger one training.1600000.processed.noemoticon.csv. However, both files are CSV files, which do not contain a header row. The documentation on http://help.sentiment140.com/for-students/ says that the columns contain the following.\n",
    "\n",
    "  > The data is a CSV with emoticons removed. Data file format has 6 fields:\n",
    "  > 0 - the polarity of the tweet (0 = negative, 2 = neutral, 4 = positive)\n",
    "  > 1 - the id of the tweet (2087)\n",
    "  > 2 - the date of the tweet (Sat May 16 23:58:44 UTC 2009)\n",
    "  > 3 - the query (lyx). If there is no query, then this value is NO_QUERY.\n",
    "  > 4 - the user that tweeted (robotickilldozr)\n",
    "  > 5 - the text of the tweet (Lyx is cool)\n",
    "\n",
    "To make use of the `--headerline` switch when importing the data with mongoimport, we add a headerline accordingly:\n",
    "\n",
    "```bash\n",
    "root@88385afac5fe:/# sed -i '1s;^;polarity,id,date,query,user,text\\n;' training.1600000.processed.noemoticon.csv\n",
    "```\n",
    "\n",
    "That leads to that the fields of our documents are named according to the given headerfields.\n",
    "After importing the dataset, the dates are represented as strings instead of proper date objects. You might want to convert them with the following code:\n",
    "\n",
    "```javascript\n",
    "db.tweets.find().forEach(function(doc){\n",
    "    if (doc.date instanceof Date !== true) {\n",
    "        doc.date = new Date(doc.date);\n",
    "        db.tweets.save(doc);\n",
    "    }\n",
    "});\n",
    "```\n",
    "\n",
    "For some of the questions, you might want to have a look into MongoDB's aggregation framework and queries using regular expressions. For example, the following query finds all tweets mentioning another Twitter user.\n",
    "\n",
    "```\n",
    "db.tweets.aggregate(\n",
    "    {$match:{text:/@\\w+\\/}},\n",
    "    {$group:{_id:null,text:{$push:\"$text\"}}\n",
    "})\n",
    "```\n",
    "\n",
    "\n",
    "## Hand-in procedure\n",
    "\n",
    "  * Provide all code and documentation for this assignment in a repository on Github.\n",
    "  * Create a Markdown (.md) file called README.md in the root of your project.\n",
    "  * That README.md describes what this project does and how to make it work. That is, you reviewer has to be able to clone your project, build it -you have to define steps for how to do that and what dependencies are required-, and use it.\n",
    "  * A presentation of your system's reply to the **five** queries above.\n",
    "  * Hand-in a link to your repository on www.peergrade.io.\n",
    "  * Hand-in at latest on 12. Feb. 23:55.\n",
    "  \n",
    "## Review procedure\n",
    "\n",
    "  * Log onto www.peergrade.io with your school email addresss.\n",
    "  * Finish your review on www.peergrade.io at latest on 14. Feb. 12:00 (noon).\n",
    "  * Make use of the review criteria below when giving feedback.\n"
   ]
  },
  {
   "cell_type": "markdown",
   "metadata": {
    "slideshow": {
     "slide_type": "slide"
    }
   },
   "source": [
    "# Video\n",
    "\n",
    "  * https://www.youtube.com/watch?v=1sLjWlWvCsc\n",
    "\n",
    "# Literature\n",
    "\n",
    "  * http://www.redbook.io/pdf/redbook-5th-edition.pdf\n",
    "  * http://15721.courses.cs.cmu.edu/spring2016/papers/whatgoesaround-stonebraker.pdf\n",
    "  * https://docs.mongodb.com/manual/tutorial/query-documents/\n",
    "  * https://docs.mongodb.com/manual/reference/\n",
    "  \n",
    "  * https://docs.mongodb.com/manual/indexes/\n",
    "  * https://docs.mongodb.com/manual/reference/program/mongoimport/\n"
   ]
  }
 ],
 "metadata": {
  "celltoolbar": "Slideshow",
  "kernelspec": {
   "display_name": "IMongo",
   "language": "",
   "name": "imongo"
  },
  "language_info": {
   "codemirror_mode": "shell",
   "file_extension": ".js",
   "mimetype": "text/x-mongodb",
   "name": "javascript"
  }
 },
 "nbformat": 4,
 "nbformat_minor": 2
}
