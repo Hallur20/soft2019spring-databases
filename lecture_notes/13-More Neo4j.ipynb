{
 "cells": [
  {
   "cell_type": "markdown",
   "metadata": {
    "slideshow": {
     "slide_type": "slide"
    }
   },
   "source": [
    "# Importing Data"
   ]
  },
  {
   "cell_type": "markdown",
   "metadata": {
    "slideshow": {
     "slide_type": "subslide"
    }
   },
   "source": [
    "## A Database Container\n",
    "\n",
    "![](images/DB_containers_internal.png)"
   ]
  },
  {
   "cell_type": "code",
   "execution_count": 246,
   "metadata": {
    "slideshow": {
     "slide_type": "fragment"
    }
   },
   "outputs": [
    {
     "data": {
      "text/plain": [
       "8866f3a8c6f3fe942e2755fa1f0ab25bdcedefbc273951043d140ad9717e38b6\r\n"
      ]
     },
     "execution_count": 246,
     "metadata": {},
     "output_type": "execute_result"
    }
   ],
   "source": [
    "%%bash\n",
    "docker run \\\n",
    "    -d --name neo4j \\\n",
    "    --rm \\\n",
    "    --publish=7474:7474 \\\n",
    "    --publish=7687:7687 \\\n",
    "    --env NEO4J_AUTH=neo4j/class \\\n",
    "    neo4j"
   ]
  },
  {
   "cell_type": "markdown",
   "metadata": {
    "slideshow": {
     "slide_type": "slide"
    }
   },
   "source": [
    "# A Simple Social Network\n",
    "\n",
    "We will consider a simple social network, a graph with persons having a name, a job title, and a birthday. On top of that, persons can endorse each other.\n",
    "\n",
    "![](./images/endorsment_graph.png)\n",
    "\n",
    " Consequently, our data model looks as in the following:\n",
    "![](./images/datamodel.png)"
   ]
  },
  {
   "cell_type": "markdown",
   "metadata": {
    "slideshow": {
     "slide_type": "subslide"
    }
   },
   "source": [
    "## Creating and Using Indexes\n",
    "\n",
    "You can create an index on certain attributes as in the following:"
   ]
  },
  {
   "cell_type": "code",
   "execution_count": 247,
   "metadata": {
    "slideshow": {
     "slide_type": "fragment"
    }
   },
   "outputs": [
    {
     "data": {
      "text/plain": []
     },
     "execution_count": 247,
     "metadata": {},
     "output_type": "execute_result"
    }
   ],
   "source": [
    "CALL db.indexes()"
   ]
  },
  {
   "cell_type": "code",
   "execution_count": 248,
   "metadata": {
    "slideshow": {
     "slide_type": "fragment"
    }
   },
   "outputs": [
    {
     "data": {
      "text/plain": []
     },
     "execution_count": 248,
     "metadata": {},
     "output_type": "execute_result"
    }
   ],
   "source": [
    "CREATE INDEX ON :Person(name)"
   ]
  },
  {
   "cell_type": "code",
   "execution_count": 249,
   "metadata": {
    "slideshow": {
     "slide_type": "fragment"
    }
   },
   "outputs": [
    {
     "data": {
      "text/plain": [
       "+------------------------------------------------------------------------------------------------------------------------------+\n",
       "| description              | label    | properties | state    | type                  | provider                               |\n",
       "+------------------------------------------------------------------------------------------------------------------------------+\n",
       "| \"INDEX ON :Person(name)\" | \"Person\" | [\"name\"]   | \"ONLINE\" | \"node_label_property\" | {version: \"1.0\", key: \"lucene+native\"} |\n",
       "+------------------------------------------------------------------------------------------------------------------------------+\n",
       "\n",
       "1 row available after 5 ms, consumed after another 5 ms"
      ]
     },
     "execution_count": 249,
     "metadata": {},
     "output_type": "execute_result"
    }
   ],
   "source": [
    "CALL db.indexes()"
   ]
  },
  {
   "cell_type": "markdown",
   "metadata": {
    "slideshow": {
     "slide_type": "subslide"
    }
   },
   "source": [
    "Usually you do not need to specify which indexes to use in a query. When indexes exist, they will be used in `WHERE` clauses for comparison operations, including equality, inequality, `IN`, `STARTS WITH`, `has`, `exists`, etc. In case you want to get rid of an index, run:\n",
    "\n",
    "```cypher\n",
    "DROP INDEX ON :Person(name);\n",
    "```"
   ]
  },
  {
   "cell_type": "markdown",
   "metadata": {
    "slideshow": {
     "slide_type": "subslide"
    }
   },
   "source": [
    "## Creating and Using Constraints\n",
    "\n",
    "A constraint assures for example that a certain attribute is unique. Creating a constraint creates automatically an index on this attribute."
   ]
  },
  {
   "cell_type": "code",
   "execution_count": 250,
   "metadata": {
    "slideshow": {
     "slide_type": "fragment"
    }
   },
   "outputs": [
    {
     "data": {
      "text/plain": []
     },
     "execution_count": 250,
     "metadata": {},
     "output_type": "execute_result"
    }
   ],
   "source": [
    "CREATE CONSTRAINT ON (p:Person) ASSERT p.id IS UNIQUE;"
   ]
  },
  {
   "cell_type": "code",
   "execution_count": 251,
   "metadata": {
    "slideshow": {
     "slide_type": "-"
    }
   },
   "outputs": [
    {
     "data": {
      "text/plain": [
       "+-------------------------------------------------------------------------------------------------------------------------------+\n",
       "| description              | label    | properties | state    | type                   | provider                               |\n",
       "+-------------------------------------------------------------------------------------------------------------------------------+\n",
       "| \"INDEX ON :Person(name)\" | \"Person\" | [\"name\"]   | \"ONLINE\" | \"node_label_property\"  | {version: \"1.0\", key: \"lucene+native\"} |\n",
       "| \"INDEX ON :Person(id)\"   | \"Person\" | [\"id\"]     | \"ONLINE\" | \"node_unique_property\" | {version: \"1.0\", key: \"lucene+native\"} |\n",
       "+-------------------------------------------------------------------------------------------------------------------------------+\n",
       "\n",
       "2 rows available after 5 ms, consumed after another 0 ms"
      ]
     },
     "execution_count": 251,
     "metadata": {},
     "output_type": "execute_result"
    }
   ],
   "source": [
    "CALL db.indexes()"
   ]
  },
  {
   "cell_type": "markdown",
   "metadata": {
    "slideshow": {
     "slide_type": "subslide"
    }
   },
   "source": [
    "## Importing Data from a CSV File in Cypher\n"
   ]
  },
  {
   "cell_type": "code",
   "execution_count": 252,
   "metadata": {
    "slideshow": {
     "slide_type": "fragment"
    }
   },
   "outputs": [
    {
     "data": {
      "text/plain": []
     },
     "execution_count": 252,
     "metadata": {},
     "output_type": "execute_result"
    }
   ],
   "source": [
    "USING PERIODIC COMMIT\n",
    "LOAD CSV WITH HEADERS FROM \"https://raw.githubusercontent.com/datsoftlyngby/soft2018spring-databases-teaching-material/master/data/social_network_nodes_small.csv\" AS row\n",
    "MERGE (:Person {id: toInt(row.node_id), name: row.name, job: row.job, \n",
    "                          birthday: row.birthday});"
   ]
  },
  {
   "cell_type": "markdown",
   "metadata": {
    "slideshow": {
     "slide_type": "subslide"
    }
   },
   "source": [
    "To import the data for the edges, which we have stored in another CSV file do:"
   ]
  },
  {
   "cell_type": "code",
   "execution_count": 253,
   "metadata": {
    "slideshow": {
     "slide_type": "fragment"
    }
   },
   "outputs": [
    {
     "data": {
      "text/plain": []
     },
     "execution_count": 253,
     "metadata": {},
     "output_type": "execute_result"
    }
   ],
   "source": [
    "USING PERIODIC COMMIT 5000\n",
    "LOAD CSV WITH HEADERS FROM \"https://raw.githubusercontent.com/datsoftlyngby/soft2018spring-databases-teaching-material/master/data/social_network_edges_small.csv\" AS row\n",
    "MATCH (f:Person {id: toInt(row.source_node_id)}), \n",
    "                      (t:Person {id: toInt(row.target_node_id)})\n",
    "CREATE (f)-[:ENDORSES]->(t);"
   ]
  },
  {
   "cell_type": "markdown",
   "metadata": {
    "slideshow": {
     "slide_type": "subslide"
    }
   },
   "source": [
    "### What `MERGE`?\n",
    "\n",
    "The `MERGE` clause ensures that a pattern exists in the graph. Either the pattern already exists, or it needs to be created.\n",
    "\n",
    "`MERGE` either matches existing nodes and binds them, or it creates new data and binds that. It is like a combination of `MATCH` and `CREATE` that additionally allows you to specify what happens if the data was matched or created. For example, you can specify that the graph must contain a node for a user with a certain name. If there is not a node with the correct name, a new node will be created and its name property set."
   ]
  },
  {
   "cell_type": "markdown",
   "metadata": {
    "slideshow": {
     "slide_type": "subslide"
    }
   },
   "source": [
    "### What do we have in the DB now?"
   ]
  },
  {
   "cell_type": "code",
   "execution_count": 254,
   "metadata": {
    "slideshow": {
     "slide_type": "fragment"
    }
   },
   "outputs": [
    {
     "data": {
      "text/plain": [
       "+----------+\n",
       "| count(n) |\n",
       "+----------+\n",
       "| 200      |\n",
       "+----------+\n",
       "\n",
       "1 row available after 33 ms, consumed after another 1 ms"
      ]
     },
     "execution_count": 254,
     "metadata": {},
     "output_type": "execute_result"
    }
   ],
   "source": [
    "MATCH (n)\n",
    "RETURN count(n)"
   ]
  },
  {
   "cell_type": "code",
   "execution_count": 255,
   "metadata": {
    "slideshow": {
     "slide_type": "fragment"
    }
   },
   "outputs": [
    {
     "data": {
      "application/javascript": [
       "require([\"https://cdnjs.cloudflare.com/ajax/libs/vis/4.21.0/vis.min.js\"], function(vis) {\n",
       "  var nodes = new vis.DataSet([\n",
       "    { id: -1, label: \"Person\", title: \"{name:Person,<br>indexes:['name'],<br>constraints:['CONSTRAINT ON ( person:Person ) ASSERT person.id IS UNIQUE'],<br>_id:-1}\", color: 'rgba(15,225,30,0.5)'},\n",
       "    \n",
       "  ]);\n",
       "\n",
       "  // create an array with edges\n",
       "  var edges = new vis.DataSet([\n",
       "    { from: -1,to: -1, arrows:'to', title: \"{_id:-1,}\" },\n",
       "    \n",
       "  ]);\n",
       "\n",
       "  // create a network\n",
       "  var container = document.getElementById('a49cb5a2-1a13-44d3-affb-12fafa696ba4');\n",
       "  var data = {\n",
       "    nodes: nodes,\n",
       "    edges: edges\n",
       "  };\n",
       "\n",
       "  var options = {\n",
       "    edges: {\n",
       "      arrows: {\n",
       "        to: {\n",
       "          scaleFactor: 0.5\n",
       "        }\n",
       "      }\n",
       "    },\n",
       "    width: '100%',\n",
       "    height: '500px',\n",
       "    interaction: {hover: true}\n",
       "  };\n",
       "\n",
       "  var network = new vis.Network(container, data, options);});"
      ]
     },
     "metadata": {},
     "output_type": "display_data"
    },
    {
     "data": {
      "text/html": [
       "<link href=\"https://cdnjs.cloudflare.com/ajax/libs/vis/4.21.0/vis.min.css\" rel=\"stylesheet\" type=\"text/css\">\n",
       "                <div id=\"a49cb5a2-1a13-44d3-affb-12fafa696ba4\"></div>\n",
       "                "
      ]
     },
     "metadata": {},
     "output_type": "display_data"
    },
    {
     "data": {
      "text/plain": [
       "+--------------------------------------------------------------------------------------------------------------------------------------------------------------------------+\n",
       "| nodes                                                                                                                                  | relationships                   |\n",
       "+--------------------------------------------------------------------------------------------------------------------------------------------------------------------------+\n",
       "| [(:Person {name: \"Person\", _id_: -1, indexes: [\"name\"], constraints: [\"CONSTRAINT ON ( person:Person ) ASSERT person.id IS UNIQUE\"]})] | [[:ENDORSES {_id_: -1}[-1>-1]]] |\n",
       "+--------------------------------------------------------------------------------------------------------------------------------------------------------------------------+\n",
       "\n",
       "1 row available after 17 ms, consumed after another 1 ms"
      ]
     },
     "execution_count": 255,
     "metadata": {},
     "output_type": "execute_result"
    }
   ],
   "source": [
    "CALL db.schema()"
   ]
  },
  {
   "cell_type": "markdown",
   "metadata": {
    "slideshow": {
     "slide_type": "subslide"
    }
   },
   "source": [
    "### Who endorses me?\n",
    "\n",
    "Of course, to find those persons endorsing oneself, one has to query for the tail nodes of incomming endorsment relations."
   ]
  },
  {
   "cell_type": "code",
   "execution_count": 256,
   "metadata": {
    "slideshow": {
     "slide_type": "fragment"
    }
   },
   "outputs": [
    {
     "data": {
      "application/javascript": [
       "require([\"https://cdnjs.cloudflare.com/ajax/libs/vis/4.21.0/vis.min.js\"], function(vis) {\n",
       "  var nodes = new vis.DataSet([\n",
       "    { id: 101, label: \"Person\", title: \"{birthday:1993-09-28,<br>name:Toney Gatz,<br>id:101,<br>job:Wire Drawer,<br>_id:101}\", color: 'rgba(15,225,30,0.5)'},\n",
       "    { id: 179, label: \"Person\", title: \"{birthday:1987-10-05,<br>name:Merlin Bussone,<br>id:179,<br>job:Transfer-Car Operator,<br>_id:179}\", color: 'rgba(15,225,30,0.5)'},\n",
       "    { id: 121, label: \"Person\", title: \"{birthday:1954-05-24,<br>name:Eddie Macqueen,<br>id:121,<br>job:Plastic-Joint Maker,<br>_id:121}\", color: 'rgba(15,225,30,0.5)'},\n",
       "    { id: 40, label: \"Person\", title: \"{birthday:1949-10-09,<br>name:Claire Baber,<br>id:40,<br>job:Rodding-Anode Worker,<br>_id:40}\", color: 'rgba(15,225,30,0.5)'},\n",
       "    { id: 86, label: \"Person\", title: \"{birthday:1948-11-13,<br>name:Florine Chargualaf,<br>id:86,<br>job:Tester, Semiconductor Wafers,<br>_id:86}\", color: 'rgba(15,225,30,0.5)'},\n",
       "    { id: 89, label: \"Person\", title: \"{birthday:1994-08-30,<br>name:Mellisa Sultani,<br>id:89,<br>job:Diamond Selector,<br>_id:89}\", color: 'rgba(15,225,30,0.5)'},\n",
       "    \n",
       "  ]);\n",
       "\n",
       "  // create an array with edges\n",
       "  var edges = new vis.DataSet([\n",
       "    \n",
       "  ]);\n",
       "\n",
       "  // create a network\n",
       "  var container = document.getElementById('1dfe8085-57ba-458f-b419-945e3f34d009');\n",
       "  var data = {\n",
       "    nodes: nodes,\n",
       "    edges: edges\n",
       "  };\n",
       "\n",
       "  var options = {\n",
       "    edges: {\n",
       "      arrows: {\n",
       "        to: {\n",
       "          scaleFactor: 0.5\n",
       "        }\n",
       "      }\n",
       "    },\n",
       "    width: '100%',\n",
       "    height: '500px',\n",
       "    interaction: {hover: true}\n",
       "  };\n",
       "\n",
       "  var network = new vis.Network(container, data, options);});"
      ]
     },
     "metadata": {},
     "output_type": "display_data"
    },
    {
     "data": {
      "text/html": [
       "<link href=\"https://cdnjs.cloudflare.com/ajax/libs/vis/4.21.0/vis.min.css\" rel=\"stylesheet\" type=\"text/css\">\n",
       "                <div id=\"1dfe8085-57ba-458f-b419-945e3f34d009\"></div>\n",
       "                "
      ]
     },
     "metadata": {},
     "output_type": "display_data"
    },
    {
     "data": {
      "text/plain": [
       "+-----------------------------------------------------------------------------------------------------------------------+\n",
       "| other                                                                                                                 |\n",
       "+-----------------------------------------------------------------------------------------------------------------------+\n",
       "| (:Person {birthday: \"1987-10-05\", name: \"Merlin Bussone\", _id_: 179, id: 179, job: \"Transfer-Car Operator\"})          |\n",
       "| (:Person {birthday: \"1954-05-24\", name: \"Eddie Macqueen\", _id_: 121, id: 121, job: \"Plastic-Joint Maker\"})            |\n",
       "| (:Person {birthday: \"1993-09-28\", name: \"Toney Gatz\", _id_: 101, id: 101, job: \"Wire Drawer\"})                        |\n",
       "| (:Person {birthday: \"1994-08-30\", name: \"Mellisa Sultani\", _id_: 89, id: 89, job: \"Diamond Selector\"})                |\n",
       "| (:Person {birthday: \"1948-11-13\", name: \"Florine Chargualaf\", _id_: 86, id: 86, job: \"Tester, Semiconductor Wafers\"}) |\n",
       "| (:Person {birthday: \"1949-10-09\", name: \"Claire Baber\", _id_: 40, id: 40, job: \"Rodding-Anode Worker\"})               |\n",
       "+-----------------------------------------------------------------------------------------------------------------------+\n",
       "\n",
       "6 rows available after 111 ms, consumed after another 45 ms"
      ]
     },
     "execution_count": 256,
     "metadata": {},
     "output_type": "execute_result"
    }
   ],
   "source": [
    "MATCH ({name:\"Sol Linkert\"})<-[:ENDORSES]-(other)\n",
    "RETURN other"
   ]
  },
  {
   "cell_type": "markdown",
   "metadata": {
    "slideshow": {
     "slide_type": "subslide"
    }
   },
   "source": [
    "### Whom do I endorse?\n",
    "\n",
    "And vice versa, those that oneself endorses are the head nodes of outgoing endorsement relations."
   ]
  },
  {
   "cell_type": "code",
   "execution_count": 257,
   "metadata": {
    "scrolled": true
   },
   "outputs": [
    {
     "data": {
      "application/javascript": [
       "require([\"https://cdnjs.cloudflare.com/ajax/libs/vis/4.21.0/vis.min.js\"], function(vis) {\n",
       "  var nodes = new vis.DataSet([\n",
       "    { id: 95, label: \"Person\", title: \"{birthday:1954-12-04,<br>name:Margarete Balbi,<br>id:95,<br>job:Supervisor, Motor Vehicle Assembly,<br>_id:95}\", color: 'rgba(15,225,30,0.5)'},\n",
       "    { id: 12, label: \"Person\", title: \"{birthday:1983-12-07,<br>name:Dulcie Miyares,<br>id:12,<br>job:Needle-Loom Tender,<br>_id:12}\", color: 'rgba(15,225,30,0.5)'},\n",
       "    { id: 161, label: \"Person\", title: \"{birthday:1956-04-18,<br>name:Rudolph Bicklein,<br>id:161,<br>job:Cupboard Builder,<br>_id:161}\", color: 'rgba(15,225,30,0.5)'},\n",
       "    { id: 0, label: \"Person\", title: \"{birthday:1973-12-20,<br>name:Odessa Satmary,<br>id:0,<br>job:Shoe Coverer,<br>_id:0}\", color: 'rgba(15,225,30,0.5)'},\n",
       "    { id: 22, label: \"Person\", title: \"{birthday:1975-08-05,<br>name:Elly Glosser,<br>id:22,<br>job:Catalyst Operator, Gasoline,<br>_id:22}\", color: 'rgba(15,225,30,0.5)'},\n",
       "    { id: 97, label: \"Person\", title: \"{birthday:1955-11-19,<br>name:Shirl Wilcock,<br>id:97,<br>job:Aircraft-Photographic-Equipment Mechanic,<br>_id:97}\", color: 'rgba(15,225,30,0.5)'},\n",
       "    { id: 2, label: \"Person\", title: \"{birthday:1965-06-12,<br>name:Gianna Alan,<br>id:2,<br>job:Foreign Clerk,<br>_id:2}\", color: 'rgba(15,225,30,0.5)'},\n",
       "    { id: 137, label: \"Person\", title: \"{birthday:1940-06-09,<br>name:Dino Kalt,<br>id:137,<br>job:Street-Light Repairer,<br>_id:137}\", color: 'rgba(15,225,30,0.5)'},\n",
       "    \n",
       "  ]);\n",
       "\n",
       "  // create an array with edges\n",
       "  var edges = new vis.DataSet([\n",
       "    \n",
       "  ]);\n",
       "\n",
       "  // create a network\n",
       "  var container = document.getElementById('1183513c-e593-4166-8dd0-0538d8a71862');\n",
       "  var data = {\n",
       "    nodes: nodes,\n",
       "    edges: edges\n",
       "  };\n",
       "\n",
       "  var options = {\n",
       "    edges: {\n",
       "      arrows: {\n",
       "        to: {\n",
       "          scaleFactor: 0.5\n",
       "        }\n",
       "      }\n",
       "    },\n",
       "    width: '100%',\n",
       "    height: '500px',\n",
       "    interaction: {hover: true}\n",
       "  };\n",
       "\n",
       "  var network = new vis.Network(container, data, options);});"
      ]
     },
     "metadata": {},
     "output_type": "display_data"
    },
    {
     "data": {
      "text/html": [
       "<link href=\"https://cdnjs.cloudflare.com/ajax/libs/vis/4.21.0/vis.min.css\" rel=\"stylesheet\" type=\"text/css\">\n",
       "                <div id=\"1183513c-e593-4166-8dd0-0538d8a71862\"></div>\n",
       "                "
      ]
     },
     "metadata": {},
     "output_type": "display_data"
    },
    {
     "data": {
      "text/plain": [
       "+------------------------------------------------------------------------------------------------------------------------------+\n",
       "| other                                                                                                                        |\n",
       "+------------------------------------------------------------------------------------------------------------------------------+\n",
       "| (:Person {birthday: \"1956-04-18\", name: \"Rudolph Bicklein\", _id_: 161, id: 161, job: \"Cupboard Builder\"})                    |\n",
       "| (:Person {birthday: \"1975-08-05\", name: \"Elly Glosser\", _id_: 22, id: 22, job: \"Catalyst Operator, Gasoline\"})               |\n",
       "| (:Person {birthday: \"1983-12-07\", name: \"Dulcie Miyares\", _id_: 12, id: 12, job: \"Needle-Loom Tender\"})                      |\n",
       "| (:Person {birthday: \"1965-06-12\", name: \"Gianna Alan\", _id_: 2, id: 2, job: \"Foreign Clerk\"})                                |\n",
       "| (:Person {birthday: \"1940-06-09\", name: \"Dino Kalt\", _id_: 137, id: 137, job: \"Street-Light Repairer\"})                      |\n",
       "| (:Person {birthday: \"1973-12-20\", name: \"Odessa Satmary\", _id_: 0, id: 0, job: \"Shoe Coverer\"})                              |\n",
       "| (:Person {birthday: \"1954-12-04\", name: \"Margarete Balbi\", _id_: 95, id: 95, job: \"Supervisor, Motor Vehicle Assembly\"})     |\n",
       "| (:Person {birthday: \"1955-11-19\", name: \"Shirl Wilcock\", _id_: 97, id: 97, job: \"Aircraft-Photographic-Equipment Mechanic\"}) |\n",
       "+------------------------------------------------------------------------------------------------------------------------------+\n",
       "\n",
       "8 rows available after 19 ms, consumed after another 6 ms"
      ]
     },
     "execution_count": 257,
     "metadata": {},
     "output_type": "execute_result"
    }
   ],
   "source": [
    "MATCH ({name:\"Sol Linkert\"})-[:ENDORSES]->(other)\n",
    "RETURN other"
   ]
  },
  {
   "cell_type": "markdown",
   "metadata": {
    "slideshow": {
     "slide_type": "subslide"
    }
   },
   "source": [
    "### Who is endorsed by those who I endorse?\n",
    "\n",
    "Graph databases make it easy for us to query relations of a certain depth. For example, if we wanted to know endorsements of depth two, i.e., those who are endorsed by those who I endorse, we just create a path of depth two in our match pattern."
   ]
  },
  {
   "cell_type": "code",
   "execution_count": 258,
   "metadata": {
    "scrolled": true
   },
   "outputs": [
    {
     "data": {
      "application/javascript": [
       "require([\"https://cdnjs.cloudflare.com/ajax/libs/vis/4.21.0/vis.min.js\"], function(vis) {\n",
       "  var nodes = new vis.DataSet([\n",
       "    { id: 75, label: \"Person\", title: \"{birthday:1989-04-13,<br>name:Shanta Whicker,<br>id:75,<br>job:Magneto Repairer,<br>_id:75}\", color: 'rgba(15,225,30,0.5)'},\n",
       "    { id: 48, label: \"Person\", title: \"{birthday:1984-02-10,<br>name:Bee Mottershead,<br>id:48,<br>job:Sticker,<br>_id:48}\", color: 'rgba(15,225,30,0.5)'},\n",
       "    { id: 59, label: \"Person\", title: \"{birthday:1981-08-19,<br>name:Lisha Dubois,<br>id:59,<br>job:Neck Skewer,<br>_id:59}\", color: 'rgba(15,225,30,0.5)'},\n",
       "    { id: 34, label: \"Person\", title: \"{birthday:1994-10-11,<br>name:Margery Schlett,<br>id:34,<br>job:Trade Marker,<br>_id:34}\", color: 'rgba(15,225,30,0.5)'},\n",
       "    { id: 117, label: \"Person\", title: \"{birthday:1973-12-07,<br>name:Cody Mustain,<br>id:117,<br>job:Carbon-And-Graphite-Brush-Machine Operator,<br>_id:117}\", color: 'rgba(15,225,30,0.5)'},\n",
       "    { id: 198, label: \"Person\", title: \"{birthday:1994-02-12,<br>name:Irvin Vanwagenen,<br>id:198,<br>job:Track-Surfacing-Machine Operator,<br>_id:198}\", color: 'rgba(15,225,30,0.5)'},\n",
       "    { id: 127, label: \"Person\", title: \"{birthday:1940-02-04,<br>name:Rey Rubulcaba,<br>id:127,<br>job:Mercury-Cracking Tester,<br>_id:127}\", color: 'rgba(15,225,30,0.5)'},\n",
       "    { id: 25, label: \"Person\", title: \"{birthday:1995-10-30,<br>name:Elfrieda Witherington,<br>id:25,<br>job:Mill-And-Coal-Transport Operator,<br>_id:25}\", color: 'rgba(15,225,30,0.5)'},\n",
       "    { id: 11, label: \"Person\", title: \"{birthday:1967-09-07,<br>name:Karol Giantonio,<br>id:11,<br>job:Barrel Filler,<br>_id:11}\", color: 'rgba(15,225,30,0.5)'},\n",
       "    { id: 193, label: \"Person\", title: \"{birthday:1988-02-04,<br>name:Antony Ermert,<br>id:193,<br>job:Compound-Coating-Machine Offbearer,<br>_id:193}\", color: 'rgba(15,225,30,0.5)'},\n",
       "    { id: 178, label: \"Person\", title: \"{birthday:1948-11-09,<br>name:Jeremy Bolding,<br>id:178,<br>job:Budget Officer,<br>_id:178}\", color: 'rgba(15,225,30,0.5)'},\n",
       "    { id: 54, label: \"Person\", title: \"{birthday:1995-04-10,<br>name:Paulette Kaywood,<br>id:54,<br>job:Cutter, Barrel Drum,<br>_id:54}\", color: 'rgba(15,225,30,0.5)'},\n",
       "    { id: 173, label: \"Person\", title: \"{birthday:1982-12-18,<br>name:Fernando Deckers,<br>id:173,<br>job:Finisher, Brush,<br>_id:173}\", color: 'rgba(15,225,30,0.5)'},\n",
       "    { id: 196, label: \"Person\", title: \"{birthday:1975-01-05,<br>name:Dante Grissinger,<br>id:196,<br>job:Photoengraver,<br>_id:196}\", color: 'rgba(15,225,30,0.5)'},\n",
       "    { id: 174, label: \"Person\", title: \"{birthday:1975-05-07,<br>name:Everett Spigelman,<br>id:174,<br>job:Laborer, Electroplating,<br>_id:174}\", color: 'rgba(15,225,30,0.5)'},\n",
       "    { id: 92, label: \"Person\", title: \"{birthday:1970-01-18,<br>name:Stefanie Nonroe,<br>id:92,<br>job:Utility Worker, Cloth Printing,<br>_id:92}\", color: 'rgba(15,225,30,0.5)'},\n",
       "    { id: 79, label: \"Person\", title: \"{birthday:1969-09-22,<br>name:Keith Balbin,<br>id:79,<br>job:Liquid-Sugar Melter,<br>_id:79}\", color: 'rgba(15,225,30,0.5)'},\n",
       "    { id: 186, label: \"Person\", title: \"{birthday:1945-04-23,<br>name:Erik Shoger,<br>id:186,<br>job:Flare Breaker,<br>_id:186}\", color: 'rgba(15,225,30,0.5)'},\n",
       "    { id: 163, label: \"Person\", title: \"{birthday:1954-05-18,<br>name:Claude Mumme,<br>id:163,<br>job:Director Of Pupil Personnel Program,<br>_id:163}\", color: 'rgba(15,225,30,0.5)'},\n",
       "    { id: 53, label: \"Person\", title: \"{birthday:1961-07-20,<br>name:Hien Schwalenberg,<br>id:53,<br>job:Drawer Liner,<br>_id:53}\", color: 'rgba(15,225,30,0.5)'},\n",
       "    { id: 22, label: \"Person\", title: \"{birthday:1975-08-05,<br>name:Elly Glosser,<br>id:22,<br>job:Catalyst Operator, Gasoline,<br>_id:22}\", color: 'rgba(15,225,30,0.5)'},\n",
       "    { id: 100, label: \"Person\", title: \"{birthday:1979-09-04,<br>name:Forrest Schildknecht,<br>id:100,<br>job:Electrical-Prospecting Engineer,<br>_id:100}\", color: 'rgba(15,225,30,0.5)'},\n",
       "    { id: 63, label: \"Person\", title: \"{birthday:1971-04-25,<br>name:Jackie Murano,<br>id:63,<br>job:Gate Agent,<br>_id:63}\", color: 'rgba(15,225,30,0.5)'},\n",
       "    { id: 10, label: \"Person\", title: \"{birthday:1945-04-19,<br>name:Dawn Jekot,<br>id:10,<br>job:Field Representative,<br>_id:10}\", color: 'rgba(15,225,30,0.5)'},\n",
       "    { id: 18, label: \"Person\", title: \"{birthday:1975-03-30,<br>name:Arnetta Hultquist,<br>id:18,<br>job:Doughnut-Machine Operator,<br>_id:18}\", color: 'rgba(15,225,30,0.5)'},\n",
       "    { id: 20, label: \"Person\", title: \"{birthday:1958-07-15,<br>name:Roxy Priddy,<br>id:20,<br>job:Assembly Operator,<br>_id:20}\", color: 'rgba(15,225,30,0.5)'},\n",
       "    { id: 165, label: \"Person\", title: \"{birthday:1957-01-26,<br>name:Miles Lomasney,<br>id:165,<br>job:Tire-Bladder Maker,<br>_id:165}\", color: 'rgba(15,225,30,0.5)'},\n",
       "    { id: 65, label: \"Person\", title: \"{birthday:1960-11-29,<br>name:Wan Christopoulos,<br>id:65,<br>job:Shredder Operator,<br>_id:65}\", color: 'rgba(15,225,30,0.5)'},\n",
       "    { id: 1, label: \"Person\", title: \"{birthday:1962-01-02,<br>name:Huong Kalp,<br>id:1,<br>job:Mixer Helper,<br>_id:1}\", color: 'rgba(15,225,30,0.5)'},\n",
       "    \n",
       "  ]);\n",
       "\n",
       "  // create an array with edges\n",
       "  var edges = new vis.DataSet([\n",
       "    \n",
       "  ]);\n",
       "\n",
       "  // create a network\n",
       "  var container = document.getElementById('c1620e54-1e0b-468c-9f40-fae5723decd7');\n",
       "  var data = {\n",
       "    nodes: nodes,\n",
       "    edges: edges\n",
       "  };\n",
       "\n",
       "  var options = {\n",
       "    edges: {\n",
       "      arrows: {\n",
       "        to: {\n",
       "          scaleFactor: 0.5\n",
       "        }\n",
       "      }\n",
       "    },\n",
       "    width: '100%',\n",
       "    height: '500px',\n",
       "    interaction: {hover: true}\n",
       "  };\n",
       "\n",
       "  var network = new vis.Network(container, data, options);});"
      ]
     },
     "metadata": {},
     "output_type": "display_data"
    },
    {
     "data": {
      "text/html": [
       "<link href=\"https://cdnjs.cloudflare.com/ajax/libs/vis/4.21.0/vis.min.css\" rel=\"stylesheet\" type=\"text/css\">\n",
       "                <div id=\"c1620e54-1e0b-468c-9f40-fae5723decd7\"></div>\n",
       "                "
      ]
     },
     "metadata": {},
     "output_type": "display_data"
    },
    {
     "data": {
      "text/plain": [
       "+---------------------------------------------------------------------------------------------------------------------------------+\n",
       "| other_other                                                                                                                     |\n",
       "+---------------------------------------------------------------------------------------------------------------------------------+\n",
       "| (:Person {birthday: \"1945-04-23\", name: \"Erik Shoger\", _id_: 186, id: 186, job: \"Flare Breaker\"})                               |\n",
       "| (:Person {birthday: \"1995-10-30\", name: \"Elfrieda Witherington\", _id_: 25, id: 25, job: \"Mill-And-Coal-Transport Operator\"})    |\n",
       "| (:Person {birthday: \"1994-02-12\", name: \"Irvin Vanwagenen\", _id_: 198, id: 198, job: \"Track-Surfacing-Machine Operator\"})       |\n",
       "| (:Person {birthday: \"1954-05-18\", name: \"Claude Mumme\", _id_: 163, id: 163, job: \"Director Of Pupil Personnel Program\"})        |\n",
       "| (:Person {birthday: \"1961-07-20\", name: \"Hien Schwalenberg\", _id_: 53, id: 53, job: \"Drawer Liner\"})                            |\n",
       "| (:Person {birthday: \"1979-09-04\", name: \"Forrest Schildknecht\", _id_: 100, id: 100, job: \"Electrical-Prospecting Engineer\"})    |\n",
       "| (:Person {birthday: \"1975-08-05\", name: \"Elly Glosser\", _id_: 22, id: 22, job: \"Catalyst Operator, Gasoline\"})                  |\n",
       "| (:Person {birthday: \"1995-04-10\", name: \"Paulette Kaywood\", _id_: 54, id: 54, job: \"Cutter, Barrel Drum\"})                      |\n",
       "| (:Person {birthday: \"1984-02-10\", name: \"Bee Mottershead\", _id_: 48, id: 48, job: \"Sticker\"})                                   |\n",
       "| (:Person {birthday: \"1988-02-04\", name: \"Antony Ermert\", _id_: 193, id: 193, job: \"Compound-Coating-Machine Offbearer\"})        |\n",
       "| (:Person {birthday: \"1940-02-04\", name: \"Rey Rubulcaba\", _id_: 127, id: 127, job: \"Mercury-Cracking Tester\"})                   |\n",
       "| (:Person {birthday: \"1948-11-09\", name: \"Jeremy Bolding\", _id_: 178, id: 178, job: \"Budget Officer\"})                           |\n",
       "| (:Person {birthday: \"1969-09-22\", name: \"Keith Balbin\", _id_: 79, id: 79, job: \"Liquid-Sugar Melter\"})                          |\n",
       "| (:Person {birthday: \"1961-07-20\", name: \"Hien Schwalenberg\", _id_: 53, id: 53, job: \"Drawer Liner\"})                            |\n",
       "| (:Person {birthday: \"1975-01-05\", name: \"Dante Grissinger\", _id_: 196, id: 196, job: \"Photoengraver\"})                          |\n",
       "| (:Person {birthday: \"1962-01-02\", name: \"Huong Kalp\", _id_: 1, id: 1, job: \"Mixer Helper\"})                                     |\n",
       "| (:Person {birthday: \"1971-04-25\", name: \"Jackie Murano\", _id_: 63, id: 63, job: \"Gate Agent\"})                                  |\n",
       "| (:Person {birthday: \"1975-05-07\", name: \"Everett Spigelman\", _id_: 174, id: 174, job: \"Laborer, Electroplating\"})               |\n",
       "| (:Person {birthday: \"1975-03-30\", name: \"Arnetta Hultquist\", _id_: 18, id: 18, job: \"Doughnut-Machine Operator\"})               |\n",
       "| (:Person {birthday: \"1975-08-05\", name: \"Elly Glosser\", _id_: 22, id: 22, job: \"Catalyst Operator, Gasoline\"})                  |\n",
       "| (:Person {birthday: \"1958-07-15\", name: \"Roxy Priddy\", _id_: 20, id: 20, job: \"Assembly Operator\"})                             |\n",
       "| (:Person {birthday: \"1970-01-18\", name: \"Stefanie Nonroe\", _id_: 92, id: 92, job: \"Utility Worker, Cloth Printing\"})            |\n",
       "| (:Person {birthday: \"1957-01-26\", name: \"Miles Lomasney\", _id_: 165, id: 165, job: \"Tire-Bladder Maker\"})                       |\n",
       "| (:Person {birthday: \"1989-04-13\", name: \"Shanta Whicker\", _id_: 75, id: 75, job: \"Magneto Repairer\"})                           |\n",
       "| (:Person {birthday: \"1973-12-07\", name: \"Cody Mustain\", _id_: 117, id: 117, job: \"Carbon-And-Graphite-Brush-Machine Operator\"}) |\n",
       "| (:Person {birthday: \"1967-09-07\", name: \"Karol Giantonio\", _id_: 11, id: 11, job: \"Barrel Filler\"})                             |\n",
       "| (:Person {birthday: \"1981-08-19\", name: \"Lisha Dubois\", _id_: 59, id: 59, job: \"Neck Skewer\"})                                  |\n",
       "| (:Person {birthday: \"1945-04-19\", name: \"Dawn Jekot\", _id_: 10, id: 10, job: \"Field Representative\"})                           |\n",
       "| (:Person {birthday: \"1982-12-18\", name: \"Fernando Deckers\", _id_: 173, id: 173, job: \"Finisher, Brush\"})                        |\n",
       "| (:Person {birthday: \"1994-10-11\", name: \"Margery Schlett\", _id_: 34, id: 34, job: \"Trade Marker\"})                              |\n",
       "| (:Person {birthday: \"1960-11-29\", name: \"Wan Christopoulos\", _id_: 65, id: 65, job: \"Shredder Operator\"})                       |\n",
       "+---------------------------------------------------------------------------------------------------------------------------------+\n",
       "\n",
       "31 rows available after 63 ms, consumed after another 9 ms"
      ]
     },
     "execution_count": 258,
     "metadata": {},
     "output_type": "execute_result"
    }
   ],
   "source": [
    "MATCH ({name:\"Sol Linkert\"})-[:ENDORSES]->()-[:ENDORSES]->(other_other)\n",
    "RETURN other_other"
   ]
  },
  {
   "cell_type": "markdown",
   "metadata": {
    "slideshow": {
     "slide_type": "slide"
    }
   },
   "source": [
    "## Importing Data from the CLI\n",
    "\n",
    "  * Small to medium-sized datasets can be imported with `LOAD CSV`\n",
    "  * Large datasets can be _batch_ imported with `neo4j-admin import`"
   ]
  },
  {
   "cell_type": "code",
   "execution_count": null,
   "metadata": {
    "slideshow": {
     "slide_type": "subslide"
    }
   },
   "outputs": [],
   "source": [
    "%%bash\n",
    "docker stop neo4j"
   ]
  },
  {
   "cell_type": "markdown",
   "metadata": {
    "slideshow": {
     "slide_type": "subslide"
    }
   },
   "source": [
    "First, we get the dataset to be able to import it from the command-line."
   ]
  },
  {
   "cell_type": "code",
   "execution_count": null,
   "metadata": {
    "slideshow": {
     "slide_type": "-"
    }
   },
   "outputs": [],
   "source": [
    "%%bash\n",
    "mkdir import\n",
    "cd import/\n",
    "wget https://raw.githubusercontent.com/datsoftlyngby/soft2018spring-databases-teaching-material/master/data/social_network_nodes_small.csv\n",
    "wget https://raw.githubusercontent.com/datsoftlyngby/soft2018spring-databases-teaching-material/master/data/social_network_edges_small.csv\n",
    "cd .."
   ]
  },
  {
   "cell_type": "code",
   "execution_count": null,
   "metadata": {
    "slideshow": {
     "slide_type": "subslide"
    }
   },
   "outputs": [],
   "source": [
    "%%bash\n",
    "ls -ltrh import/social_network_*.csv"
   ]
  },
  {
   "cell_type": "code",
   "execution_count": null,
   "metadata": {
    "slideshow": {
     "slide_type": "fragment"
    }
   },
   "outputs": [],
   "source": [
    "%%bash\n",
    "head import/social_network_nodes_small.csv"
   ]
  },
  {
   "cell_type": "markdown",
   "metadata": {
    "slideshow": {
     "slide_type": "subslide"
    }
   },
   "source": [
    "When importing data from CSV files, Neo4j can interpret columns correctly if they follow a ceratin naming convention. Consequently, we change the header lines of the two files. You could do that in an editor too or with any other tool of your choice."
   ]
  },
  {
   "cell_type": "code",
   "execution_count": null,
   "metadata": {},
   "outputs": [],
   "source": [
    "%%bash\n",
    "sed -i -E '1s/.*/:ID,name,job,birthday/' import/social_network_nodes_small.csv"
   ]
  },
  {
   "cell_type": "code",
   "execution_count": null,
   "metadata": {},
   "outputs": [],
   "source": [
    "%%bash\n",
    "head import/social_network_nodes_small.csv"
   ]
  },
  {
   "cell_type": "code",
   "execution_count": null,
   "metadata": {
    "slideshow": {
     "slide_type": "subslide"
    }
   },
   "outputs": [],
   "source": [
    "%%bash\n",
    "head import/social_network_edges_small.csv"
   ]
  },
  {
   "cell_type": "code",
   "execution_count": null,
   "metadata": {},
   "outputs": [],
   "source": [
    "%%bash\n",
    "sed -i -E '1s/.*/:START_ID,:END_ID/' import/social_network_edges_small.csv"
   ]
  },
  {
   "cell_type": "code",
   "execution_count": null,
   "metadata": {},
   "outputs": [],
   "source": [
    "%%bash\n",
    "head import/social_network_edges_small.csv"
   ]
  },
  {
   "cell_type": "markdown",
   "metadata": {
    "slideshow": {
     "slide_type": "slide"
    }
   },
   "source": [
    "### Getting APOC and the Graph Algorithms Plugins\n",
    "\n",
    "In the following, we will use functionality, which is not directly part of the Cypher language. We need the _APOC_ and the _Graph Algorithms_ plugins.\n",
    "\n",
    "The Neo4j database is extensible, with _procedures_, which can be executed via the `CALL` command, see https://neo4j.com/docs/developer-manual/current/extending-neo4j/procedures/."
   ]
  },
  {
   "cell_type": "code",
   "execution_count": null,
   "metadata": {
    "scrolled": true,
    "slideshow": {
     "slide_type": "subslide"
    }
   },
   "outputs": [],
   "source": [
    "%%bash\n",
    "mkdir plugins\n",
    "cd plugins\n",
    "echo \"Downloading APOC plugin\"\n",
    "wget https://github.com/neo4j-contrib/neo4j-apoc-procedures/releases/download/3.3.0.1/apoc-3.3.0.1-all.jar\n",
    "echo \"Downloading algorithms plugin\"\n",
    "wget https://github.com/neo4j-contrib/neo4j-graph-algorithms/releases/download/3.3.2.0/graph-algorithms-algo-3.3.2.0.jar\n",
    "cd .."
   ]
  },
  {
   "cell_type": "markdown",
   "metadata": {
    "slideshow": {
     "slide_type": "subslide"
    }
   },
   "source": [
    "To clean up our previous database, we stop its container."
   ]
  },
  {
   "cell_type": "code",
   "execution_count": null,
   "metadata": {},
   "outputs": [],
   "source": [
    "%%bash\n",
    "docker ps -a | grep neo4j"
   ]
  },
  {
   "cell_type": "code",
   "execution_count": null,
   "metadata": {},
   "outputs": [],
   "source": [
    "%%bash\n",
    "docker stop neo4j"
   ]
  },
  {
   "cell_type": "markdown",
   "metadata": {
    "slideshow": {
     "slide_type": "subslide"
    }
   },
   "source": [
    "### Starting a ne Neo4j Instance\n",
    "\n",
    "Unlike previously, we mount the `import` and the `plugins` directories to the container, so that the corresponding data and JAR files are _visible_ for the Neo4j engine. \n",
    "\n",
    "Additionally, you can set environment variables, which might be important for performance tuning.\n",
    "\n",
    "```bash\n",
    "docker run \\\n",
    "    ...\n",
    "    --env=NEO4J_dbms_memory_pagecache_size=6G \\\n",
    "    --env=NEO4J_dbms_memory_heap_max__size=10G \\\n",
    "    ...\n",
    "    neo4j\n",
    "```"
   ]
  },
  {
   "cell_type": "code",
   "execution_count": null,
   "metadata": {
    "slideshow": {
     "slide_type": "subslide"
    }
   },
   "outputs": [],
   "source": [
    "%%bash\n",
    "docker run \\\n",
    "    -d --name neo4j \\\n",
    "    --rm \\\n",
    "    --publish=7474:7474 \\\n",
    "    --publish=7687:7687 \\\n",
    "    --volume=$(pwd)/import:/import \\\n",
    "    --volume=$(pwd)/plugins:/plugins \\\n",
    "    --env NEO4J_AUTH=neo4j/class \\\n",
    "    --env=NEO4J_dbms_security_procedures_unrestricted=apoc.\\\\\\*,algo.\\\\\\* \\\n",
    "    neo4j"
   ]
  },
  {
   "cell_type": "markdown",
   "metadata": {
    "slideshow": {
     "slide_type": "subslide"
    }
   },
   "source": [
    "### Batch Import from the Command-line\n",
    "\n",
    "To batch import data via the command-line, we have to:\n",
    "\n",
    "  * Stop the Neo4j engine,\n",
    "  * Remove the current database files,\n",
    "  * Import the corresponding data, and\n",
    "  * Restart the Neo4j engine.\n",
    "  \n",
    "In case you have Neo4j installed directly to your host machine\n",
    "```bash\n",
    "$ neo4j stop\n",
    "$ rm -rf data/databases/graph.db\n",
    "$ neo4j-admin import \\\n",
    "      --nodes:Person import/social_network_nodes_small.csv \\\n",
    "      --relationships:ENDORSES import/social_network_edges_small.csv \\\n",
    "      --ignore-missing-nodes=true \\\n",
    "      --ignore-duplicate-nodes=true \\\n",
    "      --id-type=INTEGER\n",
    "$ neo4j start\n",
    "```"
   ]
  },
  {
   "cell_type": "markdown",
   "metadata": {
    "slideshow": {
     "slide_type": "subslide"
    }
   },
   "source": [
    "#### Stopping and Removing the Neo4j Engine in Docker"
   ]
  },
  {
   "cell_type": "code",
   "execution_count": null,
   "metadata": {
    "slideshow": {
     "slide_type": "-"
    }
   },
   "outputs": [],
   "source": [
    "%%bash\n",
    "docker exec neo4j sh -c 'neo4j stop'\n",
    "docker exec neo4j sh -c 'rm -rf data/databases/graph.db'"
   ]
  },
  {
   "cell_type": "markdown",
   "metadata": {
    "slideshow": {
     "slide_type": "subslide"
    }
   },
   "source": [
    "#### Importing the Neo4j Engine in Docker"
   ]
  },
  {
   "cell_type": "code",
   "execution_count": null,
   "metadata": {
    "slideshow": {
     "slide_type": "-"
    }
   },
   "outputs": [],
   "source": [
    "%%bash\n",
    "docker exec neo4j sh -c 'neo4j-admin import \\\n",
    "    --nodes:Person /import/social_network_nodes_small.csv \\\n",
    "    --relationships:ENDORSES /import/social_network_edges_small.csv \\\n",
    "    --ignore-missing-nodes=true \\\n",
    "    --ignore-duplicate-nodes=true \\\n",
    "    --id-type=INTEGER'"
   ]
  },
  {
   "cell_type": "markdown",
   "metadata": {
    "slideshow": {
     "slide_type": "subslide"
    }
   },
   "source": [
    "#### Restarting the Neo4j Engine in Docker"
   ]
  },
  {
   "cell_type": "code",
   "execution_count": null,
   "metadata": {},
   "outputs": [],
   "source": [
    "%%bash\n",
    "docker restart neo4j"
   ]
  },
  {
   "cell_type": "code",
   "execution_count": null,
   "metadata": {
    "slideshow": {
     "slide_type": "fragment"
    }
   },
   "outputs": [],
   "source": [
    "MATCH (n)\n",
    "RETURN count(n)"
   ]
  },
  {
   "cell_type": "code",
   "execution_count": null,
   "metadata": {
    "slideshow": {
     "slide_type": "subslide"
    }
   },
   "outputs": [],
   "source": [
    "CALL db.schema();"
   ]
  },
  {
   "cell_type": "markdown",
   "metadata": {
    "slideshow": {
     "slide_type": "subslide"
    }
   },
   "source": [
    "#### Counting all Nodes and Relationships"
   ]
  },
  {
   "cell_type": "code",
   "execution_count": null,
   "metadata": {
    "slideshow": {
     "slide_type": "-"
    }
   },
   "outputs": [],
   "source": [
    "MATCH ()\n",
    "WITH count(*) AS count\n",
    "RETURN \"nodes\" AS type, count\n",
    "UNION\n",
    "MATCH ()-[]->()\n",
    "WITH count(*) AS count\n",
    "RETURN \"relationships\" AS type, count"
   ]
  },
  {
   "cell_type": "markdown",
   "metadata": {
    "slideshow": {
     "slide_type": "slide"
    }
   },
   "source": [
    "# Accessing Neo4J from Java\n",
    "\n",
    "In the following is a condensed tutorial on how to excute Cypher queries and access a Neo4J database from Java code. The guide assumes that you use Maven to manage your code dependencies.\n",
    "\n",
    "  * Create a Maven project. In NetBeans `New Project -> Maven -> Java Application`\n",
    "  * Add a dependency to the Neo4J driver to your project configuration (`pom.xml`)\n",
    "    \n",
    "    ```xml\n",
    "    <dependencies>\n",
    "        <!-- tag::bolt-dependency[] -->\n",
    "        <dependency>\n",
    "            <groupId>org.neo4j.driver</groupId>\n",
    "            <artifactId>neo4j-java-driver</artifactId>\n",
    "            <version>1.4.4</version>\n",
    "        </dependency>\n",
    "\n",
    "        <!-- ...any other dependencies -->\n",
    "    </dependencies>\n",
    "    ```"
   ]
  },
  {
   "cell_type": "markdown",
   "metadata": {
    "slideshow": {
     "slide_type": "subslide"
    }
   },
   "source": [
    "  * Create a Java Class `ConnectionTest.java` and type in the following code:\n",
    "  \n",
    "    ```java\n",
    "    package dk.cphbusiness.db.neo4j.intro.db.neo4j;\n",
    "\n",
    "    import org.neo4j.driver.v1.*;\n",
    "\n",
    "    public class ConnectionTest {\n",
    "\n",
    "        public static void main(String[] args) {\n",
    "            Driver driver = GraphDatabase.driver( \n",
    "                    \"bolt://localhost:7687\", \n",
    "                    AuthTokens.basic( \"neo4j\", \"class\" ) );\n",
    "            Session session = driver.session();\n",
    "\n",
    "            // Run a query matching all nodes\n",
    "            StatementResult result = session.run( \n",
    "                    \"MATCH (s:Person)\" +\n",
    "                    \"RETURN s.name AS name, s.job AS job\");\n",
    "\n",
    "            while ( result.hasNext() ) {\n",
    "                Record record = result.next();\n",
    "                System.out.println( record.get(\"name\").asString() + \" -> \" + \n",
    "                                    record.get(\"job\").asString());\n",
    "            }\n",
    "            session.close();\n",
    "            driver.close();\n",
    "        }\n",
    "    }\n",
    "    ```\n",
    "    \n",
    "  * This program should print a record for each node in your Neo4J database.\n",
    "\n",
    "This example is based on: https://neo4j.com/developer/java/#_the_example_project\n",
    "\n",
    "See https://neo4j.com/developer/language-guides/ for guides on using other languages than Java."
   ]
  },
  {
   "cell_type": "markdown",
   "metadata": {
    "slideshow": {
     "slide_type": "slide"
    }
   },
   "source": [
    "## The Neo4J Java API\n",
    "\n",
    "Alternatively, if you do not want to rely on Cypher queries to comminicate with your Neo4J database, you can access it directly via the Java API (http://neo4j.com/docs/java-reference/current/javadocs/).\n"
   ]
  },
  {
   "cell_type": "markdown",
   "metadata": {
    "slideshow": {
     "slide_type": "slide"
    }
   },
   "source": [
    "## Spring Data Neo4J, an Object-Graph Mapper\n",
    "\n",
    "The following is based on chapter nine of _Neo4j in Action_ and the official documentation at https://neo4j.com/developer/spring-data-neo4j/.\n",
    "\n",
    "Until now we have been working directly with the core Neo4j graph primitives—nodes and relationships—to represent and interact with (that is, read and persist) various domain model concepts.\n",
    "\n",
    "Though that approach is extremely powerful and flexible, operating with the low-level Neo4j APIs can sometimes be quite verbose and result in a lot of boilerplate code, especially when it comes to working with domain model entities.\n",
    "\n",
    "\"In a nutshell, Spring Data Neo4j (SDN), is an object-graph mapping (OGM) framework that was created to make life easier for (currently only Java) developers who need, or would prefer, to work with a POJO-based domain model, where some or all of the data is stored in Neo4j.\""
   ]
  },
  {
   "cell_type": "markdown",
   "metadata": {
    "slideshow": {
     "slide_type": "subslide"
    }
   },
   "source": [
    "```java\n",
    "public class User {\n",
    "    String userId;\n",
    "    String name;\n",
    "    Set<User> friends;\n",
    "    Set<Viewing> views;\n",
    "    User referredBy;\n",
    "}\n",
    "public class Movie {\n",
    "    String title;\n",
    "    Set<Viewing> views;\n",
    "}\n",
    "public class Viewing {\n",
    "    User user;\n",
    "    Movie movie;\n",
    "    Integer stars;\n",
    "}\n",
    "```"
   ]
  },
  {
   "cell_type": "markdown",
   "metadata": {
    "slideshow": {
     "slide_type": "subslide"
    }
   },
   "source": [
    "SDN is an annotation-based object-graph mapping library. This means it is a library that relies on being able to recognize certain SDN-specific annotations attached to parts of your code. These annotations provide instructions about how to transform the associated code to the underlying structures in the graph.\n",
    "\n",
    "Sometimes you may even find that you do not need to annotate certain pieces of code. This is because SDN tries to infer some sensible defaults, applying the principle of convention over configuration. OGM is to graphs what ORM is to an RDBMS.\n"
   ]
  },
  {
   "cell_type": "markdown",
   "metadata": {},
   "source": [
    "```java\n",
    "@NodeEntity\n",
    "public class User {\n",
    "    String name;\n",
    "\n",
    "    @Indexed(unique=true)\n",
    "    String userId;\n",
    "\n",
    "    @GraphId\n",
    "    Long nodeId;\n",
    "    User referredBy;\n",
    "\n",
    "    @RelatedTo(type = \"IS_FRIEND_OF\", direction = Direction.BOTH)\n",
    "    Set<User> friends;\n",
    "\n",
    "    @RelatedToVia\n",
    "    Set<Viewing> views;\n",
    "}\n",
    "\n",
    "@NodeEntity\n",
    "public class Movie {\n",
    "    String title;\n",
    "\n",
    "    @GraphId\n",
    "    Long nodeId;\n",
    "\n",
    "    @RelatedToVia(direction = Direction.INCOMING)\n",
    "    Iterable<Viewing> views;\n",
    "}\n",
    "\n",
    "@RelationshipEntity(type = \"HAS_SEEN\")\n",
    "public class Viewing {\n",
    "    Integer stars;\n",
    "\n",
    "    @GraphId\n",
    "    Long relationshipId;\n",
    "\n",
    "    @StartNode\n",
    "    User user;\n",
    "\n",
    "    @EndNode\n",
    "    Movie movie;\n",
    "}\n",
    "```"
   ]
  },
  {
   "cell_type": "markdown",
   "metadata": {
    "slideshow": {
     "slide_type": "slide"
    }
   },
   "source": [
    "## Getting Practical!\n",
    "\n",
    "The PageRank Algorithm as described in _Artificial Intelligence: A \n",
    "Modern Approach_ Third Edition by Stuart J. Russell and Peter Norvig.\n",
    "\n",
    "![](https://github.com/HelgeCPH/db_course_nosql/raw/1936259151dc57c43d1e83f40e35b88c86c2c650/lecture_notes/images/pr_descr.png)"
   ]
  },
  {
   "cell_type": "code",
   "execution_count": null,
   "metadata": {
    "slideshow": {
     "slide_type": "subslide"
    }
   },
   "outputs": [],
   "source": [
    "CALL apoc.help(\"apoc.algo.pagerank\") YIELD name, text\n",
    "RETURN *"
   ]
  },
  {
   "cell_type": "code",
   "execution_count": null,
   "metadata": {
    "scrolled": true,
    "slideshow": {
     "slide_type": "subslide"
    }
   },
   "outputs": [],
   "source": [
    "MATCH (p:Person) WITH collect(p) as persons\n",
    "CALL apoc.algo.pageRank(persons) YIELD node, score\n",
    "RETURN id(node), node.name, score\n",
    "ORDER BY score DESC"
   ]
  },
  {
   "cell_type": "markdown",
   "metadata": {
    "slideshow": {
     "slide_type": "subslide"
    }
   },
   "source": [
    "#### How did that work?\n",
    "\n",
    "Have a look to the implementation in Java: https://github.com/neo4j-contrib/neo4j-graph-algorithms/blob/3.2/algo/src/main/java/org/neo4j/graphalgo/PageRankProc.java.\n",
    "\n",
    "\n",
    "#### Doing each Iterative Step Manually in Cypher"
   ]
  },
  {
   "cell_type": "code",
   "execution_count": null,
   "metadata": {
    "slideshow": {
     "slide_type": "fragment"
    }
   },
   "outputs": [],
   "source": [
    "MATCH (a:Person)\n",
    "SET a.pageRank = 1.0"
   ]
  },
  {
   "cell_type": "code",
   "execution_count": null,
   "metadata": {
    "slideshow": {
     "slide_type": "subslide"
    }
   },
   "outputs": [],
   "source": [
    "// we have to go through all nodes\n",
    "MATCH (a:Person)\n",
    "WITH\n",
    "  collect(DISTINCT a) AS pages\n",
    "UNWIND pages as dest\n",
    "  // let's find all source citations for a given node\n",
    "  MATCH (source:Person)-[:ENDORSES]->(dest:Person)\n",
    "  WITH\n",
    "    collect(DISTINCT source) AS sources,\n",
    "    dest AS dest\n",
    "    UNWIND sources AS src\n",
    "      // we have to know how many relationships the source node has\n",
    "      MATCH (src:Person)-[r:ENDORSES]->(:Person)\n",
    "      WITH\n",
    "        src.pageRank / count(r) AS points,\n",
    "        dest AS dest\n",
    "      // now we have all information to update the destination node with the new pagerank\n",
    "      WITH\n",
    "        sum(points) AS p,\n",
    "        dest AS dest\n",
    "      SET dest.pageRank = 0.15 + 0.85 * p;"
   ]
  },
  {
   "cell_type": "code",
   "execution_count": null,
   "metadata": {
    "slideshow": {
     "slide_type": "subslide"
    }
   },
   "outputs": [],
   "source": [
    "MATCH (a:Person) \n",
    "RETURN id(a), a.name, a.pageRank\n",
    "ORDER BY a.pageRank DESC \n",
    "LIMIT 25;"
   ]
  },
  {
   "cell_type": "markdown",
   "metadata": {
    "slideshow": {
     "slide_type": "subslide"
    }
   },
   "source": [
    "\n",
    "  * The above was based on the following reply https://stackoverflow.com/a/36734460\n",
    "  * See more on the APOC page rank algorithm here https://www.adamcowley.co.uk/neo4j/wordpress-recommendations-neo4j-part-4-pagerank-with-apoc/"
   ]
  }
 ],
 "metadata": {
  "celltoolbar": "Slideshow",
  "kernelspec": {
   "display_name": "Cypher",
   "language": "cypher",
   "name": "cypher"
  },
  "language_info": {
   "file_extension": ".cql",
   "mimetype": "text/cypher",
   "name": "cypher"
  }
 },
 "nbformat": 4,
 "nbformat_minor": 2
}
