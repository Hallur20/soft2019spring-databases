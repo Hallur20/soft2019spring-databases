{
 "cells": [
  {
   "cell_type": "markdown",
   "metadata": {},
   "source": [
    "# MySQL connection\n",
    "\n",
    "Loosely buildt on: https://docs.docker.com/samples/library/mysql/\n",
    "\n"
   ]
  },
  {
   "cell_type": "code",
   "execution_count": null,
   "metadata": {},
   "outputs": [],
   "source": [
    "%%bash\n",
    "docker pull mysql:latest"
   ]
  },
  {
   "cell_type": "markdown",
   "metadata": {},
   "source": [
    "## I want to store the files of the database on the host (my computer, not the container).\n",
    "\n",
    "I store them in a directory named mysql_databasefiles\n",
    "\n"
   ]
  },
  {
   "cell_type": "code",
   "execution_count": null,
   "metadata": {},
   "outputs": [],
   "source": [
    "%%bash\n",
    "# -p flag tells it to \"create what is needed\" - \n",
    "mkdir -p mysql_databasefiles\n",
    "echo \"$(pwd)\""
   ]
  },
  {
   "cell_type": "code",
   "execution_count": null,
   "metadata": {},
   "outputs": [],
   "source": [
    "%%bash\n",
    "docker run \\\n",
    "--name my_mysql \\\n",
    "-v $(pwd)/mysql_databasefiles:/var/lib/mysql \\\n",
    "-p 3306:3306 \\\n",
    "-e MYSQL_ROOT_PASSWORD=deterentysker!42snapsnap \\\n",
    "-d \\\n",
    "mysql\n",
    "echo \"Wooootttt\""
   ]
  },
  {
   "cell_type": "markdown",
   "metadata": {},
   "source": [
    "### Confirm it runs"
   ]
  },
  {
   "cell_type": "code",
   "execution_count": null,
   "metadata": {},
   "outputs": [],
   "source": [
    "!docker container ls -a"
   ]
  },
  {
   "cell_type": "code",
   "execution_count": null,
   "metadata": {},
   "outputs": [],
   "source": [
    "!ls -l mysql_databasefiles"
   ]
  },
  {
   "cell_type": "markdown",
   "metadata": {},
   "source": [
    "### Kill it and remove it"
   ]
  },
  {
   "cell_type": "code",
   "execution_count": 5,
   "metadata": {},
   "outputs": [
    {
     "name": "stdout",
     "output_type": "stream",
     "text": [
      "my_mysql\n",
      "my_mysql\n",
      "CONTAINER ID        IMAGE               COMMAND                  CREATED             STATUS              PORTS                      NAMES\n",
      "cc884c1600a3        mongo:latest        \"docker-entrypoint.s…\"   6 days ago          Up 6 days           0.0.0.0:27017->27017/tcp   mymongo\n"
     ]
    }
   ],
   "source": [
    "%%bash\n",
    "docker kill my_mysql\n",
    "docker rm my_mysql\n",
    "docker container ls -a"
   ]
  },
  {
   "cell_type": "markdown",
   "metadata": {},
   "source": [
    "## Connect to it"
   ]
  },
  {
   "cell_type": "code",
   "execution_count": null,
   "metadata": {},
   "outputs": [],
   "source": [
    "import sys\n",
    "import mysql.connector\n",
    "\n",
    "def myconnect(user, pw):\n",
    "    #try:\n",
    "        conn = mysql.connector.connect( host='localhost', database='world',user=user, password=pw)\n",
    "        conn.autocommit = True\n",
    "        return conn;\n",
    "    #except Exception as ex:\n",
    "    #    print(str(ex), file=sys.stderr)\n",
    "    \n",
    "\n",
    "rootconn = myconnect('root','deterentysker!42snapsnap')\n",
    "\n",
    "def sqlQuery(sqlString, conn=rootconn):\n",
    "    try:\n",
    "        cursor = conn.cursor()\n",
    "        cursor.execute(sqlString)\n",
    "        res = cursor.fetchall()\n",
    "        return res\n",
    "    except Exception as ex:\n",
    "        print(str(ex), file=sys.stderr)\n",
    "    finally:    \n",
    "        cursor.close()\n",
    "\n",
    "def sqlDo(sqlString, conn=rootconn):\n",
    "    try:\n",
    "        cursor = conn.cursor()\n",
    "        cursor.execute(sqlString)\n",
    "        res = cursor.fetchwarnings()\n",
    "        return res\n",
    "    except Exception as ex:\n",
    "        print(str(ex), file=sys.stderr)\n",
    "    finally:    \n",
    "        cursor.close()\n",
    "\n",
    "\"Done\"    "
   ]
  },
  {
   "cell_type": "code",
   "execution_count": null,
   "metadata": {},
   "outputs": [],
   "source": [
    "sqlQuery(\"explain world.country\")"
   ]
  },
  {
   "cell_type": "code",
   "execution_count": null,
   "metadata": {},
   "outputs": [],
   "source": [
    "sqlQuery(\"SELECT Name, CountryCode, Population FROM city where population > 8000000\")"
   ]
  },
  {
   "cell_type": "markdown",
   "metadata": {},
   "source": [
    "## Add a new schema"
   ]
  },
  {
   "cell_type": "code",
   "execution_count": null,
   "metadata": {},
   "outputs": [],
   "source": [
    "print ( sqlDo(\"CREATE DATABASE AWESOMENESS DEFAULT CHARACTER SET 'utf8'\"))\n",
    "\"Done\""
   ]
  },
  {
   "cell_type": "code",
   "execution_count": null,
   "metadata": {},
   "outputs": [],
   "source": [
    "print( sqlQuery(\"show databases\"))\n",
    "\"Done\""
   ]
  },
  {
   "cell_type": "code",
   "execution_count": null,
   "metadata": {},
   "outputs": [],
   "source": [
    "print( sqlDo(\"drop schema if exists AWESOMENESS\"))\n",
    "\"Done\""
   ]
  },
  {
   "cell_type": "code",
   "execution_count": null,
   "metadata": {},
   "outputs": [],
   "source": [
    "sqlDo(\"drop schema if exists AWESOMENESS\")"
   ]
  },
  {
   "cell_type": "markdown",
   "metadata": {},
   "source": [
    "## Explaining a table"
   ]
  },
  {
   "cell_type": "code",
   "execution_count": null,
   "metadata": {},
   "outputs": [],
   "source": [
    "sqlQuery(\"explain world.country\")"
   ]
  },
  {
   "cell_type": "code",
   "execution_count": null,
   "metadata": {},
   "outputs": [],
   "source": [
    "sqlQuery(\"select Name, GovernmentForm from country where Continent = 'Antarctica'\")"
   ]
  },
  {
   "cell_type": "markdown",
   "metadata": {},
   "source": [
    "# Create a user "
   ]
  },
  {
   "cell_type": "markdown",
   "metadata": {},
   "source": [
    "Create a **secret-service** user who\n",
    "* Can read all world tables\n",
    "* Alter the GovernmentForm column in the country table\n"
   ]
  },
  {
   "cell_type": "code",
   "execution_count": null,
   "metadata": {},
   "outputs": [],
   "source": [
    "sqlDo(\"DROP USER IF EXISTS SecretService\")"
   ]
  },
  {
   "cell_type": "code",
   "execution_count": null,
   "metadata": {},
   "outputs": [],
   "source": [
    "sqlDo(\"CREATE USER 'SecretService' IDENTIFIED BY 'destable&corrupt'\")"
   ]
  },
  {
   "cell_type": "code",
   "execution_count": null,
   "metadata": {},
   "outputs": [],
   "source": [
    "sqlQuery(\"select User, Host from mysql.user\")"
   ]
  },
  {
   "cell_type": "markdown",
   "metadata": {},
   "source": [
    "## Permissions\n",
    "\n",
    "One can restrict which permissions a user has using this statement:\n",
    "\n",
    "```sql\n",
    "GRANT Privilege ON my_database.my_table TO the_user@the_host\n",
    "```\n",
    "\n",
    "The following table contains some of the possible values for `Privilege`. The full list is in [the reference manual](https://dev.mysql.com/doc/refman/8.0/en/grant.html).\n",
    "\n",
    "| Privilege | Meaning and Grantable Levels |\n",
    "| ----: | :---- | \n",
    "| ALL [PRIVILEGES] | Grant all privileges at specified access level except GRANT OPTION and PROXY. |\n",
    "| ALTER | Enable use of ALTER TABLE. Levels: Global, database, table. |\n",
    "| CREATE | Enable database and table creation. Levels: Global, database, table. |\n",
    "| CREATE USER | Enable use of CREATE USER, DROP USER, RENAME USER, and REVOKE ALL PRIVILEGES. Level: Global. |\n",
    "| DELETE | Enable use of DELETE. Level: Global, database, table. |\n",
    "| DROP | Enable databases, tables, and views to be dropped. Levels: Global, database, table. |\n",
    "| GRANT OPTION | Enable privileges to be granted to or removed from other accounts. Levels: Global, database, table, routine, proxy. |\n",
    "| INSERT | Enable use of INSERT. Levels: Global, database, table, column. |\n",
    "| SELECT | Enable use of SELECT. Levels: Global, database, table, column. |\n",
    "| SHOW DATABASES | Enable SHOW DATABASES to show all databases. Level: Global. |\n",
    "| UPDATE | Enable use of UPDATE. Levels: Global, database, table, column. |\n",
    "| USAGE | Synonym for “no privileges” |![image.png](attachment:image.png)\n"
   ]
  },
  {
   "cell_type": "code",
   "execution_count": null,
   "metadata": {},
   "outputs": [],
   "source": [
    "sqlQuery(\"SHOW GRANTS FOR SecretService\")"
   ]
  },
  {
   "cell_type": "code",
   "execution_count": null,
   "metadata": {},
   "outputs": [],
   "source": [
    "secretconn = myconnect('SecretService','destable&corrupt')"
   ]
  },
  {
   "cell_type": "code",
   "execution_count": null,
   "metadata": {},
   "outputs": [],
   "source": [
    "sqlDo(\"GRANT SELECT ON world.* TO SecretService\")\n",
    "sqlDo(\"FLUSH Privileges\")"
   ]
  },
  {
   "cell_type": "code",
   "execution_count": null,
   "metadata": {},
   "outputs": [],
   "source": [
    "sqlQuery(\"Select Code, Name from country where Continent='Africa' and Population<500000\", secretconn)"
   ]
  },
  {
   "cell_type": "code",
   "execution_count": null,
   "metadata": {},
   "outputs": [],
   "source": [
    "sqlQuery(\"Select * from city where CountryCode='ESH'\", secretconn)"
   ]
  },
  {
   "cell_type": "code",
   "execution_count": null,
   "metadata": {},
   "outputs": [],
   "source": [
    "sqlDo(\"DELETE FROM city WHERE Name = 'DessertHideout'\")"
   ]
  },
  {
   "cell_type": "code",
   "execution_count": null,
   "metadata": {
    "scrolled": true
   },
   "outputs": [],
   "source": [
    "sqlDo(\"\"\"\n",
    "INSERT INTO city (Name, CountryCode,District,Population) \n",
    "    VALUES ('DessertHideout', 'ESH', 'Sandworms beware', 1200)\n",
    "\"\"\",secretconn)"
   ]
  },
  {
   "cell_type": "code",
   "execution_count": null,
   "metadata": {},
   "outputs": [],
   "source": [
    "sqlDo(\"GRANT UPDATE, INSERT  ON world.city TO SecretService; flush privileges\")"
   ]
  },
  {
   "cell_type": "markdown",
   "metadata": {},
   "source": [
    "## Create one user more\n",
    "\n",
    "Create censusSurveyer (person who counts inhabitants). \n",
    "\n",
    "* This person should be able to read the world database\n",
    "* **Update the population columns of city and courntry, but nothing else**"
   ]
  },
  {
   "cell_type": "code",
   "execution_count": null,
   "metadata": {},
   "outputs": [],
   "source": [
    "sqlDo(\"DROP USER IF EXISTS CensusSurveyer\")"
   ]
  },
  {
   "cell_type": "code",
   "execution_count": null,
   "metadata": {},
   "outputs": [],
   "source": [
    "sqlDo(\"CREATE USER 'CensusSurveyer' IDENTIFIED BY 'count#66behappy'\")"
   ]
  },
  {
   "cell_type": "code",
   "execution_count": null,
   "metadata": {},
   "outputs": [],
   "source": [
    "sqlDo(\"GRANT SELECT ON world.* TO CensusSurveyer\")\n",
    "sqlDo(\"FLUSH Privileges\")"
   ]
  },
  {
   "cell_type": "code",
   "execution_count": null,
   "metadata": {},
   "outputs": [],
   "source": [
    "sqlQuery(\"select User, Host from mysql.user\")"
   ]
  },
  {
   "cell_type": "code",
   "execution_count": null,
   "metadata": {},
   "outputs": [],
   "source": [
    "sqlQuery(\"SHOW GRANTS FOR CensusSurveyer\")"
   ]
  },
  {
   "cell_type": "code",
   "execution_count": null,
   "metadata": {},
   "outputs": [],
   "source": [
    "censusconn = myconnect('CensusSurveyer','count#66behappy')"
   ]
  },
  {
   "cell_type": "code",
   "execution_count": null,
   "metadata": {},
   "outputs": [],
   "source": [
    "query = \"\"\"\n",
    "SELECT * \n",
    "FROM city \n",
    "ORDER BY Population DESC\n",
    "LIMIT 10;\n",
    "\"\"\"\n",
    "sqlQuery( query,  censusconn)"
   ]
  },
  {
   "cell_type": "code",
   "execution_count": null,
   "metadata": {},
   "outputs": [],
   "source": [
    "sqlDo(\"GRANT UPDATE (Population) ON world.city TO CensusSurveyer\");\n",
    "sqlDo(\"FLUSH Privileges\")"
   ]
  },
  {
   "cell_type": "code",
   "execution_count": null,
   "metadata": {},
   "outputs": [],
   "source": [
    "sqlDo(\"UPDATE city SET Population = Population + 100 WHERE ID=1024\",censusconn)"
   ]
  },
  {
   "cell_type": "code",
   "execution_count": null,
   "metadata": {},
   "outputs": [],
   "source": [
    "sqlDo(\"UPDATE country SET Population = Population + 1000000 WHERE Code='IND'\", censusconn)"
   ]
  },
  {
   "cell_type": "code",
   "execution_count": null,
   "metadata": {},
   "outputs": [],
   "source": [
    "sqlDo(\"UPDATE city SET Name = 'Москва' WHERE ID=3580\",censusconn)"
   ]
  },
  {
   "cell_type": "markdown",
   "metadata": {},
   "source": [
    "### Limiting actions by host\n",
    "\n",
    "It is possible to grant different permissions depending on from which machine a user is logged in.\n",
    "\n",
    "There are (at least) three useful scenarios for this:\n",
    "\n",
    "* Restricting admin users (and in particularly root) to 'localhost'\n",
    "* Restricting other users to 'localhost', so only users running on the same machine as the DB can access the DB\n",
    "* Restricting users to a specific set of hosts - so only access from those hosts are valid. Think: DB on one machine and webapps on an other."
   ]
  },
  {
   "cell_type": "markdown",
   "metadata": {},
   "source": [
    "## Logs\n",
    "They serve several roles in serious database maintenance\n",
    "* Documents all log-ins, and from where\n",
    "* Documents all queries, for debugging purposes\n",
    "* Documents performance issues\n",
    "\n",
    "Besides, the logs play a role in hard recovery of crashed databases"
   ]
  },
  {
   "cell_type": "code",
   "execution_count": null,
   "metadata": {},
   "outputs": [],
   "source": [
    "sqlDo(\"SET global general_log = 1; SET global log_output = 'table'\")"
   ]
  },
  {
   "cell_type": "code",
   "execution_count": null,
   "metadata": {},
   "outputs": [],
   "source": [
    "sqlQuery(\"Explain mysql.general_log\")"
   ]
  },
  {
   "cell_type": "code",
   "execution_count": null,
   "metadata": {},
   "outputs": [],
   "source": [
    "sqlQuery(\"\"\"\n",
    "SELECT DATE_FORMAT(event_time,'%H:%i:%s')as time, user_host, command_type, argument \n",
    "FROM mysql.general_log\n",
    "ORDER BY time DESC\n",
    "LIMIT 10\n",
    "\"\"\")"
   ]
  },
  {
   "cell_type": "code",
   "execution_count": null,
   "metadata": {},
   "outputs": [],
   "source": [
    "sqlQuery(\"\"\"\n",
    "SELECT DATE_FORMAT(event_time,'%H:%i:%s')as time, user_host,  command_type, argument \n",
    "FROM mysql.general_log\n",
    "WHERE command_type <>'Query'\n",
    "ORDER BY time DESC\n",
    "LIMIT 15\n",
    "\"\"\")"
   ]
  },
  {
   "cell_type": "code",
   "execution_count": null,
   "metadata": {},
   "outputs": [],
   "source": [
    "sqlQuery(\"show tables in mysql\")"
   ]
  },
  {
   "cell_type": "code",
   "execution_count": null,
   "metadata": {},
   "outputs": [],
   "source": [
    "sqlQuery(\"show schemas\")"
   ]
  },
  {
   "cell_type": "markdown",
   "metadata": {},
   "source": [
    "## Backup & restore\n",
    "\n",
    "The final aspect of security is to be able to recover from a break-down or a hack.\n",
    "\n",
    "The literature mentions a couple of good concepts which are worth noticing:\n",
    "\n",
    "* **Physical vs. Logical backup**. Do you backup \"all the files of the DB\" (Physical), or do you create a (number of) sql files which can be run to restore the database (Logical).\n",
    "* **Online Versus Offline Backups**. Online backups take place while the MySQL server is running so that the database information can be obtained from the server. Offline backups take place while the server is stopped.\n",
    "* **Local Versus Remote Backups**. A local backup is performed on the same host where the MySQL server runs, whereas a remote backup is done from a different host.\n",
    "* **Full Versus Incremental Backups**. A full backup includes all data managed by a MySQL server at a given point in time. An incremental backup consists of the changes made to the data during a given time span.\n"
   ]
  },
  {
   "cell_type": "markdown",
   "metadata": {},
   "source": [
    "### full local online logical backup\n",
    "\n",
    "mysql has a special program named `mysqldump` which can do several of the combinations mentioned above. \n",
    "\n",
    "The idea is to backup as: `bash> mysqldump --all-databases > dump.sql`.\n",
    "\n",
    "Restore can then be done as: `bash> mysql < dump.sql`.\n",
    "\n"
   ]
  },
  {
   "cell_type": "markdown",
   "metadata": {},
   "source": [
    "### Storing the backup outside the docker container\n",
    "I want the backup to end up on my host, not inside the filesystem of the docker container.\n",
    "\n",
    "We are free to chose where to put it. Inside the container I will store to a directory `/mnt/host`, and map that to `$(pwd)/mysql_dump`. \n"
   ]
  },
  {
   "cell_type": "code",
   "execution_count": 6,
   "metadata": {},
   "outputs": [
    {
     "name": "stdout",
     "output_type": "stream",
     "text": [
      "CONTAINER ID        IMAGE               COMMAND                  CREATED             STATUS              PORTS                      NAMES\n",
      "cc884c1600a3        mongo:latest        \"docker-entrypoint.s…\"   6 days ago          Up 6 days           0.0.0.0:27017->27017/tcp   mymongo\n"
     ]
    },
    {
     "name": "stderr",
     "output_type": "stream",
     "text": [
      "Error response from daemon: Cannot kill container: my_mysql: No such container: my_mysql\n",
      "Error: No such container: my_mysql\n"
     ]
    }
   ],
   "source": [
    "%%bash\n",
    "docker kill my_mysql\n",
    "docker rm my_mysql\n",
    "docker container ls -a"
   ]
  },
  {
   "cell_type": "code",
   "execution_count": 9,
   "metadata": {},
   "outputs": [
    {
     "name": "stdout",
     "output_type": "stream",
     "text": [
      "Back online\n"
     ]
    },
    {
     "name": "stderr",
     "output_type": "stream",
     "text": [
      "docker: Error response from daemon: Conflict. The container name \"/my_mysql\" is already in use by container \"d2eac72dc57a4d82e76b5e37c83e316dd019a4d3494a55c8f4654c677a986c99\". You have to remove (or rename) that container to be able to reuse that name.\n",
      "See 'docker run --help'.\n"
     ]
    }
   ],
   "source": [
    "%%bash\n",
    "docker run \\\n",
    "--name my_mysql \\\n",
    "-v $(pwd)/mysql_databasefiles:/var/lib/mysql \\\n",
    "-v $(pwd)/mysql_dump:/mnt/host \\\n",
    "-p 3306:3306 \\\n",
    "-e MYSQL_ROOT_PASSWORD=deterentysker!42snapsnap \\\n",
    "-d \\\n",
    "mysql\n",
    "echo \"Back online\""
   ]
  },
  {
   "cell_type": "code",
   "execution_count": 12,
   "metadata": {},
   "outputs": [
    {
     "name": "stdout",
     "output_type": "stream",
     "text": [
      "2ab34d349f6c409c2246beb3767a977ff0058f5e45f027a6a10a6703e286fc8c\n",
      "Back online\n"
     ]
    }
   ],
   "source": [
    "%%bash\n",
    "docker run \\\n",
    "--name my_mysql2 \\\n",
    "-v $(pwd)/mysql_databasefiles2:/var/lib/mysql \\\n",
    "-v $(pwd)/mysql_dump:/mnt/host \\\n",
    "-e MYSQL_ROOT_PASSWORD=bla_open_now \\\n",
    "-d \\\n",
    "mysql\n",
    "echo \"Back online\""
   ]
  }
 ],
 "metadata": {
  "kernelspec": {
   "display_name": "Python 3",
   "language": "python",
   "name": "python3"
  },
  "language_info": {
   "codemirror_mode": {
    "name": "ipython",
    "version": 3
   },
   "file_extension": ".py",
   "mimetype": "text/x-python",
   "name": "python",
   "nbconvert_exporter": "python",
   "pygments_lexer": "ipython3",
   "version": "3.7.2"
  }
 },
 "nbformat": 4,
 "nbformat_minor": 2
}
