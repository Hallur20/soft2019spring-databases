{
 "cells": [
  {
   "cell_type": "markdown",
   "metadata": {
    "slideshow": {
     "slide_type": "slide"
    }
   },
   "source": [
    "# Intro to Graph Databases"
   ]
  },
  {
   "cell_type": "markdown",
   "metadata": {
    "slideshow": {
     "slide_type": "slide"
    }
   },
   "source": [
    "## A Database Container\n",
    "\n",
    "![](images/DB_containers_internal.png)"
   ]
  },
  {
   "cell_type": "code",
   "execution_count": 70,
   "metadata": {
    "slideshow": {
     "slide_type": "subslide"
    }
   },
   "outputs": [
    {
     "data": {
      "text/plain": [
       "8956dd638832111b70b2b82890829f6fb5a5a10f85f695f83fee862801f7323f\r\n"
      ]
     },
     "execution_count": 70,
     "metadata": {},
     "output_type": "execute_result"
    }
   ],
   "source": [
    "%%bash\n",
    "docker run \\\n",
    "    -d --name neo4j \\\n",
    "    --rm \\\n",
    "    --publish=7474:7474 \\\n",
    "    --publish=7687:7687 \\\n",
    "    --env NEO4J_AUTH=neo4j/class \\\n",
    "    neo4j"
   ]
  },
  {
   "cell_type": "code",
   "execution_count": 71,
   "metadata": {
    "slideshow": {
     "slide_type": "fragment"
    }
   },
   "outputs": [
    {
     "data": {
      "text/plain": [
       "8956dd638832        neo4j                                                                                                                                \"/docker-entrypoint.…\"   4 seconds ago       Up 5 seconds              0.0.0.0:7474->7474/tcp, 7473/tcp, 0.0.0.0:7687->7687/tcp   neo4j\r\n"
      ]
     },
     "execution_count": 71,
     "metadata": {},
     "output_type": "execute_result"
    }
   ],
   "source": [
    "%%bash\n",
    "docker ps -a | grep neo4j"
   ]
  },
  {
   "cell_type": "markdown",
   "metadata": {
    "slideshow": {
     "slide_type": "subslide"
    }
   },
   "source": [
    "Navigate to http://localhost:7474/browser/ to work with a browser based Neo4j console:\n",
    "\n",
    "![](./images/neo4j_login.png)"
   ]
  },
  {
   "cell_type": "markdown",
   "metadata": {
    "slideshow": {
     "slide_type": "subslide"
    }
   },
   "source": [
    "### A Simple Graph\n",
    "\n",
    "The simplest graph has just a single node with some named values called Properties. \n",
    "\n",
    "Start by drawing a circle for the node. Add a name of the corresponding person, her job and her birthday.\n",
    "\n",
    "  * **Nodes** are the name for data records in a graph\n",
    "  * Data is stored as **Properties**\n",
    "  * **Properties** are simple key/value pairs\n",
    "  \n",
    "  \n",
    "![](./images/single_node.gv.svg)"
   ]
  },
  {
   "cell_type": "markdown",
   "metadata": {
    "slideshow": {
     "slide_type": "subslide"
    }
   },
   "source": [
    "###  Labels\n",
    "\n",
    "Labels associate a set of nodes. Think of them as the type of your nodes.\n",
    "\n",
    "Nodes can be grouped together by applying a Label to each member. In our social graph, we will label each node that represents a `Person`.\n",
    "\n",
    "Apply the label `Person` to the node we created for *Odessa*\n",
    "\n",
    "  * Color `Person` nodes green\n",
    "  * A node can have zero or more labels\n",
    "  * Labels do not have any properties"
   ]
  },
  {
   "cell_type": "markdown",
   "metadata": {
    "slideshow": {
     "slide_type": "subslide"
    }
   },
   "source": [
    "### More Nodes\n",
    "\n",
    "Schema-free, nodes can have a mix of common and unique properties\n",
    "\n",
    "Like any database, storing data in Neo4j can be as simple as adding more records. We will add a few more nodes:\n",
    "\n",
    "  * Emil has a klout score of 99 (https://en.wikipedia.org/wiki/Klout)\n",
    "  * Johan, from Sweden, who is learning to surf\n",
    "  * Ian, from England, who is an author\n",
    "  * Rik, from Belgium, has a cat named Orval\n",
    "  * Allison, from California, who surfs\n",
    "  * Similar nodes can have different properties\n",
    "  * Properties can be strings, numbers, or booleans\n",
    "\n",
    "Neo4j can store billions of nodes."
   ]
  },
  {
   "cell_type": "markdown",
   "metadata": {
    "slideshow": {
     "slide_type": "subslide"
    }
   },
   "source": [
    "### Relationships\n",
    "\n",
    "Relationships connect nodes in the graph. The real power of Neo4j is in connected data. To associate any two nodes, add a Relationship which describes how the records are related.\n",
    "\n",
    "In our social graph, we simply say who `KNOWS` whom:\n",
    "\n",
    "  * Emil `KNOWS` Johan and Ian\n",
    "  * Johan `KNOWS` Ian and Rik\n",
    "  * Rik and Ian `KNOWS` Allison\n",
    "  * Relationships always have direction **OBS** That is, we model directed graphs in Neo4J.\n",
    "  * Relationships always have a type\n",
    "  * Relationships form patterns of data\n",
    "  \n",
    "![](images/simple_graph.gv.svg)"
   ]
  },
  {
   "cell_type": "markdown",
   "metadata": {
    "slideshow": {
     "slide_type": "subslide"
    }
   },
   "source": [
    "### Relationship properties\n",
    "\n",
    "Store information shared by two nodes.\n",
    "\n",
    "In a property graph, relationships are data records that can also contain properties. Looking more closely at Emil's relationships, note that:\n",
    "\n",
    "  * Emil has known Johan since 2001\n",
    "  * Emil rates Ian 5 (out of 5)\n",
    "  * Everyone else can have similar relationship properties\n",
    "\n",
    "\n",
    "![](images/simple_graph.gv.svg)"
   ]
  },
  {
   "cell_type": "markdown",
   "metadata": {
    "slideshow": {
     "slide_type": "subslide"
    }
   },
   "source": [
    "## Intro to Cypher\n",
    "\n",
    "*Cypher* is Neo4j's graph query language. It is purpose built for working with graph data.\n",
    "\n",
    "It makes it easy to work with graphs as it uses:\n",
    "  \n",
    "  * patterns to describe graph data\n",
    "  * familiar SQL-like clauses\n",
    "\n",
    "*Cypher* is a declarative language. That is, your patterns describe **what** to find, not **how** to find it.\n",
    "\n"
   ]
  },
  {
   "cell_type": "markdown",
   "metadata": {
    "slideshow": {
     "slide_type": "subslide"
    }
   },
   "source": [
    "### Creating Nodes\n",
    "\n",
    "Let's use Cypher to generate a small social graph."
   ]
  },
  {
   "cell_type": "code",
   "execution_count": 72,
   "metadata": {
    "slideshow": {
     "slide_type": "fragment"
    }
   },
   "outputs": [
    {
     "data": {
      "text/plain": []
     },
     "execution_count": 72,
     "metadata": {},
     "output_type": "execute_result"
    }
   ],
   "source": [
    "CREATE (a:Person { name: \"Emil\", from: \"Sweden\", klout: 99 })"
   ]
  },
  {
   "cell_type": "markdown",
   "metadata": {
    "slideshow": {
     "slide_type": "fragment"
    }
   },
   "source": [
    "That is it. The `CREATE` clause cossesponds to you drawing a circle on the whiteboard. You use it to create data, where:\n",
    "\n",
    "  * `()` parenthesis indicate a node\n",
    "  * `a:Person` a variable `a` and label `Person` for the new node\n",
    "  * `{}` brackets add properties to the node"
   ]
  },
  {
   "cell_type": "markdown",
   "metadata": {
    "slideshow": {
     "slide_type": "subslide"
    }
   },
   "source": [
    "## Finding nodes\n",
    "\n",
    "To find the node representing Emil:"
   ]
  },
  {
   "cell_type": "code",
   "execution_count": 75,
   "metadata": {
    "slideshow": {
     "slide_type": "fragment"
    }
   },
   "outputs": [
    {
     "data": {
      "application/javascript": [
       "require([\"https://cdnjs.cloudflare.com/ajax/libs/vis/4.21.0/vis.min.js\"], function(vis) {\n",
       "  var nodes = new vis.DataSet([\n",
       "    { id: 0, label: \"Person\", title: \"{name:Emil,<br>from:Sweden,<br>klout:99,<br>_id:0}\", color: 'rgba(157,44,130,0.5)'},\n",
       "    \n",
       "  ]);\n",
       "\n",
       "  // create an array with edges\n",
       "  var edges = new vis.DataSet([\n",
       "    \n",
       "  ]);\n",
       "\n",
       "  // create a network\n",
       "  var container = document.getElementById('b796c051-d121-40d0-82d9-9dba9d6f82c7');\n",
       "  var data = {\n",
       "    nodes: nodes,\n",
       "    edges: edges\n",
       "  };\n",
       "\n",
       "  var options = {\n",
       "    edges: {\n",
       "      arrows: {\n",
       "        to: {\n",
       "          scaleFactor: 0.5\n",
       "        }\n",
       "      }\n",
       "    },\n",
       "    width: '100%',\n",
       "    height: '500px',\n",
       "    interaction: {hover: true}\n",
       "  };\n",
       "\n",
       "  var network = new vis.Network(container, data, options);});"
      ]
     },
     "metadata": {},
     "output_type": "display_data"
    },
    {
     "data": {
      "text/html": [
       "<link href=\"https://cdnjs.cloudflare.com/ajax/libs/vis/4.21.0/vis.min.css\" rel=\"stylesheet\" type=\"text/css\">\n",
       "                <div id=\"b796c051-d121-40d0-82d9-9dba9d6f82c7\"></div>\n",
       "                "
      ]
     },
     "metadata": {},
     "output_type": "display_data"
    },
    {
     "data": {
      "text/plain": [
       "+--------------------------------------------------------------+\n",
       "| a                                                            |\n",
       "+--------------------------------------------------------------+\n",
       "| (:Person {name: \"Emil\", _id_: 0, from: \"Sweden\", klout: 99}) |\n",
       "+--------------------------------------------------------------+\n",
       "\n",
       "1 row available after 1 ms, consumed after another 1 ms"
      ]
     },
     "execution_count": 75,
     "metadata": {},
     "output_type": "execute_result"
    }
   ],
   "source": [
    "MATCH (a:Person) \n",
    "WHERE a.name = \"Emil\" \n",
    "RETURN a"
   ]
  },
  {
   "cell_type": "markdown",
   "metadata": {
    "slideshow": {
     "slide_type": "subslide"
    }
   },
   "source": [
    "The `MATCH` clause specifies a pattern of nodes and relationships.\n",
    "\n",
    "  * `(a:Person)` a single node pattern with label 'Person' which will assign matches to the variable 'a'\n",
    "  * `WHERE` clause to constrain the results\n",
    "  * `a.name = \"Emil\"` compares name property to the value `\"Emil\"`\n",
    "  * `RETURN` clause used to request particular results"
   ]
  },
  {
   "cell_type": "markdown",
   "metadata": {
    "slideshow": {
     "slide_type": "subslide"
    }
   },
   "source": [
    "To find all nodes in your database you would relax your query and just search for example for all nodes:"
   ]
  },
  {
   "cell_type": "code",
   "execution_count": 77,
   "metadata": {
    "slideshow": {
     "slide_type": "fragment"
    }
   },
   "outputs": [
    {
     "data": {
      "application/javascript": [
       "require([\"https://cdnjs.cloudflare.com/ajax/libs/vis/4.21.0/vis.min.js\"], function(vis) {\n",
       "  var nodes = new vis.DataSet([\n",
       "    { id: 0, label: \"Person\", title: \"{name:Emil,<br>from:Sweden,<br>klout:99,<br>_id:0}\", color: 'rgba(157,44,130,0.5)'},\n",
       "    \n",
       "  ]);\n",
       "\n",
       "  // create an array with edges\n",
       "  var edges = new vis.DataSet([\n",
       "    \n",
       "  ]);\n",
       "\n",
       "  // create a network\n",
       "  var container = document.getElementById('dbf2271b-0470-49eb-b8c0-fbd2bb805513');\n",
       "  var data = {\n",
       "    nodes: nodes,\n",
       "    edges: edges\n",
       "  };\n",
       "\n",
       "  var options = {\n",
       "    edges: {\n",
       "      arrows: {\n",
       "        to: {\n",
       "          scaleFactor: 0.5\n",
       "        }\n",
       "      }\n",
       "    },\n",
       "    width: '100%',\n",
       "    height: '500px',\n",
       "    interaction: {hover: true}\n",
       "  };\n",
       "\n",
       "  var network = new vis.Network(container, data, options);});"
      ]
     },
     "metadata": {},
     "output_type": "display_data"
    },
    {
     "data": {
      "text/html": [
       "<link href=\"https://cdnjs.cloudflare.com/ajax/libs/vis/4.21.0/vis.min.css\" rel=\"stylesheet\" type=\"text/css\">\n",
       "                <div id=\"dbf2271b-0470-49eb-b8c0-fbd2bb805513\"></div>\n",
       "                "
      ]
     },
     "metadata": {},
     "output_type": "display_data"
    },
    {
     "data": {
      "text/plain": [
       "+--------------------------------------------------------------+\n",
       "| a                                                            |\n",
       "+--------------------------------------------------------------+\n",
       "| (:Person {name: \"Emil\", _id_: 0, from: \"Sweden\", klout: 99}) |\n",
       "+--------------------------------------------------------------+\n",
       "\n",
       "1 row available after 2 ms, consumed after another 0 ms"
      ]
     },
     "execution_count": 77,
     "metadata": {},
     "output_type": "execute_result"
    }
   ],
   "source": [
    "MATCH (a)\n",
    "RETURN a;"
   ]
  },
  {
   "cell_type": "markdown",
   "metadata": {
    "slideshow": {
     "slide_type": "subslide"
    }
   },
   "source": [
    "### Counting Nodes"
   ]
  },
  {
   "cell_type": "code",
   "execution_count": null,
   "metadata": {
    "slideshow": {
     "slide_type": "fragment"
    }
   },
   "outputs": [],
   "source": [
    "MATCH (a) \n",
    "RETURN count(*);"
   ]
  },
  {
   "cell_type": "markdown",
   "metadata": {
    "slideshow": {
     "slide_type": "subslide"
    }
   },
   "source": [
    "### Create More Nodes and Relationships"
   ]
  },
  {
   "cell_type": "code",
   "execution_count": 78,
   "metadata": {},
   "outputs": [
    {
     "data": {
      "text/plain": []
     },
     "execution_count": 78,
     "metadata": {},
     "output_type": "execute_result"
    }
   ],
   "source": [
    "CREATE (js:Person { name: \"Johan\", from: \"Sweden\", learn: \"surfing\" })"
   ]
  },
  {
   "cell_type": "code",
   "execution_count": 80,
   "metadata": {},
   "outputs": [
    {
     "data": {
      "text/plain": [
       "+-------+\n",
       "| id(z) |\n",
       "+-------+\n",
       "| 0     |\n",
       "| 20    |\n",
       "+-------+\n",
       "\n",
       "2 rows available after 13 ms, consumed after another 1 ms"
      ]
     },
     "execution_count": 80,
     "metadata": {},
     "output_type": "execute_result"
    }
   ],
   "source": [
    "MATCH (z:Person)\n",
    "RETURN id(z);"
   ]
  },
  {
   "cell_type": "markdown",
   "metadata": {
    "slideshow": {
     "slide_type": "subslide"
    }
   },
   "source": [
    "After creating two nodes -one for Emil and one for Johan respectively- manually, we have two disconnected nodes in the dataset. You could add a `KNOWS` relationship between them by matching the nodes and creating a new relationship."
   ]
  },
  {
   "cell_type": "code",
   "execution_count": 81,
   "metadata": {
    "scrolled": true
   },
   "outputs": [
    {
     "data": {
      "text/plain": []
     },
     "execution_count": 81,
     "metadata": {},
     "output_type": "execute_result"
    }
   ],
   "source": [
    "MATCH (a),(b)\n",
    "WHERE a.name = \"Emil\" AND b.name = \"Johan\"\n",
    "CREATE (a)-[:KNOWS {since: 2001}]->(b)"
   ]
  },
  {
   "cell_type": "markdown",
   "metadata": {
    "slideshow": {
     "slide_type": "subslide"
    }
   },
   "source": [
    "However, the `CREATE` clause can create many nodes and relationships at once too."
   ]
  },
  {
   "cell_type": "code",
   "execution_count": 82,
   "metadata": {
    "slideshow": {
     "slide_type": "fragment"
    }
   },
   "outputs": [
    {
     "data": {
      "text/plain": []
     },
     "execution_count": 82,
     "metadata": {},
     "output_type": "execute_result"
    }
   ],
   "source": [
    "MATCH (a:Person),(b:Person) \n",
    "WHERE a.name = \"Emil\" AND b.name = \"Johan\"\n",
    "CREATE (ir:Person { name: \"Ian\", from: \"England\", title: \"author\" }),\n",
    "(rvb:Person { name: \"Rik\", from: \"Belgium\", pet: \"Orval\" }),\n",
    "(ally:Person { name: \"Allison\", from: \"California\", hobby: \"surfing\" }),\n",
    "(a)-[:KNOWS {rating: 5}]->(ir),(b)-[:KNOWS]->(ir),(b)-[:KNOWS]->(rvb),\n",
    "(ir)-[:KNOWS]->(b),(ir)-[:KNOWS]->(ally),(rvb)-[:KNOWS]->(ally)"
   ]
  },
  {
   "cell_type": "code",
   "execution_count": 83,
   "metadata": {},
   "outputs": [
    {
     "data": {
      "application/javascript": [
       "require([\"https://cdnjs.cloudflare.com/ajax/libs/vis/4.21.0/vis.min.js\"], function(vis) {\n",
       "  var nodes = new vis.DataSet([\n",
       "    { id: 0, label: \"Person\", title: \"{name:Emil,<br>from:Sweden,<br>klout:99,<br>_id:0}\", color: 'rgba(157,44,130,0.5)'},\n",
       "    { id: 20, label: \"Person\", title: \"{name:Johan,<br>from:Sweden,<br>learn:surfing,<br>_id:20}\", color: 'rgba(157,44,130,0.5)'},\n",
       "    { id: 21, label: \"Person\", title: \"{name:Ian,<br>from:England,<br>title:author,<br>_id:21}\", color: 'rgba(157,44,130,0.5)'},\n",
       "    { id: 23, label: \"Person\", title: \"{name:Allison,<br>from:California,<br>hobby:surfing,<br>_id:23}\", color: 'rgba(157,44,130,0.5)'},\n",
       "    { id: 22, label: \"Person\", title: \"{name:Rik,<br>from:Belgium,<br>pet:Orval,<br>_id:22}\", color: 'rgba(157,44,130,0.5)'},\n",
       "    \n",
       "  ]);\n",
       "\n",
       "  // create an array with edges\n",
       "  var edges = new vis.DataSet([\n",
       "    \n",
       "  ]);\n",
       "\n",
       "  // create a network\n",
       "  var container = document.getElementById('792bd2e3-f0ae-4a69-ac43-e8418b2c600c');\n",
       "  var data = {\n",
       "    nodes: nodes,\n",
       "    edges: edges\n",
       "  };\n",
       "\n",
       "  var options = {\n",
       "    edges: {\n",
       "      arrows: {\n",
       "        to: {\n",
       "          scaleFactor: 0.5\n",
       "        }\n",
       "      }\n",
       "    },\n",
       "    width: '100%',\n",
       "    height: '500px',\n",
       "    interaction: {hover: true}\n",
       "  };\n",
       "\n",
       "  var network = new vis.Network(container, data, options);});"
      ]
     },
     "metadata": {},
     "output_type": "display_data"
    },
    {
     "data": {
      "text/html": [
       "<link href=\"https://cdnjs.cloudflare.com/ajax/libs/vis/4.21.0/vis.min.css\" rel=\"stylesheet\" type=\"text/css\">\n",
       "                <div id=\"792bd2e3-f0ae-4a69-ac43-e8418b2c600c\"></div>\n",
       "                "
      ]
     },
     "metadata": {},
     "output_type": "display_data"
    },
    {
     "data": {
      "text/plain": [
       "+-----------------------------------------------------------------------------+\n",
       "| a                                                                           |\n",
       "+-----------------------------------------------------------------------------+\n",
       "| (:Person {name: \"Emil\", _id_: 0, from: \"Sweden\", klout: 99})                |\n",
       "| (:Person {name: \"Johan\", _id_: 20, from: \"Sweden\", learn: \"surfing\"})       |\n",
       "| (:Person {name: \"Ian\", _id_: 21, from: \"England\", title: \"author\"})         |\n",
       "| (:Person {name: \"Rik\", _id_: 22, from: \"Belgium\", pet: \"Orval\"})            |\n",
       "| (:Person {name: \"Allison\", _id_: 23, from: \"California\", hobby: \"surfing\"}) |\n",
       "+-----------------------------------------------------------------------------+\n",
       "\n",
       "5 rows available after 1 ms, consumed after another 1 ms"
      ]
     },
     "execution_count": 83,
     "metadata": {},
     "output_type": "execute_result"
    }
   ],
   "source": [
    "MATCH (a)\n",
    "RETURN a;"
   ]
  },
  {
   "cell_type": "markdown",
   "metadata": {
    "slideshow": {
     "slide_type": "subslide"
    }
   },
   "source": [
    "### How to see the entire graph?"
   ]
  },
  {
   "cell_type": "code",
   "execution_count": 84,
   "metadata": {
    "slideshow": {
     "slide_type": "fragment"
    }
   },
   "outputs": [
    {
     "data": {
      "application/javascript": [
       "require([\"https://cdnjs.cloudflare.com/ajax/libs/vis/4.21.0/vis.min.js\"], function(vis) {\n",
       "  var nodes = new vis.DataSet([\n",
       "    { id: 0, label: \"Person\", title: \"{name:Emil,<br>from:Sweden,<br>klout:99,<br>_id:0}\", color: 'rgba(157,44,130,0.5)'},\n",
       "    { id: 20, label: \"Person\", title: \"{name:Johan,<br>from:Sweden,<br>learn:surfing,<br>_id:20}\", color: 'rgba(157,44,130,0.5)'},\n",
       "    { id: 21, label: \"Person\", title: \"{name:Ian,<br>from:England,<br>title:author,<br>_id:21}\", color: 'rgba(157,44,130,0.5)'},\n",
       "    { id: 23, label: \"Person\", title: \"{name:Allison,<br>from:California,<br>hobby:surfing,<br>_id:23}\", color: 'rgba(157,44,130,0.5)'},\n",
       "    { id: 22, label: \"Person\", title: \"{name:Rik,<br>from:Belgium,<br>pet:Orval,<br>_id:22}\", color: 'rgba(157,44,130,0.5)'},\n",
       "    \n",
       "  ]);\n",
       "\n",
       "  // create an array with edges\n",
       "  var edges = new vis.DataSet([\n",
       "    { from: 0,to: 21, arrows:'to', title: \"{rating:5, _id:20,}\" },\n",
       "    { from: 21,to: 23, arrows:'to', title: \"{_id:24,}\" },\n",
       "    { from: 0,to: 20, arrows:'to', title: \"{since:2001, _id:0,}\" },\n",
       "    { from: 20,to: 22, arrows:'to', title: \"{_id:22,}\" },\n",
       "    { from: 21,to: 20, arrows:'to', title: \"{_id:23,}\" },\n",
       "    { from: 22,to: 23, arrows:'to', title: \"{_id:25,}\" },\n",
       "    { from: 20,to: 21, arrows:'to', title: \"{_id:21,}\" },\n",
       "    \n",
       "  ]);\n",
       "\n",
       "  // create a network\n",
       "  var container = document.getElementById('6b276e0a-32e0-464e-bc2e-7285df695be0');\n",
       "  var data = {\n",
       "    nodes: nodes,\n",
       "    edges: edges\n",
       "  };\n",
       "\n",
       "  var options = {\n",
       "    edges: {\n",
       "      arrows: {\n",
       "        to: {\n",
       "          scaleFactor: 0.5\n",
       "        }\n",
       "      }\n",
       "    },\n",
       "    width: '100%',\n",
       "    height: '500px',\n",
       "    interaction: {hover: true}\n",
       "  };\n",
       "\n",
       "  var network = new vis.Network(container, data, options);});"
      ]
     },
     "metadata": {},
     "output_type": "display_data"
    },
    {
     "data": {
      "text/html": [
       "<link href=\"https://cdnjs.cloudflare.com/ajax/libs/vis/4.21.0/vis.min.css\" rel=\"stylesheet\" type=\"text/css\">\n",
       "                <div id=\"6b276e0a-32e0-464e-bc2e-7285df695be0\"></div>\n",
       "                "
      ]
     },
     "metadata": {},
     "output_type": "display_data"
    },
    {
     "data": {
      "text/plain": [
       "+---------------------------------------------------------------------------------------------------------------------------------------------------------------------------------------------------+\n",
       "| a                                                                           | r                                     | b                                                                           |\n",
       "+---------------------------------------------------------------------------------------------------------------------------------------------------------------------------------------------------+\n",
       "| (:Person {name: \"Emil\", _id_: 0, from: \"Sweden\", klout: 99})                | [:KNOWS {rating: 5, _id_: 20}[0>21]]  | (:Person {name: \"Ian\", _id_: 21, from: \"England\", title: \"author\"})         |\n",
       "| (:Person {name: \"Emil\", _id_: 0, from: \"Sweden\", klout: 99})                | [:KNOWS {_id_: 0, since: 2001}[0>20]] | (:Person {name: \"Johan\", _id_: 20, from: \"Sweden\", learn: \"surfing\"})       |\n",
       "| (:Person {name: \"Johan\", _id_: 20, from: \"Sweden\", learn: \"surfing\"})       | [:KNOWS {_id_: 22}[20>22]]            | (:Person {name: \"Rik\", _id_: 22, from: \"Belgium\", pet: \"Orval\"})            |\n",
       "| (:Person {name: \"Johan\", _id_: 20, from: \"Sweden\", learn: \"surfing\"})       | [:KNOWS {_id_: 23}[21>20]]            | (:Person {name: \"Ian\", _id_: 21, from: \"England\", title: \"author\"})         |\n",
       "| (:Person {name: \"Johan\", _id_: 20, from: \"Sweden\", learn: \"surfing\"})       | [:KNOWS {_id_: 21}[20>21]]            | (:Person {name: \"Ian\", _id_: 21, from: \"England\", title: \"author\"})         |\n",
       "| (:Person {name: \"Johan\", _id_: 20, from: \"Sweden\", learn: \"surfing\"})       | [:KNOWS {_id_: 0, since: 2001}[0>20]] | (:Person {name: \"Emil\", _id_: 0, from: \"Sweden\", klout: 99})                |\n",
       "| (:Person {name: \"Ian\", _id_: 21, from: \"England\", title: \"author\"})         | [:KNOWS {_id_: 24}[21>23]]            | (:Person {name: \"Allison\", _id_: 23, from: \"California\", hobby: \"surfing\"}) |\n",
       "| (:Person {name: \"Ian\", _id_: 21, from: \"England\", title: \"author\"})         | [:KNOWS {_id_: 23}[21>20]]            | (:Person {name: \"Johan\", _id_: 20, from: \"Sweden\", learn: \"surfing\"})       |\n",
       "| (:Person {name: \"Ian\", _id_: 21, from: \"England\", title: \"author\"})         | [:KNOWS {rating: 5, _id_: 20}[0>21]]  | (:Person {name: \"Emil\", _id_: 0, from: \"Sweden\", klout: 99})                |\n",
       "| (:Person {name: \"Ian\", _id_: 21, from: \"England\", title: \"author\"})         | [:KNOWS {_id_: 21}[20>21]]            | (:Person {name: \"Johan\", _id_: 20, from: \"Sweden\", learn: \"surfing\"})       |\n",
       "| (:Person {name: \"Rik\", _id_: 22, from: \"Belgium\", pet: \"Orval\"})            | [:KNOWS {_id_: 25}[22>23]]            | (:Person {name: \"Allison\", _id_: 23, from: \"California\", hobby: \"surfing\"}) |\n",
       "| (:Person {name: \"Rik\", _id_: 22, from: \"Belgium\", pet: \"Orval\"})            | [:KNOWS {_id_: 22}[20>22]]            | (:Person {name: \"Johan\", _id_: 20, from: \"Sweden\", learn: \"surfing\"})       |\n",
       "| (:Person {name: \"Allison\", _id_: 23, from: \"California\", hobby: \"surfing\"}) | [:KNOWS {_id_: 24}[21>23]]            | (:Person {name: \"Ian\", _id_: 21, from: \"England\", title: \"author\"})         |\n",
       "| (:Person {name: \"Allison\", _id_: 23, from: \"California\", hobby: \"surfing\"}) | [:KNOWS {_id_: 25}[22>23]]            | (:Person {name: \"Rik\", _id_: 22, from: \"Belgium\", pet: \"Orval\"})            |\n",
       "+---------------------------------------------------------------------------------------------------------------------------------------------------------------------------------------------------+\n",
       "\n",
       "14 rows available after 25 ms, consumed after another 5 ms"
      ]
     },
     "execution_count": 84,
     "metadata": {},
     "output_type": "execute_result"
    }
   ],
   "source": [
    "MATCH (a:Person)-[r:KNOWS]-(b:Person)\n",
    "RETURN a, r, b"
   ]
  },
  {
   "cell_type": "markdown",
   "metadata": {
    "slideshow": {
     "slide_type": "subslide"
    }
   },
   "source": [
    "### Pattern Matching\n",
    "\n",
    "Patterns -think of them as ASCII art representation of patterns in the graph- describe *what* to find in the graph. For instance, a pattern can be used to find Emil's friends:"
   ]
  },
  {
   "cell_type": "code",
   "execution_count": 85,
   "metadata": {
    "slideshow": {
     "slide_type": "fragment"
    }
   },
   "outputs": [
    {
     "data": {
      "application/javascript": [
       "require([\"https://cdnjs.cloudflare.com/ajax/libs/vis/4.21.0/vis.min.js\"], function(vis) {\n",
       "  var nodes = new vis.DataSet([\n",
       "    { id: 0, label: \"Person\", title: \"{name:Emil,<br>from:Sweden,<br>klout:99,<br>_id:0}\", color: 'rgba(157,44,130,0.5)'},\n",
       "    { id: 20, label: \"Person\", title: \"{name:Johan,<br>from:Sweden,<br>learn:surfing,<br>_id:20}\", color: 'rgba(157,44,130,0.5)'},\n",
       "    { id: 21, label: \"Person\", title: \"{name:Ian,<br>from:England,<br>title:author,<br>_id:21}\", color: 'rgba(157,44,130,0.5)'},\n",
       "    \n",
       "  ]);\n",
       "\n",
       "  // create an array with edges\n",
       "  var edges = new vis.DataSet([\n",
       "    { from: 0,to: 21, arrows:'to', title: \"{rating:5, _id:20,}\" },\n",
       "    { from: 0,to: 20, arrows:'to', title: \"{since:2001, _id:0,}\" },\n",
       "    \n",
       "  ]);\n",
       "\n",
       "  // create a network\n",
       "  var container = document.getElementById('01cc3fc1-6ea3-4dea-911f-42e6196632cd');\n",
       "  var data = {\n",
       "    nodes: nodes,\n",
       "    edges: edges\n",
       "  };\n",
       "\n",
       "  var options = {\n",
       "    edges: {\n",
       "      arrows: {\n",
       "        to: {\n",
       "          scaleFactor: 0.5\n",
       "        }\n",
       "      }\n",
       "    },\n",
       "    width: '100%',\n",
       "    height: '500px',\n",
       "    interaction: {hover: true}\n",
       "  };\n",
       "\n",
       "  var network = new vis.Network(container, data, options);});"
      ]
     },
     "metadata": {},
     "output_type": "display_data"
    },
    {
     "data": {
      "text/html": [
       "<link href=\"https://cdnjs.cloudflare.com/ajax/libs/vis/4.21.0/vis.min.css\" rel=\"stylesheet\" type=\"text/css\">\n",
       "                <div id=\"01cc3fc1-6ea3-4dea-911f-42e6196632cd\"></div>\n",
       "                "
      ]
     },
     "metadata": {},
     "output_type": "display_data"
    },
    {
     "data": {
      "text/plain": [
       "+------------------------------------------------------------------------------------------------------------------------------------------------------------------------------+\n",
       "| a                                                            | r                                     | friends                                                               |\n",
       "+------------------------------------------------------------------------------------------------------------------------------------------------------------------------------+\n",
       "| (:Person {name: \"Emil\", _id_: 0, from: \"Sweden\", klout: 99}) | [:KNOWS {rating: 5, _id_: 20}[0>21]]  | (:Person {name: \"Ian\", _id_: 21, from: \"England\", title: \"author\"})   |\n",
       "| (:Person {name: \"Emil\", _id_: 0, from: \"Sweden\", klout: 99}) | [:KNOWS {_id_: 0, since: 2001}[0>20]] | (:Person {name: \"Johan\", _id_: 20, from: \"Sweden\", learn: \"surfing\"}) |\n",
       "+------------------------------------------------------------------------------------------------------------------------------------------------------------------------------+\n",
       "\n",
       "2 rows available after 20 ms, consumed after another 1 ms"
      ]
     },
     "execution_count": 85,
     "metadata": {},
     "output_type": "execute_result"
    }
   ],
   "source": [
    "MATCH (a:Person)-[r:KNOWS]-(friends)\n",
    "WHERE a.name = \"Emil\" \n",
    "RETURN a, r, friends"
   ]
  },
  {
   "cell_type": "markdown",
   "metadata": {
    "slideshow": {
     "slide_type": "subslide"
    }
   },
   "source": [
    "  * `MATCH` clause to describe the pattern from known Nodes to found Nodes\n",
    "  * `(a)` starts the pattern with a Person (qualified by WHERE)\n",
    "  * `-[:KNOWS]-` matches `KNOWS` relationships (in either direction)\n",
    "  * (friends)will be bound to Emil's friends"
   ]
  },
  {
   "cell_type": "markdown",
   "metadata": {
    "slideshow": {
     "slide_type": "subslide"
    }
   },
   "source": [
    "#### How many friends does Emil have?"
   ]
  },
  {
   "cell_type": "code",
   "execution_count": 88,
   "metadata": {
    "scrolled": true,
    "slideshow": {
     "slide_type": "fragment"
    }
   },
   "outputs": [
    {
     "data": {
      "application/javascript": [
       "require([\"https://cdnjs.cloudflare.com/ajax/libs/vis/4.21.0/vis.min.js\"], function(vis) {\n",
       "  var nodes = new vis.DataSet([\n",
       "    { id: 0, label: \"Person\", title: \"{name:Emil,<br>from:Sweden,<br>klout:99,<br>_id:0}\", color: 'rgba(157,44,130,0.5)'},\n",
       "    { id: 20, label: \"Person\", title: \"{name:Johan,<br>from:Sweden,<br>learn:surfing,<br>_id:20}\", color: 'rgba(157,44,130,0.5)'},\n",
       "    { id: 21, label: \"Person\", title: \"{name:Ian,<br>from:England,<br>title:author,<br>_id:21}\", color: 'rgba(157,44,130,0.5)'},\n",
       "    \n",
       "  ]);\n",
       "\n",
       "  // create an array with edges\n",
       "  var edges = new vis.DataSet([\n",
       "    { from: 0,to: 21, arrows:'to', title: \"{rating:5, _id:20,}\" },\n",
       "    { from: 0,to: 20, arrows:'to', title: \"{since:2001, _id:0,}\" },\n",
       "    \n",
       "  ]);\n",
       "\n",
       "  // create a network\n",
       "  var container = document.getElementById('37a89fa4-17ae-4caf-b6c7-6c01f29c272d');\n",
       "  var data = {\n",
       "    nodes: nodes,\n",
       "    edges: edges\n",
       "  };\n",
       "\n",
       "  var options = {\n",
       "    edges: {\n",
       "      arrows: {\n",
       "        to: {\n",
       "          scaleFactor: 0.5\n",
       "        }\n",
       "      }\n",
       "    },\n",
       "    width: '100%',\n",
       "    height: '500px',\n",
       "    interaction: {hover: true}\n",
       "  };\n",
       "\n",
       "  var network = new vis.Network(container, data, options);});"
      ]
     },
     "metadata": {},
     "output_type": "display_data"
    },
    {
     "data": {
      "text/html": [
       "<link href=\"https://cdnjs.cloudflare.com/ajax/libs/vis/4.21.0/vis.min.css\" rel=\"stylesheet\" type=\"text/css\">\n",
       "                <div id=\"37a89fa4-17ae-4caf-b6c7-6c01f29c272d\"></div>\n",
       "                "
      ]
     },
     "metadata": {},
     "output_type": "display_data"
    },
    {
     "data": {
      "text/plain": [
       "+------------------------------------------------------------------------------------------------------------------------------------------------------------------------------+\n",
       "| a                                                            | r                                     | friends                                                               |\n",
       "+------------------------------------------------------------------------------------------------------------------------------------------------------------------------------+\n",
       "| (:Person {name: \"Emil\", _id_: 0, from: \"Sweden\", klout: 99}) | [:KNOWS {rating: 5, _id_: 20}[0>21]]  | (:Person {name: \"Ian\", _id_: 21, from: \"England\", title: \"author\"})   |\n",
       "| (:Person {name: \"Emil\", _id_: 0, from: \"Sweden\", klout: 99}) | [:KNOWS {_id_: 0, since: 2001}[0>20]] | (:Person {name: \"Johan\", _id_: 20, from: \"Sweden\", learn: \"surfing\"}) |\n",
       "+------------------------------------------------------------------------------------------------------------------------------------------------------------------------------+\n",
       "\n",
       "2 rows available after 7 ms, consumed after another 1 ms"
      ]
     },
     "execution_count": 88,
     "metadata": {},
     "output_type": "execute_result"
    }
   ],
   "source": [
    "MATCH (a:Person)-[r:KNOWS]-(friends)\n",
    "WHERE a.name = \"Emil\" \n",
    "RETURN a,r,friends"
   ]
  },
  {
   "cell_type": "markdown",
   "metadata": {
    "slideshow": {
     "slide_type": "subslide"
    }
   },
   "source": [
    "### Recommendations\n",
    "\n",
    "Using patterns and pattern matching we can quickly generate recommendations. For example, Johan is learning to surf, so he may want to find a new friend who already does:\n",
    "\n"
   ]
  },
  {
   "cell_type": "code",
   "execution_count": null,
   "metadata": {
    "slideshow": {
     "slide_type": "fragment"
    }
   },
   "outputs": [],
   "source": [
    "MATCH (a:Person)-[:KNOWS]-()-[:KNOWS]-(surfer)\n",
    "WHERE a.name = \"Johan\" AND surfer.hobby = \"surfing\"\n",
    "RETURN DISTINCT surfer"
   ]
  },
  {
   "cell_type": "markdown",
   "metadata": {
    "slideshow": {
     "slide_type": "subslide"
    }
   },
   "source": [
    "  * `()` empty parenthesis to ignore these nodes\n",
    "  * `DISTINCT` because more than one path will match the pattern\n",
    "  * `surfer` will contain Allison, a friend of a friend who surfs"
   ]
  },
  {
   "cell_type": "markdown",
   "metadata": {
    "slideshow": {
     "slide_type": "subslide"
    }
   },
   "source": [
    "### Deleting Nodes and Relations\n",
    "\n",
    "\n",
    "You can delete nodes with the help of the `DELETE` directive.\n",
    "\n",
    "```cypher\n",
    "MATCH (a)\n",
    "DELETE a\n",
    "```\n",
    "\n",
    "However, you cannot delete nodes, which are still connected with relations. That will result in an error message similar to the following:\n",
    "\n",
    "```\n",
    "Cannot delete node<512>, because it still has relationships. To delete this node, you must first delete its relationships.\n",
    "```\n",
    "\n",
    "Consequently, either delete the relations first or do both steps in one query\n",
    "\n",
    "```cypher\n",
    "MATCH (a)-[r]-(b)\n",
    "DELETE a,b,r\n",
    "```"
   ]
  },
  {
   "cell_type": "code",
   "execution_count": null,
   "metadata": {
    "slideshow": {
     "slide_type": "subslide"
    }
   },
   "outputs": [],
   "source": [
    "MATCH (n)\n",
    "DETACH DELETE n"
   ]
  },
  {
   "cell_type": "markdown",
   "metadata": {
    "slideshow": {
     "slide_type": "subslide"
    }
   },
   "source": [
    "# Your turn!\n",
    "\n",
    "Connect to the Neo4J web client and **read** and execute the movie graph tutorial\n",
    "\n",
    "```\n",
    ":play movie graph\n",
    "```\n",
    "\n",
    "Subsequently, create queries, which answer the following questions:\n",
    "\n",
    "  1. How many movies from the 90ies are in our database and what are their names?\n",
    "  * How many movies between 2000 and 2010 are in our database and what are their names?\n",
    "  * Who produced \"V for Vendetta\"?\n",
    "  * Which movies were directed by \"Lana Wachowski\"?\n",
    "  * In which movies acted \"Carrie-Anne Moss\"?\n",
    "  * Who were coactors of \"Carrie-Anne Moss\"?\n",
    "  * In which way are people related to the movie \"V for Vendetta\"?\n",
    "  * What is the shortest path between \"Carrie-Anne Moss\" and \"Natalie Portman\"?\n",
    "  * With which other persons did \"Natalie Portman\" already work together? \n",
    "  * Create a recommendation to find actors with which \"Natalie Portman\" never worked together but her former colleagues did."
   ]
  },
  {
   "cell_type": "code",
   "execution_count": 89,
   "metadata": {
    "slideshow": {
     "slide_type": "subslide"
    }
   },
   "outputs": [
    {
     "data": {
      "application/javascript": [
       "require([\"https://cdnjs.cloudflare.com/ajax/libs/vis/4.21.0/vis.min.js\"], function(vis) {\n",
       "  var nodes = new vis.DataSet([\n",
       "    { id: -1, label: \"Person\", title: \"{name:Person,<br>indexes:[],<br>constraints:[],<br>_id:-1}\", color: 'rgba(157,44,130,0.5)'},\n",
       "    { id: -2, label: \"Movie\", title: \"{name:Movie,<br>indexes:[],<br>constraints:[],<br>_id:-2}\", color: 'rgba(101,97,149,0.5)'},\n",
       "    \n",
       "  ]);\n",
       "\n",
       "  // create an array with edges\n",
       "  var edges = new vis.DataSet([\n",
       "    { from: -1,to: -2, arrows:'to', title: \"{_id:-2,}\" },\n",
       "    { from: -1,to: -2, arrows:'to', title: \"{_id:-4,}\" },\n",
       "    { from: -1,to: -2, arrows:'to', title: \"{_id:-3,}\" },\n",
       "    { from: -1,to: -1, arrows:'to', title: \"{_id:-6,}\" },\n",
       "    { from: -1,to: -2, arrows:'to', title: \"{_id:-7,}\" },\n",
       "    { from: -1,to: -1, arrows:'to', title: \"{_id:-1,}\" },\n",
       "    { from: -1,to: -2, arrows:'to', title: \"{_id:-5,}\" },\n",
       "    \n",
       "  ]);\n",
       "\n",
       "  // create a network\n",
       "  var container = document.getElementById('be5b6da2-7d7a-4234-b6e2-055c5951ffde');\n",
       "  var data = {\n",
       "    nodes: nodes,\n",
       "    edges: edges\n",
       "  };\n",
       "\n",
       "  var options = {\n",
       "    edges: {\n",
       "      arrows: {\n",
       "        to: {\n",
       "          scaleFactor: 0.5\n",
       "        }\n",
       "      }\n",
       "    },\n",
       "    width: '100%',\n",
       "    height: '500px',\n",
       "    interaction: {hover: true}\n",
       "  };\n",
       "\n",
       "  var network = new vis.Network(container, data, options);});"
      ]
     },
     "metadata": {},
     "output_type": "display_data"
    },
    {
     "data": {
      "text/html": [
       "<link href=\"https://cdnjs.cloudflare.com/ajax/libs/vis/4.21.0/vis.min.css\" rel=\"stylesheet\" type=\"text/css\">\n",
       "                <div id=\"be5b6da2-7d7a-4234-b6e2-055c5951ffde\"></div>\n",
       "                "
      ]
     },
     "metadata": {},
     "output_type": "display_data"
    },
    {
     "data": {
      "text/plain": [
       "+-------------------------------------------------------------------------------------------------------------------------------------------------------------------------------------------------------------------------------------------------------------------------------------------------------------------------------------------------------------+\n",
       "| nodes                                                                                                                                  | relationships                                                                                                                                                                                                      |\n",
       "+-------------------------------------------------------------------------------------------------------------------------------------------------------------------------------------------------------------------------------------------------------------------------------------------------------------------------------------------------------------+\n",
       "| [(:Movie {name: \"Movie\", _id_: -2, indexes: [], constraints: []}), (:Person {name: \"Person\", _id_: -1, indexes: [], constraints: []})] | [[:ACTED_IN {_id_: -2}[-1>-2]], [:REVIEWED {_id_: -7}[-1>-2]], [:PRODUCED {_id_: -4}[-1>-2]], [:WROTE {_id_: -5}[-1>-2]], [:FOLLOWS {_id_: -6}[-1>-1]], [:DIRECTED {_id_: -3}[-1>-2]], [:KNOWS {_id_: -1}[-1>-1]]] |\n",
       "+-------------------------------------------------------------------------------------------------------------------------------------------------------------------------------------------------------------------------------------------------------------------------------------------------------------------------------------------------------------+\n",
       "\n",
       "1 row available after 22 ms, consumed after another 1 ms"
      ]
     },
     "execution_count": 89,
     "metadata": {},
     "output_type": "execute_result"
    }
   ],
   "source": [
    "CALL db.schema()"
   ]
  },
  {
   "cell_type": "markdown",
   "metadata": {},
   "source": [
    "##### Student Solutions\n",
    "\n",
    "1. How many movies from the 90ies are in our database and what are their names?\n",
    "\n",
    "```cypher\n",
    "MATCH (nineties:Movie) WHERE nineties.released >= 1990 AND nineties.released < 2000 RETURN nineties.title\n",
    "```\n",
    "\n",
    "```cypher\n",
    "MATCH (a:Movie) WHERE a.released >= 1990 AND a.released <= 1999 return collect(a.title), count(a)\n",
    "```\n",
    "\n",
    "```cypher\n",
    "MATCH (nineties:Movie) WHERE nineties.released >= 1990 AND nineties.released < 2000 RETURN count(nineties);\n",
    "```\n",
    "\n",
    "```cypher\n",
    "match (a:Movie) where a.released > 1989 and a.released < 2000 return a.title;\n",
    "```\n",
    "\n",
    "\n",
    "2. How many movies between 2000 and 2010 are in our database and what are their names?\n",
    "\n",
    "```cypher\n",
    "MATCH (nineties:Movie) WHERE nineties.released > 2000 AND nineties.released < 2010 RETURN nineties.title\n",
    "```\n",
    "\n",
    "```cypher\n",
    "MATCH (a:Movie) WHERE a.released >= 2000 AND a.released <= 2010 return collect(a.title), count(a)\n",
    "```\n",
    "\n",
    "```cypher\n",
    "match (a:Movie) where a.released > 1999 and a.released < 2011 return a,count(a)\n",
    "```\n",
    "\n",
    "3. Who produced \"V for Vendetta\"?\n",
    "\n",
    "```cypher\n",
    "MATCH (v {title: \"V for Vendetta\"})<-[:PRODUCED]-(producers) RETURN producers.name\n",
    "```\n",
    "\n",
    "```cypher\n",
    "MATCH (title {title: \"V for Vendetta\"})<-[:PRODUCED]-(producers) RETURN producers.name\n",
    "```\n",
    "\n",
    "```cypher\n",
    "MATCH (a:Person)-[:PRODUCED]->(b:Movie) WHERE b.title =\"V for Vendetta\" RETURN a.name\n",
    "```\n",
    "\n",
    "```cypher\n",
    "MATCH (m:Movie)-[:PRODUCED]-(producer) WHERE m.title = \"V for Vendetta\" RETURN producer\n",
    "```\n",
    "\n",
    "```cypher    \n",
    "MATCH (director:Person)-[:DIRECTED]->(movie:Movie)WHERE movie.title = \"V for Vendetta\" RETURN director;\n",
    "```\n",
    "\n",
    "4. Which movies were directed by \"Lana Wachowski\"?\n",
    "\n",
    "```cypher\n",
    "MATCH (p {name:\"Lana Wachowski\"})-[:DIRECTED]->(movie) RETURN movie.title\n",
    "```\n",
    "\n",
    "```cypher\n",
    "MATCH (director:Person {name: \"Lana Wachowski\"})-[:DIRECTED]->(movies) RETURN movies.title\n",
    "```\n",
    "\n",
    "```cypher\n",
    "MATCH (a:Person)-[:DIRECTED]->(b:Movie) WHERE a.name =\"Lana Wachowski\" RETURN b.title\n",
    "```\n",
    "\n",
    "```cypher\n",
    "MATCH (director:Person)-[r:DIRECTED]->(movie:Movie) WHERE director.name = \"Lana Wachowski\" RETURN movie.title;\n",
    "```\n",
    "\n",
    "```cypher\n",
    "MATCH (x:Person)-[:DIRECTED]->(m:Movie) WHERE x.name = \"Lana Wachowski\" RETURN m\n",
    "```\n",
    "\n",
    "5. In which movies acted \"Carrie-Anne Moss\"?\n",
    "\n",
    "```cypher\n",
    "MATCH (p {name:\"Carrie-Anne Moss\"})-[:ACTED_IN]->(movie) RETURN movie.title\n",
    "```\n",
    "\n",
    "```cypher\n",
    "MATCH (a:Person)-[:ACTED_IN]->(b:Movie) WHERE a.name =\"Carrie-Anne Moss\" return b.title\n",
    "```\n",
    "\n",
    "```cypher\n",
    "MATCH (carrie:Person {name: \"Carrie-Anne Moss\"})-[:ACTED_IN]->(movies) RETURN movies.title\n",
    "```\n",
    "\n",
    "```cypher\n",
    "MATCH (actor:Person)-[r:ACTED_IN]->(movie:Movie) WHERE actor.name = \"Carrie-Anne Moss\" RETURN movie.title;\n",
    "```\n",
    "\n",
    "```cypher\n",
    "MATCH (x:Person)-[:ACTED_IN]->(m:Movie) WHERE x.name = \"Carrie-Anne Moss\" RETURN m\n",
    "```\n",
    "\n",
    "6. Who were coactors of \"Carrie-Anne Moss\"?\n",
    "\n",
    "```cypher\n",
    "MATCH (p {name:\"Carrie-Anne Moss\"})-[:ACTED_IN]->()<-[:ACTED_IN]-(coact) RETURN coact.name\n",
    "```\n",
    "\n",
    "```cypher\n",
    "MATCH (a:Person)-[:ACTED_IN]-(b:Movie)<-[:ACTED_IN]-(c:Person) WHERE c.name = \"Carrie-Anne Moss\" return a.name\n",
    "```\n",
    "\n",
    "```cypher\n",
    "MATCH (carrie:Person {name:\"Carrie-Anne Moss\"})-[:ACTED_IN]->(movies)<-[:ACTED_IN]-(coActors) RETURN DISTINCT coActors.name\n",
    "```\n",
    "\n",
    "```cypher\n",
    "MATCH (x:Person)-[:ACTED_IN]->(m:Movie)<-[:ACTED_IN]-(co:Person) WHERE x.name = \"Carrie-Anne Moss\" RETURN co\n",
    "```\n",
    "\n",
    "7. In which way are people related to the movie \"V for Vendetta\"?\n",
    "\n",
    "```cypher\n",
    "MATCH (people:Person)-[relatedTo]-(v:Movie {title: \"V for Vendetta\"}) RETURN v, people, Type(relatedTo), relatedTo\n",
    "```\n",
    "\n",
    "```cypher\n",
    "MATCH (a:Person)-[r]->(b:Movie) WHERE b.title =\"V for Vendetta\" return a.name,type(r)\n",
    "```\n",
    "\n",
    "```cypher\n",
    "MATCH (people:Person)-[relatedTo]-(:Movie {title: \"V for Vendetta\"}) RETURN DISTINCT people.name, Type(relatedTo)\n",
    "```\n",
    "\n",
    "```cypher\n",
    "MATCH (x:Movie)-[r]-() WHERE x.title =\"V for Vendetta\" RETURN DISTINCT Type(r)\n",
    "```\n",
    "\n",
    "\n",
    "8. What is the shortest path between \"Carrie-Anne Moss\" and \"Natalie Portman\"?\n",
    "\n",
    "```cypher\n",
    "MATCH p=shortestPath(\n",
    "  (carrie:Person {name:\"Carrie-Anne Moss\"})-[*]-(nat:Person {name:\"Natalie Portman\"})\n",
    ")\n",
    "RETURN p\n",
    "```\n",
    "\n",
    "```cypher\n",
    "MATCH (Carrie:Person { name: 'Carrie-Anne Moss' }),(Natalie:Person { name: \"Natalie Portman\" }), p = shortestPath((Carrie)-[*..15]-(Natalie))\n",
    "RETURN p\n",
    "```\n",
    "\n",
    "```cypher\n",
    "MATCH p=shortestPath(\n",
    "  (carrie:Person {name:\"Carrie-Anne Moss\"})-[*]-(nat:Person {name:\"Natalie Portman\"})\n",
    ")\n",
    "RETURN p\n",
    "```\n",
    "\n",
    "```cypher\n",
    "MATCH p=shortestPath((C:Person {name:\"Carrie-Anne Moss\"})-[*]-(D:Person{name:\"Natalie Portman\"})) RETURN p\n",
    "```\n",
    "\n",
    "```cypher\n",
    "MATCH p = shortestpath((natalie:Person {name: \"Natalie Portman\"})-[r *1..5]-(carrie:Person {name: \"Carrie-Anne Moss\"})) RETURN collect(p), length(p), natalie, r, carrie;\n",
    "```\n",
    "\n",
    "9. With which other persons did \"Natalie Portman\" already work together?\n",
    "\n",
    "```cypher\n",
    "MATCH (p {name:\"Natalie Portman\"})-[]->()<-[]-(coact) RETURN coact.name\n",
    "```\n",
    "\n",
    "```cypher\n",
    "MATCH (p1 {name:\"Natalie Portman\"})-[]->()<-[]-(p2) RETURN p2\n",
    "```\n",
    "\n",
    "```cypher\n",
    "MATCH (actor:Person)-[:ACTED_IN]->(m:Movie)-[r]-(coactor:Person) WHERE actor.name = \"Natalie Portman\" RETURN DISTINCT coactor;\n",
    "```\n",
    "\n",
    "```cypher\n",
    "MATCH (x:Person {name:\"Natalie Portman\"})-[]->(:Movie)<-[]-(coWorkers:Person) RETURN coWorkers\n",
    "```\n",
    "\n",
    "\n",
    "10. Create a recommendation to find actors with which \"Natalie Portman\" never worked together but her former colleagues did.\n",
    "\n",
    "```cypher\n",
    "MATCH (p1 {name: \"Natalie Portman\"})-[]->()<-[]-(p2)-[]->()<-[]-(p3) where not (p1)-[]->()<-[]-(p3) RETURN distinct p3.name\n",
    "MATCH (p1:Person {name: \"Natalie Portman\"})-[]->(:Movie)<-[]-(p2:Person)-[]->(:Movie)<-[]-(p3:Person) where not (p1)-[]->(:Movie)<-[]-(p3) RETURN distinct p3.name\n",
    "```\n",
    "\n",
    "```cypher\n",
    "MATCH (nat:Person {name:\"Natalie Portman\"})-[:ACTED_IN]->(m)<-[:ACTED_IN]-(coActors),\n",
    "      (coActors)-[:ACTED_IN]->(m2)<-[:ACTED_IN]-(cocoActors)\n",
    "WHERE NOT (nat)-[:ACTED_IN]->()<-[:ACTED_IN]-(cocoActors) AND nat <> cocoActors\n",
    "RETURN cocoActors.name AS Recommended\n",
    "```\n",
    "\n",
    "```cypher\n",
    "MATCH (a:Person)-[:ACTED_IN]->(b:Movie)-[:ACTED_IN]-(coa:Person)-[:ACTED_IN]->(coab:Movie)-[:ACTED_IN]-(ccoa:Person) WHERE         a.name = \"Natalie Portman\" RETURN DISTINCT ccoa\n",
    "```\n",
    "\n",
    "```cypher    \n",
    "MATCH (p:Person {name:\"Natalie Portman\"})-[]->(:Movie)<-[]-(co:Person), (co)-[]->(:Movie)<-[]-(coco)\n",
    "WHERE NOT (p)-[]->(:Movie)<-[]-(coco) AND p <> coco\n",
    "RETURN coco.name\n",
    "```"
   ]
  },
  {
   "cell_type": "markdown",
   "metadata": {
    "slideshow": {
     "slide_type": "slide"
    }
   },
   "source": [
    "## What is a Graph?\n",
    "\n",
    "### Undirected Graphs\n",
    "\n",
    "![](./images/graph_example_small.png)"
   ]
  },
  {
   "cell_type": "markdown",
   "metadata": {
    "slideshow": {
     "slide_type": "fragment"
    }
   },
   "source": [
    "A *graph* $G$ consists of a nonempty set, $V(G)$, called the *vertices* of $G$, and a set $E(G)$ called the *edges* of $G$. An element of $V(G)$ is called a *vertex*. A vertex is also called a *node*; the words \"vertex\" and \"node\" are used interchangeably. An element of $E(G)$ is an *undirected* edge or simply an \"edge\". An undirected edge has two vertices $u\\neq v$ called its endpoints. Such an edge can be represented by the two element set $\\{u, v\\}$. The notation $\\langle u—v \\rangle$ denotes this edge.\n",
    "Both $\\langle u—v \\rangle$ and $\\langle v—u \\rangle$ define the same undirected edge, whose endpoints are $u$ and $v$."
   ]
  },
  {
   "cell_type": "markdown",
   "metadata": {
    "slideshow": {
     "slide_type": "subslide"
    }
   },
   "source": [
    "![](./images/graph_example_small.png)\n",
    "\n",
    "For example, let $H$ be the graph pictured in Figure above. The vertices of $H$\n",
    "correspond to the nine dots, that is:\n",
    "\n",
    "$V(H) = \\{a,b,c,d,e,f,g,h,i\\}$\n",
    "\n",
    "The edges correspond to the eight lines, that is:\n",
    "\n",
    "$E(H) = \\big\\{\\langle a—b \\rangle,\\langle a—c \\rangle,\\langle b—d \\rangle,\\langle c—d \\rangle,\\langle c—e \\rangle,\\langle e—f \\rangle,\\langle e—g \\rangle,\\langle h—i \\rangle\\big\\} $"
   ]
  },
  {
   "cell_type": "markdown",
   "metadata": {
    "slideshow": {
     "slide_type": "subslide"
    }
   },
   "source": [
    "### Directed Graphs\n",
    "\n",
    "![](./images/digraph_example_small.png)\n",
    "\n",
    "A *directed graph* -or *digraph*- $G$ consists of a nonempty set $V(G)$, called the vertices of $G$, and a set $E(G)$, called the edges of $G$. An element of $V(G)$ is called a *vertex*. A vertex is also called a *node*; the words \"vertex\" and \"node\" are used interchangeably. An element of $E(G)$ is called a *directed edge*. A directed edge is also called an \"arrow\" or simply an \"edge\". A directed edge starts at some vertex $u$ called the *tail* of the edge, and ends at some vertex $v$ called the *head* of the edge."
   ]
  },
  {
   "cell_type": "markdown",
   "metadata": {
    "slideshow": {
     "slide_type": "subslide"
    }
   },
   "source": [
    "### Vertex Degrees\n",
    "\n",
    "The *in-degree* of a vertex in a digraph is the number of arrows coming into it, and similarly its *out-degree* is the number of arrows out of it. More precisely,\n",
    "\n",
    "If $G$ is a *digraph* and $v \\in V(G)$, then \n",
    "    \n",
    "  * $indeg(v) ::= \\big\\vert e \\in \\{E(G)\\, \\vert\\, head(e) = v \\}\\big\\vert$\n",
    "  * $outdeg(v) ::= \\big\\vert e \\in \\{E(G)\\, \\vert\\, tail(e) = v \\}\\big\\vert$"
   ]
  },
  {
   "cell_type": "markdown",
   "metadata": {
    "slideshow": {
     "slide_type": "subslide"
    }
   },
   "source": [
    "### Walks and Paths\n",
    "\n",
    "\n",
    "Picturing digraphs with points and arrows makes it natural to talk about following successive edges through the graph. For example, in the digraph above, you might start at vertex 1, successively follow the edges from vertex `a` to vertex `b`, from `b` to `c`, from `c` to `b`, and then from `b` to `d`. The sequence of edges followed in this way is called a *walk* through the graph. A *path* is a *walk* which never visits a vertex more than once. So following edges from `a` to `b` to `c` is a path, but it stops being a path if you go to `b` again.\n",
    "The natural way to represent a walk is with the sequence of sucessive vertices it went through, in this case: \n",
    "\n",
    "$a\\,b\\,c\\,b\\,d$"
   ]
  },
  {
   "cell_type": "markdown",
   "metadata": {
    "slideshow": {
     "slide_type": "subslide"
    }
   },
   "source": [
    "However, it is conventional to represent a walk by an alternating sequence of successive vertices and edges, so this walk would formally be:\n",
    "\n",
    "$a\\, \\langle a\\rightarrow b \\rangle \\,b\\, \\langle b\\rightarrow c \\rangle \\,c\\, \\langle c\\rightarrow \\,b\\, \\rangle \\,b\\, \\langle b\\rightarrow d \\rangle\\, d$\n",
    "\n",
    "\n",
    "The redundancy of this definition is enough to make any computer scientist cringe, but it does make it easy to talk about how many times vertices and edges occur on the walk. Here is a formal definition:\n",
    "\n",
    "A *walk* in a digraph is an alternating sequence of vertices and edges that begins with a vertex, ends with a vertex, and such that for every edge $\\langle u\\rightarrow v \\rangle$ in the walk, vertex $u$ is the element just before the edge, and vertex $v$ is the next element after the edge."
   ]
  },
  {
   "cell_type": "markdown",
   "metadata": {
    "slideshow": {
     "slide_type": "subslide"
    }
   },
   "source": [
    "So a walk $w$ is a sequence of the form\n",
    "\n",
    "$w ::= v_{0}\\, \\langle v_{0}\\rightarrow v_{1} \\rangle \\,v_{1}\\, \\langle v_{1}\\rightarrow v_{2} \\rangle \\,v_{2}\\, ... \\langle v_{k-1}\\rightarrow \\,v_{k}\\, \\rangle \\,v_{k}$\n",
    "\n",
    "where $\\langle v_{i}\\rightarrow \\,v_{i+1}\\, \\rangle \\in E(G)$ for $i \\in [0..k)$ The walk is said to start at $v_{0}$, to end at $v_{k}$, and the length $\\vert v\\vert$ of the walk is defined to be k.\n",
    "The walk is a path if and only if all the $v_{i}$’s are different,that is,if $i \\neq j$, then $v_{i} \\neq v_{j}$.\n",
    "A *closed* walk is a walk that begins and ends at the same vertex. A cycle is a positive length closed walk whose vertices are distinct except for the beginning and end vertices.\n",
    "\n",
    "\n",
    "##### References:\n",
    "The definitions above and the illustrations are taken from the book:\n",
    "*Mathematics for Computer Science*, Eric Lehman, F. Tom Leighton, Albert R. Meyer\n",
    "https://courses.csail.mit.edu/6.042/spring17/mcs.pdf"
   ]
  }
 ],
 "metadata": {
  "celltoolbar": "Slideshow",
  "kernelspec": {
   "display_name": "Cypher",
   "language": "cypher",
   "name": "cypher"
  },
  "language_info": {
   "file_extension": ".cql",
   "mimetype": "text/cypher",
   "name": "cypher"
  }
 },
 "nbformat": 4,
 "nbformat_minor": 2
}
