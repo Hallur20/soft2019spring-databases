{
 "cells": [
  {
   "cell_type": "markdown",
   "metadata": {
    "slideshow": {
     "slide_type": "slide"
    }
   },
   "source": [
    "# Advanced Neo4j Concepts\n",
    "\n",
    "\n",
    "The following is based on http://neo4j.com/graphgist/6619085 and https://maxdemarzi.com/2015/08/26/modeling-airline-flights-in-neo4j/ and in particular on `:play http://guides.neo4j.com/modeling_airports`.\n",
    "\n",
    "The original data is extrtacted from https://www.transtats.bts.gov/databases.asp?Mode_ID=1&Mode_Desc=Aviation&Subject_ID2=0"
   ]
  },
  {
   "cell_type": "code",
   "execution_count": null,
   "metadata": {
    "slideshow": {
     "slide_type": "subslide"
    }
   },
   "outputs": [],
   "source": [
    "%%bash\n",
    "docker run \\\n",
    "    -d --name neo4j \\\n",
    "    --rm \\\n",
    "    --publish=7474:7474 \\\n",
    "    --publish=7687:7687 \\\n",
    "    --env NEO4J_AUTH=neo4j/class \\\n",
    "    neo4j"
   ]
  },
  {
   "cell_type": "markdown",
   "metadata": {
    "collapsed": true,
    "slideshow": {
     "slide_type": "subslide"
    }
   },
   "source": [
    "## Recap on Modelling in Neo4j\n",
    "\n",
    "\n",
    "\n",
    "When modeling data it is useful to have a use case of a system's application in mind. For example, we could start with the following question:\n",
    "\n",
    "> As an air travel enthusiast\n",
    ">\n",
    "> I want to know how airports are connected\n",
    ">\n",
    "> So that I can find the busiest ones\n",
    "\n",
    "\n",
    "Consequently, we could create the following model:\n",
    "\n",
    "![initial_model](http://guides.neo4j.com/modeling_airports/img/initial.png)\n"
   ]
  },
  {
   "cell_type": "markdown",
   "metadata": {
    "slideshow": {
     "slide_type": "subslide"
    }
   },
   "source": [
    "### Manually creating the model\n",
    "\n",
    "Before we start working with a large dataset let’s create some nodes and relationships manually. First we will create some airports:"
   ]
  },
  {
   "cell_type": "code",
   "execution_count": 14,
   "metadata": {
    "slideshow": {
     "slide_type": "fragment"
    }
   },
   "outputs": [
    {
     "data": {
      "text/plain": []
     },
     "execution_count": 14,
     "metadata": {},
     "output_type": "execute_result"
    }
   ],
   "source": [
    "CREATE (:Airport {code: \"LAX\"});\n",
    "CREATE (:Airport {code: \"LAS\"});\n",
    "CREATE (:Airport {code: \"ABQ\"});"
   ]
  },
  {
   "cell_type": "markdown",
   "metadata": {
    "slideshow": {
     "slide_type": "subslide"
    }
   },
   "source": [
    "We can find `LAX` by changing the `CREATE` to a `MATCH` and returning the matched node:\n",
    "\n",
    "See https://www.world-airport-codes.com/ for the airport codes."
   ]
  },
  {
   "cell_type": "code",
   "execution_count": 15,
   "metadata": {
    "slideshow": {
     "slide_type": "fragment"
    }
   },
   "outputs": [
    {
     "data": {
      "application/javascript": [
       "require([\"https://cdnjs.cloudflare.com/ajax/libs/vis/4.21.0/vis.min.js\"], function(vis) {\n",
       "  var nodes = new vis.DataSet([\n",
       "    { id: 210, label: \"Airport\", title: \"{code:LAX,<br>_id:210}\", color: 'rgba(242,32,217,0.5)'},\n",
       "    \n",
       "  ]);\n",
       "\n",
       "  // create an array with edges\n",
       "  var edges = new vis.DataSet([\n",
       "    \n",
       "  ]);\n",
       "\n",
       "  // create a network\n",
       "  var container = document.getElementById('5c890b20-2a6b-494b-a48a-2566011828f6');\n",
       "  var data = {\n",
       "    nodes: nodes,\n",
       "    edges: edges\n",
       "  };\n",
       "\n",
       "  var options = {\n",
       "    edges: {\n",
       "      arrows: {\n",
       "        to: {\n",
       "          scaleFactor: 0.5\n",
       "        }\n",
       "      }\n",
       "    },\n",
       "    width: '100%',\n",
       "    height: '500px',\n",
       "    interaction: {hover: true}\n",
       "  };\n",
       "\n",
       "  var network = new vis.Network(container, data, options);});"
      ]
     },
     "metadata": {},
     "output_type": "display_data"
    },
    {
     "data": {
      "text/html": [
       "<link href=\"https://cdnjs.cloudflare.com/ajax/libs/vis/4.21.0/vis.min.css\" rel=\"stylesheet\" type=\"text/css\">\n",
       "                <div id=\"5c890b20-2a6b-494b-a48a-2566011828f6\"></div>\n",
       "                "
      ]
     },
     "metadata": {},
     "output_type": "display_data"
    },
    {
     "data": {
      "text/plain": [
       "+-------------------------------------+\n",
       "| lax                                 |\n",
       "+-------------------------------------+\n",
       "| (:Airport {_id_: 210, code: \"LAX\"}) |\n",
       "+-------------------------------------+\n",
       "\n",
       "1 row available after 10 ms, consumed after another 1 ms"
      ]
     },
     "execution_count": 15,
     "metadata": {},
     "output_type": "execute_result"
    }
   ],
   "source": [
    "MATCH (lax:Airport {code: \"LAX\"})\n",
    "RETURN lax"
   ]
  },
  {
   "cell_type": "markdown",
   "metadata": {
    "slideshow": {
     "slide_type": "subslide"
    }
   },
   "source": [
    "### Create relationships\n",
    "\n",
    "Now let’s create some connections between those airports."
   ]
  },
  {
   "cell_type": "code",
   "execution_count": 16,
   "metadata": {
    "slideshow": {
     "slide_type": "fragment"
    }
   },
   "outputs": [
    {
     "data": {
      "text/plain": []
     },
     "execution_count": 16,
     "metadata": {},
     "output_type": "execute_result"
    }
   ],
   "source": [
    "MATCH (las:Airport {code: \"LAS\"})\n",
    "MATCH (lax:Airport {code: \"LAX\"})\n",
    "CREATE (las)-[connection:CONNECTED_TO {\n",
    "  airline: \"WN\",\n",
    "  flightNumber: \"82\",\n",
    "  date: \"2008-1-3\",\n",
    "  departure: 1715,\n",
    "  arrival: 1820}]->(lax)\n"
   ]
  },
  {
   "cell_type": "markdown",
   "metadata": {
    "slideshow": {
     "slide_type": "subslide"
    }
   },
   "source": [
    "\n",
    "We can check that the relationship was created correctly by executing the following query:"
   ]
  },
  {
   "cell_type": "code",
   "execution_count": 17,
   "metadata": {},
   "outputs": [
    {
     "data": {
      "application/javascript": [
       "require([\"https://cdnjs.cloudflare.com/ajax/libs/vis/4.21.0/vis.min.js\"], function(vis) {\n",
       "  var nodes = new vis.DataSet([\n",
       "    { id: 210, label: \"Airport\", title: \"{code:LAX,<br>_id:210}\", color: 'rgba(242,32,217,0.5)'},\n",
       "    { id: 211, label: \"Airport\", title: \"{code:LAS,<br>_id:211}\", color: 'rgba(242,32,217,0.5)'},\n",
       "    \n",
       "  ]);\n",
       "\n",
       "  // create an array with edges\n",
       "  var edges = new vis.DataSet([\n",
       "    { from: 211,to: 210, arrows:'to', title: \"{date:2008-1-3, departure:1715, airline:WN, arrival:1820, flightNumber:82, _id:1029,}\" },\n",
       "    \n",
       "  ]);\n",
       "\n",
       "  // create a network\n",
       "  var container = document.getElementById('64cce14e-2796-41c7-96e2-2554ab482861');\n",
       "  var data = {\n",
       "    nodes: nodes,\n",
       "    edges: edges\n",
       "  };\n",
       "\n",
       "  var options = {\n",
       "    edges: {\n",
       "      arrows: {\n",
       "        to: {\n",
       "          scaleFactor: 0.5\n",
       "        }\n",
       "      }\n",
       "    },\n",
       "    width: '100%',\n",
       "    height: '500px',\n",
       "    interaction: {hover: true}\n",
       "  };\n",
       "\n",
       "  var network = new vis.Network(container, data, options);});"
      ]
     },
     "metadata": {},
     "output_type": "display_data"
    },
    {
     "data": {
      "text/html": [
       "<link href=\"https://cdnjs.cloudflare.com/ajax/libs/vis/4.21.0/vis.min.css\" rel=\"stylesheet\" type=\"text/css\">\n",
       "                <div id=\"64cce14e-2796-41c7-96e2-2554ab482861\"></div>\n",
       "                "
      ]
     },
     "metadata": {},
     "output_type": "display_data"
    },
    {
     "data": {
      "text/plain": [
       "+-----------------------------------------------------------------------------------------------------------------------------------------------------------------------------------------------------+\n",
       "| connection                                                                                                                                                                                          |\n",
       "+-----------------------------------------------------------------------------------------------------------------------------------------------------------------------------------------------------+\n",
       "| (:Airport {_id_: 211, code: \"LAS\"})-[:CONNECTED_TO {date: \"2008-1-3\", _id_: 1029, departure: 1715, airline: \"WN\", arrival: 1820, flightNumber: \"82\"}[211>210]]->(:Airport {_id_: 210, code: \"LAX\"}) |\n",
       "+-----------------------------------------------------------------------------------------------------------------------------------------------------------------------------------------------------+\n",
       "\n",
       "1 row available after 99 ms, consumed after another 10 ms"
      ]
     },
     "execution_count": 17,
     "metadata": {},
     "output_type": "execute_result"
    }
   ],
   "source": [
    "MATCH connection = (las:Airport {code: \"LAS\"})-[:CONNECTED_TO]->(lax:Airport {code: \"LAX\"})\n",
    "RETURN connection"
   ]
  },
  {
   "cell_type": "markdown",
   "metadata": {
    "slideshow": {
     "slide_type": "subslide"
    }
   },
   "source": [
    "### Create Relationships Idempotently\n",
    "\n",
    "Idempotently, what is that? \n",
    "\n",
    "> *idempotent* ... denoting an element of a set which is unchanged in value when multiplied or otherwise operated on by itself.\n",
    "\n",
    "When using the `MERGE` command, we only need to inline the properties that make the `CONNECTED_TO` relationship unique. In this case it is the combination of airline, flightNumber, and date. To idempotently create a specific connection between airports we can run the following query:"
   ]
  },
  {
   "cell_type": "code",
   "execution_count": 18,
   "metadata": {},
   "outputs": [
    {
     "data": {
      "text/plain": []
     },
     "execution_count": 18,
     "metadata": {},
     "output_type": "execute_result"
    }
   ],
   "source": [
    "MATCH (las:Airport {code: \"LAS\"})\n",
    "MATCH (lax:Airport {code: \"LAX\"})\n",
    "MERGE (las)-[connection:CONNECTED_TO { airline: \"WN\", flightNumber: \"82\", date: \"2008-1-3\"}]->(lax)\n",
    "ON CREATE SET connection.departure = 1715, connection.arrival = 1820"
   ]
  },
  {
   "cell_type": "markdown",
   "metadata": {
    "slideshow": {
     "slide_type": "subslide"
    }
   },
   "source": [
    "Let’s try it with another connection to get the hang of it:"
   ]
  },
  {
   "cell_type": "code",
   "execution_count": 19,
   "metadata": {
    "slideshow": {
     "slide_type": "-"
    }
   },
   "outputs": [
    {
     "data": {
      "text/plain": []
     },
     "execution_count": 19,
     "metadata": {},
     "output_type": "execute_result"
    }
   ],
   "source": [
    "MATCH (las:Airport {code: \"LAS\"})\n",
    "MATCH (lax:Airport {code: \"ABQ\"})\n",
    "MERGE (las)-[connection:CONNECTED_TO { airline: \"WN\", flightNumber: \"500\", date: \"2008-1-3\"}]->(lax)\n",
    "ON CREATE SET connection.departure = 1445, connection.arrival = 1710"
   ]
  },
  {
   "cell_type": "markdown",
   "metadata": {
    "slideshow": {
     "slide_type": "-"
    }
   },
   "source": [
    "Try running the query multiple times. The relationship will only be created once.\n"
   ]
  },
  {
   "cell_type": "markdown",
   "metadata": {
    "slideshow": {
     "slide_type": "subslide"
    }
   },
   "source": [
    "### Find All the Connections leaving an Airport\n",
    "\n",
    "We can now find any connections leaving LAS:"
   ]
  },
  {
   "cell_type": "code",
   "execution_count": 20,
   "metadata": {},
   "outputs": [
    {
     "data": {
      "application/javascript": [
       "require([\"https://cdnjs.cloudflare.com/ajax/libs/vis/4.21.0/vis.min.js\"], function(vis) {\n",
       "  var nodes = new vis.DataSet([\n",
       "    { id: 210, label: \"Airport\", title: \"{code:LAX,<br>_id:210}\", color: 'rgba(242,32,217,0.5)'},\n",
       "    { id: 212, label: \"Airport\", title: \"{code:ABQ,<br>_id:212}\", color: 'rgba(242,32,217,0.5)'},\n",
       "    { id: 211, label: \"Airport\", title: \"{code:LAS,<br>_id:211}\", color: 'rgba(242,32,217,0.5)'},\n",
       "    \n",
       "  ]);\n",
       "\n",
       "  // create an array with edges\n",
       "  var edges = new vis.DataSet([\n",
       "    { from: 211,to: 210, arrows:'to', title: \"{date:2008-1-3, departure:1715, airline:WN, arrival:1820, flightNumber:82, _id:1029,}\" },\n",
       "    { from: 211,to: 212, arrows:'to', title: \"{date:2008-1-3, departure:1445, airline:WN, arrival:1710, flightNumber:500, _id:1049,}\" },\n",
       "    \n",
       "  ]);\n",
       "\n",
       "  // create a network\n",
       "  var container = document.getElementById('4a454bda-dd18-4f8d-b946-8c3c4089fa08');\n",
       "  var data = {\n",
       "    nodes: nodes,\n",
       "    edges: edges\n",
       "  };\n",
       "\n",
       "  var options = {\n",
       "    edges: {\n",
       "      arrows: {\n",
       "        to: {\n",
       "          scaleFactor: 0.5\n",
       "        }\n",
       "      }\n",
       "    },\n",
       "    width: '100%',\n",
       "    height: '500px',\n",
       "    interaction: {hover: true}\n",
       "  };\n",
       "\n",
       "  var network = new vis.Network(container, data, options);});"
      ]
     },
     "metadata": {},
     "output_type": "display_data"
    },
    {
     "data": {
      "text/html": [
       "<link href=\"https://cdnjs.cloudflare.com/ajax/libs/vis/4.21.0/vis.min.css\" rel=\"stylesheet\" type=\"text/css\">\n",
       "                <div id=\"4a454bda-dd18-4f8d-b946-8c3c4089fa08\"></div>\n",
       "                "
      ]
     },
     "metadata": {},
     "output_type": "display_data"
    },
    {
     "data": {
      "text/plain": [
       "+------------------------------------------------------------------------------------------------------------------------------------------------------------------------------------------------------+\n",
       "| connection                                                                                                                                                                                           |\n",
       "+------------------------------------------------------------------------------------------------------------------------------------------------------------------------------------------------------+\n",
       "| (:Airport {_id_: 211, code: \"LAS\"})-[:CONNECTED_TO {date: \"2008-1-3\", _id_: 1049, departure: 1445, airline: \"WN\", arrival: 1710, flightNumber: \"500\"}[211>212]]->(:Airport {_id_: 212, code: \"ABQ\"}) |\n",
       "| (:Airport {_id_: 211, code: \"LAS\"})-[:CONNECTED_TO {date: \"2008-1-3\", _id_: 1029, departure: 1715, airline: \"WN\", arrival: 1820, flightNumber: \"82\"}[211>210]]->(:Airport {_id_: 210, code: \"LAX\"})  |\n",
       "+------------------------------------------------------------------------------------------------------------------------------------------------------------------------------------------------------+\n",
       "\n",
       "2 rows available after 30 ms, consumed after another 2 ms"
      ]
     },
     "execution_count": 20,
     "metadata": {},
     "output_type": "execute_result"
    }
   ],
   "source": [
    "MATCH connection = (las:Airport {code: \"LAS\"})-[:CONNECTED_TO]->(:Airport)\n",
    "RETURN connection"
   ]
  },
  {
   "cell_type": "markdown",
   "metadata": {
    "slideshow": {
     "slide_type": "subslide"
    }
   },
   "source": [
    "### Exploring data with LOAD CSV\n",
    "\n",
    "While we are working out the appropriate model for our dataset it is much easier to work with a subset of the data so that we can iterate quickly. A smaller dataset containing the first 10,000 connections lives in `flights_initial.csv`, s https://github.com/neo4j-contrib/training/tree/master/modeling/data.\n",
    "\n",
    "We can run the following query to see what data we’ve got to work with:"
   ]
  },
  {
   "cell_type": "code",
   "execution_count": 23,
   "metadata": {},
   "outputs": [
    {
     "data": {
      "text/plain": [
       "+---------------------------------------------------------------------------------------------------------------------------------------------------------------------------------------------------------------------------------------------------------------------------------------------------------------------------------------------------------------------------------------------------------------------------------------------------------------------------------------------------------------------------------------+\n",
       "| row                                                                                                                                                                                                                                                                                                                                                                                                                                                                                                                                   |\n",
       "+---------------------------------------------------------------------------------------------------------------------------------------------------------------------------------------------------------------------------------------------------------------------------------------------------------------------------------------------------------------------------------------------------------------------------------------------------------------------------------------------------------------------------------------+\n",
       "| {FlightNum: \"335\", Origin: \"IAD\", LateAircraftDelay: \"NA\", NASDelay: \"NA\", ArrTime: \"2211\", AirTime: \"116\", DepTime: \"2003\", Month: \"1\", CRSElapsedTime: \"150\", DayofMonth: \"3\", Distance: \"810\", CRSDepTime: \"1955\", SecurityDelay: \"NA\", DayOfWeek: \"4\", Dest: \"TPA\", CancellationCode: NULL, TaxiIn: \"4\", DepDelay: \"8\", UniqueCarrier: \"WN\", Diverted: \"0\", Cancelled: \"0\", ArrDelay: \"-14\", TaxiOut: \"8\", ActualElapsedTime: \"128\", CarrierDelay: \"NA\", Year: \"2008\", WeatherDelay: \"NA\", CRSArrTime: \"2225\", TailNum: \"N712SW\"} |\n",
       "| {FlightNum: \"3231\", Origin: \"IAD\", LateAircraftDelay: \"NA\", NASDelay: \"NA\", ArrTime: \"1002\", AirTime: \"113\", DepTime: \"754\", Month: \"1\", CRSElapsedTime: \"145\", DayofMonth: \"3\", Distance: \"810\", CRSDepTime: \"735\", SecurityDelay: \"NA\", DayOfWeek: \"4\", Dest: \"TPA\", CancellationCode: NULL, TaxiIn: \"5\", DepDelay: \"19\", UniqueCarrier: \"WN\", Diverted: \"0\", Cancelled: \"0\", ArrDelay: \"2\", TaxiOut: \"10\", ActualElapsedTime: \"128\", CarrierDelay: \"NA\", Year: \"2008\", WeatherDelay: \"NA\", CRSArrTime: \"1000\", TailNum: \"N772SW\"}  |\n",
       "| {FlightNum: \"448\", Origin: \"IND\", LateAircraftDelay: \"NA\", NASDelay: \"NA\", ArrTime: \"804\", AirTime: \"76\", DepTime: \"628\", Month: \"1\", CRSElapsedTime: \"90\", DayofMonth: \"3\", Distance: \"515\", CRSDepTime: \"620\", SecurityDelay: \"NA\", DayOfWeek: \"4\", Dest: \"BWI\", CancellationCode: NULL, TaxiIn: \"3\", DepDelay: \"8\", UniqueCarrier: \"WN\", Diverted: \"0\", Cancelled: \"0\", ArrDelay: \"14\", TaxiOut: \"17\", ActualElapsedTime: \"96\", CarrierDelay: \"NA\", Year: \"2008\", WeatherDelay: \"NA\", CRSArrTime: \"750\", TailNum: \"N428WN\"}        |\n",
       "| {FlightNum: \"1746\", Origin: \"IND\", LateAircraftDelay: \"NA\", NASDelay: \"NA\", ArrTime: \"1054\", AirTime: \"78\", DepTime: \"926\", Month: \"1\", CRSElapsedTime: \"90\", DayofMonth: \"3\", Distance: \"515\", CRSDepTime: \"930\", SecurityDelay: \"NA\", DayOfWeek: \"4\", Dest: \"BWI\", CancellationCode: NULL, TaxiIn: \"3\", DepDelay: \"-4\", UniqueCarrier: \"WN\", Diverted: \"0\", Cancelled: \"0\", ArrDelay: \"-6\", TaxiOut: \"7\", ActualElapsedTime: \"88\", CarrierDelay: \"NA\", Year: \"2008\", WeatherDelay: \"NA\", CRSArrTime: \"1100\", TailNum: \"N612SW\"}     |\n",
       "| {FlightNum: \"3920\", Origin: \"IND\", LateAircraftDelay: \"32\", NASDelay: \"0\", ArrTime: \"1959\", AirTime: \"77\", DepTime: \"1829\", Month: \"1\", CRSElapsedTime: \"90\", DayofMonth: \"3\", Distance: \"515\", CRSDepTime: \"1755\", SecurityDelay: \"0\", DayOfWeek: \"4\", Dest: \"BWI\", CancellationCode: NULL, TaxiIn: \"3\", DepDelay: \"34\", UniqueCarrier: \"WN\", Diverted: \"0\", Cancelled: \"0\", ArrDelay: \"34\", TaxiOut: \"10\", ActualElapsedTime: \"90\", CarrierDelay: \"2\", Year: \"2008\", WeatherDelay: \"0\", CRSArrTime: \"1925\", TailNum: \"N464WN\"}      |\n",
       "+---------------------------------------------------------------------------------------------------------------------------------------------------------------------------------------------------------------------------------------------------------------------------------------------------------------------------------------------------------------------------------------------------------------------------------------------------------------------------------------------------------------------------------------+\n",
       "\n",
       "5 rows available after 381 ms, consumed after another 86 ms"
      ]
     },
     "execution_count": 23,
     "metadata": {},
     "output_type": "execute_result"
    }
   ],
   "source": [
    "LOAD CSV WITH HEADERS FROM \"https://raw.githubusercontent.com/neo4j-contrib/training/master/modeling/data/flights_1k.csv\" AS row\n",
    "RETURN row\n",
    "LIMIT 5"
   ]
  },
  {
   "cell_type": "markdown",
   "metadata": {
    "slideshow": {
     "slide_type": "subslide"
    }
   },
   "source": [
    "This query:\n",
    "\n",
    "  * loads the file flights_initial.csv\n",
    "  * iterates over the file, referring to each line as the variable row\n",
    "  * and returns the first 5 lines in the file\n",
    "\n",
    "We have got lots of different fields but the ones that will be helpful for answering our question are: `Origin`, `Dest`, and `FlightNum`.\n"
   ]
  },
  {
   "cell_type": "markdown",
   "metadata": {
    "slideshow": {
     "slide_type": "subslide"
    }
   },
   "source": [
    "### Importing connections and airports\n",
    "\n",
    "Run the following query to create nodes and relationships for these connections:"
   ]
  },
  {
   "cell_type": "code",
   "execution_count": 24,
   "metadata": {
    "slideshow": {
     "slide_type": "-"
    }
   },
   "outputs": [
    {
     "data": {
      "text/plain": []
     },
     "execution_count": 24,
     "metadata": {},
     "output_type": "execute_result"
    }
   ],
   "source": [
    "LOAD CSV WITH HEADERS FROM \"https://raw.githubusercontent.com/neo4j-contrib/training/master/modeling/data/flights_1k.csv\" AS row\n",
    "MERGE (origin:Airport {code: row.Origin})\n",
    "MERGE (destination:Airport {code: row.Dest})\n",
    "MERGE (origin)-[connection:CONNECTED_TO {\n",
    "  airline: row.UniqueCarrier,\n",
    "  flightNumber: row.FlightNum,\n",
    "  date: toInteger(row.Year) + \"-\" + toInteger(row.Month) + \"-\" + toInteger(row.DayofMonth)}]->(destination)\n",
    "ON CREATE SET connection.departure = toInteger(row.CRSDepTime), connection.arrival = toInteger(row.CRSArrTime)"
   ]
  },
  {
   "cell_type": "markdown",
   "metadata": {
    "slideshow": {
     "slide_type": "subslide"
    }
   },
   "source": [
    "This query:\n",
    "\n",
    "  * iterates through each row in the file\n",
    "  * creates nodes with the Airport label for the origin and destination airports if they don’t already exist\n",
    "  * creates a connection relationship between origin and destination airports for each row in the file\n",
    "\n",
    "By default properties will be stored as strings. We know that year, month, and day are actually numeric values so we will coerce them using the toInteger function.\n",
    "\n",
    "Now we are ready to start querying the data."
   ]
  },
  {
   "cell_type": "markdown",
   "metadata": {
    "slideshow": {
     "slide_type": "subslide"
    }
   },
   "source": [
    "### Finding the most popular airports\n",
    "\n",
    "We can see some of what we have imported by writing the following query, which finds the airports with the most outgoing connections.\n",
    "\n",
    "This query:\n",
    "\n",
    "  * finds every node with the `Airport` label\n",
    "  * finds all outgoing `CONNECTED_TO` relationships\n",
    "  * counts them up grouped by airport\n",
    "  * returns the `Airport` nodes and the `outgoing` count in descending order by `outgoing`\n",
    "  * limits the number of airports returned to `10`"
   ]
  },
  {
   "cell_type": "code",
   "execution_count": 13,
   "metadata": {},
   "outputs": [
    {
     "data": {
      "application/javascript": [
       "require([\"https://cdnjs.cloudflare.com/ajax/libs/vis/4.21.0/vis.min.js\"], function(vis) {\n",
       "  var nodes = new vis.DataSet([\n",
       "    { id: 2, label: \"Airport\", title: \"{code:ISP,<br>_id:2}\", color: 'rgba(198,117,91,0.5)'},\n",
       "    { id: 13, label: \"Airport\", title: \"{code:MHT,<br>_id:13}\", color: 'rgba(198,117,91,0.5)'},\n",
       "    { id: 10, label: \"Airport\", title: \"{code:MCI,<br>_id:10}\", color: 'rgba(198,117,91,0.5)'},\n",
       "    { id: 5, label: \"Airport\", title: \"{code:LAS,<br>_id:5}\", color: 'rgba(198,117,91,0.5)'},\n",
       "    { id: 15, label: \"Airport\", title: \"{code:OAK,<br>_id:15}\", color: 'rgba(198,117,91,0.5)'},\n",
       "    { id: 6, label: \"Airport\", title: \"{code:LAX,<br>_id:6}\", color: 'rgba(198,117,91,0.5)'},\n",
       "    { id: 11, label: \"Airport\", title: \"{code:MCO,<br>_id:11}\", color: 'rgba(198,117,91,0.5)'},\n",
       "    { id: 4, label: \"Airport\", title: \"{code:JAX,<br>_id:4}\", color: 'rgba(198,117,91,0.5)'},\n",
       "    { id: 14, label: \"Airport\", title: \"{code:MSY,<br>_id:14}\", color: 'rgba(198,117,91,0.5)'},\n",
       "    { id: 12, label: \"Airport\", title: \"{code:MDW,<br>_id:12}\", color: 'rgba(198,117,91,0.5)'},\n",
       "    \n",
       "  ]);\n",
       "\n",
       "  // create an array with edges\n",
       "  var edges = new vis.DataSet([\n",
       "    \n",
       "  ]);\n",
       "\n",
       "  // create a network\n",
       "  var container = document.getElementById('5e3e7b89-003d-45a2-82d0-d3373fd90610');\n",
       "  var data = {\n",
       "    nodes: nodes,\n",
       "    edges: edges\n",
       "  };\n",
       "\n",
       "  var options = {\n",
       "    edges: {\n",
       "      arrows: {\n",
       "        to: {\n",
       "          scaleFactor: 0.5\n",
       "        }\n",
       "      }\n",
       "    },\n",
       "    width: '100%',\n",
       "    height: '500px',\n",
       "    interaction: {hover: true}\n",
       "  };\n",
       "\n",
       "  var network = new vis.Network(container, data, options);});"
      ]
     },
     "metadata": {},
     "output_type": "display_data"
    },
    {
     "data": {
      "text/html": [
       "<link href=\"https://cdnjs.cloudflare.com/ajax/libs/vis/4.21.0/vis.min.css\" rel=\"stylesheet\" type=\"text/css\">\n",
       "                <div id=\"5e3e7b89-003d-45a2-82d0-d3373fd90610\"></div>\n",
       "                "
      ]
     },
     "metadata": {},
     "output_type": "display_data"
    },
    {
     "data": {
      "text/plain": [
       "+-----------------------------------------------+\n",
       "| a                                  | outgoing |\n",
       "+-----------------------------------------------+\n",
       "| (:Airport {_id_: 5, code: \"LAS\"})  | 241      |\n",
       "| (:Airport {_id_: 12, code: \"MDW\"}) | 227      |\n",
       "| (:Airport {_id_: 6, code: \"LAX\"})  | 122      |\n",
       "| (:Airport {_id_: 11, code: \"MCO\"}) | 116      |\n",
       "| (:Airport {_id_: 10, code: \"MCI\"}) | 72       |\n",
       "| (:Airport {_id_: 15, code: \"OAK\"}) | 38       |\n",
       "| (:Airport {_id_: 14, code: \"MSY\"}) | 35       |\n",
       "| (:Airport {_id_: 13, code: \"MHT\"}) | 31       |\n",
       "| (:Airport {_id_: 2, code: \"ISP\"})  | 28       |\n",
       "| (:Airport {_id_: 4, code: \"JAX\"})  | 23       |\n",
       "+-----------------------------------------------+\n",
       "\n",
       "10 rows available after 64 ms, consumed after another 1 ms"
      ]
     },
     "execution_count": 13,
     "metadata": {},
     "output_type": "execute_result"
    }
   ],
   "source": [
    "MATCH (a:Airport)-[:CONNECTED_TO]->()\n",
    "RETURN a, COUNT(*) AS outgoing\n",
    "ORDER BY outgoing DESC\n",
    "LIMIT 10"
   ]
  },
  {
   "cell_type": "markdown",
   "metadata": {
    "slideshow": {
     "slide_type": "subslide"
    }
   },
   "source": [
    "### Exercise: Finding connections\n",
    "\n",
    "Now it is your turn! Try and write queries to answer the following questions:\n",
    "\n",
    "  * Find the airports that have the most incoming connections\n",
    "  * Find all the connections into Las Vegas (LAS)\n",
    "  * Find all the connections from Las Vegas (LAS) to Los Angeles (LAX)\n",
    "\n",
    "**Hint:** Refer to the Cypher refcard (http://neo4j.com/docs/stable/cypher-refcard/) for Cypher Syntax.\n"
   ]
  },
  {
   "cell_type": "code",
   "execution_count": 14,
   "metadata": {
    "slideshow": {
     "slide_type": "subslide"
    }
   },
   "outputs": [
    {
     "data": {
      "application/javascript": [
       "require([\"https://cdnjs.cloudflare.com/ajax/libs/vis/4.21.0/vis.min.js\"], function(vis) {\n",
       "  var nodes = new vis.DataSet([\n",
       "    { id: 60, label: \"Airport\", title: \"{code:DAL,<br>_id:60}\", color: 'rgba(198,117,91,0.5)'},\n",
       "    { id: 34, label: \"Airport\", title: \"{code:BUR,<br>_id:34}\", color: 'rgba(198,117,91,0.5)'},\n",
       "    { id: 24, label: \"Airport\", title: \"{code:BNA,<br>_id:24}\", color: 'rgba(198,117,91,0.5)'},\n",
       "    { id: 5, label: \"Airport\", title: \"{code:LAS,<br>_id:5}\", color: 'rgba(198,117,91,0.5)'},\n",
       "    { id: 15, label: \"Airport\", title: \"{code:OAK,<br>_id:15}\", color: 'rgba(198,117,91,0.5)'},\n",
       "    { id: 17, label: \"Airport\", title: \"{code:BWI,<br>_id:17}\", color: 'rgba(198,117,91,0.5)'},\n",
       "    { id: 22, label: \"Airport\", title: \"{code:HOU,<br>_id:22}\", color: 'rgba(198,117,91,0.5)'},\n",
       "    { id: 11, label: \"Airport\", title: \"{code:MCO,<br>_id:11}\", color: 'rgba(198,117,91,0.5)'},\n",
       "    { id: 12, label: \"Airport\", title: \"{code:MDW,<br>_id:12}\", color: 'rgba(198,117,91,0.5)'},\n",
       "    { id: 18, label: \"Airport\", title: \"{code:PHX,<br>_id:18}\", color: 'rgba(198,117,91,0.5)'},\n",
       "    \n",
       "  ]);\n",
       "\n",
       "  // create an array with edges\n",
       "  var edges = new vis.DataSet([\n",
       "    \n",
       "  ]);\n",
       "\n",
       "  // create a network\n",
       "  var container = document.getElementById('5cd2db69-2c8a-48d0-9b2a-2493b493c1e6');\n",
       "  var data = {\n",
       "    nodes: nodes,\n",
       "    edges: edges\n",
       "  };\n",
       "\n",
       "  var options = {\n",
       "    edges: {\n",
       "      arrows: {\n",
       "        to: {\n",
       "          scaleFactor: 0.5\n",
       "        }\n",
       "      }\n",
       "    },\n",
       "    width: '100%',\n",
       "    height: '500px',\n",
       "    interaction: {hover: true}\n",
       "  };\n",
       "\n",
       "  var network = new vis.Network(container, data, options);});"
      ]
     },
     "metadata": {},
     "output_type": "display_data"
    },
    {
     "data": {
      "text/html": [
       "<link href=\"https://cdnjs.cloudflare.com/ajax/libs/vis/4.21.0/vis.min.css\" rel=\"stylesheet\" type=\"text/css\">\n",
       "                <div id=\"5cd2db69-2c8a-48d0-9b2a-2493b493c1e6\"></div>\n",
       "                "
      ]
     },
     "metadata": {},
     "output_type": "display_data"
    },
    {
     "data": {
      "text/plain": [
       "+-----------------------------------------------+\n",
       "| a                                  | incoming |\n",
       "+-----------------------------------------------+\n",
       "| (:Airport {_id_: 12, code: \"MDW\"}) | 56       |\n",
       "| (:Airport {_id_: 17, code: \"BWI\"}) | 51       |\n",
       "| (:Airport {_id_: 18, code: \"PHX\"}) | 49       |\n",
       "| (:Airport {_id_: 5, code: \"LAS\"})  | 48       |\n",
       "| (:Airport {_id_: 15, code: \"OAK\"}) | 42       |\n",
       "| (:Airport {_id_: 22, code: \"HOU\"}) | 40       |\n",
       "| (:Airport {_id_: 60, code: \"DAL\"}) | 33       |\n",
       "| (:Airport {_id_: 24, code: \"BNA\"}) | 32       |\n",
       "| (:Airport {_id_: 11, code: \"MCO\"}) | 30       |\n",
       "| (:Airport {_id_: 34, code: \"BUR\"}) | 30       |\n",
       "+-----------------------------------------------+\n",
       "\n",
       "10 rows available after 23 ms, consumed after another 1 ms"
      ]
     },
     "execution_count": 14,
     "metadata": {},
     "output_type": "execute_result"
    }
   ],
   "source": [
    "MATCH (a:Airport)<-[:CONNECTED_TO]-()\n",
    "RETURN a, COUNT(*) AS incoming\n",
    "ORDER BY incoming DESC\n",
    "LIMIT 10"
   ]
  },
  {
   "cell_type": "code",
   "execution_count": 15,
   "metadata": {
    "slideshow": {
     "slide_type": "subslide"
    }
   },
   "outputs": [
    {
     "data": {
      "application/javascript": [
       "require([\"https://cdnjs.cloudflare.com/ajax/libs/vis/4.21.0/vis.min.js\"], function(vis) {\n",
       "  var nodes = new vis.DataSet([\n",
       "    { id: 13, label: \"Airport\", title: \"{code:MHT,<br>_id:13}\", color: 'rgba(198,117,91,0.5)'},\n",
       "    { id: 5, label: \"Airport\", title: \"{code:LAS,<br>_id:5}\", color: 'rgba(198,117,91,0.5)'},\n",
       "    { id: 15, label: \"Airport\", title: \"{code:OAK,<br>_id:15}\", color: 'rgba(198,117,91,0.5)'},\n",
       "    { id: 14, label: \"Airport\", title: \"{code:MSY,<br>_id:14}\", color: 'rgba(198,117,91,0.5)'},\n",
       "    { id: 12, label: \"Airport\", title: \"{code:MDW,<br>_id:12}\", color: 'rgba(198,117,91,0.5)'},\n",
       "    \n",
       "  ]);\n",
       "\n",
       "  // create an array with edges\n",
       "  var edges = new vis.DataSet([\n",
       "    { from: 15,to: 5, arrows:'to', title: \"{date:2008-1-3, departure:700, airline:WN, arrival:825, flightNumber:565, _id:997,}\" },\n",
       "    { from: 15,to: 5, arrows:'to', title: \"{date:2008-1-3, departure:1010, airline:WN, arrival:1135, flightNumber:752, _id:998,}\" },\n",
       "    { from: 12,to: 5, arrows:'to', title: \"{date:2008-1-3, departure:1705, airline:WN, arrival:1905, flightNumber:201, _id:757,}\" },\n",
       "    { from: 15,to: 5, arrows:'to', title: \"{date:2008-1-3, departure:830, airline:WN, arrival:955, flightNumber:762, _id:999,}\" },\n",
       "    { from: 14,to: 5, arrows:'to', title: \"{date:2008-1-3, departure:840, airline:WN, arrival:1040, flightNumber:125, _id:951,}\" },\n",
       "    { from: 14,to: 5, arrows:'to', title: \"{date:2008-1-3, departure:1635, airline:WN, arrival:1835, flightNumber:1254, _id:952,}\" },\n",
       "    { from: 15,to: 5, arrows:'to', title: \"{date:2008-1-3, departure:1500, airline:WN, arrival:1625, flightNumber:302, _id:994,}\" },\n",
       "    { from: 13,to: 5, arrows:'to', title: \"{date:2008-1-3, departure:645, airline:WN, arrival:950, flightNumber:2719, _id:907,}\" },\n",
       "    { from: 15,to: 5, arrows:'to', title: \"{date:2008-1-3, departure:2040, airline:WN, arrival:2205, flightNumber:428, _id:995,}\" },\n",
       "    { from: 15,to: 5, arrows:'to', title: \"{date:2008-1-3, departure:1245, airline:WN, arrival:1410, flightNumber:500, _id:996,}\" },\n",
       "    \n",
       "  ]);\n",
       "\n",
       "  // create a network\n",
       "  var container = document.getElementById('9735aec0-c349-4f56-8557-239c7141b6d3');\n",
       "  var data = {\n",
       "    nodes: nodes,\n",
       "    edges: edges\n",
       "  };\n",
       "\n",
       "  var options = {\n",
       "    edges: {\n",
       "      arrows: {\n",
       "        to: {\n",
       "          scaleFactor: 0.5\n",
       "        }\n",
       "      }\n",
       "    },\n",
       "    width: '100%',\n",
       "    height: '500px',\n",
       "    interaction: {hover: true}\n",
       "  };\n",
       "\n",
       "  var network = new vis.Network(container, data, options);});"
      ]
     },
     "metadata": {},
     "output_type": "display_data"
    },
    {
     "data": {
      "text/html": [
       "<link href=\"https://cdnjs.cloudflare.com/ajax/libs/vis/4.21.0/vis.min.css\" rel=\"stylesheet\" type=\"text/css\">\n",
       "                <div id=\"9735aec0-c349-4f56-8557-239c7141b6d3\"></div>\n",
       "                "
      ]
     },
     "metadata": {},
     "output_type": "display_data"
    },
    {
     "data": {
      "text/plain": [
       "+---------------------------------------------------------------------------------------------------------------------------------------------------------------------------------------------------+\n",
       "| origin                             | destination                       | connection                                                                                                               |\n",
       "+---------------------------------------------------------------------------------------------------------------------------------------------------------------------------------------------------+\n",
       "| (:Airport {_id_: 15, code: \"OAK\"}) | (:Airport {_id_: 5, code: \"LAS\"}) | [:CONNECTED_TO {date: \"2008-1-3\", _id_: 998, departure: 1010, airline: \"WN\", arrival: 1135, flightNumber: \"752\"}[15>5]]  |\n",
       "| (:Airport {_id_: 15, code: \"OAK\"}) | (:Airport {_id_: 5, code: \"LAS\"}) | [:CONNECTED_TO {date: \"2008-1-3\", _id_: 999, departure: 830, airline: \"WN\", arrival: 955, flightNumber: \"762\"}[15>5]]    |\n",
       "| (:Airport {_id_: 15, code: \"OAK\"}) | (:Airport {_id_: 5, code: \"LAS\"}) | [:CONNECTED_TO {date: \"2008-1-3\", _id_: 996, departure: 1245, airline: \"WN\", arrival: 1410, flightNumber: \"500\"}[15>5]]  |\n",
       "| (:Airport {_id_: 15, code: \"OAK\"}) | (:Airport {_id_: 5, code: \"LAS\"}) | [:CONNECTED_TO {date: \"2008-1-3\", _id_: 997, departure: 700, airline: \"WN\", arrival: 825, flightNumber: \"565\"}[15>5]]    |\n",
       "| (:Airport {_id_: 15, code: \"OAK\"}) | (:Airport {_id_: 5, code: \"LAS\"}) | [:CONNECTED_TO {date: \"2008-1-3\", _id_: 994, departure: 1500, airline: \"WN\", arrival: 1625, flightNumber: \"302\"}[15>5]]  |\n",
       "| (:Airport {_id_: 15, code: \"OAK\"}) | (:Airport {_id_: 5, code: \"LAS\"}) | [:CONNECTED_TO {date: \"2008-1-3\", _id_: 995, departure: 2040, airline: \"WN\", arrival: 2205, flightNumber: \"428\"}[15>5]]  |\n",
       "| (:Airport {_id_: 13, code: \"MHT\"}) | (:Airport {_id_: 5, code: \"LAS\"}) | [:CONNECTED_TO {date: \"2008-1-3\", _id_: 907, departure: 645, airline: \"WN\", arrival: 950, flightNumber: \"2719\"}[13>5]]   |\n",
       "| (:Airport {_id_: 14, code: \"MSY\"}) | (:Airport {_id_: 5, code: \"LAS\"}) | [:CONNECTED_TO {date: \"2008-1-3\", _id_: 951, departure: 840, airline: \"WN\", arrival: 1040, flightNumber: \"125\"}[14>5]]   |\n",
       "| (:Airport {_id_: 14, code: \"MSY\"}) | (:Airport {_id_: 5, code: \"LAS\"}) | [:CONNECTED_TO {date: \"2008-1-3\", _id_: 952, departure: 1635, airline: \"WN\", arrival: 1835, flightNumber: \"1254\"}[14>5]] |\n",
       "| (:Airport {_id_: 12, code: \"MDW\"}) | (:Airport {_id_: 5, code: \"LAS\"}) | [:CONNECTED_TO {date: \"2008-1-3\", _id_: 757, departure: 1705, airline: \"WN\", arrival: 1905, flightNumber: \"201\"}[12>5]]  |\n",
       "+---------------------------------------------------------------------------------------------------------------------------------------------------------------------------------------------------+\n",
       "\n",
       "10 rows available after 28 ms, consumed after another 1 ms"
      ]
     },
     "execution_count": 15,
     "metadata": {},
     "output_type": "execute_result"
    }
   ],
   "source": [
    "MATCH (origin:Airport)-[connection:CONNECTED_TO]->(destination:Airport {code: \"LAS\"})\n",
    "RETURN origin, destination, connection\n",
    "LIMIT 10"
   ]
  },
  {
   "cell_type": "code",
   "execution_count": 16,
   "metadata": {
    "slideshow": {
     "slide_type": "subslide"
    }
   },
   "outputs": [
    {
     "data": {
      "application/javascript": [
       "require([\"https://cdnjs.cloudflare.com/ajax/libs/vis/4.21.0/vis.min.js\"], function(vis) {\n",
       "  var nodes = new vis.DataSet([\n",
       "    { id: 5, label: \"Airport\", title: \"{code:LAS,<br>_id:5}\", color: 'rgba(198,117,91,0.5)'},\n",
       "    { id: 6, label: \"Airport\", title: \"{code:LAX,<br>_id:6}\", color: 'rgba(198,117,91,0.5)'},\n",
       "    \n",
       "  ]);\n",
       "\n",
       "  // create an array with edges\n",
       "  var edges = new vis.DataSet([\n",
       "    { from: 5,to: 6, arrows:'to', title: \"{date:2008-1-3, departure:1455, airline:WN, arrival:1600, flightNumber:354, _id:142,}\" },\n",
       "    { from: 5,to: 6, arrows:'to', title: \"{date:2008-1-3, departure:1200, airline:WN, arrival:1310, flightNumber:1928, _id:147,}\" },\n",
       "    { from: 5,to: 6, arrows:'to', title: \"{date:2008-1-3, departure:2120, airline:WN, arrival:2225, flightNumber:2896, _id:149,}\" },\n",
       "    { from: 5,to: 6, arrows:'to', title: \"{date:2008-1-3, departure:1025, airline:WN, arrival:1135, flightNumber:3655, _id:150,}\" },\n",
       "    { from: 5,to: 6, arrows:'to', title: \"{date:2008-1-3, departure:1525, airline:WN, arrival:1630, flightNumber:1061, _id:145,}\" },\n",
       "    { from: 5,to: 6, arrows:'to', title: \"{date:2008-1-3, departure:1250, airline:WN, arrival:1355, flightNumber:784, _id:143,}\" },\n",
       "    { from: 5,to: 6, arrows:'to', title: \"{date:2008-1-3, departure:1420, airline:WN, arrival:1525, flightNumber:3917, _id:151,}\" },\n",
       "    { from: 5,to: 6, arrows:'to', title: \"{date:2008-1-3, departure:2005, airline:WN, arrival:2115, flightNumber:2367, _id:148,}\" },\n",
       "    { from: 5,to: 6, arrows:'to', title: \"{date:2008-1-3, departure:750, airline:WN, arrival:855, flightNumber:1653, _id:146,}\" },\n",
       "    { from: 5,to: 6, arrows:'to', title: \"{date:2008-1-3, departure:840, airline:WN, arrival:945, flightNumber:790, _id:144,}\" },\n",
       "    \n",
       "  ]);\n",
       "\n",
       "  // create a network\n",
       "  var container = document.getElementById('d30353ae-2760-4fb7-992b-35bd019a37ec');\n",
       "  var data = {\n",
       "    nodes: nodes,\n",
       "    edges: edges\n",
       "  };\n",
       "\n",
       "  var options = {\n",
       "    edges: {\n",
       "      arrows: {\n",
       "        to: {\n",
       "          scaleFactor: 0.5\n",
       "        }\n",
       "      }\n",
       "    },\n",
       "    width: '100%',\n",
       "    height: '500px',\n",
       "    interaction: {hover: true}\n",
       "  };\n",
       "\n",
       "  var network = new vis.Network(container, data, options);});"
      ]
     },
     "metadata": {},
     "output_type": "display_data"
    },
    {
     "data": {
      "text/html": [
       "<link href=\"https://cdnjs.cloudflare.com/ajax/libs/vis/4.21.0/vis.min.css\" rel=\"stylesheet\" type=\"text/css\">\n",
       "                <div id=\"d30353ae-2760-4fb7-992b-35bd019a37ec\"></div>\n",
       "                "
      ]
     },
     "metadata": {},
     "output_type": "display_data"
    },
    {
     "data": {
      "text/plain": [
       "+-------------------------------------------------------------------------------------------------------------------------------------------------------------------------------------------------+\n",
       "| o                                 | d                                 | c                                                                                                                       |\n",
       "+-------------------------------------------------------------------------------------------------------------------------------------------------------------------------------------------------+\n",
       "| (:Airport {_id_: 5, code: \"LAS\"}) | (:Airport {_id_: 6, code: \"LAX\"}) | [:CONNECTED_TO {date: \"2008-1-3\", _id_: 151, departure: 1420, airline: \"WN\", arrival: 1525, flightNumber: \"3917\"}[5>6]] |\n",
       "| (:Airport {_id_: 5, code: \"LAS\"}) | (:Airport {_id_: 6, code: \"LAX\"}) | [:CONNECTED_TO {date: \"2008-1-3\", _id_: 150, departure: 1025, airline: \"WN\", arrival: 1135, flightNumber: \"3655\"}[5>6]] |\n",
       "| (:Airport {_id_: 5, code: \"LAS\"}) | (:Airport {_id_: 6, code: \"LAX\"}) | [:CONNECTED_TO {date: \"2008-1-3\", _id_: 149, departure: 2120, airline: \"WN\", arrival: 2225, flightNumber: \"2896\"}[5>6]] |\n",
       "| (:Airport {_id_: 5, code: \"LAS\"}) | (:Airport {_id_: 6, code: \"LAX\"}) | [:CONNECTED_TO {date: \"2008-1-3\", _id_: 148, departure: 2005, airline: \"WN\", arrival: 2115, flightNumber: \"2367\"}[5>6]] |\n",
       "| (:Airport {_id_: 5, code: \"LAS\"}) | (:Airport {_id_: 6, code: \"LAX\"}) | [:CONNECTED_TO {date: \"2008-1-3\", _id_: 147, departure: 1200, airline: \"WN\", arrival: 1310, flightNumber: \"1928\"}[5>6]] |\n",
       "| (:Airport {_id_: 5, code: \"LAS\"}) | (:Airport {_id_: 6, code: \"LAX\"}) | [:CONNECTED_TO {date: \"2008-1-3\", _id_: 146, departure: 750, airline: \"WN\", arrival: 855, flightNumber: \"1653\"}[5>6]]   |\n",
       "| (:Airport {_id_: 5, code: \"LAS\"}) | (:Airport {_id_: 6, code: \"LAX\"}) | [:CONNECTED_TO {date: \"2008-1-3\", _id_: 145, departure: 1525, airline: \"WN\", arrival: 1630, flightNumber: \"1061\"}[5>6]] |\n",
       "| (:Airport {_id_: 5, code: \"LAS\"}) | (:Airport {_id_: 6, code: \"LAX\"}) | [:CONNECTED_TO {date: \"2008-1-3\", _id_: 144, departure: 840, airline: \"WN\", arrival: 945, flightNumber: \"790\"}[5>6]]    |\n",
       "| (:Airport {_id_: 5, code: \"LAS\"}) | (:Airport {_id_: 6, code: \"LAX\"}) | [:CONNECTED_TO {date: \"2008-1-3\", _id_: 142, departure: 1455, airline: \"WN\", arrival: 1600, flightNumber: \"354\"}[5>6]]  |\n",
       "| (:Airport {_id_: 5, code: \"LAS\"}) | (:Airport {_id_: 6, code: \"LAX\"}) | [:CONNECTED_TO {date: \"2008-1-3\", _id_: 143, departure: 1250, airline: \"WN\", arrival: 1355, flightNumber: \"784\"}[5>6]]  |\n",
       "+-------------------------------------------------------------------------------------------------------------------------------------------------------------------------------------------------+\n",
       "\n",
       "10 rows available after 24 ms, consumed after another 0 ms"
      ]
     },
     "execution_count": 16,
     "metadata": {},
     "output_type": "execute_result"
    }
   ],
   "source": [
    "MATCH (o:Airport {code: \"LAS\"})-[c:CONNECTED_TO]->(d:Airport {code: \"LAX\"})\n",
    "RETURN o, d, c\n",
    "LIMIT 10"
   ]
  },
  {
   "cell_type": "markdown",
   "metadata": {
    "slideshow": {
     "slide_type": "slide"
    }
   },
   "source": [
    "## Refactoring and Profiling\n",
    "\n",
    "\n",
    "### Finding specific connections\n",
    "\n",
    "\n",
    "The model has worked well so far. We have been able to find the popular airports and find the connections between pairs of airports without much trouble.\n",
    "\n",
    "What about if we want to find all the occurrences of a specific connection?\n",
    "\n",
    "> As an air travel enthusiast\n",
    ">\n",
    "> I want to know the schedule for flight number\n",
    ">\n",
    "> So that I know when I will be able to spot those planes taking off and landing\n",
    "\n",
    "\n",
    "Our next query finds all the instances of connection `WN 1016`:"
   ]
  },
  {
   "cell_type": "code",
   "execution_count": 17,
   "metadata": {
    "slideshow": {
     "slide_type": "subslide"
    }
   },
   "outputs": [
    {
     "data": {
      "text/plain": [
       "+----------------------------------------------------------------------------------------------+\n",
       "| origin.code | destination.code | connection.date | connection.departure | connection.arrival |\n",
       "+----------------------------------------------------------------------------------------------+\n",
       "| \"MDW\"       | \"LAS\"            | \"2008-1-3\"      | 740                  | 940                |\n",
       "| \"IND\"       | \"MDW\"            | \"2008-1-3\"      | 715                  | 710                |\n",
       "| \"LAS\"       | \"SNA\"            | \"2008-1-3\"      | 1010                 | 1110               |\n",
       "+----------------------------------------------------------------------------------------------+\n",
       "\n",
       "3 rows available after 24 ms, consumed after another 5 ms"
      ]
     },
     "execution_count": 17,
     "metadata": {},
     "output_type": "execute_result"
    }
   ],
   "source": [
    "MATCH  (origin:Airport)-[connection:CONNECTED_TO]->(destination:Airport)\n",
    "WHERE connection.airline = \"WN\" AND connection.flightNumber = \"1016\"\n",
    "RETURN origin.code, destination.code, connection.date, connection.departure, connection.arrival"
   ]
  },
  {
   "cell_type": "markdown",
   "metadata": {
    "slideshow": {
     "slide_type": "subslide"
    }
   },
   "source": [
    "\n",
    "It is still reasonably quick because we only have 1000 rows, but under the covers we’re actually doing a lot of unnecessary work.\n",
    "\n",
    "\n",
    "We can *profile* our query by prefixing it with the `PROFILE` keyword:\n",
    "\n",
    "> `PROFILE`\n",
    "If you want to run the statement and see which operators are doing most of the work, use PROFILE. This will run your statement and keep track of how many rows pass through each operator, and how much each operator needs to interact with the storage layer to retrieve the necessary data. Please note that profiling your query uses more resources, so you should not profile unless you are actively working on a query. https://neo4j.com/docs/developer-manual/current/cypher/query-tuning/how-do-i-profile-a-query/\n"
   ]
  },
  {
   "cell_type": "code",
   "execution_count": 18,
   "metadata": {
    "slideshow": {
     "slide_type": "subslide"
    }
   },
   "outputs": [
    {
     "data": {
      "text/plain": [
       "+-----------------------------------------------------------------------------------------+\n",
       "| Plan      | Statement   | Version      | Planner | Runtime       | Time | DbHits | Rows |\n",
       "+-----------------------------------------------------------------------------------------+\n",
       "| \"PROFILE\" | \"READ_ONLY\" | \"CYPHER 3.3\" | \"COST\"  | \"INTERPRETED\" | 7    | 0      | 3    |\n",
       "+-----------------------------------------------------------------------------------------+\n",
       "\n",
       "+------------------+----------------+------+---------+-----------+---------------------------------------------------------------------------------------------------------------------------+------------------------------------------------------------------------------------------------------------------------------------------------------------------------------------------------+\n",
       "| Operator         | Estimated Rows | Rows | DB Hits | Cache H/M | Identifiers                                                                                                               | Other                                                                                                                                                                                          |\n",
       "+------------------+----------------+------+---------+-----------+---------------------------------------------------------------------------------------------------------------------------+------------------------------------------------------------------------------------------------------------------------------------------------------------------------------------------------+\n",
       "| +ProduceResults  |             10 |    3 |       0 |       0/0 | connection.date, connection.arrival, origin.code, origin, destination.code, connection, destination, connection.departure | 0.0                                                                                                                                                                                            |\n",
       "| |                +----------------+------+---------+-----------+---------------------------------------------------------------------------------------------------------------------------+------------------------------------------------------------------------------------------------------------------------------------------------------------------------------------------------+\n",
       "| +Projection      |             10 |    3 |      15 |       0/0 | connection.date, connection.arrival, origin.code, origin, destination.code, connection, destination, connection.departure | 0.0; {connection.date : connection.date, connection.arrival : connection.arrival, origin.code : origin.code, destination.code : destination.code, connection.departure : connection.departure} |\n",
       "| |                +----------------+------+---------+-----------+---------------------------------------------------------------------------------------------------------------------------+------------------------------------------------------------------------------------------------------------------------------------------------------------------------------------------------+\n",
       "| +Filter          |             10 |    3 |    1006 |       0/0 | connection, destination, origin                                                                                           | 0.0; origin:Airport                                                                                                                                                                            |\n",
       "| |                +----------------+------+---------+-----------+---------------------------------------------------------------------------------------------------------------------------+------------------------------------------------------------------------------------------------------------------------------------------------------------------------------------------------+\n",
       "| +Expand(All)     |           1000 | 1000 |    1064 |       0/0 | connection, destination, origin                                                                                           | 0.0; (destination)<-[connection:CONNECTED_TO]-(origin)                                                                                                                                         |\n",
       "| |                +----------------+------+---------+-----------+---------------------------------------------------------------------------------------------------------------------------+------------------------------------------------------------------------------------------------------------------------------------------------------------------------------------------------+\n",
       "| +NodeByLabelScan |             64 |   64 |      65 |       0/0 | destination                                                                                                               | 0.0; :Airport                                                                                                                                                                                  |\n",
       "+------------------+----------------+------+---------+-----------+---------------------------------------------------------------------------------------------------------------------------+------------------------------------------------------------------------------------------------------------------------------------------------------------------------------------------------+\n",
       "\n",
       "+----------------------------------------------------------------------------------------------+\n",
       "| origin.code | destination.code | connection.date | connection.departure | connection.arrival |\n",
       "+----------------------------------------------------------------------------------------------+\n",
       "| \"MDW\"       | \"LAS\"            | \"2008-1-3\"      | 740                  | 940                |\n",
       "| \"IND\"       | \"MDW\"            | \"2008-1-3\"      | 715                  | 710                |\n",
       "| \"LAS\"       | \"SNA\"            | \"2008-1-3\"      | 1010                 | 1110               |\n",
       "+----------------------------------------------------------------------------------------------+\n",
       "\n",
       "3 rows available after 2 ms, consumed after another 5 ms"
      ]
     },
     "execution_count": 18,
     "metadata": {},
     "output_type": "execute_result"
    }
   ],
   "source": [
    "PROFILE\n",
    "MATCH  (origin:Airport)-[connection:CONNECTED_TO]->(destination:Airport)\n",
    "WHERE connection.airline = \"WN\" AND connection.flightNumber = \"1016\"\n",
    "RETURN origin.code, destination.code, connection.date, connection.departure, connection.arrival"
   ]
  },
  {
   "cell_type": "markdown",
   "metadata": {
    "slideshow": {
     "slide_type": "subslide"
    }
   },
   "source": [
    "What we get back is an execution plan which describes the Cypher operators used to execute this query. You can read more about these in the developer manual (https://neo4j.com/docs/developer-manual/current/cypher/#execution-plans)\n",
    "\n",
    "In this one the query starts with a `NodeByLabelScan` on the `:Airport` label, which means that we first scanned all the airports. Next we followed the `FLIGHT` relationship to `origin` airports, and we can see from the estimated rows count that we followed 1000 of these.\n",
    "\n",
    "In fact we actually looked at every single flight, which we can confirm by executing the following query:\n"
   ]
  },
  {
   "cell_type": "code",
   "execution_count": 19,
   "metadata": {
    "slideshow": {
     "slide_type": "subslide"
    }
   },
   "outputs": [
    {
     "data": {
      "text/plain": [
       "+----------+\n",
       "| count(*) |\n",
       "+----------+\n",
       "| 1000     |\n",
       "+----------+\n",
       "\n",
       "1 row available after 10 ms, consumed after another 0 ms"
      ]
     },
     "execution_count": 19,
     "metadata": {},
     "output_type": "execute_result"
    }
   ],
   "source": [
    "MATCH ()-[:CONNECTED_TO]->()\n",
    "RETURN count(*)"
   ]
  },
  {
   "cell_type": "markdown",
   "metadata": {
    "slideshow": {
     "slide_type": "subslide"
    }
   },
   "source": [
    "So it is clear that our model is not optimal - we are doing far too much work just to find the destinations and origins of one flight.\n",
    "\n",
    "It is time to **refactor** the model. The following is based on `:play http://guides.neo4j.com/modeling_airports/02_flight.html`\n"
   ]
  },
  {
   "cell_type": "markdown",
   "metadata": {
    "slideshow": {
     "slide_type": "subslide"
    }
   },
   "source": [
    "### Ensuring flight uniqueness\n",
    "\n",
    "When we refactor the model we want to make sure we only create each flight once.\n",
    "\n",
    "Neo4j allows us to create unique constraints to ensure uniqueness across a label/property pair, but at the moment we can only create constraints on single properties. We want to ensure uniqueness across several properties so we will combine those together into a single dummy property.\n",
    "\n",
    "The combination of airline, flight number, and date makes a flight unique. As we saw in the previous section, however, some flights can have multiple legs so we will need to consider departure and arrival airports as well. We will create a flightId with this format: `{airline}{flightNumber}{year}-{month}-{day}_{origin}_{destination}`\n",
    "\n",
    "Run the following query to create a unique constraint on the Flight/id label/property pair:\n"
   ]
  },
  {
   "cell_type": "code",
   "execution_count": 4,
   "metadata": {
    "slideshow": {
     "slide_type": "-"
    }
   },
   "outputs": [
    {
     "data": {
      "text/plain": []
     },
     "execution_count": 4,
     "metadata": {},
     "output_type": "execute_result"
    }
   ],
   "source": [
    "CREATE CONSTRAINT ON (f:Flight)\n",
    "ASSERT f.id IS UNIQUE"
   ]
  },
  {
   "cell_type": "markdown",
   "metadata": {
    "slideshow": {
     "slide_type": "subslide"
    }
   },
   "source": [
    "### Refactoring - Creating flights\n",
    "\n",
    "We are now ready to introduce `Flight` nodes to our data model. That is, we want to create a data model of the following kind:\n",
    "\n",
    "\n",
    "![refactored_model](http://guides.neo4j.com/modeling_airports/img/flight_first_class.png)\n",
    "\n",
    "Run the following query to create Flight nodes for every CONNECTED_TO relationship:\n",
    "\n",
    "The following query\n",
    "\n",
    "  * finds all `(origin, connection, destination)` paths\n",
    "  * creates a `Flight` node if one doesn’t already exist\n",
    "  * creates an `ORIGIN` relationship to the origin airport and a `DESTINATION` relationship to the destination airport"
   ]
  },
  {
   "cell_type": "code",
   "execution_count": 20,
   "metadata": {
    "slideshow": {
     "slide_type": "subslide"
    }
   },
   "outputs": [
    {
     "data": {
      "text/plain": []
     },
     "execution_count": 20,
     "metadata": {},
     "output_type": "execute_result"
    }
   ],
   "source": [
    "MATCH (origin:Airport)-[connection:CONNECTED_TO]->(destination:Airport)\n",
    "MERGE (newFlight:Flight { id: connection.airline + connection.flightNumber + \"_\" + connection.date +  \"_\" + origin.code + \"_\" + destination.code }   )\n",
    "ON CREATE SET newFlight.date = connection.date,\n",
    "              newFlight.airline = connection.airline,\n",
    "              newFlight.number = connection.flightNumber,\n",
    "              newFlight.departure = connection.departure,\n",
    "              newFlight.arrival = connection.arrival\n",
    "MERGE (origin)<-[:ORIGIN]-(newFlight)\n",
    "MERGE (newFlight)-[:DESTINATION]->(destination)"
   ]
  },
  {
   "cell_type": "code",
   "execution_count": 21,
   "metadata": {},
   "outputs": [
    {
     "data": {
      "application/javascript": [
       "require([\"https://cdnjs.cloudflare.com/ajax/libs/vis/4.21.0/vis.min.js\"], function(vis) {\n",
       "  var nodes = new vis.DataSet([\n",
       "    { id: -3, label: \"Airport\", title: \"{name:Airport,<br>indexes:[],<br>constraints:[],<br>_id:-3}\", color: 'rgba(198,117,91,0.5)'},\n",
       "    { id: -4, label: \"Flight\", title: \"{name:Flight,<br>indexes:['number'],<br>constraints:['CONSTRAINT ON ( flight:Flight ) ASSERT flight.id IS UNIQUE'],<br>_id:-4}\", color: 'rgba(129,59,253,0.5)'},\n",
       "    \n",
       "  ]);\n",
       "\n",
       "  // create an array with edges\n",
       "  var edges = new vis.DataSet([\n",
       "    { from: -4,to: -3, arrows:'to', title: \"{_id:-5,}\" },\n",
       "    { from: -4,to: -3, arrows:'to', title: \"{_id:-6,}\" },\n",
       "    { from: -3,to: -3, arrows:'to', title: \"{_id:-4,}\" },\n",
       "    \n",
       "  ]);\n",
       "\n",
       "  // create a network\n",
       "  var container = document.getElementById('87b4066d-e2e2-4841-ade6-5b7e68ae3aec');\n",
       "  var data = {\n",
       "    nodes: nodes,\n",
       "    edges: edges\n",
       "  };\n",
       "\n",
       "  var options = {\n",
       "    edges: {\n",
       "      arrows: {\n",
       "        to: {\n",
       "          scaleFactor: 0.5\n",
       "        }\n",
       "      }\n",
       "    },\n",
       "    width: '100%',\n",
       "    height: '500px',\n",
       "    interaction: {hover: true}\n",
       "  };\n",
       "\n",
       "  var network = new vis.Network(container, data, options);});"
      ]
     },
     "metadata": {},
     "output_type": "display_data"
    },
    {
     "data": {
      "text/html": [
       "<link href=\"https://cdnjs.cloudflare.com/ajax/libs/vis/4.21.0/vis.min.css\" rel=\"stylesheet\" type=\"text/css\">\n",
       "                <div id=\"87b4066d-e2e2-4841-ade6-5b7e68ae3aec\"></div>\n",
       "                "
      ]
     },
     "metadata": {},
     "output_type": "display_data"
    },
    {
     "data": {
      "text/plain": [
       "+---------------------------------------------------------------------------------------------------------------------------------------------------------------------------------------------------------------------------------------------------------------------------------------------------------------------+\n",
       "| nodes                                                                                                                                                                                                          | relationships                                                                                      |\n",
       "+---------------------------------------------------------------------------------------------------------------------------------------------------------------------------------------------------------------------------------------------------------------------------------------------------------------------+\n",
       "| [(:Flight {name: \"Flight\", _id_: -4, indexes: [\"number\"], constraints: [\"CONSTRAINT ON ( flight:Flight ) ASSERT flight.id IS UNIQUE\"]}), (:Airport {name: \"Airport\", _id_: -3, indexes: [], constraints: []})] | [[:ORIGIN {_id_: -5}[-4>-3]], [:CONNECTED_TO {_id_: -4}[-3>-3]], [:DESTINATION {_id_: -6}[-4>-3]]] |\n",
       "+---------------------------------------------------------------------------------------------------------------------------------------------------------------------------------------------------------------------------------------------------------------------------------------------------------------------+\n",
       "\n",
       "1 row available after 3 ms, consumed after another 2 ms"
      ]
     },
     "execution_count": 21,
     "metadata": {},
     "output_type": "execute_result"
    }
   ],
   "source": [
    "CALL db.schema()"
   ]
  },
  {
   "cell_type": "markdown",
   "metadata": {
    "slideshow": {
     "slide_type": "subslide"
    }
   },
   "source": [
    "### Find all the flights for flight number WN 1016\n",
    "\n",
    "First let’s create an index on `(Flight, number)` so that we can quickly find the appropriate flights."
   ]
  },
  {
   "cell_type": "code",
   "execution_count": 22,
   "metadata": {},
   "outputs": [
    {
     "data": {
      "text/plain": []
     },
     "execution_count": 22,
     "metadata": {},
     "output_type": "execute_result"
    }
   ],
   "source": [
    "CREATE INDEX ON :Flight(number)"
   ]
  },
  {
   "cell_type": "code",
   "execution_count": 23,
   "metadata": {},
   "outputs": [
    {
     "data": {
      "application/javascript": [
       "require([\"https://cdnjs.cloudflare.com/ajax/libs/vis/4.21.0/vis.min.js\"], function(vis) {\n",
       "  var nodes = new vis.DataSet([\n",
       "    { id: 116, label: \"Flight\", title: \"{date:2008-1-3,<br>number:1016,<br>arrival:940,<br>id:WN1016_2008-1-3_MDW_LAS,<br>departure:740,<br>airline:WN,<br>_id:116}\", color: 'rgba(129,59,253,0.5)'},\n",
       "    { id: 3532, label: \"Flight\", title: \"{date:2008-1-4,<br>number:1016,<br>arrival:710,<br>id:WN1016_2008-1-4_IND_MDW,<br>departure:715,<br>airline:WN,<br>_id:3532}\", color: 'rgba(129,59,253,0.5)'},\n",
       "    { id: 1, label: \"Airport\", title: \"{code:IND,<br>_id:1}\", color: 'rgba(198,117,91,0.5)'},\n",
       "    { id: 969, label: \"Flight\", title: \"{date:2008-1-3,<br>number:1016,<br>arrival:1110,<br>id:WN1016_2008-1-3_LAS_SNA,<br>departure:1010,<br>airline:WN,<br>_id:969}\", color: 'rgba(129,59,253,0.5)'},\n",
       "    { id: 7406, label: \"Flight\", title: \"{date:2008-1-5,<br>number:1016,<br>arrival:940,<br>id:WN1016_2008-1-5_MDW_LAS,<br>departure:740,<br>airline:WN,<br>_id:7406}\", color: 'rgba(129,59,253,0.5)'},\n",
       "    { id: 7016, label: \"Flight\", title: \"{date:2008-1-5,<br>number:1016,<br>arrival:1110,<br>id:WN1016_2008-1-5_LAS_SNA,<br>departure:1010,<br>airline:WN,<br>_id:7016}\", color: 'rgba(129,59,253,0.5)'},\n",
       "    { id: 5, label: \"Airport\", title: \"{code:LAS,<br>_id:5}\", color: 'rgba(198,117,91,0.5)'},\n",
       "    { id: 238, label: \"Flight\", title: \"{date:2008-1-3,<br>number:1016,<br>arrival:710,<br>id:WN1016_2008-1-3_IND_MDW,<br>departure:715,<br>airline:WN,<br>_id:238}\", color: 'rgba(129,59,253,0.5)'},\n",
       "    { id: 4283, label: \"Flight\", title: \"{date:2008-1-4,<br>number:1016,<br>arrival:940,<br>id:WN1016_2008-1-4_MDW_LAS,<br>departure:740,<br>airline:WN,<br>_id:4283}\", color: 'rgba(129,59,253,0.5)'},\n",
       "    { id: 56, label: \"Airport\", title: \"{code:SNA,<br>_id:56}\", color: 'rgba(198,117,91,0.5)'},\n",
       "    { id: 3825, label: \"Flight\", title: \"{date:2008-1-4,<br>number:1016,<br>arrival:1110,<br>id:WN1016_2008-1-4_LAS_SNA,<br>departure:1010,<br>airline:WN,<br>_id:3825}\", color: 'rgba(129,59,253,0.5)'},\n",
       "    { id: 9988, label: \"Flight\", title: \"{date:2008-1-6,<br>number:1016,<br>arrival:1110,<br>id:WN1016_2008-1-6_LAS_SNA,<br>departure:1010,<br>airline:WN,<br>_id:9988}\", color: 'rgba(129,59,253,0.5)'},\n",
       "    { id: 12, label: \"Airport\", title: \"{code:MDW,<br>_id:12}\", color: 'rgba(198,117,91,0.5)'},\n",
       "    \n",
       "  ]);\n",
       "\n",
       "  // create an array with edges\n",
       "  var edges = new vis.DataSet([\n",
       "    \n",
       "  ]);\n",
       "\n",
       "  // create a network\n",
       "  var container = document.getElementById('0fac28ae-386f-44d0-a834-4932d1794ccf');\n",
       "  var data = {\n",
       "    nodes: nodes,\n",
       "    edges: edges\n",
       "  };\n",
       "\n",
       "  var options = {\n",
       "    edges: {\n",
       "      arrows: {\n",
       "        to: {\n",
       "          scaleFactor: 0.5\n",
       "        }\n",
       "      }\n",
       "    },\n",
       "    width: '100%',\n",
       "    height: '500px',\n",
       "    interaction: {hover: true}\n",
       "  };\n",
       "\n",
       "  var network = new vis.Network(container, data, options);});"
      ]
     },
     "metadata": {},
     "output_type": "display_data"
    },
    {
     "data": {
      "text/html": [
       "<link href=\"https://cdnjs.cloudflare.com/ajax/libs/vis/4.21.0/vis.min.css\" rel=\"stylesheet\" type=\"text/css\">\n",
       "                <div id=\"0fac28ae-386f-44d0-a834-4932d1794ccf\"></div>\n",
       "                "
      ]
     },
     "metadata": {},
     "output_type": "display_data"
    },
    {
     "data": {
      "text/plain": [
       "+------------------------------------------------------------------------------------------------------------------------------------------------------------------------------------------------------------------+\n",
       "| origin                             | destination                        | flight                                                                                                                                 |\n",
       "+------------------------------------------------------------------------------------------------------------------------------------------------------------------------------------------------------------------+\n",
       "| (:Airport {_id_: 12, code: \"MDW\"}) | (:Airport {_id_: 5, code: \"LAS\"})  | (:Flight {date: \"2008-1-3\", number: \"1016\", arrival: 940, _id_: 116, id: \"WN1016_2008-1-3_MDW_LAS\", departure: 740, airline: \"WN\"})    |\n",
       "| (:Airport {_id_: 1, code: \"IND\"})  | (:Airport {_id_: 12, code: \"MDW\"}) | (:Flight {date: \"2008-1-3\", number: \"1016\", arrival: 710, _id_: 238, id: \"WN1016_2008-1-3_IND_MDW\", departure: 715, airline: \"WN\"})    |\n",
       "| (:Airport {_id_: 5, code: \"LAS\"})  | (:Airport {_id_: 56, code: \"SNA\"}) | (:Flight {date: \"2008-1-3\", number: \"1016\", arrival: 1110, _id_: 969, id: \"WN1016_2008-1-3_LAS_SNA\", departure: 1010, airline: \"WN\"})  |\n",
       "| (:Airport {_id_: 1, code: \"IND\"})  | (:Airport {_id_: 12, code: \"MDW\"}) | (:Flight {date: \"2008-1-4\", number: \"1016\", arrival: 710, _id_: 3532, id: \"WN1016_2008-1-4_IND_MDW\", departure: 715, airline: \"WN\"})   |\n",
       "| (:Airport {_id_: 12, code: \"MDW\"}) | (:Airport {_id_: 5, code: \"LAS\"})  | (:Flight {date: \"2008-1-5\", number: \"1016\", arrival: 940, _id_: 7406, id: \"WN1016_2008-1-5_MDW_LAS\", departure: 740, airline: \"WN\"})   |\n",
       "| (:Airport {_id_: 5, code: \"LAS\"})  | (:Airport {_id_: 56, code: \"SNA\"}) | (:Flight {date: \"2008-1-6\", number: \"1016\", arrival: 1110, _id_: 9988, id: \"WN1016_2008-1-6_LAS_SNA\", departure: 1010, airline: \"WN\"}) |\n",
       "| (:Airport {_id_: 12, code: \"MDW\"}) | (:Airport {_id_: 5, code: \"LAS\"})  | (:Flight {date: \"2008-1-4\", number: \"1016\", arrival: 940, _id_: 4283, id: \"WN1016_2008-1-4_MDW_LAS\", departure: 740, airline: \"WN\"})   |\n",
       "| (:Airport {_id_: 5, code: \"LAS\"})  | (:Airport {_id_: 56, code: \"SNA\"}) | (:Flight {date: \"2008-1-4\", number: \"1016\", arrival: 1110, _id_: 3825, id: \"WN1016_2008-1-4_LAS_SNA\", departure: 1010, airline: \"WN\"}) |\n",
       "| (:Airport {_id_: 5, code: \"LAS\"})  | (:Airport {_id_: 56, code: \"SNA\"}) | (:Flight {date: \"2008-1-5\", number: \"1016\", arrival: 1110, _id_: 7016, id: \"WN1016_2008-1-5_LAS_SNA\", departure: 1010, airline: \"WN\"}) |\n",
       "+------------------------------------------------------------------------------------------------------------------------------------------------------------------------------------------------------------------+\n",
       "\n",
       "9 rows available after 34 ms, consumed after another 1 ms"
      ]
     },
     "execution_count": 23,
     "metadata": {},
     "output_type": "execute_result"
    }
   ],
   "source": [
    "MATCH (origin)<-[:ORIGIN]-(flight:Flight)-[:DESTINATION]->(destination)\n",
    "WHERE flight.airline = \"WN\" AND flight.number = \"1016\"\n",
    "RETURN origin, destination, flight"
   ]
  },
  {
   "cell_type": "markdown",
   "metadata": {
    "slideshow": {
     "slide_type": "subslide"
    }
   },
   "source": [
    "Before we delete the `CONNECTED_TO` relationship we should profile the two versions of the query to see whether our refactoring has improved things.\n"
   ]
  },
  {
   "cell_type": "code",
   "execution_count": 9,
   "metadata": {
    "scrolled": true
   },
   "outputs": [
    {
     "data": {
      "application/javascript": [
       "require([\"https://cdnjs.cloudflare.com/ajax/libs/vis/4.21.0/vis.min.js\"], function(vis) {\n",
       "  var nodes = new vis.DataSet([\n",
       "    { id: 116, label: \"Flight\", title: \"{date:2008-1-3,<br>number:1016,<br>arrival:940,<br>id:WN1016_2008-1-3_MDW_LAS,<br>departure:740,<br>airline:WN,<br>_id:116}\", color: 'rgba(129,59,253,0.5)'},\n",
       "    { id: 1, label: \"Airport\", title: \"{code:IND,<br>_id:1}\", color: 'rgba(198,117,91,0.5)'},\n",
       "    { id: 969, label: \"Flight\", title: \"{date:2008-1-3,<br>number:1016,<br>arrival:1110,<br>id:WN1016_2008-1-3_LAS_SNA,<br>departure:1010,<br>airline:WN,<br>_id:969}\", color: 'rgba(129,59,253,0.5)'},\n",
       "    { id: 5, label: \"Airport\", title: \"{code:LAS,<br>_id:5}\", color: 'rgba(198,117,91,0.5)'},\n",
       "    { id: 238, label: \"Flight\", title: \"{date:2008-1-3,<br>number:1016,<br>arrival:710,<br>id:WN1016_2008-1-3_IND_MDW,<br>departure:715,<br>airline:WN,<br>_id:238}\", color: 'rgba(129,59,253,0.5)'},\n",
       "    { id: 56, label: \"Airport\", title: \"{code:SNA,<br>_id:56}\", color: 'rgba(198,117,91,0.5)'},\n",
       "    { id: 12, label: \"Airport\", title: \"{code:MDW,<br>_id:12}\", color: 'rgba(198,117,91,0.5)'},\n",
       "    \n",
       "  ]);\n",
       "\n",
       "  // create an array with edges\n",
       "  var edges = new vis.DataSet([\n",
       "    \n",
       "  ]);\n",
       "\n",
       "  // create a network\n",
       "  var container = document.getElementById('12c7ccba-591d-4120-b870-73bcc937b053');\n",
       "  var data = {\n",
       "    nodes: nodes,\n",
       "    edges: edges\n",
       "  };\n",
       "\n",
       "  var options = {\n",
       "    edges: {\n",
       "      arrows: {\n",
       "        to: {\n",
       "          scaleFactor: 0.5\n",
       "        }\n",
       "      }\n",
       "    },\n",
       "    width: '100%',\n",
       "    height: '500px',\n",
       "    interaction: {hover: true}\n",
       "  };\n",
       "\n",
       "  var network = new vis.Network(container, data, options);});"
      ]
     },
     "metadata": {},
     "output_type": "display_data"
    },
    {
     "data": {
      "text/html": [
       "<link href=\"https://cdnjs.cloudflare.com/ajax/libs/vis/4.21.0/vis.min.css\" rel=\"stylesheet\" type=\"text/css\">\n",
       "                <div id=\"12c7ccba-591d-4120-b870-73bcc937b053\"></div>\n",
       "                "
      ]
     },
     "metadata": {},
     "output_type": "display_data"
    },
    {
     "data": {
      "text/plain": [
       "+-----------------------------------------------------------------------------------------+\n",
       "| Plan      | Statement   | Version      | Planner | Runtime       | Time | DbHits | Rows |\n",
       "+-----------------------------------------------------------------------------------------+\n",
       "| \"PROFILE\" | \"READ_ONLY\" | \"CYPHER 3.3\" | \"COST\"  | \"INTERPRETED\" | 4    | 0      | 3    |\n",
       "+-----------------------------------------------------------------------------------------+\n",
       "\n",
       "+-----------------+----------------+------+---------+-----------+-------------------------------------------------+-----------------------------------------------------+\n",
       "| Operator        | Estimated Rows | Rows | DB Hits | Cache H/M | Identifiers                                     | Other                                               |\n",
       "+-----------------+----------------+------+---------+-----------+-------------------------------------------------+-----------------------------------------------------+\n",
       "| +ProduceResults |              0 |    3 |       0 |       0/0 | flight, anon[42], anon[15], origin, destination | 0.0                                                 |\n",
       "| |               +----------------+------+---------+-----------+-------------------------------------------------+-----------------------------------------------------+\n",
       "| +Expand(All)    |              0 |    3 |       6 |       0/0 | flight, anon[42], anon[15], origin, destination | 0.0; (flight)-[anon[15]:ORIGIN]->(origin)           |\n",
       "| |               +----------------+------+---------+-----------+-------------------------------------------------+-----------------------------------------------------+\n",
       "| +Expand(All)    |              0 |    3 |       6 |       0/0 | anon[42], destination, flight                   | 0.0; (flight)-[anon[42]:DESTINATION]->(destination) |\n",
       "| |               +----------------+------+---------+-----------+-------------------------------------------------+-----------------------------------------------------+\n",
       "| +Filter         |              0 |    3 |       3 |       0/0 | flight                                          | 0.0; flight.airline = {  AUTOSTRING0}               |\n",
       "| |               +----------------+------+---------+-----------+-------------------------------------------------+-----------------------------------------------------+\n",
       "| +NodeIndexSeek  |              1 |    3 |       4 |       0/0 | flight                                          | 0.0; :Flight(number)                                |\n",
       "+-----------------+----------------+------+---------+-----------+-------------------------------------------------+-----------------------------------------------------+\n",
       "\n",
       "+-----------------------------------------------------------------------------------------------------------------------------------------------------------------------------------------------------------------+\n",
       "| origin                             | destination                        | flight                                                                                                                                |\n",
       "+-----------------------------------------------------------------------------------------------------------------------------------------------------------------------------------------------------------------+\n",
       "| (:Airport {_id_: 12, code: \"MDW\"}) | (:Airport {_id_: 5, code: \"LAS\"})  | (:Flight {date: \"2008-1-3\", number: \"1016\", arrival: 940, _id_: 116, id: \"WN1016_2008-1-3_MDW_LAS\", departure: 740, airline: \"WN\"})   |\n",
       "| (:Airport {_id_: 1, code: \"IND\"})  | (:Airport {_id_: 12, code: \"MDW\"}) | (:Flight {date: \"2008-1-3\", number: \"1016\", arrival: 710, _id_: 238, id: \"WN1016_2008-1-3_IND_MDW\", departure: 715, airline: \"WN\"})   |\n",
       "| (:Airport {_id_: 5, code: \"LAS\"})  | (:Airport {_id_: 56, code: \"SNA\"}) | (:Flight {date: \"2008-1-3\", number: \"1016\", arrival: 1110, _id_: 969, id: \"WN1016_2008-1-3_LAS_SNA\", departure: 1010, airline: \"WN\"}) |\n",
       "+-----------------------------------------------------------------------------------------------------------------------------------------------------------------------------------------------------------------+\n",
       "\n",
       "3 rows available after 3 ms, consumed after another 1 ms"
      ]
     },
     "execution_count": 9,
     "metadata": {},
     "output_type": "execute_result"
    }
   ],
   "source": [
    "PROFILE\n",
    "MATCH (origin)<-[:ORIGIN]-(flight:Flight)-[:DESTINATION]->(destination)\n",
    "WHERE flight.airline = \"WN\" AND flight.number = \"1016\"\n",
    "RETURN origin, destination, flight"
   ]
  },
  {
   "cell_type": "code",
   "execution_count": 10,
   "metadata": {},
   "outputs": [
    {
     "data": {
      "application/javascript": [
       "require([\"https://cdnjs.cloudflare.com/ajax/libs/vis/4.21.0/vis.min.js\"], function(vis) {\n",
       "  var nodes = new vis.DataSet([\n",
       "    { id: 5, label: \"Airport\", title: \"{code:LAS,<br>_id:5}\", color: 'rgba(198,117,91,0.5)'},\n",
       "    { id: 1, label: \"Airport\", title: \"{code:IND,<br>_id:1}\", color: 'rgba(198,117,91,0.5)'},\n",
       "    { id: 12, label: \"Airport\", title: \"{code:MDW,<br>_id:12}\", color: 'rgba(198,117,91,0.5)'},\n",
       "    { id: 56, label: \"Airport\", title: \"{code:SNA,<br>_id:56}\", color: 'rgba(198,117,91,0.5)'},\n",
       "    \n",
       "  ]);\n",
       "\n",
       "  // create an array with edges\n",
       "  var edges = new vis.DataSet([\n",
       "    { from: 1,to: 12, arrows:'to', title: \"{date:2008-1-3, departure:715, airline:WN, arrival:710, flightNumber:1016, _id:13,}\" },\n",
       "    { from: 5,to: 56, arrows:'to', title: \"{date:2008-1-3, departure:1010, airline:WN, arrival:1110, flightNumber:1016, _id:306,}\" },\n",
       "    { from: 12,to: 5, arrows:'to', title: \"{date:2008-1-3, departure:740, airline:WN, arrival:940, flightNumber:1016, _id:763,}\" },\n",
       "    \n",
       "  ]);\n",
       "\n",
       "  // create a network\n",
       "  var container = document.getElementById('73b3dc0b-4dd0-429a-8060-568966ae40e9');\n",
       "  var data = {\n",
       "    nodes: nodes,\n",
       "    edges: edges\n",
       "  };\n",
       "\n",
       "  var options = {\n",
       "    edges: {\n",
       "      arrows: {\n",
       "        to: {\n",
       "          scaleFactor: 0.5\n",
       "        }\n",
       "      }\n",
       "    },\n",
       "    width: '100%',\n",
       "    height: '500px',\n",
       "    interaction: {hover: true}\n",
       "  };\n",
       "\n",
       "  var network = new vis.Network(container, data, options);});"
      ]
     },
     "metadata": {},
     "output_type": "display_data"
    },
    {
     "data": {
      "text/html": [
       "<link href=\"https://cdnjs.cloudflare.com/ajax/libs/vis/4.21.0/vis.min.css\" rel=\"stylesheet\" type=\"text/css\">\n",
       "                <div id=\"73b3dc0b-4dd0-429a-8060-568966ae40e9\"></div>\n",
       "                "
      ]
     },
     "metadata": {},
     "output_type": "display_data"
    },
    {
     "data": {
      "text/plain": [
       "+-----------------------------------------------------------------------------------------+\n",
       "| Plan      | Statement   | Version      | Planner | Runtime       | Time | DbHits | Rows |\n",
       "+-----------------------------------------------------------------------------------------+\n",
       "| \"PROFILE\" | \"READ_ONLY\" | \"CYPHER 3.3\" | \"COST\"  | \"INTERPRETED\" | 34   | 0      | 3    |\n",
       "+-----------------------------------------------------------------------------------------+\n",
       "\n",
       "+------------------+----------------+------+---------+-----------+-----------------------------+----------------------------------------------------+\n",
       "| Operator         | Estimated Rows | Rows | DB Hits | Cache H/M | Identifiers                 | Other                                              |\n",
       "+------------------+----------------+------+---------+-----------+-----------------------------+----------------------------------------------------+\n",
       "| +ProduceResults  |             10 |    3 |       0 |       0/0 | destination, flight, origin | 0.0                                                |\n",
       "| |                +----------------+------+---------+-----------+-----------------------------+----------------------------------------------------+\n",
       "| +Filter          |             10 |    3 |    1006 |       0/0 | destination, flight, origin | 0.0; origin:Airport                                |\n",
       "| |                +----------------+------+---------+-----------+-----------------------------+----------------------------------------------------+\n",
       "| +Expand(All)     |           1000 | 1000 |    1062 |       0/0 | destination, flight, origin | 0.0; (destination)<-[flight:CONNECTED_TO]-(origin) |\n",
       "| |                +----------------+------+---------+-----------+-----------------------------+----------------------------------------------------+\n",
       "| +NodeByLabelScan |             62 |   62 |      63 |       0/0 | destination                 | 0.0; :Airport                                      |\n",
       "+------------------+----------------+------+---------+-----------+-----------------------------+----------------------------------------------------+\n",
       "\n",
       "+----------------------------------------------------------------------------------------------------------------------------------------------------------------------------------------------------+\n",
       "| origin                             | destination                        | flight                                                                                                                   |\n",
       "+----------------------------------------------------------------------------------------------------------------------------------------------------------------------------------------------------+\n",
       "| (:Airport {_id_: 12, code: \"MDW\"}) | (:Airport {_id_: 5, code: \"LAS\"})  | [:CONNECTED_TO {date: \"2008-1-3\", _id_: 763, departure: 740, airline: \"WN\", arrival: 940, flightNumber: \"1016\"}[12>5]]   |\n",
       "| (:Airport {_id_: 1, code: \"IND\"})  | (:Airport {_id_: 12, code: \"MDW\"}) | [:CONNECTED_TO {date: \"2008-1-3\", _id_: 13, departure: 715, airline: \"WN\", arrival: 710, flightNumber: \"1016\"}[1>12]]    |\n",
       "| (:Airport {_id_: 5, code: \"LAS\"})  | (:Airport {_id_: 56, code: \"SNA\"}) | [:CONNECTED_TO {date: \"2008-1-3\", _id_: 306, departure: 1010, airline: \"WN\", arrival: 1110, flightNumber: \"1016\"}[5>56]] |\n",
       "+----------------------------------------------------------------------------------------------------------------------------------------------------------------------------------------------------+\n",
       "\n",
       "3 rows available after 10 ms, consumed after another 24 ms"
      ]
     },
     "execution_count": 10,
     "metadata": {},
     "output_type": "execute_result"
    }
   ],
   "source": [
    "PROFILE\n",
    "MATCH (origin:Airport)-[flight:CONNECTED_TO]->(destination:Airport)\n",
    "WHERE flight.airline = \"WN\" AND flight.flightNumber = \"1016\"\n",
    "RETURN origin, destination, flight"
   ]
  },
  {
   "cell_type": "markdown",
   "metadata": {
    "slideshow": {
     "slide_type": "slide"
    }
   },
   "source": [
    "# Refactoring Edges\n",
    "\n",
    "`:play http://guides.neo4j.com/modeling_airports/03_flight_booking.html`\n",
    "\n",
    "\n",
    "### Flight booking\n",
    "\n",
    "Our system develops and we got a new requirement to satisfy:\n",
    "\n",
    "> As a frequent traveller\n",
    "> \n",
    "> I want to find flights from `origin` to `destination` on `date`\n",
    "> \n",
    "> So that I can book my business flight\n",
    "\n",
    "Before we write queries to satisfy this requirement, let’s import some more data.\n",
    "\n",
    "### Import more flights\n",
    "\n",
    "We initially loaded 1000 flights. That was a fun initial dataset to play with, but now that we have got a model we are happy with let’s load in a bit more data.\n",
    "\n",
    "`flights_10k.csv` contains 10000 flights. We can run the following query to import those flights:"
   ]
  },
  {
   "cell_type": "code",
   "execution_count": 11,
   "metadata": {
    "slideshow": {
     "slide_type": "subslide"
    }
   },
   "outputs": [
    {
     "data": {
      "text/plain": []
     },
     "execution_count": 11,
     "metadata": {},
     "output_type": "execute_result"
    }
   ],
   "source": [
    "LOAD CSV WITH HEADERS FROM \"https://raw.githubusercontent.com/neo4j-contrib/training/master/modeling/data/flights_10k.csv\" AS row\n",
    "MERGE (origin:Airport {code: row.Origin})\n",
    "MERGE (destination:Airport {code: row.Dest})\n",
    "MERGE (newFlight:Flight { id: row.UniqueCarrier + row.FlightNum + \"_\" + row.Year + \"-\" + row.Month + \"-\" + row.DayofMonth + \"_\" + row.Origin + \"_\" + row.Dest }   )\n",
    "ON CREATE SET newFlight.date = toInteger(row.Year) + \"-\" + toInteger(row.Month) + \"-\" + toInteger(row.DayofMonth),\n",
    "              newFlight.airline = row.UniqueCarrier,\n",
    "              newFlight.number = row.FlightNum,\n",
    "              newFlight.departure = toInteger(row.CRSDepTime),\n",
    "              newFlight.arrival = toInteger(row.CRSArrTime)\n",
    "MERGE (newFlight)-[:ORIGIN]->(origin)\n",
    "MERGE (newFlight)-[:DESTINATION]->(destination)"
   ]
  },
  {
   "cell_type": "markdown",
   "metadata": {
    "slideshow": {
     "slide_type": "subslide"
    }
   },
   "source": [
    "Now it is time to write a query to find available flights between two airports on a specific date.\n",
    "\n",
    "Let’s find all the flights going from Los Angeles (LAS) to Chicago Midway International (MDW) on the 3rd January. Run the following query:\n",
    "\n",
    "This returns quite quickly but try prefixing it with `PROFILE`. \n",
    "\n",
    "What do you notice?"
   ]
  },
  {
   "cell_type": "code",
   "execution_count": 12,
   "metadata": {},
   "outputs": [
    {
     "data": {
      "application/javascript": [
       "require([\"https://cdnjs.cloudflare.com/ajax/libs/vis/4.21.0/vis.min.js\"], function(vis) {\n",
       "  var nodes = new vis.DataSet([\n",
       "    { id: 252, label: \"Flight\", title: \"{date:2008-1-3,<br>number:2794,<br>arrival:50,<br>id:WN2794_2008-1-3_LAS_MDW,<br>departure:1930,<br>airline:WN,<br>_id:252}\", color: 'rgba(129,59,253,0.5)'},\n",
       "    { id: 254, label: \"Flight\", title: \"{date:2008-1-3,<br>number:74,<br>arrival:2030,<br>id:WN74_2008-1-3_LAS_MDW,<br>departure:1500,<br>airline:WN,<br>_id:254}\", color: 'rgba(129,59,253,0.5)'},\n",
       "    { id: 250, label: \"Flight\", title: \"{date:2008-1-3,<br>number:830,<br>arrival:1505,<br>id:WN830_2008-1-3_LAS_MDW,<br>departure:935,<br>airline:WN,<br>_id:250}\", color: 'rgba(129,59,253,0.5)'},\n",
       "    { id: 258, label: \"Flight\", title: \"{date:2008-1-3,<br>number:335,<br>arrival:1620,<br>id:WN335_2008-1-3_LAS_MDW,<br>departure:1050,<br>airline:WN,<br>_id:258}\", color: 'rgba(129,59,253,0.5)'},\n",
       "    { id: 247, label: \"Flight\", title: \"{date:2008-1-3,<br>number:2450,<br>arrival:2335,<br>id:WN2450_2008-1-3_LAS_MDW,<br>departure:1815,<br>airline:WN,<br>_id:247}\", color: 'rgba(129,59,253,0.5)'},\n",
       "    { id: 255, label: \"Flight\", title: \"{date:2008-1-3,<br>number:823,<br>arrival:1320,<br>id:WN823_2008-1-3_LAS_MDW,<br>departure:755,<br>airline:WN,<br>_id:255}\", color: 'rgba(129,59,253,0.5)'},\n",
       "    { id: 253, label: \"Flight\", title: \"{date:2008-1-3,<br>number:227,<br>arrival:1210,<br>id:WN227_2008-1-3_LAS_MDW,<br>departure:645,<br>airline:WN,<br>_id:253}\", color: 'rgba(129,59,253,0.5)'},\n",
       "    { id: 249, label: \"Flight\", title: \"{date:2008-1-3,<br>number:1865,<br>arrival:2230,<br>id:WN1865_2008-1-3_LAS_MDW,<br>departure:1700,<br>airline:WN,<br>_id:249}\", color: 'rgba(129,59,253,0.5)'},\n",
       "    { id: 5, label: \"Airport\", title: \"{code:LAS,<br>_id:5}\", color: 'rgba(198,117,91,0.5)'},\n",
       "    { id: 248, label: \"Flight\", title: \"{date:2008-1-3,<br>number:2025,<br>arrival:5,<br>id:WN2025_2008-1-3_LAS_MDW,<br>departure:1845,<br>airline:WN,<br>_id:248}\", color: 'rgba(129,59,253,0.5)'},\n",
       "    { id: 257, label: \"Flight\", title: \"{date:2008-1-3,<br>number:396,<br>arrival:1945,<br>id:WN396_2008-1-3_LAS_MDW,<br>departure:1415,<br>airline:WN,<br>_id:257}\", color: 'rgba(129,59,253,0.5)'},\n",
       "    { id: 251, label: \"Flight\", title: \"{date:2008-1-3,<br>number:3232,<br>arrival:1845,<br>id:WN3232_2008-1-3_LAS_MDW,<br>departure:1310,<br>airline:WN,<br>_id:251}\", color: 'rgba(129,59,253,0.5)'},\n",
       "    { id: 256, label: \"Flight\", title: \"{date:2008-1-3,<br>number:693,<br>arrival:1720,<br>id:WN693_2008-1-3_LAS_MDW,<br>departure:1145,<br>airline:WN,<br>_id:256}\", color: 'rgba(129,59,253,0.5)'},\n",
       "    { id: 12, label: \"Airport\", title: \"{code:MDW,<br>_id:12}\", color: 'rgba(198,117,91,0.5)'},\n",
       "    \n",
       "  ]);\n",
       "\n",
       "  // create an array with edges\n",
       "  var edges = new vis.DataSet([\n",
       "    { from: 247,to: 12, arrows:'to', title: \"{_id:1371,}\" },\n",
       "    { from: 253,to: 5, arrows:'to', title: \"{_id:1382,}\" },\n",
       "    { from: 254,to: 12, arrows:'to', title: \"{_id:1385,}\" },\n",
       "    { from: 252,to: 12, arrows:'to', title: \"{_id:1381,}\" },\n",
       "    { from: 248,to: 12, arrows:'to', title: \"{_id:1373,}\" },\n",
       "    { from: 251,to: 12, arrows:'to', title: \"{_id:1379,}\" },\n",
       "    { from: 257,to: 5, arrows:'to', title: \"{_id:1390,}\" },\n",
       "    { from: 250,to: 5, arrows:'to', title: \"{_id:1376,}\" },\n",
       "    { from: 249,to: 5, arrows:'to', title: \"{_id:1374,}\" },\n",
       "    { from: 249,to: 12, arrows:'to', title: \"{_id:1375,}\" },\n",
       "    { from: 251,to: 5, arrows:'to', title: \"{_id:1378,}\" },\n",
       "    { from: 254,to: 5, arrows:'to', title: \"{_id:1384,}\" },\n",
       "    { from: 256,to: 5, arrows:'to', title: \"{_id:1388,}\" },\n",
       "    { from: 257,to: 12, arrows:'to', title: \"{_id:1391,}\" },\n",
       "    { from: 256,to: 12, arrows:'to', title: \"{_id:1389,}\" },\n",
       "    { from: 250,to: 12, arrows:'to', title: \"{_id:1377,}\" },\n",
       "    { from: 252,to: 5, arrows:'to', title: \"{_id:1380,}\" },\n",
       "    { from: 247,to: 5, arrows:'to', title: \"{_id:1370,}\" },\n",
       "    { from: 255,to: 5, arrows:'to', title: \"{_id:1386,}\" },\n",
       "    { from: 253,to: 12, arrows:'to', title: \"{_id:1383,}\" },\n",
       "    { from: 248,to: 5, arrows:'to', title: \"{_id:1372,}\" },\n",
       "    { from: 258,to: 12, arrows:'to', title: \"{_id:1393,}\" },\n",
       "    { from: 255,to: 12, arrows:'to', title: \"{_id:1387,}\" },\n",
       "    { from: 258,to: 5, arrows:'to', title: \"{_id:1392,}\" },\n",
       "    \n",
       "  ]);\n",
       "\n",
       "  // create a network\n",
       "  var container = document.getElementById('01770979-82e0-4263-aa9a-e68c44c79b9b');\n",
       "  var data = {\n",
       "    nodes: nodes,\n",
       "    edges: edges\n",
       "  };\n",
       "\n",
       "  var options = {\n",
       "    edges: {\n",
       "      arrows: {\n",
       "        to: {\n",
       "          scaleFactor: 0.5\n",
       "        }\n",
       "      }\n",
       "    },\n",
       "    width: '100%',\n",
       "    height: '500px',\n",
       "    interaction: {hover: true}\n",
       "  };\n",
       "\n",
       "  var network = new vis.Network(container, data, options);});"
      ]
     },
     "metadata": {},
     "output_type": "display_data"
    },
    {
     "data": {
      "text/html": [
       "<link href=\"https://cdnjs.cloudflare.com/ajax/libs/vis/4.21.0/vis.min.css\" rel=\"stylesheet\" type=\"text/css\">\n",
       "                <div id=\"01770979-82e0-4263-aa9a-e68c44c79b9b\"></div>\n",
       "                "
      ]
     },
     "metadata": {},
     "output_type": "display_data"
    },
    {
     "data": {
      "text/plain": [
       "+--------------------------------------------------------------------------------------------------------------------------------------------------------------------------------------------------------------------------------------------------------------------------------+\n",
       "| path                                                                                                                                                                                                                                                                           |\n",
       "+--------------------------------------------------------------------------------------------------------------------------------------------------------------------------------------------------------------------------------------------------------------------------------+\n",
       "| (:Airport {_id_: 5, code: \"LAS\"})<-[:ORIGIN {_id_: 1378}[251>5]]-(:Flight {date: \"2008-1-3\", number: \"3232\", arrival: 1845, _id_: 251, id: \"WN3232_2008-1-3_LAS_MDW\", departure: 1310, airline: \"WN\"})-[:DESTINATION {_id_: 1379}[251>12]]->(:Airport {_id_: 12, code: \"MDW\"}) |\n",
       "| (:Airport {_id_: 5, code: \"LAS\"})<-[:ORIGIN {_id_: 1376}[250>5]]-(:Flight {date: \"2008-1-3\", number: \"830\", arrival: 1505, _id_: 250, id: \"WN830_2008-1-3_LAS_MDW\", departure: 935, airline: \"WN\"})-[:DESTINATION {_id_: 1377}[250>12]]->(:Airport {_id_: 12, code: \"MDW\"})    |\n",
       "| (:Airport {_id_: 5, code: \"LAS\"})<-[:ORIGIN {_id_: 1382}[253>5]]-(:Flight {date: \"2008-1-3\", number: \"227\", arrival: 1210, _id_: 253, id: \"WN227_2008-1-3_LAS_MDW\", departure: 645, airline: \"WN\"})-[:DESTINATION {_id_: 1383}[253>12]]->(:Airport {_id_: 12, code: \"MDW\"})    |\n",
       "| (:Airport {_id_: 5, code: \"LAS\"})<-[:ORIGIN {_id_: 1380}[252>5]]-(:Flight {date: \"2008-1-3\", number: \"2794\", arrival: 50, _id_: 252, id: \"WN2794_2008-1-3_LAS_MDW\", departure: 1930, airline: \"WN\"})-[:DESTINATION {_id_: 1381}[252>12]]->(:Airport {_id_: 12, code: \"MDW\"})   |\n",
       "| (:Airport {_id_: 5, code: \"LAS\"})<-[:ORIGIN {_id_: 1386}[255>5]]-(:Flight {date: \"2008-1-3\", number: \"823\", arrival: 1320, _id_: 255, id: \"WN823_2008-1-3_LAS_MDW\", departure: 755, airline: \"WN\"})-[:DESTINATION {_id_: 1387}[255>12]]->(:Airport {_id_: 12, code: \"MDW\"})    |\n",
       "| (:Airport {_id_: 5, code: \"LAS\"})<-[:ORIGIN {_id_: 1384}[254>5]]-(:Flight {date: \"2008-1-3\", number: \"74\", arrival: 2030, _id_: 254, id: \"WN74_2008-1-3_LAS_MDW\", departure: 1500, airline: \"WN\"})-[:DESTINATION {_id_: 1385}[254>12]]->(:Airport {_id_: 12, code: \"MDW\"})     |\n",
       "| (:Airport {_id_: 5, code: \"LAS\"})<-[:ORIGIN {_id_: 1390}[257>5]]-(:Flight {date: \"2008-1-3\", number: \"396\", arrival: 1945, _id_: 257, id: \"WN396_2008-1-3_LAS_MDW\", departure: 1415, airline: \"WN\"})-[:DESTINATION {_id_: 1391}[257>12]]->(:Airport {_id_: 12, code: \"MDW\"})   |\n",
       "| (:Airport {_id_: 5, code: \"LAS\"})<-[:ORIGIN {_id_: 1388}[256>5]]-(:Flight {date: \"2008-1-3\", number: \"693\", arrival: 1720, _id_: 256, id: \"WN693_2008-1-3_LAS_MDW\", departure: 1145, airline: \"WN\"})-[:DESTINATION {_id_: 1389}[256>12]]->(:Airport {_id_: 12, code: \"MDW\"})   |\n",
       "| (:Airport {_id_: 5, code: \"LAS\"})<-[:ORIGIN {_id_: 1392}[258>5]]-(:Flight {date: \"2008-1-3\", number: \"335\", arrival: 1620, _id_: 258, id: \"WN335_2008-1-3_LAS_MDW\", departure: 1050, airline: \"WN\"})-[:DESTINATION {_id_: 1393}[258>12]]->(:Airport {_id_: 12, code: \"MDW\"})   |\n",
       "| (:Airport {_id_: 5, code: \"LAS\"})<-[:ORIGIN {_id_: 1370}[247>5]]-(:Flight {date: \"2008-1-3\", number: \"2450\", arrival: 2335, _id_: 247, id: \"WN2450_2008-1-3_LAS_MDW\", departure: 1815, airline: \"WN\"})-[:DESTINATION {_id_: 1371}[247>12]]->(:Airport {_id_: 12, code: \"MDW\"}) |\n",
       "| (:Airport {_id_: 5, code: \"LAS\"})<-[:ORIGIN {_id_: 1372}[248>5]]-(:Flight {date: \"2008-1-3\", number: \"2025\", arrival: 5, _id_: 248, id: \"WN2025_2008-1-3_LAS_MDW\", departure: 1845, airline: \"WN\"})-[:DESTINATION {_id_: 1373}[248>12]]->(:Airport {_id_: 12, code: \"MDW\"})    |\n",
       "| (:Airport {_id_: 5, code: \"LAS\"})<-[:ORIGIN {_id_: 1374}[249>5]]-(:Flight {date: \"2008-1-3\", number: \"1865\", arrival: 2230, _id_: 249, id: \"WN1865_2008-1-3_LAS_MDW\", departure: 1700, airline: \"WN\"})-[:DESTINATION {_id_: 1375}[249>12]]->(:Airport {_id_: 12, code: \"MDW\"}) |\n",
       "+--------------------------------------------------------------------------------------------------------------------------------------------------------------------------------------------------------------------------------------------------------------------------------+\n",
       "\n",
       "12 rows available after 76 ms, consumed after another 9 ms"
      ]
     },
     "execution_count": 12,
     "metadata": {},
     "output_type": "execute_result"
    }
   ],
   "source": [
    "MATCH path = (o:Airport {code: \"LAS\"})<-[:ORIGIN]-(flight:Flight)-[:DESTINATION]->(d:Airport {code: \"MDW\"})\n",
    "WHERE flight.date = \"2008-1-3\"\n",
    "RETURN path"
   ]
  },
  {
   "cell_type": "markdown",
   "metadata": {
    "slideshow": {
     "slide_type": "subslide"
    }
   },
   "source": [
    "### Profiling the finding flights to book query\n",
    "\n",
    "The query starts by using an index to find `MDW` but then has to traverse all incoming `DESTINATION` relationships and check the date property on the `:Flight` nodes on the other side. The more flights an airport has the more we will have to scan through, and since we are only working with 50000 flights we should probably find a better way to model our data before importing any more rows.\n",
    "\n",
    "Can you think of a way that we can change our model to avoid doing all these property lookups?\n",
    "\n",
    "\n",
    "One way that we can tweak our model to be more aligned with our queries is by bundling flights by day.\n"
   ]
  },
  {
   "cell_type": "markdown",
   "metadata": {},
   "source": [
    "## Introducing Airport Day\n",
    "\n",
    "We want to introduce `:AirportDay` nodes so that we do not have to scan through all the flights going from an airport when we are only interested in a subset of them.\n",
    "\n",
    "Try and write a query to evolve our current model to include this new concept.\n",
    "\n",
    "\n",
    "![](http://guides.neo4j.com/modeling_airports/img/airport_day.png)\n"
   ]
  },
  {
   "cell_type": "markdown",
   "metadata": {
    "slideshow": {
     "slide_type": "subslide"
    }
   },
   "source": [
    "Before we create anything let’s put a unique constraint on :AirportDay so we don’t create any duplicates:"
   ]
  },
  {
   "cell_type": "code",
   "execution_count": 24,
   "metadata": {},
   "outputs": [
    {
     "data": {
      "text/plain": []
     },
     "execution_count": 24,
     "metadata": {},
     "output_type": "execute_result"
    }
   ],
   "source": [
    "CREATE CONSTRAINT ON (airportDay:AirportDay)\n",
    "ASSERT airportDay.id IS UNIQUE"
   ]
  },
  {
   "cell_type": "markdown",
   "metadata": {
    "slideshow": {
     "slide_type": "subslide"
    }
   },
   "source": [
    "We’ll use the combination of origin and the flight date as our unique key for an `:AirportDay`"
   ]
  },
  {
   "cell_type": "code",
   "execution_count": 25,
   "metadata": {},
   "outputs": [
    {
     "data": {
      "text/plain": []
     },
     "execution_count": 25,
     "metadata": {},
     "output_type": "execute_result"
    }
   ],
   "source": [
    "MATCH (origin:Airport)<-[:ORIGIN]-(flight:Flight)-[:DESTINATION]->(destination:Airport)\n",
    "MERGE (originAirportDay:AirportDay {id: origin.code + \"_\" + flight.date})\n",
    "SET originAirportDay.date = flight.date\n",
    "MERGE (destinationAirportDay:AirportDay {id: destination.code + \"_\" + flight.date})\n",
    "SET destinationAirportDay.date = flight.date\n",
    "MERGE (origin)-[:HAS_DAY]->(originAirportDay)\n",
    "MERGE (flight)-[:ORIGIN]->(originAirportDay)\n",
    "\n",
    "MERGE (flight)-[:DESTINATION]->(destinationAirportDay)\n",
    "MERGE (destination)-[:HAS_DAY]->(destinationAirportDay)"
   ]
  },
  {
   "cell_type": "markdown",
   "metadata": {
    "slideshow": {
     "slide_type": "subslide"
    }
   },
   "source": [
    "### Find flights to book\n",
    "\n",
    "Now let’s try finding those flights between Los Angeles and Chicago Midway International again. To recap, this was our original query:"
   ]
  },
  {
   "cell_type": "code",
   "execution_count": null,
   "metadata": {},
   "outputs": [],
   "source": [
    "PROFILE\n",
    "MATCH path = (origin:Airport {code: \"LAS\"})<-[:ORIGIN]-(flight:Flight)-[:DESTINATION]->(destination:Airport {code: \"MDW\"})\n",
    "WHERE flight.date = \"2008-1-3\"\n",
    "RETURN path"
   ]
  },
  {
   "cell_type": "markdown",
   "metadata": {
    "slideshow": {
     "slide_type": "subslide"
    }
   },
   "source": [
    "This is the equivalent query which makes use of `:AirportDay`"
   ]
  },
  {
   "cell_type": "code",
   "execution_count": null,
   "metadata": {},
   "outputs": [],
   "source": [
    "PROFILE\n",
    "MATCH (origin:Airport {code: \"LAS\"})-[:HAS_DAY]->(:AirportDay {date: \"2008-1-3\"})<-[:ORIGIN]-(flight:Flight),\n",
    "      (flight)-[:DESTINATION]->(:AirportDay {date: \"2008-1-3\"})<-[:HAS_DAY]-(destination:Airport {code: \"MDW\"})\n",
    "RETURN *"
   ]
  },
  {
   "cell_type": "markdown",
   "metadata": {},
   "source": [
    "`:play http://guides.neo4j.com/modeling_airports/04_specific_relationship_types.html`\n",
    "\n",
    "\n",
    "  \n",
    "  \n",
    "  \n",
    "# Modelling Guidelines\n",
    "\n",
    "\n",
    "See the `Modeling Guidelines.pdf`\n",
    "\n",
    "\n",
    "\n",
    "\n",
    "# Your Turn\n",
    "\n",
    "\n",
    "Work with the following two tutorials:\n",
    "\n",
    "`:play http://guides.neo4j.com/modeling_airports/04_specific_relationship_types.html`\n",
    "\n",
    "`:play http://guides.neo4j.com/modeling_airports/05_refactoring_large_graphs.html`\n",
    "  \n",
    "  \n",
    "  "
   ]
  },
  {
   "cell_type": "code",
   "execution_count": null,
   "metadata": {},
   "outputs": [],
   "source": []
  },
  {
   "cell_type": "markdown",
   "metadata": {
    "slideshow": {
     "slide_type": "slide"
    }
   },
   "source": [
    "# Spatial Queries\n",
    "\n",
    "Neo4j with version greater 3.0 supports now functions to specify points in a 2D coordinate system and to calculate the geodesic distance between two points directly. https://neo4j.com/docs/developer-manual/current/cypher/functions/spatial/\n"
   ]
  },
  {
   "cell_type": "markdown",
   "metadata": {
    "collapsed": true,
    "slideshow": {
     "slide_type": "subslide"
    }
   },
   "source": [
    "Let's get some locations for our airports..."
   ]
  },
  {
   "cell_type": "code",
   "execution_count": 26,
   "metadata": {},
   "outputs": [
    {
     "data": {
      "text/plain": []
     },
     "execution_count": 26,
     "metadata": {},
     "output_type": "execute_result"
    }
   ],
   "source": [
    "LOAD CSV WITH HEADERS FROM \"https://raw.githubusercontent.com/neo4j-contrib/training/master/modeling/data/airports.csv\" AS row\n",
    "MATCH (a:Airport {code: row.iata_code})\n",
    "SET a.latitude = toFloat(row.latitude_deg),\n",
    "    a.longitude = toFloat(row.longitude_deg)"
   ]
  },
  {
   "cell_type": "markdown",
   "metadata": {
    "slideshow": {
     "slide_type": "subslide"
    }
   },
   "source": [
    "To compute the distance between two points, we have to generate `Point` objects out of the latitude and longitude properties, on which we can call the `distance` function."
   ]
  },
  {
   "cell_type": "code",
   "execution_count": 27,
   "metadata": {},
   "outputs": [
    {
     "data": {
      "text/plain": [
       "+-----------+\n",
       "| distance  |\n",
       "+-----------+\n",
       "| 3320164.0 |\n",
       "| 1223392.0 |\n",
       "| 928123.0  |\n",
       "| 1308332.0 |\n",
       "| 1108681.0 |\n",
       "| 2555721.0 |\n",
       "| 724371.0  |\n",
       "| 1337388.0 |\n",
       "| 261043.0  |\n",
       "| 1352184.0 |\n",
       "| 829285.0  |\n",
       "| 2393544.0 |\n",
       "| 3668627.0 |\n",
       "| 1566797.0 |\n",
       "| 1228996.0 |\n",
       "| 1667164.0 |\n",
       "| 353700.0  |\n",
       "| 1763419.0 |\n",
       "| 1697665.0 |\n",
       "| 1776068.0 |\n",
       "| 945937.0  |\n",
       "| 1074619.0 |\n",
       "| 1429890.0 |\n",
       "| 578376.0  |\n",
       "| 292143.0  |\n",
       "| 1069229.0 |\n",
       "| 514672.0  |\n",
       "| 1311935.0 |\n",
       "| 587443.0  |\n",
       "| 779705.0  |\n",
       "| 874761.0  |\n",
       "| 1196578.0 |\n",
       "| 380420.0  |\n",
       "| 1245612.0 |\n",
       "| 2080941.0 |\n",
       "| 1279347.0 |\n",
       "| 1831537.0 |\n",
       "| 3279764.0 |\n",
       "| 2444623.0 |\n",
       "| 3787422.0 |\n",
       "| 2412267.0 |\n",
       "| 655071.0  |\n",
       "| 3191024.0 |\n",
       "| 3384909.0 |\n",
       "| 411309.0  |\n",
       "| 1986882.0 |\n",
       "| 2601053.0 |\n",
       "| 2551718.0 |\n",
       "| 3462778.0 |\n",
       "| 3498330.0 |\n",
       "| 781992.0  |\n",
       "| 3595542.0 |\n",
       "| 1219085.0 |\n",
       "| 1753086.0 |\n",
       "| 3692440.0 |\n",
       "| 838143.0  |\n",
       "| 3193032.0 |\n",
       "| 359125.0  |\n",
       "| 2932697.0 |\n",
       "| 2845977.0 |\n",
       "| 1010496.0 |\n",
       "| 938974.0  |\n",
       "| 1299527.0 |\n",
       "| 1585616.0 |\n",
       "| 1766877.0 |\n",
       "| 317085.0  |\n",
       "| 1229040.0 |\n",
       "| 3069997.0 |\n",
       "| 3798697.0 |\n",
       "| 3256464.0 |\n",
       "| 556405.0  |\n",
       "| 416881.0  |\n",
       "| 1719388.0 |\n",
       "| 2610233.0 |\n",
       "| 1396673.0 |\n",
       "| 665637.0  |\n",
       "| 621171.0  |\n",
       "| 592602.0  |\n",
       "| 639398.0  |\n",
       "| 364877.0  |\n",
       "| 2204333.0 |\n",
       "| 1729019.0 |\n",
       "| 587568.0  |\n",
       "| 2192107.0 |\n",
       "| 2814684.0 |\n",
       "| 543368.0  |\n",
       "| 595027.0  |\n",
       "| 2234891.0 |\n",
       "| 2889554.0 |\n",
       "| 1088792.0 |\n",
       "| 1996583.0 |\n",
       "| 1148819.0 |\n",
       "| 630325.0  |\n",
       "| 1946825.0 |\n",
       "| 543798.0  |\n",
       "| 496286.0  |\n",
       "| 950380.0  |\n",
       "| 601095.0  |\n",
       "| 2559628.0 |\n",
       "| 725737.0  |\n",
       "| 465721.0  |\n",
       "| 550427.0  |\n",
       "| 473886.0  |\n",
       "| 471555.0  |\n",
       "| 877089.0  |\n",
       "| 1467357.0 |\n",
       "| 1827143.0 |\n",
       "| 634814.0  |\n",
       "| 476993.0  |\n",
       "| 476579.0  |\n",
       "| 709507.0  |\n",
       "| 534959.0  |\n",
       "| 473870.0  |\n",
       "| 512816.0  |\n",
       "| 1728019.0 |\n",
       "| 650533.0  |\n",
       "| 2393276.0 |\n",
       "| 1688739.0 |\n",
       "| 1553393.0 |\n",
       "| 1678807.0 |\n",
       "| 790505.0  |\n",
       "| 1155477.0 |\n",
       "| 856332.0  |\n",
       "| 504095.0  |\n",
       "| 2381449.0 |\n",
       "| 2144693.0 |\n",
       "| 2394282.0 |\n",
       "| 2317686.0 |\n",
       "| 380571.0  |\n",
       "| 360140.0  |\n",
       "| 743317.0  |\n",
       "| 1597197.0 |\n",
       "| 1841753.0 |\n",
       "| 886509.0  |\n",
       "| 1270420.0 |\n",
       "| 2973016.0 |\n",
       "| 286222.0  |\n",
       "| 215307.0  |\n",
       "| 1365529.0 |\n",
       "| 772042.0  |\n",
       "| 994112.0  |\n",
       "| 1056490.0 |\n",
       "| 1390112.0 |\n",
       "| 2497850.0 |\n",
       "| 1730976.0 |\n",
       "| 1598800.0 |\n",
       "| 1694110.0 |\n",
       "| 1631856.0 |\n",
       "| 1446018.0 |\n",
       "| 1295962.0 |\n",
       "| 2489132.0 |\n",
       "| 1346343.0 |\n",
       "| 1730558.0 |\n",
       "| 862412.0  |\n",
       "| 1674107.0 |\n",
       "| 1159955.0 |\n",
       "| 1421522.0 |\n",
       "| 1545377.0 |\n",
       "| 1346096.0 |\n",
       "| 1331878.0 |\n",
       "| 2964182.0 |\n",
       "| 1608706.0 |\n",
       "| 981644.0  |\n",
       "| 2322251.0 |\n",
       "| 1882796.0 |\n",
       "| 1783989.0 |\n",
       "| 1511497.0 |\n",
       "| 919593.0  |\n",
       "| 637042.0  |\n",
       "| 1132402.0 |\n",
       "| 1074137.0 |\n",
       "| 1802952.0 |\n",
       "| 1152889.0 |\n",
       "| 1566918.0 |\n",
       "| 1247820.0 |\n",
       "| 752598.0  |\n",
       "| 493033.0  |\n",
       "| 454781.0  |\n",
       "| 1438951.0 |\n",
       "| 680202.0  |\n",
       "| 2814084.0 |\n",
       "| 646437.0  |\n",
       "| 1354157.0 |\n",
       "| 1017298.0 |\n",
       "| 2700565.0 |\n",
       "| 2779111.0 |\n",
       "| 1670283.0 |\n",
       "| 437252.0  |\n",
       "| 2785288.0 |\n",
       "| 2980806.0 |\n",
       "| 2953630.0 |\n",
       "| 2022727.0 |\n",
       "| 2877186.0 |\n",
       "| 404616.0  |\n",
       "| 2316403.0 |\n",
       "| 366959.0  |\n",
       "| 1941471.0 |\n",
       "| 606292.0  |\n",
       "| 3665341.0 |\n",
       "| 465784.0  |\n",
       "| 784842.0  |\n",
       "| 1607964.0 |\n",
       "| 2091312.0 |\n",
       "| 1084043.0 |\n",
       "| 486426.0  |\n",
       "| 517483.0  |\n",
       "| 759682.0  |\n",
       "| 702130.0  |\n",
       "| 2641335.0 |\n",
       "| 3149103.0 |\n",
       "| 1428841.0 |\n",
       "| 823986.0  |\n",
       "| 523996.0  |\n",
       "| 1538522.0 |\n",
       "| 1166204.0 |\n",
       "+-----------+\n",
       "\n",
       "215 rows available after 59 ms, consumed after another 152 ms"
      ]
     },
     "execution_count": 27,
     "metadata": {},
     "output_type": "execute_result"
    }
   ],
   "source": [
    "MATCH (a:Airport)-[CONNECTED_TO]-(b:Airport)\n",
    "WITH point({ longitude: a.longitude, latitude: a.latitude }) AS aPoint, point({ longitude: b.longitude, latitude: b.latitude }) AS bPoint\n",
    "RETURN DISTINCT round(distance(aPoint, bPoint)) AS distance"
   ]
  },
  {
   "cell_type": "code",
   "execution_count": 28,
   "metadata": {},
   "outputs": [
    {
     "data": {
      "text/plain": [
       "+-----------------------------+\n",
       "| distance  | a.code | b.code |\n",
       "+-----------------------------+\n",
       "| 3798697.0 | \"LAS\"  | \"PVD\"  |\n",
       "| 3798697.0 | \"PVD\"  | \"LAS\"  |\n",
       "| 3787422.0 | \"LAS\"  | \"MHT\"  |\n",
       "| 3787422.0 | \"MHT\"  | \"LAS\"  |\n",
       "| 3692440.0 | \"LAS\"  | \"BDL\"  |\n",
       "| 3692440.0 | \"BDL\"  | \"LAS\"  |\n",
       "| 3668627.0 | \"ISP\"  | \"LAS\"  |\n",
       "| 3668627.0 | \"LAS\"  | \"ISP\"  |\n",
       "| 3665341.0 | \"MHT\"  | \"PHX\"  |\n",
       "| 3665341.0 | \"PHX\"  | \"MHT\"  |\n",
       "| 3595542.0 | \"LAS\"  | \"ALB\"  |\n",
       "| 3595542.0 | \"ALB\"  | \"LAS\"  |\n",
       "| 3498330.0 | \"LAS\"  | \"PHL\"  |\n",
       "| 3498330.0 | \"PHL\"  | \"LAS\"  |\n",
       "| 3462778.0 | \"LAS\"  | \"ORF\"  |\n",
       "| 3462778.0 | \"ORF\"  | \"LAS\"  |\n",
       "| 3384909.0 | \"LAS\"  | \"BWI\"  |\n",
       "| 3384909.0 | \"BWI\"  | \"LAS\"  |\n",
       "| 3320164.0 | \"IAD\"  | \"LAS\"  |\n",
       "| 3320164.0 | \"LAS\"  | \"IAD\"  |\n",
       "| 3279764.0 | \"LAS\"  | \"MCO\"  |\n",
       "| 3279764.0 | \"MCO\"  | \"LAS\"  |\n",
       "| 3256464.0 | \"LAS\"  | \"RDU\"  |\n",
       "| 3256464.0 | \"RDU\"  | \"LAS\"  |\n",
       "| 3193032.0 | \"LAS\"  | \"BUF\"  |\n",
       "| 3193032.0 | \"BUF\"  | \"LAS\"  |\n",
       "| 3191024.0 | \"LAS\"  | \"TPA\"  |\n",
       "| 3191024.0 | \"TPA\"  | \"LAS\"  |\n",
       "| 3149103.0 | \"OAK\"  | \"BNA\"  |\n",
       "| 3149103.0 | \"BNA\"  | \"OAK\"  |\n",
       "| 3069997.0 | \"LAS\"  | \"PIT\"  |\n",
       "| 3069997.0 | \"PIT\"  | \"LAS\"  |\n",
       "| 2980806.0 | \"MDW\"  | \"SFO\"  |\n",
       "| 2980806.0 | \"SFO\"  | \"MDW\"  |\n",
       "| 2973016.0 | \"MCO\"  | \"PHX\"  |\n",
       "| 2973016.0 | \"PHX\"  | \"MCO\"  |\n",
       "| 2964182.0 | \"MDW\"  | \"OAK\"  |\n",
       "| 2964182.0 | \"OAK\"  | \"MDW\"  |\n",
       "| 2953630.0 | \"MDW\"  | \"SJC\"  |\n",
       "| 2953630.0 | \"SJC\"  | \"MDW\"  |\n",
       "| 2932697.0 | \"LAS\"  | \"CLE\"  |\n",
       "| 2932697.0 | \"CLE\"  | \"LAS\"  |\n",
       "| 2889554.0 | \"LAX\"  | \"BNA\"  |\n",
       "| 2889554.0 | \"BNA\"  | \"LAX\"  |\n",
       "| 2877186.0 | \"MDW\"  | \"SMF\"  |\n",
       "| 2877186.0 | \"SMF\"  | \"MDW\"  |\n",
       "| 2845977.0 | \"LAS\"  | \"CMH\"  |\n",
       "| 2845977.0 | \"CMH\"  | \"LAS\"  |\n",
       "| 2814684.0 | \"LAX\"  | \"MDW\"  |\n",
       "| 2814684.0 | \"MDW\"  | \"LAX\"  |\n",
       "| 2814084.0 | \"MDW\"  | \"PDX\"  |\n",
       "| 2814084.0 | \"PDX\"  | \"MDW\"  |\n",
       "| 2785288.0 | \"MDW\"  | \"SEA\"  |\n",
       "| 2785288.0 | \"SEA\"  | \"MDW\"  |\n",
       "| 2779111.0 | \"MDW\"  | \"SAN\"  |\n",
       "| 2779111.0 | \"SAN\"  | \"MDW\"  |\n",
       "| 2700565.0 | \"MDW\"  | \"RNO\"  |\n",
       "| 2700565.0 | \"RNO\"  | \"MDW\"  |\n",
       "| 2641335.0 | \"OAK\"  | \"HOU\"  |\n",
       "| 2641335.0 | \"HOU\"  | \"OAK\"  |\n",
       "| 2610233.0 | \"LAS\"  | \"SDF\"  |\n",
       "| 2610233.0 | \"SDF\"  | \"LAS\"  |\n",
       "| 2601053.0 | \"LAS\"  | \"BHM\"  |\n",
       "| 2601053.0 | \"BHM\"  | \"LAS\"  |\n",
       "| 2559628.0 | \"LAX\"  | \"STL\"  |\n",
       "| 2559628.0 | \"STL\"  | \"LAX\"  |\n",
       "| 2555721.0 | \"IND\"  | \"LAS\"  |\n",
       "| 2555721.0 | \"LAS\"  | \"IND\"  |\n",
       "| 2551718.0 | \"LAS\"  | \"BNA\"  |\n",
       "| 2551718.0 | \"BNA\"  | \"LAS\"  |\n",
       "| 2497850.0 | \"MCO\"  | \"ABQ\"  |\n",
       "| 2497850.0 | \"ABQ\"  | \"MCO\"  |\n",
       "| 2489132.0 | \"MCO\"  | \"DEN\"  |\n",
       "| 2489132.0 | \"DEN\"  | \"MCO\"  |\n",
       "| 2444623.0 | \"LAS\"  | \"MDW\"  |\n",
       "| 2444623.0 | \"MDW\"  | \"LAS\"  |\n",
       "| 2412267.0 | \"LAS\"  | \"MSY\"  |\n",
       "| 2412267.0 | \"MSY\"  | \"LAS\"  |\n",
       "| 2394282.0 | \"MCI\"  | \"SEA\"  |\n",
       "| 2394282.0 | \"SEA\"  | \"MCI\"  |\n",
       "| 2393544.0 | \"IND\"  | \"PHX\"  |\n",
       "| 2393544.0 | \"PHX\"  | \"IND\"  |\n",
       "| 2393276.0 | \"MCI\"  | \"OAK\"  |\n",
       "| 2393276.0 | \"OAK\"  | \"MCI\"  |\n",
       "| 2381449.0 | \"MCI\"  | \"PDX\"  |\n",
       "| 2381449.0 | \"PDX\"  | \"MCI\"  |\n",
       "| 2322251.0 | \"MDW\"  | \"PHX\"  |\n",
       "| 2322251.0 | \"PHX\"  | \"MDW\"  |\n",
       "| 2317686.0 | \"MCI\"  | \"SMF\"  |\n",
       "| 2317686.0 | \"SMF\"  | \"MCI\"  |\n",
       "| 2316403.0 | \"MDW\"  | \"TUS\"  |\n",
       "| 2316403.0 | \"TUS\"  | \"MDW\"  |\n",
       "| 2234891.0 | \"LAX\"  | \"HOU\"  |\n",
       "| 2234891.0 | \"HOU\"  | \"LAX\"  |\n",
       "| 2204333.0 | \"LAS\"  | \"STL\"  |\n",
       "| 2204333.0 | \"STL\"  | \"LAS\"  |\n",
       "| 2192107.0 | \"LAX\"  | \"MCI\"  |\n",
       "| 2192107.0 | \"MCI\"  | \"LAX\"  |\n",
       "| 2144693.0 | \"MCI\"  | \"SAN\"  |\n",
       "| 2144693.0 | \"SAN\"  | \"MCI\"  |\n",
       "| 2091312.0 | \"MSY\"  | \"PHX\"  |\n",
       "| 2091312.0 | \"PHX\"  | \"MSY\"  |\n",
       "| 2080941.0 | \"LAS\"  | \"LIT\"  |\n",
       "| 2080941.0 | \"LIT\"  | \"LAS\"  |\n",
       "| 2022727.0 | \"MDW\"  | \"SLC\"  |\n",
       "| 2022727.0 | \"SLC\"  | \"MDW\"  |\n",
       "| 1996583.0 | \"LAX\"  | \"AUS\"  |\n",
       "| 1996583.0 | \"AUS\"  | \"LAX\"  |\n",
       "| 1986882.0 | \"LAS\"  | \"HOU\"  |\n",
       "| 1986882.0 | \"HOU\"  | \"LAS\"  |\n",
       "| 1946825.0 | \"LAX\"  | \"SAT\"  |\n",
       "| 1946825.0 | \"SAT\"  | \"LAX\"  |\n",
       "| 1941471.0 | \"MHT\"  | \"TPA\"  |\n",
       "| 1941471.0 | \"TPA\"  | \"MHT\"  |\n",
       "| 1882796.0 | \"MDW\"  | \"FLL\"  |\n",
       "| 1882796.0 | \"FLL\"  | \"MDW\"  |\n",
       "| 1841753.0 | \"MCO\"  | \"MHT\"  |\n",
       "| 1841753.0 | \"MHT\"  | \"MCO\"  |\n",
       "| 1831537.0 | \"LAS\"  | \"MCI\"  |\n",
       "| 1831537.0 | \"MCI\"  | \"LAS\"  |\n",
       "| 1827143.0 | \"LIT\"  | \"PHX\"  |\n",
       "| 1827143.0 | \"PHX\"  | \"LIT\"  |\n",
       "| 1802952.0 | \"MDW\"  | \"ABQ\"  |\n",
       "| 1802952.0 | \"ABQ\"  | \"MDW\"  |\n",
       "| 1783989.0 | \"MDW\"  | \"RSW\"  |\n",
       "| 1783989.0 | \"RSW\"  | \"MDW\"  |\n",
       "| 1776068.0 | \"ISP\"  | \"RSW\"  |\n",
       "| 1776068.0 | \"RSW\"  | \"ISP\"  |\n",
       "| 1766877.0 | \"LAS\"  | \"OMA\"  |\n",
       "| 1766877.0 | \"OMA\"  | \"LAS\"  |\n",
       "| 1763419.0 | \"ISP\"  | \"FLL\"  |\n",
       "| 1763419.0 | \"FLL\"  | \"ISP\"  |\n",
       "| 1753086.0 | \"LAS\"  | \"AUS\"  |\n",
       "| 1753086.0 | \"AUS\"  | \"LAS\"  |\n",
       "| 1730976.0 | \"MCO\"  | \"ALB\"  |\n",
       "| 1730976.0 | \"ALB\"  | \"MCO\"  |\n",
       "| 1730558.0 | \"MCO\"  | \"PVD\"  |\n",
       "| 1730558.0 | \"PVD\"  | \"MCO\"  |\n",
       "| 1729019.0 | \"LAS\"  | \"TUL\"  |\n",
       "| 1729019.0 | \"TUL\"  | \"LAS\"  |\n",
       "| 1728019.0 | \"MCI\"  | \"MCO\"  |\n",
       "| 1728019.0 | \"MCO\"  | \"MCI\"  |\n",
       "| 1719388.0 | \"LAS\"  | \"SAT\"  |\n",
       "| 1719388.0 | \"SAT\"  | \"LAS\"  |\n",
       "| 1697665.0 | \"ISP\"  | \"PBI\"  |\n",
       "| 1697665.0 | \"PBI\"  | \"ISP\"  |\n",
       "| 1694110.0 | \"MCO\"  | \"BDL\"  |\n",
       "| 1694110.0 | \"BDL\"  | \"MCO\"  |\n",
       "| 1688739.0 | \"MCI\"  | \"TPA\"  |\n",
       "| 1688739.0 | \"TPA\"  | \"MCI\"  |\n",
       "| 1678807.0 | \"MCI\"  | \"PHX\"  |\n",
       "| 1678807.0 | \"PHX\"  | \"MCI\"  |\n",
       "| 1674107.0 | \"MCO\"  | \"SAT\"  |\n",
       "| 1674107.0 | \"SAT\"  | \"MCO\"  |\n",
       "| 1670283.0 | \"MDW\"  | \"SAT\"  |\n",
       "| 1670283.0 | \"SAT\"  | \"MDW\"  |\n",
       "| 1667164.0 | \"ISP\"  | \"TPA\"  |\n",
       "| 1667164.0 | \"TPA\"  | \"ISP\"  |\n",
       "| 1631856.0 | \"MCO\"  | \"BUF\"  |\n",
       "| 1631856.0 | \"BUF\"  | \"MCO\"  |\n",
       "| 1608706.0 | \"MDW\"  | \"TPA\"  |\n",
       "| 1608706.0 | \"TPA\"  | \"MDW\"  |\n",
       "| 1607964.0 | \"MSY\"  | \"BWI\"  |\n",
       "| 1607964.0 | \"BWI\"  | \"MSY\"  |\n",
       "| 1598800.0 | \"MCO\"  | \"AUS\"  |\n",
       "| 1598800.0 | \"AUS\"  | \"MCO\"  |\n",
       "| 1597197.0 | \"MCO\"  | \"MDW\"  |\n",
       "| 1597197.0 | \"MDW\"  | \"MCO\"  |\n",
       "| 1585616.0 | \"LAS\"  | \"OKC\"  |\n",
       "| 1585616.0 | \"OKC\"  | \"LAS\"  |\n",
       "| 1566918.0 | \"MDW\"  | \"AUS\"  |\n",
       "| 1566918.0 | \"AUS\"  | \"MDW\"  |\n",
       "| 1566797.0 | \"ISP\"  | \"MCO\"  |\n",
       "| 1566797.0 | \"MCO\"  | \"ISP\"  |\n",
       "| 1553393.0 | \"MCI\"  | \"BWI\"  |\n",
       "| 1553393.0 | \"BWI\"  | \"MCI\"  |\n",
       "| 1545377.0 | \"MCO\"  | \"DTW\"  |\n",
       "| 1545377.0 | \"DTW\"  | \"MCO\"  |\n",
       "| 1538522.0 | \"OAK\"  | \"DEN\"  |\n",
       "| 1538522.0 | \"DEN\"  | \"OAK\"  |\n",
       "| 1511497.0 | \"MDW\"  | \"HOU\"  |\n",
       "| 1511497.0 | \"HOU\"  | \"MDW\"  |\n",
       "| 1467357.0 | \"LIT\"  | \"BWI\"  |\n",
       "| 1467357.0 | \"BWI\"  | \"LIT\"  |\n",
       "| 1446018.0 | \"MCO\"  | \"CLE\"  |\n",
       "| 1446018.0 | \"CLE\"  | \"MCO\"  |\n",
       "| 1438951.0 | \"MDW\"  | \"DEN\"  |\n",
       "| 1438951.0 | \"DEN\"  | \"MDW\"  |\n",
       "| 1429890.0 | \"JAN\"  | \"BWI\"  |\n",
       "| 1429890.0 | \"BWI\"  | \"JAN\"  |\n",
       "| 1428841.0 | \"OAK\"  | \"ABQ\"  |\n",
       "| 1428841.0 | \"ABQ\"  | \"OAK\"  |\n",
       "| 1421522.0 | \"MCO\"  | \"STL\"  |\n",
       "| 1421522.0 | \"STL\"  | \"MCO\"  |\n",
       "| 1396673.0 | \"LAS\"  | \"SEA\"  |\n",
       "| 1396673.0 | \"SEA\"  | \"LAS\"  |\n",
       "| 1390112.0 | \"MCO\"  | \"PHL\"  |\n",
       "| 1390112.0 | \"PHL\"  | \"MCO\"  |\n",
       "| 1365529.0 | \"MCO\"  | \"HOU\"  |\n",
       "| 1365529.0 | \"HOU\"  | \"MCO\"  |\n",
       "| 1354157.0 | \"MDW\"  | \"PVD\"  |\n",
       "| 1354157.0 | \"PVD\"  | \"MDW\"  |\n",
       "| 1352184.0 | \"IND\"  | \"TPA\"  |\n",
       "| 1352184.0 | \"TPA\"  | \"IND\"  |\n",
       "| 1346343.0 | \"MCO\"  | \"PIT\"  |\n",
       "| 1346343.0 | \"PIT\"  | \"MCO\"  |\n",
       "| 1346096.0 | \"MDW\"  | \"MHT\"  |\n",
       "| 1346096.0 | \"MHT\"  | \"MDW\"  |\n",
       "| 1337388.0 | \"IND\"  | \"MCO\"  |\n",
       "| 1337388.0 | \"MCO\"  | \"IND\"  |\n",
       "| 1331878.0 | \"MDW\"  | \"MSY\"  |\n",
       "| 1331878.0 | \"MSY\"  | \"MDW\"  |\n",
       "| 1311935.0 | \"JAX\"  | \"HOU\"  |\n",
       "| 1311935.0 | \"HOU\"  | \"JAX\"  |\n",
       "| 1308332.0 | \"IAD\"  | \"TPA\"  |\n",
       "| 1308332.0 | \"TPA\"  | \"IAD\"  |\n",
       "| 1299527.0 | \"LAS\"  | \"GEG\"  |\n",
       "| 1299527.0 | \"GEG\"  | \"LAS\"  |\n",
       "| 1295962.0 | \"MCO\"  | \"CMH\"  |\n",
       "| 1295962.0 | \"CMH\"  | \"MCO\"  |\n",
       "| 1279347.0 | \"LAS\"  | \"MAF\"  |\n",
       "| 1279347.0 | \"MAF\"  | \"LAS\"  |\n",
       "| 1270420.0 | \"MCO\"  | \"BWI\"  |\n",
       "| 1270420.0 | \"BWI\"  | \"MCO\"  |\n",
       "| 1247820.0 | \"MDW\"  | \"BDL\"  |\n",
       "| 1247820.0 | \"BDL\"  | \"MDW\"  |\n",
       "| 1245612.0 | \"LAS\"  | \"LBB\"  |\n",
       "| 1245612.0 | \"LBB\"  | \"LAS\"  |\n",
       "| 1229040.0 | \"LAS\"  | \"PDX\"  |\n",
       "| 1229040.0 | \"PDX\"  | \"LAS\"  |\n",
       "| 1228996.0 | \"ISP\"  | \"MDW\"  |\n",
       "| 1228996.0 | \"MDW\"  | \"ISP\"  |\n",
       "| 1223392.0 | \"IAD\"  | \"MCO\"  |\n",
       "| 1223392.0 | \"MCO\"  | \"IAD\"  |\n",
       "| 1219085.0 | \"LAS\"  | \"AMA\"  |\n",
       "| 1219085.0 | \"AMA\"  | \"LAS\"  |\n",
       "| 1196578.0 | \"JAX\"  | \"PHL\"  |\n",
       "| 1196578.0 | \"PHL\"  | \"JAX\"  |\n",
       "| 1166204.0 | \"OAK\"  | \"GEG\"  |\n",
       "| 1166204.0 | \"GEG\"  | \"OAK\"  |\n",
       "| 1159955.0 | \"MCO\"  | \"SDF\"  |\n",
       "| 1159955.0 | \"SDF\"  | \"MCO\"  |\n",
       "| 1155477.0 | \"MCI\"  | \"ABQ\"  |\n",
       "| 1155477.0 | \"ABQ\"  | \"MCI\"  |\n",
       "| 1152889.0 | \"MDW\"  | \"ALB\"  |\n",
       "| 1152889.0 | \"ALB\"  | \"MDW\"  |\n",
       "| 1148819.0 | \"LAX\"  | \"ELP\"  |\n",
       "| 1148819.0 | \"ELP\"  | \"LAX\"  |\n",
       "| 1132402.0 | \"MDW\"  | \"ORF\"  |\n",
       "| 1132402.0 | \"ORF\"  | \"MDW\"  |\n",
       "| 1108681.0 | \"IND\"  | \"JAX\"  |\n",
       "| 1108681.0 | \"JAX\"  | \"IND\"  |\n",
       "| 1088792.0 | \"LAX\"  | \"ABQ\"  |\n",
       "| 1088792.0 | \"ABQ\"  | \"LAX\"  |\n",
       "| 1084043.0 | \"MSY\"  | \"FLL\"  |\n",
       "| 1084043.0 | \"FLL\"  | \"MSY\"  |\n",
       "| 1074619.0 | \"JAN\"  | \"MDW\"  |\n",
       "| 1074619.0 | \"MDW\"  | \"JAN\"  |\n",
       "| 1074137.0 | \"MDW\"  | \"PHL\"  |\n",
       "| 1074137.0 | \"PHL\"  | \"MDW\"  |\n",
       "| 1069229.0 | \"JAX\"  | \"BWI\"  |\n",
       "| 1069229.0 | \"BWI\"  | \"JAX\"  |\n",
       "| 1056490.0 | \"MCO\"  | \"ORF\"  |\n",
       "| 1056490.0 | \"ORF\"  | \"MCO\"  |\n",
       "| 1017298.0 | \"MDW\"  | \"RDU\"  |\n",
       "| 1017298.0 | \"RDU\"  | \"MDW\"  |\n",
       "| 1010496.0 | \"LAS\"  | \"DEN\"  |\n",
       "| 1010496.0 | \"DEN\"  | \"LAS\"  |\n",
       "+-----------------------------+\n",
       "\n",
       "268 rows available after 189 ms, consumed after another 2 ms"
      ]
     },
     "execution_count": 28,
     "metadata": {},
     "output_type": "execute_result"
    }
   ],
   "source": [
    "MATCH (a:Airport)-[CONNECTED_TO]-(b:Airport)\n",
    "WITH point({ longitude: a.longitude, latitude: a.latitude }) AS aPoint, point({ longitude: b.longitude, latitude: b.latitude }) AS bPoint, a, b\n",
    "WITH DISTINCT round(distance(aPoint, bPoint)) AS distance, a, b\n",
    "ORDER BY distance DESC\n",
    "WHERE distance / 1000 > 1000\n",
    "RETURN distance, a.code, b.code"
   ]
  }
 ],
 "metadata": {
  "celltoolbar": "Slideshow",
  "kernelspec": {
   "display_name": "Cypher",
   "language": "cypher",
   "name": "cypher"
  },
  "language_info": {
   "file_extension": ".cql",
   "mimetype": "text/cypher",
   "name": "cypher"
  }
 },
 "nbformat": 4,
 "nbformat_minor": 2
}
