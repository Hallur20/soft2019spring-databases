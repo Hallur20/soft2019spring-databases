{
 "cells": [
  {
   "cell_type": "markdown",
   "metadata": {
    "slideshow": {
     "slide_type": "slide"
    }
   },
   "source": [
    "# SQL and modeling foundations\n",
    "    Data dominates. If you’ve chosen the right data structures\n",
    "    and organized things well, the algorithms will almost always\n",
    "    be self-evident. Data structures, not algorithms, are central to\n",
    "    programming.\n",
    "    — Rob Pike"
   ]
  },
  {
   "cell_type": "markdown",
   "metadata": {
    "slideshow": {
     "slide_type": "slide"
    }
   },
   "source": [
    "## But first... A note on the course"
   ]
  },
  {
   "cell_type": "markdown",
   "metadata": {
    "slideshow": {
     "slide_type": "fragment"
    }
   },
   "source": [
    "* Databases for developers"
   ]
  },
  {
   "cell_type": "markdown",
   "metadata": {
    "slideshow": {
     "slide_type": "fragment"
    }
   },
   "source": [
    "* Learning objectives\n",
    "  * https://github.com/datsoftlyngby/soft2018spring/blob/master/docs/DB_plan.md#learning-objectives"
   ]
  },
  {
   "cell_type": "markdown",
   "metadata": {
    "slideshow": {
     "slide_type": "subslide"
    }
   },
   "source": [
    "# Learning objectives\n",
    "## Knowledge\n",
    "The student must have knowledge of:\n",
    "\n",
    " * Various database types and the underlying models\n",
    " * A specific database system’s storage organisation  and query execution\n",
    " * A specific database system’s optimisation possibilities – including advantages and disadvantages\n",
    " * Database-specific security problems and their solutions\n",
    " * Concepts and issues when handling big data\n",
    " * The particular issues raised by having many simultaneous transactions, including in connection with distributed databases\n",
    " * Relational algebra (including its relationship to execution plans)"
   ]
  },
  {
   "cell_type": "markdown",
   "metadata": {
    "slideshow": {
     "slide_type": "subslide"
    }
   },
   "source": [
    "## Skills\n",
    "The student can:\n",
    "\n",
    " * Transform logical data models into physical models in various database types\n",
    " * Implement database optimisation\n",
    " * Use parts of the administration tool to assist in the optimisation and tuning of existing databases, including the incorporation of a specific DBMS’ execution plans\n",
    " * Use a specific database system’s tools for handling simultaneous transactions\n",
    " * Use the programming and other facilities provided by a modern DBMS"
   ]
  },
  {
   "cell_type": "markdown",
   "metadata": {
    "slideshow": {
     "slide_type": "subslide"
    }
   },
   "source": [
    "\n",
    "## Competencies\n",
    "The student can:\n",
    " \n",
    " * Analyse the application domain in order to select a database type\n",
    " * Divide responsibility for tasks between the application and DBMS during system development, to ensure the best possible implementation.\n"
   ]
  },
  {
   "cell_type": "markdown",
   "metadata": {
    "slideshow": {
     "slide_type": "slide"
    }
   },
   "source": [
    "## But first... A note on how to learn\n",
    "\n",
    "* Metacognition\n",
    "* Dunning-Kruger effect"
   ]
  },
  {
   "cell_type": "markdown",
   "metadata": {
    "slideshow": {
     "slide_type": "subslide"
    }
   },
   "source": [
    "## Metacognition\n",
    "  * Think about how you learn\n",
    "    - Auditory\n",
    "    - Visual\n",
    "    - Kinesthetic\n",
    "    - Tactile"
   ]
  },
  {
   "cell_type": "markdown",
   "metadata": {
    "slideshow": {
     "slide_type": "subslide"
    }
   },
   "source": [
    "![Donning-Kruger effect](https://i.imgur.com/jbo2gy5.jpg)"
   ]
  },
  {
   "cell_type": "markdown",
   "metadata": {
    "slideshow": {
     "slide_type": "slide"
    }
   },
   "source": [
    "# Modeling basics\n",
    "\n",
    "    Data dominates. If you’ve chosen the right data structures\n",
    "    and organized things well, the algorithms will almost always\n",
    "    be self-evident. Data structures, not algorithms, are central to\n",
    "    programming.\n",
    "    — Rob Pike"
   ]
  },
  {
   "cell_type": "markdown",
   "metadata": {
    "slideshow": {
     "slide_type": "fragment"
    }
   },
   "source": [
    "    I will, in fact, claim that the difference between a bad program-\n",
    "    mer and a good one is whether he considers his code or his data\n",
    "    structures more important. Bad programmers worry about the\n",
    "    code. Good programmers worry about data structures and their\n",
    "    relationships.\n",
    "    — Linus Torvalds"
   ]
  },
  {
   "cell_type": "markdown",
   "metadata": {
    "slideshow": {
     "slide_type": "subslide"
    }
   },
   "source": [
    "## What is a model?"
   ]
  },
  {
   "cell_type": "markdown",
   "metadata": {
    "slideshow": {
     "slide_type": "fragment"
    }
   },
   "source": [
    "* A description of the real world"
   ]
  },
  {
   "cell_type": "markdown",
   "metadata": {
    "slideshow": {
     "slide_type": "fragment"
    }
   },
   "source": [
    "Four objectives:\n",
    "  1. Enhance an individual's understanding of the representative system\n",
    "  2. Facilitate efficient conveyance of system details between stakeholders\n",
    "  3. Provide a point of reference for system designers to extract system specifications\n",
    "  4. Document the system for future reference and provide a means for collaboration\n",
    "  \n",
    "Source: [Wikipedia](https://en.wikipedia.org/wiki/Conceptual_model)"
   ]
  },
  {
   "cell_type": "markdown",
   "metadata": {
    "slideshow": {
     "slide_type": "subslide"
    }
   },
   "source": [
    "## Models as thinking tools\n",
    "\n",
    "* Models are necessary to understand the world\n",
    "* Models are what we communicate\n",
    "* Without models, we cannot talk to our clients"
   ]
  },
  {
   "cell_type": "markdown",
   "metadata": {
    "slideshow": {
     "slide_type": "subslide"
    }
   },
   "source": [
    "## Modeling steps\n",
    "\n",
    "* Conceptual data model\n",
    "  * Main objects and goals\n",
    "  * Little to no detail"
   ]
  },
  {
   "cell_type": "markdown",
   "metadata": {
    "slideshow": {
     "slide_type": "fragment"
    }
   },
   "source": [
    "* Logical data model\n",
    "  * Model the data with consideration of the actual system\n",
    "  * Entity-relationship diagrams (ERD)"
   ]
  },
  {
   "cell_type": "markdown",
   "metadata": {
    "slideshow": {
     "slide_type": "fragment"
    }
   },
   "source": [
    "* Physical data model\n",
    "  * Actual implementation in a database\n",
    "  * Tables, indices, relations etc."
   ]
  },
  {
   "cell_type": "markdown",
   "metadata": {
    "slideshow": {
     "slide_type": "subslide"
    }
   },
   "source": [
    "# Focus of this course\n",
    "\n",
    "* Logical data modeling with ERD\n",
    "* Physical data modeling with SQL"
   ]
  },
  {
   "cell_type": "markdown",
   "metadata": {
    "slideshow": {
     "slide_type": "fragment"
    }
   },
   "source": [
    "... Remember the learning objectives:\n",
    "\n",
    "## Skills\n",
    "The student can:\n",
    "\n",
    " * Transform logical data models into physical models in various database types"
   ]
  },
  {
   "cell_type": "markdown",
   "metadata": {
    "slideshow": {
     "slide_type": "slide"
    }
   },
   "source": [
    "# Logical data model\n",
    "_A logical data model or logical schema is a data model of a specific problem domain expressed independently of a particular database management product or storage technology (physical data model) but in terms of data structures such as relational tables and columns, object-oriented classes, or XML tags. This is as opposed to a conceptual data model, which describes the semantics of an organization without reference to technology._ [Wikipedia](https://en.wikipedia.org/wiki/Logical_data_model)"
   ]
  },
  {
   "cell_type": "markdown",
   "metadata": {
    "slideshow": {
     "slide_type": "subslide"
    }
   },
   "source": [
    "# Logical data model, take 2"
   ]
  },
  {
   "cell_type": "markdown",
   "metadata": {
    "slideshow": {
     "slide_type": "fragment"
    }
   },
   "source": [
    "*Abstract diagram of data structure*"
   ]
  },
  {
   "cell_type": "markdown",
   "metadata": {
    "slideshow": {
     "slide_type": "fragment"
    }
   },
   "source": [
    "  * Entities\n",
    "    * A customer, a house, a car ..."
   ]
  },
  {
   "cell_type": "markdown",
   "metadata": {
    "slideshow": {
     "slide_type": "fragment"
    }
   },
   "source": [
    "  * Attributes\n",
    "    * Customer name, email, phone number..."
   ]
  },
  {
   "cell_type": "markdown",
   "metadata": {
    "slideshow": {
     "slide_type": "fragment"
    }
   },
   "source": [
    "  * Relationship\n",
    "    * One customer can order many things\n",
    "    * One order only concerns one customer"
   ]
  },
  {
   "cell_type": "markdown",
   "metadata": {
    "slideshow": {
     "slide_type": "fragment"
    }
   },
   "source": [
    "  * Type-instance distinctions\n",
    "    * A Skoda is an instance of a car"
   ]
  },
  {
   "cell_type": "markdown",
   "metadata": {
    "slideshow": {
     "slide_type": "slide"
    }
   },
   "source": [
    "# Entity-reliationship diagram (ERD)\n",
    "\n",
    "* Entities\n",
    "* Relationships\n",
    "* Attributes"
   ]
  },
  {
   "cell_type": "markdown",
   "metadata": {
    "slideshow": {
     "slide_type": "subslide"
    }
   },
   "source": [
    "# Entity\n",
    "\n",
    "* Drawn as rectangles\n",
    "\n",
    "![Entity](images/entity.svg)"
   ]
  },
  {
   "cell_type": "markdown",
   "metadata": {
    "slideshow": {
     "slide_type": "subslide"
    }
   },
   "source": [
    "# Attributes\n",
    "* Drawn as circles around entities\n",
    "![Attributes](images/attribute.svg)"
   ]
  },
  {
   "cell_type": "markdown",
   "metadata": {
    "slideshow": {
     "slide_type": "subslide"
    }
   },
   "source": [
    "# Relationships\n",
    "\n",
    "* Drawn with lines between entities\n",
    "![Simple relationship](images/relationship.svg)"
   ]
  },
  {
   "cell_type": "markdown",
   "metadata": {
    "slideshow": {
     "slide_type": "fragment"
    }
   },
   "source": [
    "What are we missing?"
   ]
  },
  {
   "cell_type": "markdown",
   "metadata": {
    "slideshow": {
     "slide_type": "subslide"
    }
   },
   "source": [
    "# Relationships\n",
    "\n",
    "* Drawn with lines between entities\n",
    "* Relationships written in diamonds\n",
    "![Simple relationship](images/relationship_with_name.svg)"
   ]
  },
  {
   "cell_type": "markdown",
   "metadata": {
    "slideshow": {
     "slide_type": "fragment"
    }
   },
   "source": [
    "What are we missing?"
   ]
  },
  {
   "cell_type": "markdown",
   "metadata": {
    "slideshow": {
     "slide_type": "subslide"
    }
   },
   "source": [
    "# Relationships\n",
    "\n",
    "* Drawn with lines between entities\n",
    "* Relationships written in diamonds\n",
    "* Cardinality of relationship written near entities\n",
    "![Simple relationship](images/relationship_with_n.svg)"
   ]
  },
  {
   "cell_type": "markdown",
   "metadata": {
    "slideshow": {
     "slide_type": "subslide"
    }
   },
   "source": [
    "# ERD example\n",
    "![ERD example](images/relationship_example.svg)\n",
    "Source: [Graphviz](https://graphviz.gitlab.io/_pages/Gallery/undirected/ER.html)"
   ]
  },
  {
   "cell_type": "markdown",
   "metadata": {
    "slideshow": {
     "slide_type": "subslide"
    }
   },
   "source": [
    "# Exercise: ERD\n",
    "\n",
    "Now your turn. Model a database of music. In it are the following entities:\n",
    "\n",
    "* Artist\n",
    "* Album\n",
    "* Song\n",
    "\n",
    "Your job is to model the relationship between them using *entities* and *relations*. If you have more time try to work out the *attributes* of your entities."
   ]
  },
  {
   "cell_type": "markdown",
   "metadata": {
    "slideshow": {
     "slide_type": "subslide"
    }
   },
   "source": [
    "## Keys\n",
    "\n",
    "* Keys describe unique accessors for entities"
   ]
  },
  {
   "cell_type": "markdown",
   "metadata": {
    "slideshow": {
     "slide_type": "fragment"
    }
   },
   "source": [
    "  * Customer\n",
    "    * <u>name</u>\n",
    "    * email\n",
    "    * ..."
   ]
  },
  {
   "cell_type": "markdown",
   "metadata": {
    "slideshow": {
     "slide_type": "subslide"
    }
   },
   "source": [
    "# Recap: Modeling"
   ]
  },
  {
   "cell_type": "markdown",
   "metadata": {
    "slideshow": {
     "slide_type": "fragment"
    }
   },
   "source": [
    "* Models as an abstraction\n",
    "* Logical data model\n",
    "  * Opposed to the physical data model\n",
    "* Entity-relationship diagram\n",
    "  * Entities, relationships, attributes"
   ]
  },
  {
   "cell_type": "markdown",
   "metadata": {
    "slideshow": {
     "slide_type": "slide"
    }
   },
   "source": [
    "# Physical data model\n",
    "\n",
    "*Implementation of a logical data model in a database*"
   ]
  },
  {
   "cell_type": "markdown",
   "metadata": {
    "slideshow": {
     "slide_type": "fragment"
    }
   },
   "source": [
    "What do we need to implement such a model?"
   ]
  },
  {
   "cell_type": "markdown",
   "metadata": {
    "slideshow": {
     "slide_type": "fragment"
    }
   },
   "source": [
    "We need a structure. Some way to methodically represent our logical data model."
   ]
  },
  {
   "cell_type": "markdown",
   "metadata": {
    "slideshow": {
     "slide_type": "subslide"
    }
   },
   "source": [
    "# Smart structured language<sup>TM</sup> \n",
    "\n",
    "We need something that can\n",
    "\n",
    "* Understand entities\n",
    "* Understand relations\n",
    "* Understand attributes\n",
    "* CRUD on all the above"
   ]
  },
  {
   "cell_type": "markdown",
   "metadata": {
    "slideshow": {
     "slide_type": "subslide"
    }
   },
   "source": [
    "## Introdinner\n",
    "\n",
    "  * Either the 8th or 15th \n",
    "  * Pick the 8th if you can\n",
    "  * https://doodle.com/poll/d35za4kpnxf7shqk -- http://bit.ly/2opv3HQ"
   ]
  },
  {
   "cell_type": "markdown",
   "metadata": {
    "slideshow": {
     "slide_type": "subslide"
    }
   },
   "source": [
    "# Structured query language (SQL)\n",
    "\n",
    "Domain-specific language built to model relations of tuples."
   ]
  },
  {
   "cell_type": "markdown",
   "metadata": {
    "slideshow": {
     "slide_type": "subslide"
    }
   },
   "source": [
    "# Structured query language (SQL)\n",
    "<div style=\"float:right; width: 45%\"><br/><br/><img alt=\"SQL\" style=\"width:100%;\" src=\"https://wikimedia.org/api/rest_v1/media/math/render/svg/b0bfef3c941c1a88d3990bd1472653e60cf02d0a\" /></div>\n",
    "* Statements\n",
    "  * May also be a query\n",
    "* Clauses\n",
    "  * ``select``-clause, ``where``-clause etc.\n",
    "* Expressions\n",
    "  * ``population + 1``, ``\"Boris Jeltsin\"``\n",
    "* Predicates\n",
    "  * ``name = ’USA‘``"
   ]
  },
  {
   "cell_type": "markdown",
   "metadata": {
    "slideshow": {
     "slide_type": "subslide"
    }
   },
   "source": [
    "## SQL tables\n",
    "\n",
    "SQL presupposes you have structured information (tables).\n",
    "\n",
    "Imagine a table ``actors``:\n",
    "<table style=\"font-size:90%\">\n",
    "    <tr>\n",
    "        <th>name</th><th>age</th>\n",
    "    </tr>\n",
    "    <tr><td>Chevy Chase</td><td>75</td></tr>\n",
    "    <tr><td>Donald Glover</td><td>35</td></tr>\n",
    "    <tr><td>Danny Pudi</td><td>39</td></tr>\n",
    "    <tr><td>Ken Jeong</td><td>48</td></tr>\n",
    "</table>\n"
   ]
  },
  {
   "cell_type": "markdown",
   "metadata": {
    "slideshow": {
     "slide_type": "subslide"
    }
   },
   "source": [
    "## SQL statements\n",
    "<table style=\"font-size:90%\">\n",
    "    <tr>\n",
    "        <th>name</th><th>age</th>\n",
    "    </tr>\n",
    "    <tr><td>Chevy Chase</td><td>75</td></tr>\n",
    "    <tr><td>Donald Glover</td><td>35</td></tr>\n",
    "    <tr><td>Danny Pudi</td><td>39</td></tr>\n",
    "    <tr><td>Ken Jeong</td><td>48</td></tr>\n",
    "</table>"
   ]
  },
  {
   "cell_type": "markdown",
   "metadata": {
    "slideshow": {
     "slide_type": "fragment"
    }
   },
   "source": [
    "<div style=\"float:right\">\n",
    "    ``UPDATE actors SET age = 76 WHERE name = 'Chevy Chase';``\n",
    "</div>"
   ]
  },
  {
   "cell_type": "markdown",
   "metadata": {
    "slideshow": {
     "slide_type": "fragment"
    }
   },
   "source": [
    "<div style=\"float:right\">\n",
    "    ``DELETE actors WHERE name = 'Chevy Chase';``\n",
    "</div>"
   ]
  },
  {
   "cell_type": "markdown",
   "metadata": {
    "slideshow": {
     "slide_type": "fragment"
    }
   },
   "source": [
    "<div style=\"float:right\">\n",
    "    ``INSERT INTO actors (name, age) VALUES ('Gillian Jacobs', 37);``\n",
    "</div>"
   ]
  },
  {
   "cell_type": "markdown",
   "metadata": {
    "slideshow": {
     "slide_type": "subslide"
    }
   },
   "source": [
    "## SQL statement exercise\n",
    "Write **one** statement that:\n",
    "\n",
    "* Deletes Ken Jeong, without using his name\n",
    "* Updates Danny Pudi's name to \"Evil Abed\"\n",
    "* Inserts your favourite Community actor (Joel McHale, aged 47)\n",
    "* Deletes all actors above 40\n",
    "* Sets the name of everyone to \"I am in love with SQL\""
   ]
  },
  {
   "cell_type": "markdown",
   "metadata": {
    "slideshow": {
     "slide_type": "subslide"
    }
   },
   "source": [
    "## SQL queries\n",
    "\n",
    "* Queries asks questions about data, but never changes it\n",
    "* Without a doubt the most used part of SQL"
   ]
  },
  {
   "cell_type": "markdown",
   "metadata": {
    "slideshow": {
     "slide_type": "fragment"
    }
   },
   "source": [
    "* Contains at a minimum ``SELECT`` and ``FROM``\n",
    "  * ``SELECT name FROM actors``\n",
    "  * ``SELECT name, age FROM actors``\n",
    "  * ``SELECT * FROM actors``"
   ]
  },
  {
   "cell_type": "markdown",
   "metadata": {
    "slideshow": {
     "slide_type": "subslide"
    }
   },
   "source": [
    "## SQL \n",
    "* Can also contain a conditional ``WHERE`` clause:\n",
    "  * ``SELECT * FROM actors WHERE age > 40``\n",
    "  * ``SELECT * FROM actors WHERE name != 'Donald Glover'``  (``<>``)"
   ]
  },
  {
   "cell_type": "markdown",
   "metadata": {
    "slideshow": {
     "slide_type": "fragment"
    }
   },
   "source": [
    "\n",
    "* ``WHERE`` clauses can join logical conditions\n",
    "  * ``SELECT * FROM actors WHERE age < 10 OR name != \"Donald Glover\"``\n",
    "  * ``SELECT * FROM actors WHERE age > 10 AND NOT name = \"Donald Glover\"``"
   ]
  },
  {
   "cell_type": "markdown",
   "metadata": {
    "slideshow": {
     "slide_type": "subslide"
    }
   },
   "source": [
    "## SQL wildcard string search\n",
    "\n",
    "* When searching for strings, ``LIKE`` means that you can partially match.\n",
    "  * ``SELECT * FROM actors WHERE name LIKE 'Donald Glover'``"
   ]
  },
  {
   "cell_type": "markdown",
   "metadata": {
    "slideshow": {
     "slide_type": "fragment"
    }
   },
   "source": [
    "* In ``LIKE`` clauses, ``%`` can be used as a wildcard for many characters\n",
    "  * ``SELECT * FROM actors WHERE name LIKE 'Donald%'``\n",
    "  * ``SELECT * FROM actors WHERE name LIKE '%y '``\n",
    "  "
   ]
  },
  {
   "cell_type": "markdown",
   "metadata": {
    "slideshow": {
     "slide_type": "fragment"
    }
   },
   "source": [
    "* .. and ``_`` for a single character wildcard\n",
    "  * ``SELECT * FROM actors WHERE name LIKE '_onald Glover'``\n",
    "  * ``SELECT * FROM actors WHERE name LIKE '_onald%'``"
   ]
  },
  {
   "cell_type": "markdown",
   "metadata": {
    "slideshow": {
     "slide_type": "subslide"
    }
   },
   "source": [
    "## SQL ORDER BY\n",
    "\n",
    "You can also order queries:\n",
    "\n",
    "    SELECT * FROM actors ORDER BY age\n",
    "  \n",
    "    SELECT age FROM actors ORDER BY name\n",
    "    \n",
    "Useful in connection with ``LIMIT``:\n",
    "\n",
    "    SELECT * FROM actors ORDER BY age LIMIT 1\n",
    "    \n",
    "    SELECT age FROM actors ORDER BY name LIMIT 1'000'000"
   ]
  },
  {
   "cell_type": "markdown",
   "metadata": {
    "slideshow": {
     "slide_type": "subslide"
    }
   },
   "source": [
    "## SQL queries exercises\n",
    "\n",
    "Write **one** query that:\n",
    "\n",
    "* Find the age of all actors\n",
    "* Finds all actors that is younger than 70 and **not** called \"Donald Glover\"\n",
    "* Find the name of the oldest actor that is **not** Chevy Chase\n",
    "* Sorts all actors by name, except the ones that start with 'K'\n",
    "* Find all actors that does *not* have an 'e' in the last or second-to last character of their name"
   ]
  },
  {
   "cell_type": "markdown",
   "metadata": {
    "slideshow": {
     "slide_type": "subslide"
    }
   },
   "source": [
    "## SQL queries and beyond!\n",
    "* SQL queries can do so much more"
   ]
  },
  {
   "cell_type": "markdown",
   "metadata": {
    "slideshow": {
     "slide_type": "fragment"
    }
   },
   "source": [
    "* Literature for next week will be about database systems and SQL syntax\n",
    "  * I expect you to read up on the syntax yourselves!"
   ]
  },
  {
   "cell_type": "markdown",
   "metadata": {
    "slideshow": {
     "slide_type": "fragment"
    }
   },
   "source": [
    "* ... Please do! Otherwise you will loose time on things you do not have time for!"
   ]
  },
  {
   "cell_type": "markdown",
   "metadata": {
    "slideshow": {
     "slide_type": "fragment"
    }
   },
   "source": [
    "#### Study activity\n",
    "\n",
    "  * Read 4 hrs\n",
    "  * Exercises 4 hrs"
   ]
  },
  {
   "cell_type": "markdown",
   "metadata": {
    "slideshow": {
     "slide_type": "slide"
    }
   },
   "source": [
    "# Assignment: ERD of IMDB\n",
    "For this assignment you will create an ERD from actual data. We will be using the IMDB dataset available from http://www.imdb.com/interfaces/\n",
    "\n",
    "Your job is to draw (yes, draw) an ERD that includes all the information from the files\n",
    "``title.basics``, ``title.crew``, ``title.episode``, ``title.principals``, ``title.ratings``, ``name.basics``\n",
    "\n",
    "Try to avoid redundancy (we'll talk more about this next week)\n",
    "\n",
    "Hand-in on peergrade.io. And don't forget to review other assignments!"
   ]
  }
 ],
 "metadata": {
  "celltoolbar": "Slideshow",
  "kernelspec": {
   "display_name": "Python 3",
   "language": "python",
   "name": "python3"
  },
  "language_info": {
   "codemirror_mode": {
    "name": "ipython",
    "version": 3
   },
   "file_extension": ".py",
   "mimetype": "text/x-python",
   "name": "python",
   "nbconvert_exporter": "python",
   "pygments_lexer": "ipython3",
   "version": "3.6.3"
  }
 },
 "nbformat": 4,
 "nbformat_minor": 2
}
