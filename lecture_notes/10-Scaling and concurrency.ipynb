{
 "cells": [
  {
   "cell_type": "markdown",
   "metadata": {
    "slideshow": {
     "slide_type": "slide"
    }
   },
   "source": [
    "# Scaling and concurrency\n",
    "\n",
    "* 22nd March 2018\n",
    "\n",
    "``<jeep@cphbusiness.dk>``"
   ]
  },
  {
   "cell_type": "markdown",
   "metadata": {
    "slideshow": {
     "slide_type": "subslide"
    }
   },
   "source": [
    "## Agenda\n",
    "\n",
    "* PostgreSQL functions\n",
    "* Aggregations and grouping\n",
    "* PostgreSQL statistics\n",
    "* Triggers\n",
    "\n",
    "* Concurrency in PostgreSQL\n",
    "  * Read and write locks\n",
    "* Scaling\n",
    "  * Dealing with concurrent data\n",
    "\n",
    "### Literature\n",
    "* [PostgreSQL planner and its usage of statistics](https://www.citusdata.com/blog/2018/03/06/postgres-planner-and-its-usage-of-statistics/)\n",
    "* [Pgpool](https://wiki.postgresql.org/wiki/Pgpool-II)\n",
    "* [Serverless databases](https://www.simform.com/serverless-databases/)"
   ]
  },
  {
   "cell_type": "markdown",
   "metadata": {
    "slideshow": {
     "slide_type": "subslide"
    }
   },
   "source": [
    "# Learning objectives\n",
    "## Knowledge\n",
    "The student must have knowledge of:\n",
    "\n",
    " * Various database types and the underlying models\n",
    " * A specific database system’s storage organisation  and query execution\n",
    " * A specific database system’s optimisation possibilities – including advantages and disadvantages\n",
    " * Database-specific security problems and their solutions\n",
    " * Concepts and issues when handling big data\n",
    " * The particular issues raised by having many simultaneous transactions, including in connection with distributed databases\n",
    " * Relational algebra (including its relationship to execution plans)"
   ]
  },
  {
   "cell_type": "markdown",
   "metadata": {
    "slideshow": {
     "slide_type": "subslide"
    }
   },
   "source": [
    "## Skills\n",
    "The student can:\n",
    "\n",
    " * Transform logical data models into physical models in various database types\n",
    " * Implement database optimisation\n",
    " * Use parts of the administration tool to assist in the optimisation and tuning of existing databases, including the incorporation of a specific DBMS’ execution plans\n",
    " * Use a specific database system’s tools for handling simultaneous transactions\n",
    " * Use the programming and other facilities provided by a modern DBMS"
   ]
  },
  {
   "cell_type": "markdown",
   "metadata": {
    "slideshow": {
     "slide_type": "subslide"
    }
   },
   "source": [
    "\n",
    "## Competencies\n",
    "The student can:\n",
    " \n",
    " * Analyse the application domain in order to select a database type\n",
    " * Divide responsibility for tasks between the application and DBMS during system development, to ensure the best possible implementation.\n"
   ]
  },
  {
   "cell_type": "markdown",
   "metadata": {
    "slideshow": {
     "slide_type": "slide"
    }
   },
   "source": [
    "## PostgreSQL functions\n",
    "\n",
    "PostgreSQL has a ton of functions for their inbuilt data types.\n",
    "\n",
    "You've already seen some of them:\n",
    "\n",
    "* ``>``, ``<``, ``=``\n",
    "* ``count``, ``sum``"
   ]
  },
  {
   "cell_type": "markdown",
   "metadata": {
    "slideshow": {
     "slide_type": "fragment"
    }
   },
   "source": [
    "There are plenty more! Look them up on PostgreSQL's documentation:\n",
    "\n",
    "      https://www.postgresql.org/docs/10/static/functions.html"
   ]
  },
  {
   "cell_type": "markdown",
   "metadata": {
    "slideshow": {
     "slide_type": "subslide"
    }
   },
   "source": [
    "### Exercise on functions\n",
    "\n",
    "Open a connection to your PostgreSQL database and:\n",
    "\n",
    "* Convert ``'I HATE CAPS'`` to lowercase\n",
    "* Find the smallest network where both '10.2.17.12' and '10.2.16.13' are contained\n",
    "* Get the current time (both date and time to millisecond precision)\n",
    "* Sleep for 6.7 seconds and prove it using ``EXPLAIN ANALYZE``\n",
    "* Get the md5 sum of ``All your base``\n",
    "* Find today's day of the year (somewhere between 1 and 365)\n",
    "\n",
    "Remember, you can always execute empty ``SELECT`` statements like so: ``SELECT 1;``\n",
    "\n",
    "Documentation is available here: ``https://www.postgresql.org/docs/10/static/functions.html``"
   ]
  },
  {
   "cell_type": "markdown",
   "metadata": {
    "slideshow": {
     "slide_type": "slide"
    }
   },
   "source": [
    "## Aggregating data\n",
    "\n",
    "Aggregation functions allow you to get a single result from a whole set."
   ]
  },
  {
   "cell_type": "markdown",
   "metadata": {
    "slideshow": {
     "slide_type": "fragment"
    }
   },
   "source": [
    "Example: ``SELECT count(*) FROM tweet;``"
   ]
  },
  {
   "cell_type": "markdown",
   "metadata": {
    "slideshow": {
     "slide_type": "fragment"
    }
   },
   "source": [
    "Examples of aggregation functions are:\n",
    "\n",
    "* ``count``\n",
    "* ``sum`` and ``avg``\n",
    "* ``max`` and ``min``\n",
    "* ``stddev``"
   ]
  },
  {
   "cell_type": "markdown",
   "metadata": {
    "slideshow": {
     "slide_type": "subslide"
    }
   },
   "source": [
    "## Grouping data\n",
    "\n",
    "In SQL you can group data to learn more about a range of values:\n",
    "\n",
    "* Grouping tweets based on language\n",
    "* Grouping tweets based on location\n",
    "* Grouping tweets based on hour\n",
    "\n",
    "\n",
    "Groupings can happen on more than one column!"
   ]
  },
  {
   "cell_type": "markdown",
   "metadata": {
    "slideshow": {
     "slide_type": "fragment"
    }
   },
   "source": [
    "SQL syntax: ``GROUP BY``\n",
    "\n",
    "* Grouping on a column will take each unique value from that column and aggregate all tuples, where the column has the same value\n",
    "* Example: \n",
    "\n",
    "        SELECT lang, count(*) FROM tweet GROUP BY lang ORDER BY count(*) DESC;                                                                                                                                    \n",
    "         lang | count                                                                                                                                                                                                      \n",
    "        ------+--------\n",
    "         en   | 172206\n",
    "         es   |  27062\n",
    "         fr   |   1695\n",
    "         it   |    959\n",
    "         pt   |    737"
   ]
  },
  {
   "cell_type": "markdown",
   "metadata": {
    "slideshow": {
     "slide_type": "subslide"
    }
   },
   "source": [
    "## How not to do grouping\n",
    "\n",
    "    SELECT * FROM tweet GROUP BY lang;                                                                                                                                                                        \n",
    "    ERROR:  column \"tweet.id\" must appear in the GROUP BY clause or be used in an aggregate function                                                                                                                   \n",
    "    LINE 1: SELECT * FROM tweet GROUP BY lang;\n",
    "     "
   ]
  },
  {
   "cell_type": "markdown",
   "metadata": {
    "slideshow": {
     "slide_type": "fragment"
    }
   },
   "source": [
    "For grouping to work you need \n",
    "\n",
    "1. A column to group by (``lang``)\n",
    "2. A function to aggregate the results"
   ]
  },
  {
   "cell_type": "markdown",
   "metadata": {
    "slideshow": {
     "slide_type": "fragment"
    }
   },
   "source": [
    "    SELECT count(*) FROM tweet GROUP BY lang;                                                                                                                                                                 \n",
    "     count                                                                                                                                                                                                             \n",
    "    --------\n",
    "        442\n",
    "        636\n",
    "     172206"
   ]
  },
  {
   "cell_type": "markdown",
   "metadata": {
    "slideshow": {
     "slide_type": "subslide"
    }
   },
   "source": [
    "## Plotting in your sql notebook\n",
    "\n"
   ]
  },
  {
   "cell_type": "code",
   "execution_count": null,
   "metadata": {
    "slideshow": {
     "slide_type": "fragment"
    }
   },
   "outputs": [],
   "source": [
    "%load_ext sql"
   ]
  },
  {
   "cell_type": "code",
   "execution_count": null,
   "metadata": {
    "slideshow": {
     "slide_type": "fragment"
    }
   },
   "outputs": [],
   "source": [
    "%sql postgresql://appdev@0.0.0.0/appdev"
   ]
  },
  {
   "cell_type": "code",
   "execution_count": null,
   "metadata": {
    "slideshow": {
     "slide_type": "fragment"
    }
   },
   "outputs": [],
   "source": [
    "# This will allow you to plot your graphs\n",
    "%matplotlib inline"
   ]
  },
  {
   "cell_type": "code",
   "execution_count": null,
   "metadata": {
    "slideshow": {
     "slide_type": "subslide"
    }
   },
   "outputs": [],
   "source": [
    "result = %sql SELECT lang, count(*) FROM tweet GROUP BY lang ORDER BY count(*) DESC;"
   ]
  },
  {
   "cell_type": "code",
   "execution_count": null,
   "metadata": {
    "slideshow": {
     "slide_type": "fragment"
    }
   },
   "outputs": [],
   "source": [
    "result.bar()"
   ]
  },
  {
   "cell_type": "markdown",
   "metadata": {
    "slideshow": {
     "slide_type": "subslide"
    }
   },
   "source": [
    "### Grouping exercise\n",
    "\n",
    "Using ``GROUP BY`` on the ``public.tweet`` table:\n",
    "\n",
    "* Group tweets by country and aggregate on the total number of tweets from that country\n",
    "* Group tweets by place and aggregate on the earliest timestamp (you can concatenate two fields with ``+``)\n",
    "* Find the 10 places with the most users registered"
   ]
  },
  {
   "cell_type": "markdown",
   "metadata": {
    "slideshow": {
     "slide_type": "slide"
    }
   },
   "source": [
    "# PostgreSQL execution plan statistics\n",
    "\n",
    "* ``ANALYZE``, ``VACUUM``\n",
    "* PostgreSQL planning source\n",
    "* Execution statistics"
   ]
  },
  {
   "cell_type": "markdown",
   "metadata": {
    "slideshow": {
     "slide_type": "subslide"
    }
   },
   "source": [
    "## PostgreSQL housekeeping\n",
    "\n",
    "* Query planning is based on table statistics\n",
    "  * Tables stored in \n",
    "* The statistics needs to be kept relevant\n",
    "  * ``ANALYZE``\n",
    "* "
   ]
  },
  {
   "cell_type": "markdown",
   "metadata": {
    "slideshow": {
     "slide_type": "subslide"
    }
   },
   "source": [
    "## Execution plan information\n",
    "\n",
    "* Source: https://www.postgresql.org/docs/9.2/static/using-explain.html\n",
    "\n",
    "``EXPLAIN`` queries gives you metadata about queries\n",
    "    \n",
    "    EXPLAIN SELECT * FROM tweet;                                                                    \n",
    "                           QUERY PLAN                                                                    \n",
    "    ----------------------------------------------------------------                                         \n",
    "     Seq Scan on tweet  (cost=0.00..14758.20 rows=204820 width=468)                                          \n",
    "    (1 row)               \n",
    "                               ^1      ^2           ^3          ^4"
   ]
  },
  {
   "cell_type": "markdown",
   "metadata": {
    "slideshow": {
     "slide_type": "fragment"
    }
   },
   "source": [
    "\n",
    "1. Estimated start-up cost: time expended *before* the output phase can begin, e.g. sorting.\n",
    "\n",
    "2. Estimated total cost. Can be cheaper with e. g. LIMIT.\n",
    "\n",
    "3. Estimated number of rows to output. Can be smaller.\n",
    "\n",
    "4. Estimated average width of rows output (in bytes).\n"
   ]
  },
  {
   "cell_type": "markdown",
   "metadata": {
    "slideshow": {
     "slide_type": "subslide"
    }
   },
   "source": [
    "## A note on cost\n",
    "\n",
    "* Arbitrary unit of \"execution time\"\n",
    "  * In our case determined by one \"lookup\" on disk\n",
    "  \n",
    "* Different query planners with different parameters\n",
    "  * Example: genetic query planner"
   ]
  },
  {
   "cell_type": "markdown",
   "metadata": {
    "slideshow": {
     "slide_type": "subslide"
    }
   },
   "source": [
    "## PostgreSQL secret planning sauce\n",
    "\n",
    "PostgreSQL bases their planning based on statistics from the ``pg_stats``\n",
    "* Documented here: https://www.postgresql.org/docs/current/static/view-pg-stats.html"
   ]
  },
  {
   "cell_type": "markdown",
   "metadata": {
    "slideshow": {
     "slide_type": "fragment"
    }
   },
   "source": [
    "    => \\d pg_stats                                                                                                                                                                                               \n",
    "              View \"pg_catalog.pg_stats\"                                                                                                                                                                               \n",
    "             Column         |   Type   | Modifiers \n",
    "    ------------------------+----------+-----------\n",
    "     schemaname             | name     | \n",
    "     tablename              | name     | \n",
    "     attname                | name     | \n",
    "     inherited              | boolean  | \n",
    "     null_frac              | real     | \n",
    "     avg_width              | integer  | \n",
    "     n_distinct             | real     | \n",
    "     most_common_vals       | anyarray | \n",
    "     most_common_freqs      | real[]   | \n",
    "     histogram_bounds       | anyarray | \n",
    "     correlation            | real     | \n",
    "     most_common_elems      | anyarray | \n",
    "     most_common_elem_freqs | real[]   | \n",
    "     elem_count_histogram   | real[]   |"
   ]
  },
  {
   "cell_type": "markdown",
   "metadata": {
    "slideshow": {
     "slide_type": "subslide"
    }
   },
   "source": [
    "## Creating statistics in PostgreSQL\n",
    "\n",
    "* Statistics are updated using ``ANALYZE``\n",
    "  * But only on singular columns\n",
    "  \n",
    "* You can create statistics for multiple columns, if you know they are often included in queries\n",
    "  * ``CREATE STATISTICS mystat (ndistinct) ON latitude, longitude FROM tweet;``\n",
    "  \n",
    "* This will help PostgreSQL to take multicolumn queries into account, and allow it to optimise your query"
   ]
  },
  {
   "cell_type": "markdown",
   "metadata": {
    "slideshow": {
     "slide_type": "subslide"
    }
   },
   "source": [
    "## Example: From grouping to hashing\n",
    "\n",
    "    EXPLAIN ANALYZE SELECT col1,col2,count(*) from tbl group by col1, col2;                   \n",
    "                                                         QUERY PLAN                                                          \n",
    "    -----------------------------------------------------------------------------------------------------------------------------\n",
    "     GroupAggregate  (cost=1990523.20..2091523.04 rows=100000 width=16) (actual time=2697.246..4470.789 rows=1001 loops=1)\n",
    "       Group Key: col1, col2\n",
    "       ->  Sort  (cost=1990523.20..2015523.16 rows=9999984 width=8) (actual time=2695.498..3440.880 rows=10000000 loops=1)\n",
    "             Sort Key: col1, col2\n",
    "             Sort Method: external sort  Disk: 176128kB\n",
    "             ->  Seq Scan on tbl  (cost=0.00..144247.84 rows=9999984 width=8) (actual time=0.008..665.689 rows=10000000 loops=1)\n",
    "     Planning time: 0.072 ms\n",
    "     Execution time: 4494.583 ms"
   ]
  },
  {
   "cell_type": "markdown",
   "metadata": {
    "slideshow": {
     "slide_type": "subslide"
    }
   },
   "source": [
    "## Example: From grouping to hashing\n",
    "\n",
    "    CREATE STATISTICS s2 (ndistinct) on col1, col2 from tbl;                                  \n",
    "    ANALYZE tbl;\n",
    "\n",
    "    EXPLAIN ANALYZE SELECT col1,col2,count(*) from tbl group by col1, col2;                   \n",
    "                                                          QUERY PLAN                                                       \n",
    "    -----------------------------------------------------------------------------------------------------------------------\n",
    "     HashAggregate  (cost=219247.63..219257.63 rows=1000 width=16) (actual time=2431.767..2431.928 rows=1001 loops=1)\n",
    "       Group Key: col1, col2\n",
    "       ->  Seq Scan on tbl  (cost=0.00..144247.79 rows=9999979 width=8) (actual time=0.008..643.488 rows=10000000 loops=1)\n",
    "     Planning time: 0.129 ms\n",
    "     Execution time: 2432.010 ms\n",
    "    (5 rows)"
   ]
  },
  {
   "cell_type": "markdown",
   "metadata": {
    "slideshow": {
     "slide_type": "slide"
    }
   },
   "source": [
    "# Functions and triggers\n",
    "\n",
    "* DBMSs contains tons of functions\n",
    "  * And naturally you can construct your own\n",
    "* Triggers are a useful usecase"
   ]
  },
  {
   "cell_type": "markdown",
   "metadata": {
    "slideshow": {
     "slide_type": "subslide"
    }
   },
   "source": [
    "## Functions in PostgreSQL\n",
    "\n",
    "A function can be created with the ``CREATE FUNCTION`` clause:\n",
    "\n",
    "    CREATE FUNCTION function_name(p1 type, p2 type)\n",
    "     RETURNS type AS\n",
    "    $$ -- This starts a multiline string\n",
    "    BEGIN\n",
    "     -- logic\n",
    "    END;\n",
    "    $$ -- This ends a multiline string\n",
    "    LANGUAGGE language;\n",
    "    \n",
    "* This creates a function where the ``BEGIN .. END`` query is executed whenever the function is called\n",
    "* Also called a **stored procedure**\n",
    "* Can return either \n",
    "  * singular values (``int``, ``varchar``) or \n",
    "  * whole relations (``TABLE(column type, ...)``)\n",
    "* Can be dropped with ``DROP FUNCTION``"
   ]
  },
  {
   "cell_type": "code",
   "execution_count": null,
   "metadata": {
    "slideshow": {
     "slide_type": "subslide"
    }
   },
   "outputs": [],
   "source": [
    "%%sql\n",
    "CREATE FUNCTION myfun(s varchar)\n",
    "  RETURNS int AS \n",
    "$$\n",
    "BEGIN\n",
    "  RETURN length(s);\n",
    "END;\n",
    "$$\n",
    "LANGUAGE PLPGSQL;"
   ]
  },
  {
   "cell_type": "code",
   "execution_count": null,
   "metadata": {
    "slideshow": {
     "slide_type": "fragment"
    }
   },
   "outputs": [],
   "source": [
    "%sql SELECT myfun('hullubullu');"
   ]
  },
  {
   "cell_type": "code",
   "execution_count": null,
   "metadata": {
    "slideshow": {
     "slide_type": "subslide"
    }
   },
   "outputs": [],
   "source": [
    "%%sql\n",
    "CREATE FUNCTION tweet_from_country(s varchar)\n",
    "  RETURNS TABLE(count int) AS\n",
    "$$\n",
    "BEGIN\n",
    "  RETURN QUERY SELECT count(*) FROM tweet WHERE country = s;\n",
    "END;\n",
    "$$\n",
    "LANGUAGE PLPGSQL;"
   ]
  },
  {
   "cell_type": "code",
   "execution_count": null,
   "metadata": {
    "slideshow": {
     "slide_type": "fragment"
    }
   },
   "outputs": [],
   "source": [
    "%sql SELECT tweet_from_country('US');"
   ]
  },
  {
   "cell_type": "markdown",
   "metadata": {
    "slideshow": {
     "slide_type": "subslide"
    }
   },
   "source": [
    "## Triggers\n",
    "\n",
    "* Triggers are basically event-driven function calls\n",
    "  * On ``INSERT``, ``UPDATE``, ``DELETE``, ``TRUNCATE``\n",
    "* Particularly useful for\n",
    "  * Logging (auditing)\n",
    "  * Checking extra constraints\n",
    "  * Performing periodic operations\n",
    "* Created with ``CREATE TRIGGER``\n",
    "  * Requires a stored procedure that returns a ``trigger``\n",
    "  * Gives access to the ``OLD`` and ``NEW`` variable\n",
    "    * ``RETURN OLD`` will for instance discard any changes"
   ]
  },
  {
   "cell_type": "markdown",
   "metadata": {
    "slideshow": {
     "slide_type": "subslide"
    }
   },
   "source": [
    "## Trigger example\n"
   ]
  },
  {
   "cell_type": "code",
   "execution_count": null,
   "metadata": {
    "slideshow": {
     "slide_type": "fragment"
    }
   },
   "outputs": [],
   "source": [
    "%%sql\n",
    "CREATE FUNCTION crash()\n",
    "  RETURNS trigger AS\n",
    "$$\n",
    "BEGIN\n",
    "  RAISE EXCEPTION 'You shall not pass! %', NEW.language;\n",
    "END\n",
    "$$\n",
    "LANGUAGE PLPGSQL;"
   ]
  },
  {
   "cell_type": "code",
   "execution_count": null,
   "metadata": {
    "slideshow": {
     "slide_type": "fragment"
    }
   },
   "outputs": [],
   "source": [
    "%%sql\n",
    "CREATE TRIGGER crash_trigger\n",
    "    BEFORE UPDATE ON hello                 \n",
    "    FOR EACH ROW\n",
    "    EXECUTE PROCEDURE crash();"
   ]
  },
  {
   "cell_type": "code",
   "execution_count": null,
   "metadata": {
    "slideshow": {
     "slide_type": "subslide"
    }
   },
   "outputs": [],
   "source": [
    "%sql SELECT * FROM hello WHERE language = 'Emacs';"
   ]
  },
  {
   "cell_type": "code",
   "execution_count": null,
   "metadata": {
    "slideshow": {
     "slide_type": "fragment"
    }
   },
   "outputs": [],
   "source": [
    "result = %sql UPDATE hello SET language = 'Emacs, the awesome editor' WHERE language = 'Emacs';"
   ]
  },
  {
   "cell_type": "markdown",
   "metadata": {
    "slideshow": {
     "slide_type": "subslide"
    }
   },
   "source": [
    "## Exercise on triggers\n",
    "\n",
    "The table ``hello`` contains two columns (``language`` and ``hello``) and contains translation of \"hello\" in different languages. We want to audit whenever someone inserted a new language.\n",
    "\n",
    "1. Create a table called ``hello_log`` containing two columns: ``language varchar`` and ``time timestamp``\n",
    "2. Create a trigger function that inserts a row into your ``hello_log`` containing the name of the new language (``NEW.language``) and the current timestamp on insertion (``now()``)\n",
    "  1. Note: This is NOT a trigger, just a function that returns a trigger\n",
    "3. Create a trigger that triggers your trigger function when someone inserts a new language\n",
    "4. Try to insert the new language ``brainfuck`` with the value ``++++++++[>++++[>++>+++>+++>+<<<<-]>+>+>->>+[<]<-]>>.>---.+++++++..+++.>>.<-.<.+++.------.--------.>>+.>++.``"
   ]
  },
  {
   "cell_type": "markdown",
   "metadata": {
    "slideshow": {
     "slide_type": "slide"
    }
   },
   "source": [
    "# Controlling concurrency in PostgreSQL\n",
    "\n",
    "PostgreSQL comes with tons of concurrency logic. We will focus on two important aspects:\n",
    "\n",
    "* Isolation through transactions\n",
    "* Locks and lock types"
   ]
  },
  {
   "cell_type": "markdown",
   "metadata": {
    "slideshow": {
     "slide_type": "subslide"
    }
   },
   "source": [
    "## Isolating transactions\n",
    "\n",
    "* Remember ACID?\n",
    "  * What did Isolation stand for?\n"
   ]
  },
  {
   "cell_type": "markdown",
   "metadata": {
    "slideshow": {
     "slide_type": "fragment"
    }
   },
   "source": [
    "* You can create a transaction in SQL, defining what a 'transaction' is:\n",
    "\n",
    "      BEGIN; ... COMMIT;\n",
    "      BEGIN; ... ROLLBACK;"
   ]
  },
  {
   "cell_type": "markdown",
   "metadata": {
    "slideshow": {
     "slide_type": "fragment"
    }
   },
   "source": [
    "**NOTE:** Your ``sql`` multiline magic does **NOT** support this (yet)!"
   ]
  },
  {
   "cell_type": "markdown",
   "metadata": {
    "slideshow": {
     "slide_type": "fragment"
    }
   },
   "source": [
    "Example: ``BEGIN; TRUNCATE hello; ROLLBACK;``"
   ]
  },
  {
   "cell_type": "markdown",
   "metadata": {
    "slideshow": {
     "slide_type": "subslide"
    }
   },
   "source": [
    "## Locks and lock types\n",
    "\n",
    "Locks exists in many variants, but it is useful to know two types:\n",
    "  * Read locks\n",
    "    * Can be obtained by many different threads at once\n",
    "    * Prevents any writing\n",
    "  * Write locks\n",
    "    * Can be obtained by *one at the time*\n",
    "    * Prevents any reads"
   ]
  },
  {
   "cell_type": "markdown",
   "metadata": {
    "slideshow": {
     "slide_type": "subslide"
    }
   },
   "source": [
    "## Lock types and SQL statements\n",
    "\n",
    "What kinds of locks will be provoked by these statements:\n",
    "\n",
    "* ``SELECT * FROM tweet;``\n",
    "* ``UPDATE tweet SET country = 'Ukraine' WHERE uname = 'C';``\n",
    "* ``DELETE FROM tweet;``\n",
    "* ``SELECT * FROM tweet WHERE uname = 'C'``;\n",
    "* ``TRUNCATE tweet;``"
   ]
  },
  {
   "cell_type": "markdown",
   "metadata": {
    "slideshow": {
     "slide_type": "subslide"
    }
   },
   "source": [
    "## Locking a table in a transaction\n",
    "\n",
    "You can specifically lock an entire table during a transaction: ``LOCK TABLE table;``\n",
    "\n",
    "    BEGIN;\n",
    "    LOCK TABLE tweet;\n",
    "    SELECT * FROM tweet;\n",
    "    COMMIT;"
   ]
  },
  {
   "cell_type": "markdown",
   "metadata": {
    "slideshow": {
     "slide_type": "fragment"
    }
   },
   "source": [
    "... Although I don't really know why you'd need this"
   ]
  },
  {
   "cell_type": "markdown",
   "metadata": {
    "slideshow": {
     "slide_type": "subslide"
    }
   },
   "source": [
    "## Locks and transactions\n",
    "\n",
    "More importantly you should consider your level of concurrency in transactions:\n",
    "\n",
    "    BEGIN;\n",
    "    SELECT * FROM tweet;\n",
    "    DELETE FROM tweet WHERE uname = 'C';\n",
    "    SELECT * FROM tweet;\n",
    "    COMMIT;\n",
    "    \n",
    "Versus\n",
    "\n",
    "    BEGIN;\n",
    "    SELECT * FROM tweet;\n",
    "    DELETE FROM tweet WHERE uname = 'C';\n",
    "    SELECT * FROM tweet;\n",
    "    COMMIT;\n"
   ]
  },
  {
   "cell_type": "markdown",
   "metadata": {
    "slideshow": {
     "slide_type": "slide"
    }
   },
   "source": [
    "# Scaling a database\n",
    "\n",
    "* Why databases are hard to scale\n",
    "* Serverless databases\n",
    "* Scaling PostgreSQL"
   ]
  },
  {
   "cell_type": "markdown",
   "metadata": {
    "slideshow": {
     "slide_type": "subslide"
    }
   },
   "source": [
    "## Why databases are hard to scale\n",
    "\n",
    "* Typical scaling requires three things\n",
    "  * Redundancy\n",
    "  * Somewhat linear performance\n",
    "  * Availability\n",
    "  \n",
    "* ... And **always** consider *online* backups"
   ]
  },
  {
   "cell_type": "markdown",
   "metadata": {
    "slideshow": {
     "slide_type": "subslide"
    }
   },
   "source": [
    "## Redundancy, linear scaling and availability in a DBMS\n",
    "\n",
    "* ACID\n",
    "  * We talked about what that means for a database on a single computer\n",
    "  * What happened when you need these guarantees over a network of computers?"
   ]
  },
  {
   "cell_type": "markdown",
   "metadata": {
    "slideshow": {
     "slide_type": "fragment"
    }
   },
   "source": [
    "* Normalisation\n",
    "  * What does that mean for scaling?"
   ]
  },
  {
   "cell_type": "markdown",
   "metadata": {
    "slideshow": {
     "slide_type": "subslide"
    }
   },
   "source": [
    "## Serverless databases benefits\n",
    "\n",
    "* Real-time Access\n",
    "  * You have access to your data at a granular level. Whatever the data that you store, gets automatically indexed by default and it makes those indexes available immediately."
   ]
  },
  {
   "cell_type": "markdown",
   "metadata": {
    "slideshow": {
     "slide_type": "fragment"
    }
   },
   "source": [
    "* Infinite Scalability\n",
    "  * Serverless databases can be scaled up or down anytime you want... they start-up or shut down as per the application’s need."
   ]
  },
  {
   "cell_type": "markdown",
   "metadata": {
    "slideshow": {
     "slide_type": "fragment"
    }
   },
   "source": [
    "* High Security: Most of the traditional databases implement schema-level user authentication only."
   ]
  },
  {
   "cell_type": "markdown",
   "metadata": {
    "slideshow": {
     "slide_type": "fragment"
    }
   },
   "source": [
    "* Availability: While businesses are going global, it is imperative to have your data replicated at different geo-location, it means closest to where your users are."
   ]
  },
  {
   "cell_type": "markdown",
   "metadata": {
    "slideshow": {
     "slide_type": "fragment"
    }
   },
   "source": [
    "* Schemaless: This feature is quite unique as it enables you to handle any data output from your functions."
   ]
  },
  {
   "cell_type": "markdown",
   "metadata": {
    "slideshow": {
     "slide_type": "subslide"
    }
   },
   "source": [
    "## Limitations of traditional databases\n",
    "\n",
    "1. Overspending on Resources\n",
    "  1. Traditional database infrastructure means they benefit very little from resource sharing.\n",
    "2. Locality of Data\n",
    "  1. Who doesn’t have a global customer base?\n",
    "3. Higher Fulfillment Time\n",
    "  1. It is quite hard for the development team to add functionalities."
   ]
  },
  {
   "cell_type": "markdown",
   "metadata": {
    "slideshow": {
     "slide_type": "subslide"
    }
   },
   "source": [
    "## The problem of serverless\n",
    "\n",
    "* Who owns your data?\n",
    "  * General data protection regulation (GDPR)\n",
    "* Does it actually spread geographically\n",
    "  * Depends on vendor\n",
    "* Price models\n",
    "  * Ad-hoc scaling sounds good, but then the bill arrives"
   ]
  },
  {
   "cell_type": "markdown",
   "metadata": {
    "slideshow": {
     "slide_type": "subslide"
    }
   },
   "source": [
    "## Naïve solution to database scaling\n",
    "\n",
    "Replicate your queries. Or better, your write queries\n",
    "\n",
    "* Solves the problem of redundancy\n",
    "* Partly solves availability\n",
    "* Semi-poor scalability\n",
    "\n",
    "This is the approach of [pgpool](https://wiki.postgresql.org/wiki/Pgpool-II)\n",
    "\n",
    "* Probably sufficient when you have more reads than writes"
   ]
  },
  {
   "cell_type": "markdown",
   "metadata": {
    "slideshow": {
     "slide_type": "subslide"
    }
   },
   "source": [
    "## Complex solution\n",
    "\n",
    "Handle this internally in the database (clustering)\n",
    "\n",
    "* Solves the problem of redundancy\n",
    "* Solves availability\n",
    "* Fair scaleability"
   ]
  },
  {
   "cell_type": "markdown",
   "metadata": {
    "slideshow": {
     "slide_type": "fragment"
    }
   },
   "source": [
    "This is the approach of many NoSQL databases and\n",
    "* [Postgres-BDR](https://www.2ndquadrant.com/en/resources/bdr/) and\n",
    "* [Citus](https://www.citusdata.com)"
   ]
  },
  {
   "cell_type": "markdown",
   "metadata": {
    "slideshow": {
     "slide_type": "subslide"
    }
   },
   "source": [
    "## A good database setup\n",
    "\n",
    "* Quick\n",
    "  * Time to market is extremely important\n",
    "* Efficient\n",
    "  * Performance seriously matters, especially at scale\n",
    "* Cheap\n",
    "  * Opague price models can kill your business\n",
    "* Offers full control\n",
    "  * Think long term"
   ]
  },
  {
   "cell_type": "markdown",
   "metadata": {
    "slideshow": {
     "slide_type": "slide"
    }
   },
   "source": [
    "# A query within a query\n",
    "\n",
    "In the query ``SELECT X FROM Y`` you select column $X$ from relation $Y$. \n",
    "\n",
    "The output of that is a relation with one column: $X$"
   ]
  },
  {
   "cell_type": "markdown",
   "metadata": {
    "slideshow": {
     "slide_type": "fragment"
    }
   },
   "source": [
    "So if the output is also a relation, why can't I use a selection within a selection?\n",
    "\n",
    "    SELECT X FROM (SELECT Y FROM T);"
   ]
  },
  {
   "cell_type": "markdown",
   "metadata": {
    "slideshow": {
     "slide_type": "fragment"
    }
   },
   "source": [
    "This is particularly useful in joins:\n",
    "\n",
    "    SELECT A FROM T\n",
    "    INNER JOIN \n",
    "      (SELECT B FROM U)"
   ]
  },
  {
   "cell_type": "markdown",
   "metadata": {
    "slideshow": {
     "slide_type": "subslide"
    }
   },
   "source": [
    "## Named subqueries\n",
    "\n",
    "PostgreSQL can sometimes complain that subqueries do not have a name. \n",
    "\n",
    "By name, they mean a particular reference that points to the subquery, so PostgreSQL isn't confused about where to find the data.\n",
    "\n",
    "Solution:\n",
    "\n",
    "    SELECT A FROM T\n",
    "    INNER JOIN\n",
    "      (SELECT B FROM U) AS subquery\n",
    "    ORDER BY subquery.B"
   ]
  },
  {
   "cell_type": "markdown",
   "metadata": {
    "slideshow": {
     "slide_type": "fragment"
    }
   },
   "source": [
    "This won't be a problem with views (because they're already named)"
   ]
  },
  {
   "cell_type": "markdown",
   "metadata": {
    "slideshow": {
     "slide_type": "slide"
    }
   },
   "source": [
    "# Today's curious read: How to create a re-arrangable order\n",
    "\n",
    "https://begriffs.com/posts/2018-03-20-user-defined-order.html"
   ]
  },
  {
   "cell_type": "markdown",
   "metadata": {
    "slideshow": {
     "slide_type": "slide"
    }
   },
   "source": [
    "# Assignment 7: Grouping and more joins\n",
    "\n",
    "This assignment focuses on the use of ``GROUP BY`` and different types of joins. Proceed stepwise and take everything very slowly to avoid getting very confused.\n",
    "\n",
    "1. Using a single join and a grouping, write a query that allows you to find the ``forename``, ``surname``, ``driverid`` and the total number of wins for each driver in the ``f1db`` schema.\n",
    "2. Write a query that joins the tables ``results``, ``constructors`` and ``drivers`` to show the amount of times a driver has driven a car from a constructor. In other words how many times one driver (for instance Schumacher) has driven a constructor (for instance Mercedes). Your table should have three fields: ``drivers.driverref``, ``constructors.name`` and ``count(*)`` (showing the number of times the driver has driven the constructor).\n",
    "  1. Hint: You can group on more than one value\n",
    "3. Now we have found the most driven vehicles even for those who didn't finish the race. Extend the query from 2 by removing all tuples from the result where the status is not \"Finished\".\n",
    "4. Create a third (and new) query that finds the amount of milliseconds spent in pitstop (see the ``pitstops`` relation) by each unique combinations of ``driverid`` and ``raceid``.\n",
    "  1. Hint: use the ``sum`` aggregate function to find the total amount of milliseconds\n",
    "  2. Hint: i recommend making this into a view\n",
    "5. Time to put everything together. Use the query for 4 as a join subquery in query 3 (see slides on \"a query within a query\") to find the total amount of pitstop time, for each result in query 3\n",
    "6. As a last thing we want to find the driver with the least pistop time. However we want to control for the amount of races (see explanation below), so we need to include one last column: the average pitstop time per race. Your table should be sorted based on the ascending values of that average pitstop time.\n",
    "  1. Explanation: If we just count the pitstop time, we only get the total time he spend in a workshop, no matter how many races he participated in. If a driver participated in 100 races, he would have more pitstop time than a driver participating in one race!\n",
    "  2. Hint: Use the ``sum`` function to accumulate the total pistop time and divide that with the amount of races the driver has participated in\n",
    "\n",
    "Hand-in your query in text and your resulting table either as text or an image."
   ]
  }
 ],
 "metadata": {
  "celltoolbar": "Slideshow",
  "kernelspec": {
   "display_name": "Python 3",
   "language": "python",
   "name": "python3"
  },
  "language_info": {
   "codemirror_mode": {
    "name": "ipython",
    "version": 3
   },
   "file_extension": ".py",
   "mimetype": "text/x-python",
   "name": "python",
   "nbconvert_exporter": "python",
   "pygments_lexer": "ipython3",
   "version": "3.6.3"
  }
 },
 "nbformat": 4,
 "nbformat_minor": 2
}
