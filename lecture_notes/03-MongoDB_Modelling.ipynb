{
 "cells": [
  {
   "cell_type": "markdown",
   "metadata": {
    "slideshow": {
     "slide_type": "slide"
    }
   },
   "source": [
    "# Today\n",
    "\n",
    "  1. Geospatial Indexes and Queries in MongoDB\n",
    "  2. Data Modeling Concepts"
   ]
  },
  {
   "cell_type": "code",
   "execution_count": null,
   "metadata": {
    "collapsed": true
   },
   "outputs": [],
   "source": []
  },
  {
   "cell_type": "markdown",
   "metadata": {
    "slideshow": {
     "slide_type": "slide"
    }
   },
   "source": [
    "## Geospatial Indexes and Queries\n",
    "\n"
   ]
  },
  {
   "cell_type": "code",
   "execution_count": 4,
   "metadata": {
    "slideshow": {
     "slide_type": "subslide"
    }
   },
   "outputs": [
    {
     "data": {
      "text/plain": [
       "CONTAINER ID        IMAGE                                                                                                                                COMMAND                  CREATED             STATUS                    PORTS                      NAMES\n",
       "2e7905ecdfa7        mongo:latest                                                                                                                         \"docker-entrypoint.s…\"   2 days ago          Up 2 days                 0.0.0.0:27017->27017/tcp   dbms\n",
       "34479006307d        436011858031.dkr.ecr.eu-west-1.amazonaws.com/ikkjo/watercolor:yakkety-FXAA-opencv3-pms-noise-scipy-sklearn-hg-wine-tinydb-requests   \"/bin/bash\"              3 months ago        Exited (1) 3 months ago                              silly_albattani\n"
      ]
     },
     "execution_count": 4,
     "metadata": {},
     "output_type": "execute_result"
    }
   ],
   "source": [
    "%%bash\n",
    "docker ps -a"
   ]
  },
  {
   "cell_type": "markdown",
   "metadata": {
    "slideshow": {
     "slide_type": "subslide"
    }
   },
   "source": [
    "## Importing Coordinates of Resaurants and Neighbourhoods\n",
    "\n",
    "From your last exercise you know how to import data into a MongoDB instance. Now, we are going to import JSON data instead of CSV files.\n",
    "\n",
    "```bash\n",
    "$ docker exec -it 2e79 bash\n",
    "root@2e7905ecdfa7:/$ apt-get update\n",
    "root@2e7905ecdfa7:/$ apt-get install -y wget\n",
    "root@2e7905ecdfa7:/$ wget https://raw.githubusercontent.com/mongodb/docs-assets/geospatial/neighborhoods.json\n",
    "root@2e7905ecdfa7:/$ wget https://raw.githubusercontent.com/mongodb/docs-assets/geospatial/restaurants.json\n",
    "root@2e7905ecdfa7:/$ mongoimport ./restaurants.json -c restaurants\n",
    "root@2e7905ecdfa7:/$ mongoimport ./neighborhoods.json -c neighborhoods\n",
    "```"
   ]
  },
  {
   "cell_type": "code",
   "execution_count": 1,
   "metadata": {
    "collapsed": true,
    "slideshow": {
     "slide_type": "subslide"
    }
   },
   "outputs": [],
   "source": [
    "%%bash\n",
    "docker exec 2e79 bash -c \"apt-get update;apt-get install -y wget;wget https://raw.githubusercontent.com/mongodb/docs-assets/geospatial/neighborhoods.json;wget https://raw.githubusercontent.com/mongodb/docs-assets/geospatial/restaurants.json;mongoimport ./restaurants.json -c restaurants;mongoimport ./neighborhoods.json -c neighborhoods\""
   ]
  },
  {
   "cell_type": "code",
   "execution_count": 1,
   "metadata": {
    "slideshow": {
     "slide_type": "subslide"
    }
   },
   "outputs": [
    {
     "data": {},
     "metadata": {},
     "output_type": "display_data"
    },
    {
     "data": {},
     "metadata": {},
     "output_type": "display_data"
    },
    {
     "data": {
      "text/plain": [
       "neighborhoods\r\n",
       "restaurants"
      ]
     },
     "execution_count": 1,
     "metadata": {},
     "output_type": "execute_result"
    }
   ],
   "source": [
    "show collections"
   ]
  },
  {
   "cell_type": "code",
   "execution_count": 2,
   "metadata": {
    "slideshow": {
     "slide_type": "fragment"
    }
   },
   "outputs": [
    {
     "data": {
      "text/html": [
       "<style>a.disclosure:link{text-decoration:none;}a.disclosure:visited{text-decoration:none;}.disclosure{color:#337AB7;font-size:150%;}.syntax{color:grey;}.string{color:#9A334F;}.number{color:#5C9632;}.boolean{color:#AA9739;}.key{color:#403075;}.keyword{color:#AA9739;}.object.syntax{color:#337AB7;}.array.syntax{color:#337AB7;}></style><div id=\"139dc19b-a6b8-4e0f-bfe4-46e6e75e3c68\"></div>"
      ]
     },
     "metadata": {},
     "output_type": "display_data"
    },
    {
     "data": {
      "application/javascript": [
       "require([\"https://rawgit.com/caldwell/renderjson/master/renderjson.js\"], function() {document.getElementById('139dc19b-a6b8-4e0f-bfe4-46e6e75e3c68').appendChild(renderjson.set_show_to_level(2)([{\"_id\": {\"$oid\": \"55cba2476c522cafdb053add\"}, \"location\": {\"coordinates\": [-73.856077, 40.848447], \"type\": \"Point\"}, \"name\": \"Morris Park Bake Shop\"}]))});"
      ]
     },
     "metadata": {},
     "output_type": "display_data"
    },
    {
     "data": {
      "text/plain": [
       "{ \"_id\" : ObjectId(\"55cba2476c522cafdb053add\"), \"location\" : { \"coordinates\" : [ -73.856077, 40.848447 ], \"type\" : \"Point\" }, \"name\" : \"Morris Park Bake Shop\" }"
      ]
     },
     "execution_count": 2,
     "metadata": {},
     "output_type": "execute_result"
    }
   ],
   "source": [
    "db.restaurants.find({name: \"Morris Park Bake Shop\"}) "
   ]
  },
  {
   "cell_type": "markdown",
   "metadata": {
    "slideshow": {
     "slide_type": "subslide"
    }
   },
   "source": [
    "That is, each imported reataurant has a point coordinate.\n",
    "\n",
    "![](https://docs.mongodb.com/manual/_images/geospatial-single-point.png)"
   ]
  },
  {
   "cell_type": "code",
   "execution_count": 16,
   "metadata": {
    "slideshow": {
     "slide_type": "fragment"
    }
   },
   "outputs": [
    {
     "data": {
      "text/html": [
       "<style>a.disclosure:link{text-decoration:none;}a.disclosure:visited{text-decoration:none;}.disclosure{color:#337AB7;font-size:150%;}.syntax{color:grey;}.string{color:#9A334F;}.number{color:#5C9632;}.boolean{color:#AA9739;}.key{color:#403075;}.keyword{color:#AA9739;}.object.syntax{color:#337AB7;}.array.syntax{color:#337AB7;}></style><div id=\"17cd44fd-7488-41c2-81fa-3f4e9490124a\"></div>"
      ]
     },
     "metadata": {},
     "output_type": "display_data"
    },
    {
     "data": {
      "application/javascript": [
       "require([\"https://rawgit.com/caldwell/renderjson/master/renderjson.js\"], function() {document.getElementById('17cd44fd-7488-41c2-81fa-3f4e9490124a').appendChild(renderjson.set_show_to_level(2)([{\"_id\": {\"$oid\": \"55cba2476c522cafdb053add\"}, \"location\": {\"coordinates\": [-73.856077, 40.848447], \"type\": \"Point\"}, \"name\": \"Morris Park Bake Shop\"}]))});"
      ]
     },
     "metadata": {},
     "output_type": "display_data"
    },
    {
     "data": {
      "text/plain": [
       "{ \"_id\" : ObjectId(\"55cba2476c522cafdb053add\"), \"location\" : { \"coordinates\" : [ -73.856077, 40.848447 ], \"type\" : \"Point\" }, \"name\" : \"Morris Park Bake Shop\" }"
      ]
     },
     "execution_count": 16,
     "metadata": {},
     "output_type": "execute_result"
    }
   ],
   "source": [
    "db.restaurants.find( { \"location.coordinates\": \n",
    "                       [-73.856077, 40.848447]})"
   ]
  },
  {
   "cell_type": "markdown",
   "metadata": {
    "slideshow": {
     "slide_type": "subslide"
    }
   },
   "source": [
    "Each neighbourhood has a polygon defined by coordinates.\n",
    "\n",
    "![](https://docs.mongodb.com/manual/_images/geospatial-polygon-hells-kitchen.png)"
   ]
  },
  {
   "cell_type": "code",
   "execution_count": 3,
   "metadata": {
    "slideshow": {
     "slide_type": "subslide"
    }
   },
   "outputs": [
    {
     "data": {
      "text/html": [
       "<style>a.disclosure:link{text-decoration:none;}a.disclosure:visited{text-decoration:none;}.disclosure{color:#337AB7;font-size:150%;}.syntax{color:grey;}.string{color:#9A334F;}.number{color:#5C9632;}.boolean{color:#AA9739;}.key{color:#403075;}.keyword{color:#AA9739;}.object.syntax{color:#337AB7;}.array.syntax{color:#337AB7;}></style><div id=\"4903756c-5981-4a51-abf3-32e18eadd98e\"></div>"
      ]
     },
     "metadata": {},
     "output_type": "display_data"
    },
    {
     "data": {
      "application/javascript": [
       "require([\"https://rawgit.com/caldwell/renderjson/master/renderjson.js\"], function() {document.getElementById('4903756c-5981-4a51-abf3-32e18eadd98e').appendChild(renderjson.set_show_to_level(2)([40.86170058826304, 40.86152941211661, 40.86147181520911, 40.86091361616668, 40.86017714781636, 40.85940997630237, 40.85838612046538, 40.85643377580147, 40.85592952563393, 40.854749765891384, 40.85457037009787, 40.85490775915559, 40.855172290942875, 40.85406115105141, 40.8539069754361, 40.85514637639308, 40.85536324709642, 40.8556689083972, 40.855987237865136, 40.856047109729, 40.855937440328404, 40.855495674561254, 40.85530349000007, 40.85499464378932, 40.8545861492599, 40.85462259970009, 40.85477310914504, 40.85497392301589, 40.855370394831326, 40.85578732289611, 40.85620359480207, 40.85641083070546, 40.857060301724275, 40.85739873466372, 40.85804717834941, 40.85869322470881, 40.859341594676465, 40.8599878475083, 40.86091751015078, 40.860578255335696, 40.86095497146919, 40.86132694802353, 40.861693624619896, 40.86205443458002, 40.86240886466221, 40.86275638342237, 40.86247183708805, 40.86235028002582, 40.86221043694762, 40.86211691206553, 40.86229696667957, 40.86240253986979, 40.862432364040096, 40.86244506515187, 40.861351137027974, 40.860820461119864, 40.860448864352726, 40.860334421461594, 40.859766783267396, 40.859364270993524, 40.85930730834145, 40.859246901796254, 40.859083681169665, 40.858762734927396, 40.85837531884534, 40.858138206765226, 40.85942628230906, 40.85898656513138, 40.85987420615567, 40.860522728915896, 40.86166298404372, 40.86170058826304]))});"
      ]
     },
     "metadata": {},
     "output_type": "display_data"
    },
    {
     "data": {
      "text/plain": [
       "{\r\n",
       "\t\"_id\" : ObjectId(\"55cb9c666c522cafdb053a1c\"),\r\n",
       "\t\"geometry\" : {\r\n",
       "\t\t\"coordinates\" : [\r\n",
       "\t\t\t[\r\n",
       "\t\t\t\t[\r\n",
       "\t\t\t\t\t-73.89138023380261,\r\n",
       "\t\t\t\t\t40.86170058826304\r\n",
       "\t\t\t\t],\r\n",
       "\t\t\t\t[\r\n",
       "\t\t\t\t\t-73.89106280613036,\r\n",
       "\t\t\t\t\t40.86152941211661\r\n",
       "\t\t\t\t],\r\n",
       "\t\t\t\t[\r\n",
       "\t\t\t\t\t-73.89106059904508,\r\n",
       "\t\t\t\t\t40.86147181520911\r\n",
       "\t\t\t\t],\r\n",
       "\t\t\t\t[\r\n",
       "\t\t\t\t\t-73.89115375546018,\r\n",
       "\t\t\t\t\t40.86091361616668\r\n",
       "\t\t\t\t],\r\n",
       "\t\t\t\t[\r\n",
       "\t\t\t\t\t-73.89174395026582,\r\n",
       "\t\t\t\t\t40.86017714781636\r\n",
       "\t\t\t\t],\r\n",
       "\t\t\t\t[\r\n",
       "\t\t\t\t\t-73.8922570762111,\r\n",
       "\t\t\t\t\t40.85940997630237\r\n",
       "\t\t\t\t],\r\n",
       "\t\t\t\t[\r\n",
       "\t\t\t\t\t-73.89299354227633,\r\n",
       "\t\t\t\t\t40.85838612046538\r\n",
       "\t\t\t\t],\r\n",
       "\t\t\t\t[\r\n",
       "\t\t\t\t\t-73.8944135507376,\r\n",
       "\t\t\t\t\t40.85643377580147\r\n",
       "\t\t\t\t],\r\n",
       "\t\t\t\t[\r\n",
       "\t\t\t\t\t-73.89477596003171,\r\n",
       "\t\t\t\t\t40.85592952563393\r\n",
       "\t\t\t\t],\r\n",
       "\t\t\t\t[\r\n",
       "\t\t\t\t\t-73.89549889768499,\r\n",
       "\t\t\t\t\t40.854749765891384\r\n",
       "\t\t\t\t],\r\n",
       "\t\t\t\t[\r\n",
       "\t\t\t\t\t-73.89560883346181,\r\n",
       "\t\t\t\t\t40.85457037009787\r\n",
       "\t\t\t\t],\r\n",
       "\t\t\t\t[\r\n",
       "\t\t\t\t\t-73.89644052566297,\r\n",
       "\t\t\t\t\t40.85490775915559\r\n",
       "\t\t\t\t],\r\n",
       "\t\t\t\t[\r\n",
       "\t\t\t\t\t-73.89709926839446,\r\n",
       "\t\t\t\t\t40.855172290942875\r\n",
       "\t\t\t\t],\r\n",
       "\t\t\t\t[\r\n",
       "\t\t\t\t\t-73.89831118626606,\r\n",
       "\t\t\t\t\t40.85406115105141\r\n",
       "\t\t\t\t],\r\n",
       "\t\t\t\t[\r\n",
       "\t\t\t\t\t-73.89863543744137,\r\n",
       "\t\t\t\t\t40.8539069754361\r\n",
       "\t\t\t\t],\r\n",
       "\t\t\t\t[\r\n",
       "\t\t\t\t\t-73.89816577520747,\r\n",
       "\t\t\t\t\t40.85514637639308\r\n",
       "\t\t\t\t],\r\n",
       "\t\t\t\t[\r\n",
       "\t\t\t\t\t-73.89877598610725,\r\n",
       "\t\t\t\t\t40.85536324709642\r\n",
       "\t\t\t\t],\r\n",
       "\t\t\t\t[\r\n",
       "\t\t\t\t\t-73.89967155800208,\r\n",
       "\t\t\t\t\t40.8556689083972\r\n",
       "\t\t\t\t],\r\n",
       "\t\t\t\t[\r\n",
       "\t\t\t\t\t-73.90060386049306,\r\n",
       "\t\t\t\t\t40.855987237865136\r\n",
       "\t\t\t\t],\r\n",
       "\t\t\t\t[\r\n",
       "\t\t\t\t\t-73.90077922747537,\r\n",
       "\t\t\t\t\t40.856047109729\r\n",
       "\t\t\t\t],\r\n",
       "\t\t\t\t[\r\n",
       "\t\t\t\t\t-73.90085477134976,\r\n",
       "\t\t\t\t\t40.855937440328404\r\n",
       "\t\t\t\t],\r\n",
       "\t\t\t\t[\r\n",
       "\t\t\t\t\t-73.90116590959869,\r\n",
       "\t\t\t\t\t40.855495674561254\r\n",
       "\t\t\t\t],\r\n",
       "\t\t\t\t[\r\n",
       "\t\t\t\t\t-73.90130126562461,\r\n",
       "\t\t\t\t\t40.85530349000007\r\n",
       "\t\t\t\t],\r\n",
       "\t\t\t\t[\r\n",
       "\t\t\t\t\t-73.90153703392646,\r\n",
       "\t\t\t\t\t40.85499464378932\r\n",
       "\t\t\t\t],\r\n",
       "\t\t\t\t[\r\n",
       "\t\t\t\t\t-73.90185996053114,\r\n",
       "\t\t\t\t\t40.8545861492599\r\n",
       "\t\t\t\t],\r\n",
       "\t\t\t\t[\r\n",
       "\t\t\t\t\t-73.90208001143412,\r\n",
       "\t\t\t\t\t40.85462259970009\r\n",
       "\t\t\t\t],\r\n",
       "\t\t\t\t[\r\n",
       "\t\t\t\t\t-73.9029886459483,\r\n",
       "\t\t\t\t\t40.85477310914504\r\n",
       "\t\t\t\t],\r\n",
       "\t\t\t\t[\r\n",
       "\t\t\t\t\t-73.90395154262775,\r\n",
       "\t\t\t\t\t40.85497392301589\r\n",
       "\t\t\t\t],\r\n",
       "\t\t\t\t[\r\n",
       "\t\t\t\t\t-73.90472622214317,\r\n",
       "\t\t\t\t\t40.855370394831326\r\n",
       "\t\t\t\t],\r\n",
       "\t\t\t\t[\r\n",
       "\t\t\t\t\t-73.90557007241205,\r\n",
       "\t\t\t\t\t40.85578732289611\r\n",
       "\t\t\t\t],\r\n",
       "\t\t\t\t[\r\n",
       "\t\t\t\t\t-73.90522169962244,\r\n",
       "\t\t\t\t\t40.85620359480207\r\n",
       "\t\t\t\t],\r\n",
       "\t\t\t\t[\r\n",
       "\t\t\t\t\t-73.90508614076846,\r\n",
       "\t\t\t\t\t40.85641083070546\r\n",
       "\t\t\t\t],\r\n",
       "\t\t\t\t[\r\n",
       "\t\t\t\t\t-73.90468371344764,\r\n",
       "\t\t\t\t\t40.857060301724275\r\n",
       "\t\t\t\t],\r\n",
       "\t\t\t\t[\r\n",
       "\t\t\t\t\t-73.90565953515332,\r\n",
       "\t\t\t\t\t40.85739873466372\r\n",
       "\t\t\t\t],\r\n",
       "\t\t\t\t[\r\n",
       "\t\t\t\t\t-73.90526389216569,\r\n",
       "\t\t\t\t\t40.85804717834941\r\n",
       "\t\t\t\t],\r\n",
       "\t\t\t\t[\r\n",
       "\t\t\t\t\t-73.90486847215523,\r\n",
       "\t\t\t\t\t40.85869322470881\r\n",
       "\t\t\t\t],\r\n",
       "\t\t\t\t[\r\n",
       "\t\t\t\t\t-73.90447464104066,\r\n",
       "\t\t\t\t\t40.859341594676465\r\n",
       "\t\t\t\t],\r\n",
       "\t\t\t\t[\r\n",
       "\t\t\t\t\t-73.90408132735651,\r\n",
       "\t\t\t\t\t40.8599878475083\r\n",
       "\t\t\t\t],\r\n",
       "\t\t\t\t[\r\n",
       "\t\t\t\t\t-73.90351390564139,\r\n",
       "\t\t\t\t\t40.86091751015078\r\n",
       "\t\t\t\t],\r\n",
       "\t\t\t\t[\r\n",
       "\t\t\t\t\t-73.90254479326398,\r\n",
       "\t\t\t\t\t40.860578255335696\r\n",
       "\t\t\t\t],\r\n",
       "\t\t\t\t[\r\n",
       "\t\t\t\t\t-73.90233887221454,\r\n",
       "\t\t\t\t\t40.86095497146919\r\n",
       "\t\t\t\t],\r\n",
       "\t\t\t\t[\r\n",
       "\t\t\t\t\t-73.90211720350506,\r\n",
       "\t\t\t\t\t40.86132694802353\r\n",
       "\t\t\t\t],\r\n",
       "\t\t\t\t[\r\n",
       "\t\t\t\t\t-73.90188007349444,\r\n",
       "\t\t\t\t\t40.861693624619896\r\n",
       "\t\t\t\t],\r\n",
       "\t\t\t\t[\r\n",
       "\t\t\t\t\t-73.9016278508774,\r\n",
       "\t\t\t\t\t40.86205443458002\r\n",
       "\t\t\t\t],\r\n",
       "\t\t\t\t[\r\n",
       "\t\t\t\t\t-73.9013609036318,\r\n",
       "\t\t\t\t\t40.86240886466221\r\n",
       "\t\t\t\t],\r\n",
       "\t\t\t\t[\r\n",
       "\t\t\t\t\t-73.90107966951528,\r\n",
       "\t\t\t\t\t40.86275638342237\r\n",
       "\t\t\t\t],\r\n",
       "\t\t\t\t[\r\n",
       "\t\t\t\t\t-73.90028368104447,\r\n",
       "\t\t\t\t\t40.86247183708805\r\n",
       "\t\t\t\t],\r\n",
       "\t\t\t\t[\r\n",
       "\t\t\t\t\t-73.89996177631032,\r\n",
       "\t\t\t\t\t40.86235028002582\r\n",
       "\t\t\t\t],\r\n",
       "\t\t\t\t[\r\n",
       "\t\t\t\t\t-73.89964261686002,\r\n",
       "\t\t\t\t\t40.86221043694762\r\n",
       "\t\t\t\t],\r\n",
       "\t\t\t\t[\r\n",
       "\t\t\t\t\t-73.89943670840407,\r\n",
       "\t\t\t\t\t40.86211691206553\r\n",
       "\t\t\t\t],\r\n",
       "\t\t\t\t[\r\n",
       "\t\t\t\t\t-73.89841038406632,\r\n",
       "\t\t\t\t\t40.86229696667957\r\n",
       "\t\t\t\t],\r\n",
       "\t\t\t\t[\r\n",
       "\t\t\t\t\t-73.89798099370022,\r\n",
       "\t\t\t\t\t40.86240253986979\r\n",
       "\t\t\t\t],\r\n",
       "\t\t\t\t[\r\n",
       "\t\t\t\t\t-73.89737274791612,\r\n",
       "\t\t\t\t\t40.862432364040096\r\n",
       "\t\t\t\t],\r\n",
       "\t\t\t\t[\r\n",
       "\t\t\t\t\t-73.89714379743609,\r\n",
       "\t\t\t\t\t40.86244506515187\r\n",
       "\t\t\t\t],\r\n",
       "\t\t\t\t[\r\n",
       "\t\t\t\t\t-73.89773815441899,\r\n",
       "\t\t\t\t\t40.861351137027974\r\n",
       "\t\t\t\t],\r\n",
       "\t\t\t\t[\r\n",
       "\t\t\t\t\t-73.8980245302098,\r\n",
       "\t\t\t\t\t40.860820461119864\r\n",
       "\t\t\t\t],\r\n",
       "\t\t\t\t[\r\n",
       "\t\t\t\t\t-73.89822728963495,\r\n",
       "\t\t\t\t\t40.860448864352726\r\n",
       "\t\t\t\t],\r\n",
       "\t\t\t\t[\r\n",
       "\t\t\t\t\t-73.8982897336309,\r\n",
       "\t\t\t\t\t40.860334421461594\r\n",
       "\t\t\t\t],\r\n",
       "\t\t\t\t[\r\n",
       "\t\t\t\t\t-73.89859097184362,\r\n",
       "\t\t\t\t\t40.859766783267396\r\n",
       "\t\t\t\t],\r\n",
       "\t\t\t\t[\r\n",
       "\t\t\t\t\t-73.89880457618332,\r\n",
       "\t\t\t\t\t40.859364270993524\r\n",
       "\t\t\t\t],\r\n",
       "\t\t\t\t[\r\n",
       "\t\t\t\t\t-73.89883814571424,\r\n",
       "\t\t\t\t\t40.85930730834145\r\n",
       "\t\t\t\t],\r\n",
       "\t\t\t\t[\r\n",
       "\t\t\t\t\t-73.89866157479744,\r\n",
       "\t\t\t\t\t40.859246901796254\r\n",
       "\t\t\t\t],\r\n",
       "\t\t\t\t[\r\n",
       "\t\t\t\t\t-73.89818244709177,\r\n",
       "\t\t\t\t\t40.859083681169665\r\n",
       "\t\t\t\t],\r\n",
       "\t\t\t\t[\r\n",
       "\t\t\t\t\t-73.8973576547877,\r\n",
       "\t\t\t\t\t40.858762734927396\r\n",
       "\t\t\t\t],\r\n",
       "\t\t\t\t[\r\n",
       "\t\t\t\t\t-73.89636314517455,\r\n",
       "\t\t\t\t\t40.85837531884534\r\n",
       "\t\t\t\t],\r\n",
       "\t\t\t\t[\r\n",
       "\t\t\t\t\t-73.89573924731727,\r\n",
       "\t\t\t\t\t40.858138206765226\r\n",
       "\t\t\t\t],\r\n",
       "\t\t\t\t[\r\n",
       "\t\t\t\t\t-73.89469326407509,\r\n",
       "\t\t\t\t\t40.85942628230906\r\n",
       "\t\t\t\t],\r\n",
       "\t\t\t\t[\r\n",
       "\t\t\t\t\t-73.89381026006309,\r\n",
       "\t\t\t\t\t40.85898656513138\r\n",
       "\t\t\t\t],\r\n",
       "\t\t\t\t[\r\n",
       "\t\t\t\t\t-73.8932152075781,\r\n",
       "\t\t\t\t\t40.85987420615567\r\n",
       "\t\t\t\t],\r\n",
       "\t\t\t\t[\r\n",
       "\t\t\t\t\t-73.8925639256652,\r\n",
       "\t\t\t\t\t40.860522728915896\r\n",
       "\t\t\t\t],\r\n",
       "\t\t\t\t[\r\n",
       "\t\t\t\t\t-73.89141802424012,\r\n",
       "\t\t\t\t\t40.86166298404372\r\n",
       "\t\t\t\t],\r\n",
       "\t\t\t\t[\r\n",
       "\t\t\t\t\t-73.89138023380261,\r\n",
       "\t\t\t\t\t40.86170058826304\r\n",
       "\t\t\t\t]\r\n",
       "\t\t\t]\r\n",
       "\t\t],\r\n",
       "\t\t\"type\" : \"Polygon\"\r\n",
       "\t},\r\n",
       "\t\"name\" : \"Fordham South\"\r\n",
       "}"
      ]
     },
     "execution_count": 3,
     "metadata": {},
     "output_type": "execute_result"
    }
   ],
   "source": [
    "db.neighborhoods.findOne()"
   ]
  },
  {
   "cell_type": "code",
   "execution_count": 8,
   "metadata": {
    "slideshow": {
     "slide_type": "subslide"
    }
   },
   "outputs": [
    {
     "data": {
      "text/html": [
       "<style>a.disclosure:link{text-decoration:none;}a.disclosure:visited{text-decoration:none;}.disclosure{color:#337AB7;font-size:150%;}.syntax{color:grey;}.string{color:#9A334F;}.number{color:#5C9632;}.boolean{color:#AA9739;}.key{color:#403075;}.keyword{color:#AA9739;}.object.syntax{color:#337AB7;}.array.syntax{color:#337AB7;}></style><div id=\"2714b30d-d33f-4fc4-ad77-39a457749e85\"></div>"
      ]
     },
     "metadata": {},
     "output_type": "display_data"
    },
    {
     "data": {
      "application/javascript": [
       "require([\"https://rawgit.com/caldwell/renderjson/master/renderjson.js\"], function() {document.getElementById('2714b30d-d33f-4fc4-ad77-39a457749e85').appendChild(renderjson.set_show_to_level(2)([{\"_id\": {\"$oid\": \"55cb9c666c522cafdb053a1b\"}, \"geometry\": {\"coordinates\": [[[-73.94732672160579, 40.62916656720943], [-73.94687439946738, 40.626773668128486], [-73.94642266064318, 40.6243855672864], [-73.94542442897408, 40.624495609598185], [-73.94497031348948, 40.622104512937604], [-73.94451833370498, 40.61971364709504], [-73.94551663574785, 40.6196056119517], [-73.94651373193828, 40.61949401914993], [-73.9460669961243, 40.61710373918014], [-73.94576359491893, 40.61550406422122], [-73.94573691912028, 40.61536340675661], [-73.94657366828137, 40.61478913113749], [-73.94742608780807, 40.61422460055365], [-73.94772682569696, 40.614169716182865], [-73.94834517370118, 40.61413649663159], [-73.94930527478495, 40.614030734516], [-73.95026514882962, 40.613924351797365], [-73.94999598103774, 40.612491461663225], [-73.94996296695325, 40.61231572784935], [-73.94993049319106, 40.612144650893164], [-73.94978380450677, 40.61137175047764], [-73.95070512926118, 40.611250452224034], [-73.9516323504994, 40.6111235398617], [-73.95256553090685, 40.610987184733915], [-73.95258786948972, 40.61111223958901], [-73.95359888852907, 40.610949865606365], [-73.95479552710023, 40.610820765652555], [-73.95574066989145, 40.61071482745617], [-73.95670471406346, 40.61061187782888], [-73.95766801379433, 40.61050371521895], [-73.95804731927223, 40.610462762444214], [-73.95859278495767, 40.610403030935025], [-73.95952069567825, 40.610302052836765], [-73.96044361881539, 40.61020150680253], [-73.96137268313583, 40.610098874711596], [-73.96237947824763, 40.6099863745258], [-73.96285973961454, 40.61254948646701], [-73.9633609402326, 40.615204428336156], [-73.96356470625155, 40.61623872246746], [-73.9636224555516, 40.61658973720417], [-73.96375418658924, 40.61730243354293], [-73.96381145170662, 40.61758940154457], [-73.96388935578909, 40.61800054988432], [-73.96426798339394, 40.61998380328535], [-73.96471983385584, 40.6223729607027], [-73.9657187461846, 40.6222640294643], [-73.96664515713734, 40.622162237424746], [-73.96757137736036, 40.62206027486021], [-73.96864510622689, 40.621941695814826], [-73.96909724465462, 40.62433282513798], [-73.97019276977215, 40.62420324997415], [-73.97047171931135, 40.62417003048162], [-73.97080408232925, 40.6259326665903], [-73.97086150876679, 40.626237183335725], [-73.97092126268777, 40.626569985505505], [-73.97111421951182, 40.627585883684475], [-73.97120750524212, 40.62808971219772], [-73.97136622157025, 40.628929162715856], [-73.97109232328961, 40.62896614062419], [-73.9700010976348, 40.62911347375596], [-73.96892915890123, 40.62923162562474], [-73.96800084402989, 40.62933305821514], [-73.96707656865328, 40.62943468164793], [-73.96608191359866, 40.62954270682626], [-73.96508072828942, 40.629654675594836], [-73.96414862835245, 40.62973896556123], [-73.96322149343028, 40.62984106103682], [-73.9623259936459, 40.62996871673756], [-73.96197454283188, 40.62999504108035], [-73.96182099849077, 40.63000487740179], [-73.96163639940383, 40.63002222301838], [-73.96136921593188, 40.630058388262405], [-73.96046280639705, 40.630155661219426], [-73.96040734342054, 40.630162530576236], [-73.9602585501078, 40.62941826256536], [-73.96024902920536, 40.62937062183239], [-73.96022560057911, 40.62925450129709], [-73.96014773493862, 40.62891518541703], [-73.95995565121835, 40.627778672540586], [-73.95899416297213, 40.62788559454311], [-73.95805293146621, 40.627971118631955], [-73.95684697280593, 40.62811987905402], [-73.95581207194951, 40.62823349190697], [-73.95488499156933, 40.6283355483374], [-73.95395983418409, 40.62843938961405], [-73.95303133100138, 40.62854011509266], [-73.95206901809604, 40.628645781014725], [-73.95110641920337, 40.628750467094505], [-73.95017656950532, 40.62885277202806], [-73.94925229833629, 40.628954765326526], [-73.94832386196275, 40.62905666053273], [-73.94732672160579, 40.62916656720943]]], \"type\": \"Polygon\"}, \"name\": \"Midwood\"}]))});"
      ]
     },
     "metadata": {},
     "output_type": "display_data"
    },
    {
     "data": {
      "text/plain": [
       "{ \"_id\" : ObjectId(\"55cb9c666c522cafdb053a1b\"), \"geometry\" : { \"coordinates\" : [ [ [ -73.94732672160579, 40.62916656720943 ], [ -73.94687439946738, 40.626773668128486 ], [ -73.94642266064318, 40.6243855672864 ], [ -73.94542442897408, 40.624495609598185 ], [ -73.94497031348948, 40.622104512937604 ], [ -73.94451833370498, 40.61971364709504 ], [ -73.94551663574785, 40.6196056119517 ], [ -73.94651373193828, 40.61949401914993 ], [ -73.9460669961243, 40.61710373918014 ], [ -73.94576359491893, 40.61550406422122 ], [ -73.94573691912028, 40.61536340675661 ], [ -73.94657366828137, 40.61478913113749 ], [ -73.94742608780807, 40.61422460055365 ], [ -73.94772682569696, 40.614169716182865 ], [ -73.94834517370118, 40.61413649663159 ], [ -73.94930527478495, 40.614030734516 ], [ -73.95026514882962, 40.613924351797365 ], [ -73.94999598103774, 40.612491461663225 ], [ -73.94996296695325, 40.61231572784935 ], [ -73.94993049319106, 40.612144650893164 ], [ -73.94978380450677, 40.61137175047764 ], [ -73.95070512926118, 40.611250452224034 ], [ -73.9516323504994, 40.6111235398617 ], [ -73.95256553090685, 40.610987184733915 ], [ -73.95258786948972, 40.61111223958901 ], [ -73.95359888852907, 40.610949865606365 ], [ -73.95479552710023, 40.610820765652555 ], [ -73.95574066989145, 40.61071482745617 ], [ -73.95670471406346, 40.61061187782888 ], [ -73.95766801379433, 40.61050371521895 ], [ -73.95804731927223, 40.610462762444214 ], [ -73.95859278495767, 40.610403030935025 ], [ -73.95952069567825, 40.610302052836765 ], [ -73.96044361881539, 40.61020150680253 ], [ -73.96137268313583, 40.610098874711596 ], [ -73.96237947824763, 40.6099863745258 ], [ -73.96285973961454, 40.61254948646701 ], [ -73.9633609402326, 40.615204428336156 ], [ -73.96356470625155, 40.61623872246746 ], [ -73.9636224555516, 40.61658973720417 ], [ -73.96375418658924, 40.61730243354293 ], [ -73.96381145170662, 40.61758940154457 ], [ -73.96388935578909, 40.61800054988432 ], [ -73.96426798339394, 40.61998380328535 ], [ -73.96471983385584, 40.6223729607027 ], [ -73.9657187461846, 40.6222640294643 ], [ -73.96664515713734, 40.622162237424746 ], [ -73.96757137736036, 40.62206027486021 ], [ -73.96864510622689, 40.621941695814826 ], [ -73.96909724465462, 40.62433282513798 ], [ -73.97019276977215, 40.62420324997415 ], [ -73.97047171931135, 40.62417003048162 ], [ -73.97080408232925, 40.6259326665903 ], [ -73.97086150876679, 40.626237183335725 ], [ -73.97092126268777, 40.626569985505505 ], [ -73.97111421951182, 40.627585883684475 ], [ -73.97120750524212, 40.62808971219772 ], [ -73.97136622157025, 40.628929162715856 ], [ -73.97109232328961, 40.62896614062419 ], [ -73.9700010976348, 40.62911347375596 ], [ -73.96892915890123, 40.62923162562474 ], [ -73.96800084402989, 40.62933305821514 ], [ -73.96707656865328, 40.62943468164793 ], [ -73.96608191359866, 40.62954270682626 ], [ -73.96508072828942, 40.629654675594836 ], [ -73.96414862835245, 40.62973896556123 ], [ -73.96322149343028, 40.62984106103682 ], [ -73.9623259936459, 40.62996871673756 ], [ -73.96197454283188, 40.62999504108035 ], [ -73.96182099849077, 40.63000487740179 ], [ -73.96163639940383, 40.63002222301838 ], [ -73.96136921593188, 40.630058388262405 ], [ -73.96046280639705, 40.630155661219426 ], [ -73.96040734342054, 40.630162530576236 ], [ -73.9602585501078, 40.62941826256536 ], [ -73.96024902920536, 40.62937062183239 ], [ -73.96022560057911, 40.62925450129709 ], [ -73.96014773493862, 40.62891518541703 ], [ -73.95995565121835, 40.627778672540586 ], [ -73.95899416297213, 40.62788559454311 ], [ -73.95805293146621, 40.627971118631955 ], [ -73.95684697280593, 40.62811987905402 ], [ -73.95581207194951, 40.62823349190697 ], [ -73.95488499156933, 40.6283355483374 ], [ -73.95395983418409, 40.62843938961405 ], [ -73.95303133100138, 40.62854011509266 ], [ -73.95206901809604, 40.628645781014725 ], [ -73.95110641920337, 40.628750467094505 ], [ -73.95017656950532, 40.62885277202806 ], [ -73.94925229833629, 40.628954765326526 ], [ -73.94832386196275, 40.62905666053273 ], [ -73.94732672160579, 40.62916656720943 ] ] ], \"type\" : \"Polygon\" }, \"name\" : \"Midwood\" }"
      ]
     },
     "execution_count": 8,
     "metadata": {},
     "output_type": "execute_result"
    }
   ],
   "source": [
    "db.neighborhoods.find({name: \"Midwood\"})"
   ]
  },
  {
   "cell_type": "markdown",
   "metadata": {
    "slideshow": {
     "slide_type": "subslide"
    }
   },
   "source": [
    "## Finding a Restaurant by Location"
   ]
  },
  {
   "cell_type": "code",
   "execution_count": 4,
   "metadata": {},
   "outputs": [
    {
     "data": {
      "text/html": [
       "<style>a.disclosure:link{text-decoration:none;}a.disclosure:visited{text-decoration:none;}.disclosure{color:#337AB7;font-size:150%;}.syntax{color:grey;}.string{color:#9A334F;}.number{color:#5C9632;}.boolean{color:#AA9739;}.key{color:#403075;}.keyword{color:#AA9739;}.object.syntax{color:#337AB7;}.array.syntax{color:#337AB7;}></style><div id=\"9f90f204-55a0-4634-b699-b3795132c910\"></div>"
      ]
     },
     "metadata": {},
     "output_type": "display_data"
    },
    {
     "data": {
      "application/javascript": [
       "require([\"https://rawgit.com/caldwell/renderjson/master/renderjson.js\"], function() {document.getElementById('9f90f204-55a0-4634-b699-b3795132c910').appendChild(renderjson.set_show_to_level(2)(25359))});"
      ]
     },
     "metadata": {},
     "output_type": "display_data"
    },
    {
     "data": {
      "text/plain": [
       "25359"
      ]
     },
     "execution_count": 4,
     "metadata": {},
     "output_type": "execute_result"
    }
   ],
   "source": [
    "db.restaurants.find().count()"
   ]
  },
  {
   "cell_type": "code",
   "execution_count": 17,
   "metadata": {},
   "outputs": [
    {
     "data": {
      "text/html": [
       "<style>a.disclosure:link{text-decoration:none;}a.disclosure:visited{text-decoration:none;}.disclosure{color:#337AB7;font-size:150%;}.syntax{color:grey;}.string{color:#9A334F;}.number{color:#5C9632;}.boolean{color:#AA9739;}.key{color:#403075;}.keyword{color:#AA9739;}.object.syntax{color:#337AB7;}.array.syntax{color:#337AB7;}></style><div id=\"71b67591-b369-432e-80d6-fe34342679ab\"></div>"
      ]
     },
     "metadata": {},
     "output_type": "display_data"
    },
    {
     "data": {
      "application/javascript": [
       "require([\"https://rawgit.com/caldwell/renderjson/master/renderjson.js\"], function() {document.getElementById('71b67591-b369-432e-80d6-fe34342679ab').appendChild(renderjson.set_show_to_level(2)({\"queryPlanner\": {\"plannerVersion\": 1, \"namespace\": \"test.restaurants\", \"indexFilterSet\": false, \"parsedQuery\": {\"location.coordinates\": {\"$eq\": [-73.856077, 40.848447]}}, \"winningPlan\": {\"stage\": \"COLLSCAN\", \"filter\": {\"location.coordinates\": {\"$eq\": [-73.856077, 40.848447]}}, \"direction\": \"forward\"}, \"rejectedPlans\": []}, \"executionStats\": {\"executionSuccess\": true, \"nReturned\": 1, \"executionTimeMillis\": 12, \"totalKeysExamined\": 0, \"totalDocsExamined\": 25359, \"executionStages\": {\"stage\": \"COLLSCAN\", \"filter\": {\"location.coordinates\": {\"$eq\": [-73.856077, 40.848447]}}, \"nReturned\": 1, \"executionTimeMillisEstimate\": 0, \"works\": 25361, \"advanced\": 1, \"needTime\": 25359, \"needYield\": 0, \"saveState\": 198, \"restoreState\": 198, \"isEOF\": 1, \"invalidates\": 0, \"direction\": \"forward\", \"docsExamined\": 25359}}, \"serverInfo\": {\"host\": \"2e7905ecdfa7\", \"port\": 27017, \"version\": \"3.6.2\", \"gitVersion\": \"489d177dbd0f0420a8ca04d39fd78d0a2c539420\"}, \"ok\": 1}))});"
      ]
     },
     "metadata": {},
     "output_type": "display_data"
    },
    {
     "data": {
      "text/plain": [
       "{\r\n",
       "\t\"queryPlanner\" : {\r\n",
       "\t\t\"plannerVersion\" : 1,\r\n",
       "\t\t\"namespace\" : \"test.restaurants\",\r\n",
       "\t\t\"indexFilterSet\" : false,\r\n",
       "\t\t\"parsedQuery\" : {\r\n",
       "\t\t\t\"location.coordinates\" : {\r\n",
       "\t\t\t\t\"$eq\" : [\r\n",
       "\t\t\t\t\t-73.856077,\r\n",
       "\t\t\t\t\t40.848447\r\n",
       "\t\t\t\t]\r\n",
       "\t\t\t}\r\n",
       "\t\t},\r\n",
       "\t\t\"winningPlan\" : {\r\n",
       "\t\t\t\"stage\" : \"COLLSCAN\",\r\n",
       "\t\t\t\"filter\" : {\r\n",
       "\t\t\t\t\"location.coordinates\" : {\r\n",
       "\t\t\t\t\t\"$eq\" : [\r\n",
       "\t\t\t\t\t\t-73.856077,\r\n",
       "\t\t\t\t\t\t40.848447\r\n",
       "\t\t\t\t\t]\r\n",
       "\t\t\t\t}\r\n",
       "\t\t\t},\r\n",
       "\t\t\t\"direction\" : \"forward\"\r\n",
       "\t\t},\r\n",
       "\t\t\"rejectedPlans\" : [ ]\r\n",
       "\t},\r\n",
       "\t\"executionStats\" : {\r\n",
       "\t\t\"executionSuccess\" : true,\r\n",
       "\t\t\"nReturned\" : 1,\r\n",
       "\t\t\"executionTimeMillis\" : 12,\r\n",
       "\t\t\"totalKeysExamined\" : 0,\r\n",
       "\t\t\"totalDocsExamined\" : 25359,\r\n",
       "\t\t\"executionStages\" : {\r\n",
       "\t\t\t\"stage\" : \"COLLSCAN\",\r\n",
       "\t\t\t\"filter\" : {\r\n",
       "\t\t\t\t\"location.coordinates\" : {\r\n",
       "\t\t\t\t\t\"$eq\" : [\r\n",
       "\t\t\t\t\t\t-73.856077,\r\n",
       "\t\t\t\t\t\t40.848447\r\n",
       "\t\t\t\t\t]\r\n",
       "\t\t\t\t}\r\n",
       "\t\t\t},\r\n",
       "\t\t\t\"nReturned\" : 1,\r\n",
       "\t\t\t\"executionTimeMillisEstimate\" : 0,\r\n",
       "\t\t\t\"works\" : 25361,\r\n",
       "\t\t\t\"advanced\" : 1,\r\n",
       "\t\t\t\"needTime\" : 25359,\r\n",
       "\t\t\t\"needYield\" : 0,\r\n",
       "\t\t\t\"saveState\" : 198,\r\n",
       "\t\t\t\"restoreState\" : 198,\r\n",
       "\t\t\t\"isEOF\" : 1,\r\n",
       "\t\t\t\"invalidates\" : 0,\r\n",
       "\t\t\t\"direction\" : \"forward\",\r\n",
       "\t\t\t\"docsExamined\" : 25359\r\n",
       "\t\t}\r\n",
       "\t},\r\n",
       "\t\"serverInfo\" : {\r\n",
       "\t\t\"host\" : \"2e7905ecdfa7\",\r\n",
       "\t\t\"port\" : 27017,\r\n",
       "\t\t\"version\" : \"3.6.2\",\r\n",
       "\t\t\"gitVersion\" : \"489d177dbd0f0420a8ca04d39fd78d0a2c539420\"\r\n",
       "\t},\r\n",
       "\t\"ok\" : 1\r\n",
       "}"
      ]
     },
     "execution_count": 17,
     "metadata": {},
     "output_type": "execute_result"
    }
   ],
   "source": [
    "db.restaurants.find( { \"location.coordinates\": \n",
    "                       [-73.856077, 40.848447]\n",
    "                     }).explain(\"executionStats\")"
   ]
  },
  {
   "cell_type": "markdown",
   "metadata": {
    "slideshow": {
     "slide_type": "slide"
    }
   },
   "source": [
    "## More than just finding a precise location\n",
    "\n",
    "\n",
    "  * Find a matching polygon from point with `$geoIntersects`\n",
    "  * Find all points in a ploygon with `$geoWithin`\n",
    "  * Find all point in viccinity of another point with `$nearSphere`\n",
    "  \n",
    "All of these operations require a geospatial index on our dataset.\n",
    "\n",
    "MongoDB supports two types of spatial indexes one on spheres `2dsphere` and one one planes `2d`."
   ]
  },
  {
   "cell_type": "markdown",
   "metadata": {
    "slideshow": {
     "slide_type": "slide"
    }
   },
   "source": [
    "## Creating the Index\n",
    "\n",
    "To make this work, the geometry data in the location field must follow the GeoJSON (https://docs.mongodb.com/manual/reference/geojson/) format.\n",
    "\n",
    "#### Point\n",
    "\n",
    "```json\n",
    "{ type: \"Point\", coordinates: [ 40, 5 ] }\n",
    "```\n",
    "\n",
    "#### Polygon\n",
    "\n",
    "```json\n",
    "{\n",
    "  type: \"Polygon\",\n",
    "  coordinates: [ [ [ 0 , 0 ] , [ 3 , 6 ] , [ 6 , 1 ] , [ 0 , 0  ] ] ]\n",
    "}```"
   ]
  },
  {
   "cell_type": "code",
   "execution_count": 19,
   "metadata": {
    "slideshow": {
     "slide_type": "fragment"
    }
   },
   "outputs": [
    {
     "data": {
      "text/html": [
       "<style>a.disclosure:link{text-decoration:none;}a.disclosure:visited{text-decoration:none;}.disclosure{color:#337AB7;font-size:150%;}.syntax{color:grey;}.string{color:#9A334F;}.number{color:#5C9632;}.boolean{color:#AA9739;}.key{color:#403075;}.keyword{color:#AA9739;}.object.syntax{color:#337AB7;}.array.syntax{color:#337AB7;}></style><div id=\"c3e49417-4e2e-4f38-8ab8-016d031dd524\"></div>"
      ]
     },
     "metadata": {},
     "output_type": "display_data"
    },
    {
     "data": {
      "application/javascript": [
       "require([\"https://rawgit.com/caldwell/renderjson/master/renderjson.js\"], function() {document.getElementById('c3e49417-4e2e-4f38-8ab8-016d031dd524').appendChild(renderjson.set_show_to_level(2)({\"createdCollectionAutomatically\": false, \"numIndexesBefore\": 1, \"numIndexesAfter\": 2, \"ok\": 1}))});"
      ]
     },
     "metadata": {},
     "output_type": "display_data"
    },
    {
     "data": {
      "text/plain": [
       "{\r\n",
       "\t\"createdCollectionAutomatically\" : false,\r\n",
       "\t\"numIndexesBefore\" : 1,\r\n",
       "\t\"numIndexesAfter\" : 2,\r\n",
       "\t\"ok\" : 1\r\n",
       "}"
      ]
     },
     "execution_count": 19,
     "metadata": {},
     "output_type": "execute_result"
    }
   ],
   "source": [
    "db.restaurants.createIndex({ location: \"2dsphere\" })"
   ]
  },
  {
   "cell_type": "markdown",
   "metadata": {
    "slideshow": {
     "slide_type": "slide"
    }
   },
   "source": [
    "### A spherical index, why???\n",
    "\n",
    "Because it makes your live as programmer easier...\n",
    "\n",
    "Do you want to compute something like this for all of your queries?\n",
    "\n",
    "![](https://docs.mongodb.com/manual/_images/geospatial-spherical-square.png)"
   ]
  },
  {
   "cell_type": "markdown",
   "metadata": {
    "slideshow": {
     "slide_type": "subslide"
    }
   },
   "source": [
    "### 1. Find the a Neighborhood for Location with `$geoIntersects`"
   ]
  },
  {
   "cell_type": "code",
   "execution_count": 23,
   "metadata": {
    "slideshow": {
     "slide_type": "-"
    }
   },
   "outputs": [
    {
     "data": {
      "text/html": [
       "<style>a.disclosure:link{text-decoration:none;}a.disclosure:visited{text-decoration:none;}.disclosure{color:#337AB7;font-size:150%;}.syntax{color:grey;}.string{color:#9A334F;}.number{color:#5C9632;}.boolean{color:#AA9739;}.key{color:#403075;}.keyword{color:#AA9739;}.object.syntax{color:#337AB7;}.array.syntax{color:#337AB7;}></style><div id=\"22d64749-b4c6-4e9d-b56e-6e12e3e41c45\"></div>"
      ]
     },
     "metadata": {},
     "output_type": "display_data"
    },
    {
     "data": {
      "application/javascript": [
       "require([\"https://rawgit.com/caldwell/renderjson/master/renderjson.js\"], function() {document.getElementById('22d64749-b4c6-4e9d-b56e-6e12e3e41c45').appendChild(renderjson.set_show_to_level(2)([{\"_id\": {\"$oid\": \"55cb9c666c522cafdb053a68\"}, \"geometry\": {\"coordinates\": [[[-73.93383000695911, 40.81949109558767], [-73.93411701695138, 40.81955053491088], [-73.93431276819767, 40.81962986684897], [-73.93440040009484, 40.819667782434465], [-73.93439036753757, 40.81958743539698], [-73.93438112852347, 40.81932807562949], [-73.9342948780807, 40.81890498677685], [-73.93423576072603, 40.818649319251364], [-73.93408482013453, 40.81793086150489], [-73.9340746397773, 40.81782651394852], [-73.93412816761214, 40.8177339625139], [-73.93423519549512, 40.81755488121525], [-73.93445400138874, 40.81718852906137], [-73.93463790272767, 40.81690804797262], [-73.93487343834981, 40.8165278475176], [-73.93575548210782, 40.81532558429708], [-73.93613554330996, 40.8147881266393], [-73.93620957748075, 40.81467385042275], [-73.93668854882762, 40.81404163072326], [-73.93708163694987, 40.81350614105259], [-73.93714398424214, 40.81342104144455], [-73.93761714951756, 40.81274036483138], [-73.93813552407511, 40.812065619232335], [-73.93820642688317, 40.81196760479798], [-73.93830925043022, 40.81182546401121], [-73.93838748529838, 40.81171844357887], [-73.93863753326706, 40.81137638806709], [-73.93874394437573, 40.811230820566436], [-73.93901753314599, 40.810856556874455], [-73.93740733660461, 40.810175611401206], [-73.93580780201182, 40.80949763825762], [-73.93586263420018, 40.80943020292132], [-73.93625936035667, 40.808855608725686], [-73.93671827467928, 40.80822047872675], [-73.93718011799034, 40.80759900035796], [-73.93763439424364, 40.806974606921834], [-73.93808666916728, 40.80635301191095], [-73.93854407929403, 40.805729652932854], [-73.93869430486176, 40.80579102921082], [-73.94015793743944, 40.80640908964353], [-73.94177140170032, 40.807089000349656], [-73.94491601785558, 40.80841350378125], [-73.94499360671229, 40.80844618384186], [-73.94506102986607, 40.8084745003499], [-73.94773985453432, 40.80959972161701], [-73.94783892229975, 40.8096411278052], [-73.9479230680906, 40.809676922465236], [-73.95067975515929, 40.81084296435352], [-73.95210125149222, 40.81144285350124], [-73.95150537264615, 40.81200768463676], [-73.95098203327805, 40.81252162978943], [-73.95092865672767, 40.81257507153118], [-73.95035019142966, 40.81315938878694], [-73.94986218985588, 40.81379998043675], [-73.94962668076091, 40.81410004983843], [-73.94962653685337, 40.81410023874317], [-73.94962639580584, 40.81410043619291], [-73.94940550546026, 40.814407409502984], [-73.9491996001398, 40.81472085408311], [-73.94900927796705, 40.815039942538704], [-73.9488349125204, 40.81536398055535], [-73.94867681741437, 40.81569228551455], [-73.94835601519225, 40.816374305618886], [-73.94800732867309, 40.8171165088993], [-73.94766641252582, 40.817855509489], [-73.94734953979686, 40.81853499822355], [-73.94703623206819, 40.81920837200807], [-73.94671832033764, 40.81989426803384], [-73.9464028984772, 40.82057204218477], [-73.94607828674226, 40.82126321606192], [-73.94516004895775, 40.82087904397888], [-73.94460364603806, 40.82146198118819], [-73.9440498636813, 40.822051592105], [-73.94350594463333, 40.82262775327937], [-73.94292366912582, 40.82326058725043], [-73.9424295395631, 40.823909156935464], [-73.94195569728996, 40.82455444012053], [-73.9415031265368, 40.82517136689069], [-73.94104840809351, 40.8257926296038], [-73.94059472654726, 40.82641360402922], [-73.94013953822807, 40.82703869055559], [-73.9396895279914, 40.827656574227866], [-73.93924885616293, 40.828296351211876], [-73.93896034889055, 40.82898632996019], [-73.93864026693868, 40.82973887442052], [-73.93899743437669, 40.82988885286428], [-73.93943428772432, 40.83007611669215], [-73.93962569930143, 40.83015583738796], [-73.94017089788652, 40.83038439112869], [-73.94007905795213, 40.83046395774134], [-73.93998939894344, 40.83073096688919], [-73.93996368656906, 40.83082053430401], [-73.93996366268432, 40.83082060632692], [-73.9399239511922, 40.83090806016343], [-73.93992389241943, 40.830908177064586], [-73.93992383233875, 40.8309082768776], [-73.93987063346383, 40.83099179606697], [-73.93987057339177, 40.83099188616358], [-73.93987049016128, 40.83099197658315], [-73.9398049898395, 40.831069790159276], [-73.93980484742822, 40.831069960289355], [-73.93980468099204, 40.83107011331944], [-73.93972831443872, 40.831140898571746], [-73.9396098257029, 40.83125089467677], [-73.93960970782902, 40.831251002332976], [-73.93960960075394, 40.83125111920869], [-73.93950338652492, 40.831369460472445], [-73.9394108340693, 40.83149499458965], [-73.93941078701702, 40.83149507581406], [-73.93933313154191, 40.83162629993882], [-73.93927119324165, 40.8317616573971], [-73.93927116936439, 40.8317617200385], [-73.93927114613948, 40.8317617928992], [-73.93922536460632, 40.83189966097508], [-73.93913480796968, 40.83209759542905], [-73.93902897268019, 40.83229149797039], [-73.93894859789032, 40.832417335825774], [-73.9389083447814, 40.8324803571376], [-73.93877360195538, 40.83266321215949], [-73.93868316230177, 40.83280078941747], [-73.93862894892672, 40.83285794170846], [-73.93857474693523, 40.83291508577085], [-73.93838508900461, 40.83311350252125], [-73.93795718243024, 40.83345441842215], [-73.93729719818138, 40.83397732122566], [-73.93729666512158, 40.833977744101354], [-73.93705905884407, 40.834165988650966], [-73.93700641578684, 40.83419311017997], [-73.93649557128383, 40.83456879562555], [-73.93572624332147, 40.835156346599724], [-73.93530788003893, 40.83547772443074], [-73.93506336342621, 40.835677658809985], [-73.93496274110689, 40.83575993474983], [-73.93485740276071, 40.83598502557723], [-73.93479886277844, 40.83611011575883], [-73.93474569422972, 40.83609209412601], [-73.93467393068329, 40.8360649032391], [-73.93460027698636, 40.836096868110225], [-73.93436132705641, 40.836200775593426], [-73.93445239397373, 40.83598096014986], [-73.93456051826973, 40.83586608172802], [-73.9347546645066, 40.83558929983925], [-73.93475368707841, 40.835569821114206], [-73.93480514039258, 40.835427472645954], [-73.93481898168221, 40.83539825039465], [-73.93483181137555, 40.83538552549233], [-73.93484813571963, 40.83535143220732], [-73.93486985067804, 40.835332715131045], [-73.93489460041994, 40.83525404312231], [-73.9349153357865, 40.83523082193877], [-73.93493620828455, 40.83508021765152], [-73.93494225855345, 40.83502687541725], [-73.93495859566971, 40.834882778542124], [-73.93497941208676, 40.83478912095097], [-73.93498833140738, 40.83474865739103], [-73.9349508717846, 40.83470667336766], [-73.93495775984087, 40.83468276036334], [-73.9349652301556, 40.83465684795367], [-73.93496624164193, 40.83462912314566], [-73.93497316061229, 40.83462163453901], [-73.93497219073575, 40.834608144294975], [-73.9349938973671, 40.83459766568047], [-73.9350306032399, 40.83439236534125], [-73.93503612427712, 40.83429832034331], [-73.9350312411865, 40.8342488623469], [-73.93504212490855, 40.83421139923443], [-73.93507644502898, 40.83392404328705], [-73.93506958098244, 40.83388731750217], [-73.93508341363373, 40.8338655969296], [-73.93509687471908, 40.83371535679221], [-73.93509690469142, 40.83368463190984], [-73.93510384255589, 40.83365765691782], [-73.93511245100076, 40.83342573907345], [-73.9351174304809, 40.83337703428137], [-73.93512041704275, 40.83335380306745], [-73.93513225848743, 40.83334482290499], [-73.93512636041868, 40.833326080356244], [-73.93512935500891, 40.83329460947993], [-73.93512443552862, 40.833281118185184], [-73.93513826819081, 40.83326014375564], [-73.93513729127852, 40.83324141318857], [-73.9351304030063, 40.833228667273474], [-73.93512154973723, 40.83320169227403], [-73.93512352949863, 40.83318969900627], [-73.93511565892307, 40.83317620538069], [-73.93513243602689, 40.83316272511775], [-73.93513935847737, 40.83315149100031], [-73.93512752379405, 40.833142488809095], [-73.93512465984577, 40.833051069029295], [-73.93512171853354, 40.83302859034757], [-73.93511580946038, 40.83302184217288], [-73.93511187882301, 40.833003100729215], [-73.9351197936552, 40.832983628174176], [-73.93511783020568, 40.83296713902448], [-73.93512376770083, 40.832945412996715], [-73.93512085547363, 40.83290419576848], [-73.93513170518374, 40.832902697673674], [-73.93514455114399, 40.83288472203649], [-73.93516725294636, 40.83287499227589], [-73.9351648084094, 40.832852883264245], [-73.93515659173381, 40.83268240623723], [-73.93512878131627, 40.83236353447687], [-73.93511398341515, 40.83236577683714], [-73.9350778924617, 40.83194162361134], [-73.9350956518488, 40.83194238126701], [-73.93508783728588, 40.83185919835], [-73.93506824974105, 40.83170406762572], [-73.93502275465515, 40.83131999954984], [-73.93498505621454, 40.83102735335791], [-73.93493515655048, 40.83060244471323], [-73.93489353332376, 40.83028656383774], [-73.9348308720848, 40.82980843705177], [-73.93479881905735, 40.82979230914966], [-73.93480080676932, 40.82977283325497], [-73.93478996278796, 40.82976832407672], [-73.93479293827903, 40.829756340752134], [-73.93478111085824, 40.82974059316723], [-73.93477028229691, 40.829720361694214], [-73.93475944294427, 40.82970012100015], [-73.93476343288322, 40.82965740394856], [-73.93474372591281, 40.82963716812013], [-73.93473930830996, 40.82960906094397], [-73.93474919492779, 40.82959708136339], [-73.93473737349919, 40.82957458942519], [-73.93472260127821, 40.82955060049557], [-73.93472557699927, 40.82952736927084], [-73.93471476025762, 40.82949514407967], [-73.93470100252415, 40.82944043079997], [-73.93469412707415, 40.829416455216], [-73.93471288560723, 40.829400725442056], [-73.93470504902284, 40.8293407746905], [-73.93469321669619, 40.829328773601276], [-73.93467597101815, 40.82931340221048], [-73.93466228987832, 40.82918075994599], [-73.93468302702506, 40.829165787333515], [-73.9347076940248, 40.82915830979219], [-73.93470080780772, 40.829132073631314], [-73.93468107924859, 40.82913355777876], [-73.93467714880202, 40.82911632854787], [-73.93467025222027, 40.829112570426375], [-73.9346544761815, 40.82909757696104], [-73.93464959243246, 40.829048119407005], [-73.93466193198351, 40.82903876029445], [-73.93466295225605, 40.82901403331146], [-73.93466495971361, 40.82897356682647], [-73.9346561102258, 40.8289428363861], [-73.93465515536505, 40.82891285858107], [-73.93463641852125, 40.828906860149004], [-73.93461640343895, 40.82869365579327], [-73.93461171264785, 40.82868983525941], [-73.9346026032382, 40.8286824012377], [-73.93460883576688, 40.82866118868208], [-73.93461052506919, 40.82865543568963], [-73.93460804993306, 40.82865336301816], [-73.93460065845316, 40.82864718221304], [-73.93459873640631, 40.82860072400893], [-73.9346019211835, 40.82859254929859], [-73.93461159553205, 40.82856775518616], [-73.9346091744548, 40.82852167496809], [-73.93461017716513, 40.828502936290164], [-73.93461219001, 40.828457229149016], [-73.93460433489886, 40.82842800279464], [-73.9346073136309, 40.828401025563686], [-73.93460043185587, 40.828382282414324], [-73.93460834555331, 40.82836355753896], [-73.93459750565475, 40.82834482035352], [-73.93460048488119, 40.828328333985056], [-73.93459360040842, 40.82830135116008], [-73.93458674147796, 40.82825938499242], [-73.93459562914447, 40.82825114985731], [-73.93458676210544, 40.828238402776456], [-73.9345917047489, 40.82822716755982], [-73.9345976397154, 40.82820843167847], [-73.93458877267295, 40.828195693476445], [-73.93458684240801, 40.828156719068794], [-73.93456513010248, 40.828162704449355], [-73.93455810179866, 40.82811740277772], [-73.93454586266017, 40.82804816146416], [-73.93454230638145, 40.82802687031302], [-73.93453258880567, 40.82796855836172], [-73.93452175638055, 40.82790780009134], [-73.93453898134064, 40.827903472670705], [-73.93453183092765, 40.82784940204341], [-73.93452076528119, 40.827765689650995], [-73.93451590672417, 40.82772893075845], [-73.9344239633905, 40.82704289397212], [-73.93448291058759, 40.82703709277874], [-73.93446426549492, 40.826842205193444], [-73.93442844400516, 40.82646785059142], [-73.93436717955377, 40.82582759815849], [-73.93435643452149, 40.82582093714432], [-73.93432574289122, 40.82523259029442], [-73.93429530732776, 40.824649231222764], [-73.93429371670614, 40.82449638641463], [-73.93427285440853, 40.82443895275131], [-73.93424642895086, 40.82416688303718], [-73.93421834803296, 40.8237990457901], [-73.93416594530659, 40.82307858087094], [-73.93414657666992, 40.82302903205041], [-73.93414604382139, 40.82302061918035], [-73.93413373625339, 40.82280065597678], [-73.93412126165074, 40.822647252741696], [-73.93411752612663, 40.82252433268843], [-73.9341023336635, 40.82220121691671], [-73.9340998673827, 40.8221399123411], [-73.93409843799961, 40.822104227343814], [-73.9340911251742, 40.82199603748752], [-73.93407944723481, 40.82180557579623], [-73.93407434354855, 40.82171709911024], [-73.93407734095156, 40.82169456177001], [-73.93407005522697, 40.82155932093417], [-73.93404447476466, 40.82117670357437], [-73.93404599779085, 40.82113387652021], [-73.93403560443227, 40.82095254677987], [-73.93402662334586, 40.820816809752856], [-73.93400389615744, 40.820397839681526], [-73.93400069207455, 40.82033819717466], [-73.93398295705481, 40.8199999202017], [-73.93398664640615, 40.819968034725136], [-73.93397241531086, 40.819729574765596], [-73.93383009163725, 40.81971974292704], [-73.9338307684026, 40.81959665747723], [-73.93383000695911, 40.81949109558767]]], \"type\": \"Polygon\"}, \"name\": \"Central Harlem North-Polo Grounds\"}]))});"
      ]
     },
     "metadata": {},
     "output_type": "display_data"
    },
    {
     "data": {
      "text/plain": [
       "{ \"_id\" : ObjectId(\"55cb9c666c522cafdb053a68\"), \"geometry\" : { \"coordinates\" : [ [ [ -73.93383000695911, 40.81949109558767 ], [ -73.93411701695138, 40.81955053491088 ], [ -73.93431276819767, 40.81962986684897 ], [ -73.93440040009484, 40.819667782434465 ], [ -73.93439036753757, 40.81958743539698 ], [ -73.93438112852347, 40.81932807562949 ], [ -73.9342948780807, 40.81890498677685 ], [ -73.93423576072603, 40.818649319251364 ], [ -73.93408482013453, 40.81793086150489 ], [ -73.9340746397773, 40.81782651394852 ], [ -73.93412816761214, 40.8177339625139 ], [ -73.93423519549512, 40.81755488121525 ], [ -73.93445400138874, 40.81718852906137 ], [ -73.93463790272767, 40.81690804797262 ], [ -73.93487343834981, 40.8165278475176 ], [ -73.93575548210782, 40.81532558429708 ], [ -73.93613554330996, 40.8147881266393 ], [ -73.93620957748075, 40.81467385042275 ], [ -73.93668854882762, 40.81404163072326 ], [ -73.93708163694987, 40.81350614105259 ], [ -73.93714398424214, 40.81342104144455 ], [ -73.93761714951756, 40.81274036483138 ], [ -73.93813552407511, 40.812065619232335 ], [ -73.93820642688317, 40.81196760479798 ], [ -73.93830925043022, 40.81182546401121 ], [ -73.93838748529838, 40.81171844357887 ], [ -73.93863753326706, 40.81137638806709 ], [ -73.93874394437573, 40.811230820566436 ], [ -73.93901753314599, 40.810856556874455 ], [ -73.93740733660461, 40.810175611401206 ], [ -73.93580780201182, 40.80949763825762 ], [ -73.93586263420018, 40.80943020292132 ], [ -73.93625936035667, 40.808855608725686 ], [ -73.93671827467928, 40.80822047872675 ], [ -73.93718011799034, 40.80759900035796 ], [ -73.93763439424364, 40.806974606921834 ], [ -73.93808666916728, 40.80635301191095 ], [ -73.93854407929403, 40.805729652932854 ], [ -73.93869430486176, 40.80579102921082 ], [ -73.94015793743944, 40.80640908964353 ], [ -73.94177140170032, 40.807089000349656 ], [ -73.94491601785558, 40.80841350378125 ], [ -73.94499360671229, 40.80844618384186 ], [ -73.94506102986607, 40.8084745003499 ], [ -73.94773985453432, 40.80959972161701 ], [ -73.94783892229975, 40.8096411278052 ], [ -73.9479230680906, 40.809676922465236 ], [ -73.95067975515929, 40.81084296435352 ], [ -73.95210125149222, 40.81144285350124 ], [ -73.95150537264615, 40.81200768463676 ], [ -73.95098203327805, 40.81252162978943 ], [ -73.95092865672767, 40.81257507153118 ], [ -73.95035019142966, 40.81315938878694 ], [ -73.94986218985588, 40.81379998043675 ], [ -73.94962668076091, 40.81410004983843 ], [ -73.94962653685337, 40.81410023874317 ], [ -73.94962639580584, 40.81410043619291 ], [ -73.94940550546026, 40.814407409502984 ], [ -73.9491996001398, 40.81472085408311 ], [ -73.94900927796705, 40.815039942538704 ], [ -73.9488349125204, 40.81536398055535 ], [ -73.94867681741437, 40.81569228551455 ], [ -73.94835601519225, 40.816374305618886 ], [ -73.94800732867309, 40.8171165088993 ], [ -73.94766641252582, 40.817855509489 ], [ -73.94734953979686, 40.81853499822355 ], [ -73.94703623206819, 40.81920837200807 ], [ -73.94671832033764, 40.81989426803384 ], [ -73.9464028984772, 40.82057204218477 ], [ -73.94607828674226, 40.82126321606192 ], [ -73.94516004895775, 40.82087904397888 ], [ -73.94460364603806, 40.82146198118819 ], [ -73.9440498636813, 40.822051592105 ], [ -73.94350594463333, 40.82262775327937 ], [ -73.94292366912582, 40.82326058725043 ], [ -73.9424295395631, 40.823909156935464 ], [ -73.94195569728996, 40.82455444012053 ], [ -73.9415031265368, 40.82517136689069 ], [ -73.94104840809351, 40.8257926296038 ], [ -73.94059472654726, 40.82641360402922 ], [ -73.94013953822807, 40.82703869055559 ], [ -73.9396895279914, 40.827656574227866 ], [ -73.93924885616293, 40.828296351211876 ], [ -73.93896034889055, 40.82898632996019 ], [ -73.93864026693868, 40.82973887442052 ], [ -73.93899743437669, 40.82988885286428 ], [ -73.93943428772432, 40.83007611669215 ], [ -73.93962569930143, 40.83015583738796 ], [ -73.94017089788652, 40.83038439112869 ], [ -73.94007905795213, 40.83046395774134 ], [ -73.93998939894344, 40.83073096688919 ], [ -73.93996368656906, 40.83082053430401 ], [ -73.93996366268432, 40.83082060632692 ], [ -73.9399239511922, 40.83090806016343 ], [ -73.93992389241943, 40.830908177064586 ], [ -73.93992383233875, 40.8309082768776 ], [ -73.93987063346383, 40.83099179606697 ], [ -73.93987057339177, 40.83099188616358 ], [ -73.93987049016128, 40.83099197658315 ], [ -73.9398049898395, 40.831069790159276 ], [ -73.93980484742822, 40.831069960289355 ], [ -73.93980468099204, 40.83107011331944 ], [ -73.93972831443872, 40.831140898571746 ], [ -73.9396098257029, 40.83125089467677 ], [ -73.93960970782902, 40.831251002332976 ], [ -73.93960960075394, 40.83125111920869 ], [ -73.93950338652492, 40.831369460472445 ], [ -73.9394108340693, 40.83149499458965 ], [ -73.93941078701702, 40.83149507581406 ], [ -73.93933313154191, 40.83162629993882 ], [ -73.93927119324165, 40.8317616573971 ], [ -73.93927116936439, 40.8317617200385 ], [ -73.93927114613948, 40.8317617928992 ], [ -73.93922536460632, 40.83189966097508 ], [ -73.93913480796968, 40.83209759542905 ], [ -73.93902897268019, 40.83229149797039 ], [ -73.93894859789032, 40.832417335825774 ], [ -73.9389083447814, 40.8324803571376 ], [ -73.93877360195538, 40.83266321215949 ], [ -73.93868316230177, 40.83280078941747 ], [ -73.93862894892672, 40.83285794170846 ], [ -73.93857474693523, 40.83291508577085 ], [ -73.93838508900461, 40.83311350252125 ], [ -73.93795718243024, 40.83345441842215 ], [ -73.93729719818138, 40.83397732122566 ], [ -73.93729666512158, 40.833977744101354 ], [ -73.93705905884407, 40.834165988650966 ], [ -73.93700641578684, 40.83419311017997 ], [ -73.93649557128383, 40.83456879562555 ], [ -73.93572624332147, 40.835156346599724 ], [ -73.93530788003893, 40.83547772443074 ], [ -73.93506336342621, 40.835677658809985 ], [ -73.93496274110689, 40.83575993474983 ], [ -73.93485740276071, 40.83598502557723 ], [ -73.93479886277844, 40.83611011575883 ], [ -73.93474569422972, 40.83609209412601 ], [ -73.93467393068329, 40.8360649032391 ], [ -73.93460027698636, 40.836096868110225 ], [ -73.93436132705641, 40.836200775593426 ], [ -73.93445239397373, 40.83598096014986 ], [ -73.93456051826973, 40.83586608172802 ], [ -73.9347546645066, 40.83558929983925 ], [ -73.93475368707841, 40.835569821114206 ], [ -73.93480514039258, 40.835427472645954 ], [ -73.93481898168221, 40.83539825039465 ], [ -73.93483181137555, 40.83538552549233 ], [ -73.93484813571963, 40.83535143220732 ], [ -73.93486985067804, 40.835332715131045 ], [ -73.93489460041994, 40.83525404312231 ], [ -73.9349153357865, 40.83523082193877 ], [ -73.93493620828455, 40.83508021765152 ], [ -73.93494225855345, 40.83502687541725 ], [ -73.93495859566971, 40.834882778542124 ], [ -73.93497941208676, 40.83478912095097 ], [ -73.93498833140738, 40.83474865739103 ], [ -73.9349508717846, 40.83470667336766 ], [ -73.93495775984087, 40.83468276036334 ], [ -73.9349652301556, 40.83465684795367 ], [ -73.93496624164193, 40.83462912314566 ], [ -73.93497316061229, 40.83462163453901 ], [ -73.93497219073575, 40.834608144294975 ], [ -73.9349938973671, 40.83459766568047 ], [ -73.9350306032399, 40.83439236534125 ], [ -73.93503612427712, 40.83429832034331 ], [ -73.9350312411865, 40.8342488623469 ], [ -73.93504212490855, 40.83421139923443 ], [ -73.93507644502898, 40.83392404328705 ], [ -73.93506958098244, 40.83388731750217 ], [ -73.93508341363373, 40.8338655969296 ], [ -73.93509687471908, 40.83371535679221 ], [ -73.93509690469142, 40.83368463190984 ], [ -73.93510384255589, 40.83365765691782 ], [ -73.93511245100076, 40.83342573907345 ], [ -73.9351174304809, 40.83337703428137 ], [ -73.93512041704275, 40.83335380306745 ], [ -73.93513225848743, 40.83334482290499 ], [ -73.93512636041868, 40.833326080356244 ], [ -73.93512935500891, 40.83329460947993 ], [ -73.93512443552862, 40.833281118185184 ], [ -73.93513826819081, 40.83326014375564 ], [ -73.93513729127852, 40.83324141318857 ], [ -73.9351304030063, 40.833228667273474 ], [ -73.93512154973723, 40.83320169227403 ], [ -73.93512352949863, 40.83318969900627 ], [ -73.93511565892307, 40.83317620538069 ], [ -73.93513243602689, 40.83316272511775 ], [ -73.93513935847737, 40.83315149100031 ], [ -73.93512752379405, 40.833142488809095 ], [ -73.93512465984577, 40.833051069029295 ], [ -73.93512171853354, 40.83302859034757 ], [ -73.93511580946038, 40.83302184217288 ], [ -73.93511187882301, 40.833003100729215 ], [ -73.9351197936552, 40.832983628174176 ], [ -73.93511783020568, 40.83296713902448 ], [ -73.93512376770083, 40.832945412996715 ], [ -73.93512085547363, 40.83290419576848 ], [ -73.93513170518374, 40.832902697673674 ], [ -73.93514455114399, 40.83288472203649 ], [ -73.93516725294636, 40.83287499227589 ], [ -73.9351648084094, 40.832852883264245 ], [ -73.93515659173381, 40.83268240623723 ], [ -73.93512878131627, 40.83236353447687 ], [ -73.93511398341515, 40.83236577683714 ], [ -73.9350778924617, 40.83194162361134 ], [ -73.9350956518488, 40.83194238126701 ], [ -73.93508783728588, 40.83185919835 ], [ -73.93506824974105, 40.83170406762572 ], [ -73.93502275465515, 40.83131999954984 ], [ -73.93498505621454, 40.83102735335791 ], [ -73.93493515655048, 40.83060244471323 ], [ -73.93489353332376, 40.83028656383774 ], [ -73.9348308720848, 40.82980843705177 ], [ -73.93479881905735, 40.82979230914966 ], [ -73.93480080676932, 40.82977283325497 ], [ -73.93478996278796, 40.82976832407672 ], [ -73.93479293827903, 40.829756340752134 ], [ -73.93478111085824, 40.82974059316723 ], [ -73.93477028229691, 40.829720361694214 ], [ -73.93475944294427, 40.82970012100015 ], [ -73.93476343288322, 40.82965740394856 ], [ -73.93474372591281, 40.82963716812013 ], [ -73.93473930830996, 40.82960906094397 ], [ -73.93474919492779, 40.82959708136339 ], [ -73.93473737349919, 40.82957458942519 ], [ -73.93472260127821, 40.82955060049557 ], [ -73.93472557699927, 40.82952736927084 ], [ -73.93471476025762, 40.82949514407967 ], [ -73.93470100252415, 40.82944043079997 ], [ -73.93469412707415, 40.829416455216 ], [ -73.93471288560723, 40.829400725442056 ], [ -73.93470504902284, 40.8293407746905 ], [ -73.93469321669619, 40.829328773601276 ], [ -73.93467597101815, 40.82931340221048 ], [ -73.93466228987832, 40.82918075994599 ], [ -73.93468302702506, 40.829165787333515 ], [ -73.9347076940248, 40.82915830979219 ], [ -73.93470080780772, 40.829132073631314 ], [ -73.93468107924859, 40.82913355777876 ], [ -73.93467714880202, 40.82911632854787 ], [ -73.93467025222027, 40.829112570426375 ], [ -73.9346544761815, 40.82909757696104 ], [ -73.93464959243246, 40.829048119407005 ], [ -73.93466193198351, 40.82903876029445 ], [ -73.93466295225605, 40.82901403331146 ], [ -73.93466495971361, 40.82897356682647 ], [ -73.9346561102258, 40.8289428363861 ], [ -73.93465515536505, 40.82891285858107 ], [ -73.93463641852125, 40.828906860149004 ], [ -73.93461640343895, 40.82869365579327 ], [ -73.93461171264785, 40.82868983525941 ], [ -73.9346026032382, 40.8286824012377 ], [ -73.93460883576688, 40.82866118868208 ], [ -73.93461052506919, 40.82865543568963 ], [ -73.93460804993306, 40.82865336301816 ], [ -73.93460065845316, 40.82864718221304 ], [ -73.93459873640631, 40.82860072400893 ], [ -73.9346019211835, 40.82859254929859 ], [ -73.93461159553205, 40.82856775518616 ], [ -73.9346091744548, 40.82852167496809 ], [ -73.93461017716513, 40.828502936290164 ], [ -73.93461219001, 40.828457229149016 ], [ -73.93460433489886, 40.82842800279464 ], [ -73.9346073136309, 40.828401025563686 ], [ -73.93460043185587, 40.828382282414324 ], [ -73.93460834555331, 40.82836355753896 ], [ -73.93459750565475, 40.82834482035352 ], [ -73.93460048488119, 40.828328333985056 ], [ -73.93459360040842, 40.82830135116008 ], [ -73.93458674147796, 40.82825938499242 ], [ -73.93459562914447, 40.82825114985731 ], [ -73.93458676210544, 40.828238402776456 ], [ -73.9345917047489, 40.82822716755982 ], [ -73.9345976397154, 40.82820843167847 ], [ -73.93458877267295, 40.828195693476445 ], [ -73.93458684240801, 40.828156719068794 ], [ -73.93456513010248, 40.828162704449355 ], [ -73.93455810179866, 40.82811740277772 ], [ -73.93454586266017, 40.82804816146416 ], [ -73.93454230638145, 40.82802687031302 ], [ -73.93453258880567, 40.82796855836172 ], [ -73.93452175638055, 40.82790780009134 ], [ -73.93453898134064, 40.827903472670705 ], [ -73.93453183092765, 40.82784940204341 ], [ -73.93452076528119, 40.827765689650995 ], [ -73.93451590672417, 40.82772893075845 ], [ -73.9344239633905, 40.82704289397212 ], [ -73.93448291058759, 40.82703709277874 ], [ -73.93446426549492, 40.826842205193444 ], [ -73.93442844400516, 40.82646785059142 ], [ -73.93436717955377, 40.82582759815849 ], [ -73.93435643452149, 40.82582093714432 ], [ -73.93432574289122, 40.82523259029442 ], [ -73.93429530732776, 40.824649231222764 ], [ -73.93429371670614, 40.82449638641463 ], [ -73.93427285440853, 40.82443895275131 ], [ -73.93424642895086, 40.82416688303718 ], [ -73.93421834803296, 40.8237990457901 ], [ -73.93416594530659, 40.82307858087094 ], [ -73.93414657666992, 40.82302903205041 ], [ -73.93414604382139, 40.82302061918035 ], [ -73.93413373625339, 40.82280065597678 ], [ -73.93412126165074, 40.822647252741696 ], [ -73.93411752612663, 40.82252433268843 ], [ -73.9341023336635, 40.82220121691671 ], [ -73.9340998673827, 40.8221399123411 ], [ -73.93409843799961, 40.822104227343814 ], [ -73.9340911251742, 40.82199603748752 ], [ -73.93407944723481, 40.82180557579623 ], [ -73.93407434354855, 40.82171709911024 ], [ -73.93407734095156, 40.82169456177001 ], [ -73.93407005522697, 40.82155932093417 ], [ -73.93404447476466, 40.82117670357437 ], [ -73.93404599779085, 40.82113387652021 ], [ -73.93403560443227, 40.82095254677987 ], [ -73.93402662334586, 40.820816809752856 ], [ -73.93400389615744, 40.820397839681526 ], [ -73.93400069207455, 40.82033819717466 ], [ -73.93398295705481, 40.8199999202017 ], [ -73.93398664640615, 40.819968034725136 ], [ -73.93397241531086, 40.819729574765596 ], [ -73.93383009163725, 40.81971974292704 ], [ -73.9338307684026, 40.81959665747723 ], [ -73.93383000695911, 40.81949109558767 ] ] ], \"type\" : \"Polygon\" }, \"name\" : \"Central Harlem North-Polo Grounds\" }"
      ]
     },
     "execution_count": 23,
     "metadata": {},
     "output_type": "execute_result"
    }
   ],
   "source": [
    "db.neighborhoods.findOne({ geometry: { \n",
    "                             $geoIntersects: { \n",
    "                               $geometry: { \n",
    "                                 type: \"Point\", \n",
    "                                 coordinates: [ -73.93414657, 40.82302903 ] \n",
    "                               } \n",
    "                             } \n",
    "                            } \n",
    "                          })"
   ]
  },
  {
   "cell_type": "markdown",
   "metadata": {
    "slideshow": {
     "slide_type": "subslide"
    }
   },
   "source": [
    "### 2. Find all Points in a Polygon with `$geoWithin`"
   ]
  },
  {
   "cell_type": "code",
   "execution_count": 6,
   "metadata": {},
   "outputs": [
    {
     "data": {
      "text/html": [
       "<style>a.disclosure:link{text-decoration:none;}a.disclosure:visited{text-decoration:none;}.disclosure{color:#337AB7;font-size:150%;}.syntax{color:grey;}.string{color:#9A334F;}.number{color:#5C9632;}.boolean{color:#AA9739;}.key{color:#403075;}.keyword{color:#AA9739;}.object.syntax{color:#337AB7;}.array.syntax{color:#337AB7;}></style><div id=\"fd414bed-ee9a-4509-8ff3-de2ed5f46c2f\"></div>"
      ]
     },
     "metadata": {},
     "output_type": "display_data"
    },
    {
     "data": {
      "application/javascript": [
       "require([\"https://rawgit.com/caldwell/renderjson/master/renderjson.js\"], function() {document.getElementById('fd414bed-ee9a-4509-8ff3-de2ed5f46c2f').appendChild(renderjson.set_show_to_level(2)([{\"_id\": {\"$oid\": \"55cba2476c522cafdb057f93\"}, \"location\": {\"coordinates\": [-73.93781899999999, 40.8073089], \"type\": \"Point\"}, \"name\": \"Perfect Taste\"}, {\"_id\": {\"$oid\": \"55cba2476c522cafdb058b1a\"}, \"location\": {\"coordinates\": [-73.943046, 40.807862], \"type\": \"Point\"}, \"name\": \"Event Productions Catering & Food Services\"}, {\"_id\": {\"$oid\": \"55cba2476c522cafdb054824\"}, \"location\": {\"coordinates\": [-73.9446889, 40.8087276], \"type\": \"Point\"}, \"name\": \"Sylvia'S Restaurant\"}, {\"_id\": {\"$oid\": \"55cba2476c522cafdb0576a9\"}, \"location\": {\"coordinates\": [-73.9450154, 40.808573], \"type\": \"Point\"}, \"name\": \"Corner Social\"}, {\"_id\": {\"$oid\": \"55cba2476c522cafdb0576c1\"}, \"location\": {\"coordinates\": [-73.9449154, 40.8086991], \"type\": \"Point\"}, \"name\": \"Cove Lounge\"}, {\"_id\": {\"$oid\": \"55cba2476c522cafdb056a56\"}, \"location\": {\"coordinates\": [-73.9508604, 40.8111432], \"type\": \"Point\"}, \"name\": \"Manna'S Restaurant\"}, {\"_id\": {\"$oid\": \"55cba2476c522cafdb0548db\"}, \"location\": {\"coordinates\": [-73.9503386, 40.8116759], \"type\": \"Point\"}, \"name\": \"Harlem Bar-B-Q\"}, {\"_id\": {\"$oid\": \"55cba2476c522cafdb05488c\"}, \"location\": {\"coordinates\": [-73.949938, 40.812365], \"type\": \"Point\"}, \"name\": \"Hong Cheong\"}, {\"_id\": {\"$oid\": \"55cba2486c522cafdb059376\"}, \"location\": {\"coordinates\": [-73.948542, 40.814343], \"type\": \"Point\"}, \"name\": \"Lighthouse Fishmarket\"}, {\"_id\": {\"$oid\": \"55cba2486c522cafdb0592dd\"}, \"location\": {\"coordinates\": [-73.948343, 40.8145609], \"type\": \"Point\"}, \"name\": \"Mahalaxmi Food Inc\"}, {\"_id\": {\"$oid\": \"55cba2486c522cafdb0599ce\"}, \"location\": {\"coordinates\": [-73.94826669999999, 40.814616], \"type\": \"Point\"}, \"name\": \"Rose Seeds\"}, {\"_id\": {\"$oid\": \"55cba2476c522cafdb058263\"}, \"location\": {\"coordinates\": [-73.9478824, 40.8151724], \"type\": \"Point\"}, \"name\": \"J. Restaurant\"}, {\"_id\": {\"$oid\": \"55cba2486c522cafdb059d5e\"}, \"location\": {\"coordinates\": [-73.946651, 40.816918], \"type\": \"Point\"}, \"name\": \"Harlem Coral Llc\"}, {\"_id\": {\"$oid\": \"55cba2476c522cafdb0556ec\"}, \"location\": {\"coordinates\": [-73.9462197, 40.8169283], \"type\": \"Point\"}, \"name\": \"Baraka Buffet\"}, {\"_id\": {\"$oid\": \"55cba2476c522cafdb054556\"}, \"location\": {\"coordinates\": [-73.9420895, 40.8181467], \"type\": \"Point\"}, \"name\": \"Make My Cake\"}, {\"_id\": {\"$oid\": \"55cba2486c522cafdb0597a9\"}, \"location\": {\"coordinates\": [-73.9422781, 40.8178187], \"type\": \"Point\"}, \"name\": \"Hyacinth Haven Harlem\"}, {\"_id\": {\"$oid\": \"55cba2476c522cafdb053fec\"}, \"location\": {\"coordinates\": [-73.9419869, 40.8175016], \"type\": \"Point\"}, \"name\": \"Mcdonald'S\"}, {\"_id\": {\"$oid\": \"55cba2476c522cafdb054e73\"}, \"location\": {\"coordinates\": [-73.9419869, 40.8175016], \"type\": \"Point\"}, \"name\": \"Ihop\"}, {\"_id\": {\"$oid\": \"55cba2476c522cafdb05922f\"}, \"location\": {\"coordinates\": [-73.9421715, 40.8172179], \"type\": \"Point\"}, \"name\": \"Island Spice And Southern Cuisine\"}, {\"_id\": {\"$oid\": \"55cba2486c522cafdb059767\"}, \"location\": {\"coordinates\": [-73.94301899999999, 40.816936], \"type\": \"Point\"}, \"name\": \"To Your Health & Happiness\"}]))});"
      ]
     },
     "metadata": {},
     "output_type": "display_data"
    },
    {
     "data": {
      "text/plain": [
       "{ \"_id\" : ObjectId(\"55cba2476c522cafdb057f93\"), \"location\" : { \"coordinates\" : [ -73.93781899999999, 40.8073089 ], \"type\" : \"Point\" }, \"name\" : \"Perfect Taste\" }\r\n",
       "{ \"_id\" : ObjectId(\"55cba2476c522cafdb058b1a\"), \"location\" : { \"coordinates\" : [ -73.943046, 40.807862 ], \"type\" : \"Point\" }, \"name\" : \"Event Productions Catering & Food Services\" }\r\n",
       "{ \"_id\" : ObjectId(\"55cba2476c522cafdb054824\"), \"location\" : { \"coordinates\" : [ -73.9446889, 40.8087276 ], \"type\" : \"Point\" }, \"name\" : \"Sylvia'S Restaurant\" }\r\n",
       "{ \"_id\" : ObjectId(\"55cba2476c522cafdb0576a9\"), \"location\" : { \"coordinates\" : [ -73.9450154, 40.808573 ], \"type\" : \"Point\" }, \"name\" : \"Corner Social\" }\r\n",
       "{ \"_id\" : ObjectId(\"55cba2476c522cafdb0576c1\"), \"location\" : { \"coordinates\" : [ -73.9449154, 40.8086991 ], \"type\" : \"Point\" }, \"name\" : \"Cove Lounge\" }\r\n",
       "{ \"_id\" : ObjectId(\"55cba2476c522cafdb056a56\"), \"location\" : { \"coordinates\" : [ -73.9508604, 40.8111432 ], \"type\" : \"Point\" }, \"name\" : \"Manna'S Restaurant\" }\r\n",
       "{ \"_id\" : ObjectId(\"55cba2476c522cafdb0548db\"), \"location\" : { \"coordinates\" : [ -73.9503386, 40.8116759 ], \"type\" : \"Point\" }, \"name\" : \"Harlem Bar-B-Q\" }\r\n",
       "{ \"_id\" : ObjectId(\"55cba2476c522cafdb05488c\"), \"location\" : { \"coordinates\" : [ -73.949938, 40.812365 ], \"type\" : \"Point\" }, \"name\" : \"Hong Cheong\" }\r\n",
       "{ \"_id\" : ObjectId(\"55cba2486c522cafdb059376\"), \"location\" : { \"coordinates\" : [ -73.948542, 40.814343 ], \"type\" : \"Point\" }, \"name\" : \"Lighthouse Fishmarket\" }\r\n",
       "{ \"_id\" : ObjectId(\"55cba2486c522cafdb0592dd\"), \"location\" : { \"coordinates\" : [ -73.948343, 40.8145609 ], \"type\" : \"Point\" }, \"name\" : \"Mahalaxmi Food Inc\" }\r\n",
       "{ \"_id\" : ObjectId(\"55cba2486c522cafdb0599ce\"), \"location\" : { \"coordinates\" : [ -73.94826669999999, 40.814616 ], \"type\" : \"Point\" }, \"name\" : \"Rose Seeds\" }\r\n",
       "{ \"_id\" : ObjectId(\"55cba2476c522cafdb058263\"), \"location\" : { \"coordinates\" : [ -73.9478824, 40.8151724 ], \"type\" : \"Point\" }, \"name\" : \"J. Restaurant\" }\r\n",
       "{ \"_id\" : ObjectId(\"55cba2486c522cafdb059d5e\"), \"location\" : { \"coordinates\" : [ -73.946651, 40.816918 ], \"type\" : \"Point\" }, \"name\" : \"Harlem Coral Llc\" }\r\n",
       "{ \"_id\" : ObjectId(\"55cba2476c522cafdb0556ec\"), \"location\" : { \"coordinates\" : [ -73.9462197, 40.8169283 ], \"type\" : \"Point\" }, \"name\" : \"Baraka Buffet\" }\r\n",
       "{ \"_id\" : ObjectId(\"55cba2476c522cafdb054556\"), \"location\" : { \"coordinates\" : [ -73.9420895, 40.8181467 ], \"type\" : \"Point\" }, \"name\" : \"Make My Cake\" }\r\n",
       "{ \"_id\" : ObjectId(\"55cba2486c522cafdb0597a9\"), \"location\" : { \"coordinates\" : [ -73.9422781, 40.8178187 ], \"type\" : \"Point\" }, \"name\" : \"Hyacinth Haven Harlem\" }\r\n",
       "{ \"_id\" : ObjectId(\"55cba2476c522cafdb053fec\"), \"location\" : { \"coordinates\" : [ -73.9419869, 40.8175016 ], \"type\" : \"Point\" }, \"name\" : \"Mcdonald'S\" }\r\n",
       "{ \"_id\" : ObjectId(\"55cba2476c522cafdb054e73\"), \"location\" : { \"coordinates\" : [ -73.9419869, 40.8175016 ], \"type\" : \"Point\" }, \"name\" : \"Ihop\" }\r\n",
       "{ \"_id\" : ObjectId(\"55cba2476c522cafdb05922f\"), \"location\" : { \"coordinates\" : [ -73.9421715, 40.8172179 ], \"type\" : \"Point\" }, \"name\" : \"Island Spice And Southern Cuisine\" }\r\n",
       "{ \"_id\" : ObjectId(\"55cba2486c522cafdb059767\"), \"location\" : { \"coordinates\" : [ -73.94301899999999, 40.816936 ], \"type\" : \"Point\" }, \"name\" : \"To Your Health & Happiness\" }\r\n",
       "Type \"it\" for more"
      ]
     },
     "execution_count": 6,
     "metadata": {},
     "output_type": "execute_result"
    }
   ],
   "source": [
    "var whereAmI = { geometry: \n",
    "                   { $geoIntersects: \n",
    "                     { $geometry: \n",
    "                       { type: \"Point\", \n",
    "                         coordinates: [ -73.93414657, 40.82302903 ] \n",
    "                       } \n",
    "                     } \n",
    "                   } \n",
    "               };\n",
    "var neighborhood = db.neighborhoods.findOne( whereAmI );\n",
    "var doc2 = { location: \n",
    "             { $geoWithin: \n",
    "               { $geometry: neighborhood.geometry } \n",
    "             } \n",
    "           };\n",
    "db.restaurants.find( doc2 )"
   ]
  },
  {
   "cell_type": "markdown",
   "metadata": {
    "slideshow": {
     "slide_type": "subslide"
    }
   },
   "source": [
    "![](https://docs.mongodb.com/manual/_images/geospatial-all-restaurants.png) "
   ]
  },
  {
   "cell_type": "markdown",
   "metadata": {
    "slideshow": {
     "slide_type": "subslide"
    }
   },
   "source": [
    "### 3. Find Points in Viccinity with `$geoWithin` and `$nearSphere`\n",
    "\n",
    "\n",
    "The following query shows all restaurants within 500m distance to the given location.\n",
    "\n",
    "See more for convertion of units https://docs.mongodb.com/manual/tutorial/calculate-distances-using-spherical-geometry-with-2d-geospatial-indexes/.\n",
    "\n",
    "Keep in mind that the following query returns the matching locations unordered."
   ]
  },
  {
   "cell_type": "code",
   "execution_count": 10,
   "metadata": {
    "slideshow": {
     "slide_type": "fragment"
    }
   },
   "outputs": [
    {
     "data": {
      "text/html": [
       "<style>a.disclosure:link{text-decoration:none;}a.disclosure:visited{text-decoration:none;}.disclosure{color:#337AB7;font-size:150%;}.syntax{color:grey;}.string{color:#9A334F;}.number{color:#5C9632;}.boolean{color:#AA9739;}.key{color:#403075;}.keyword{color:#AA9739;}.object.syntax{color:#337AB7;}.array.syntax{color:#337AB7;}></style><div id=\"c5c33eb9-8cdf-4d85-b0b5-fcc74f01d065\"></div>"
      ]
     },
     "metadata": {},
     "output_type": "display_data"
    },
    {
     "data": {
      "application/javascript": [
       "require([\"https://rawgit.com/caldwell/renderjson/master/renderjson.js\"], function() {document.getElementById('c5c33eb9-8cdf-4d85-b0b5-fcc74f01d065').appendChild(renderjson.set_show_to_level(2)([{\"_id\": {\"$oid\": \"55cba2476c522cafdb056b6a\"}, \"location\": {\"coordinates\": [-73.93011659999999, 40.8219403], \"type\": \"Point\"}, \"name\": \"Applebee'S Neighborhood Grill & Bar\"}, {\"_id\": {\"$oid\": \"55cba2476c522cafdb0578b3\"}, \"location\": {\"coordinates\": [-73.93011659999999, 40.8219403], \"type\": \"Point\"}, \"name\": \"Marisco Centro Seafood Restaurant  & Bar\"}, {\"_id\": {\"$oid\": \"55cba2476c522cafdb058c83\"}, \"location\": {\"coordinates\": [-73.9316894, 40.8231974], \"type\": \"Point\"}, \"name\": \"Gotham Stadium Tennis Center Cafe\"}, {\"_id\": {\"$oid\": \"55cba2476c522cafdb058c63\"}, \"location\": {\"coordinates\": [-73.9303724, 40.8234978], \"type\": \"Point\"}, \"name\": \"Chuck E. Cheese'S\"}, {\"_id\": {\"$oid\": \"55cba2476c522cafdb056b96\"}, \"location\": {\"coordinates\": [-73.9308109, 40.82594580000001], \"type\": \"Point\"}, \"name\": \"Dunkin Donuts (Inside Gulf Gas Station On North Side Of Maj. Deegan Exwy- After Exit 13 - 233 St.)\"}, {\"_id\": {\"$oid\": \"55cba2476c522cafdb05814c\"}, \"location\": {\"coordinates\": [-73.9367511, 40.8198978], \"type\": \"Point\"}, \"name\": \"Sweet Mama'S Soul Food\"}, {\"_id\": {\"$oid\": \"55cba2476c522cafdb0574cd\"}, \"location\": {\"coordinates\": [-73.9365102, 40.8202205], \"type\": \"Point\"}, \"name\": \"Kentucky Fried Chicken\"}, {\"_id\": {\"$oid\": \"55cba2476c522cafdb05476a\"}, \"location\": {\"coordinates\": [-73.9365637, 40.8201488], \"type\": \"Point\"}, \"name\": \"Papa John'S\"}, {\"_id\": {\"$oid\": \"55cba2486c522cafdb059a11\"}, \"location\": {\"coordinates\": [-73.9365637, 40.8201488], \"type\": \"Point\"}, \"name\": \"Jimbo'S Hamburgers\"}, {\"_id\": {\"$oid\": \"55cba2476c522cafdb054e83\"}, \"location\": {\"coordinates\": [-73.9373291, 40.8206458], \"type\": \"Point\"}, \"name\": \"Dunkin Donuts\"}, {\"_id\": {\"$oid\": \"55cba2476c522cafdb05615f\"}, \"location\": {\"coordinates\": [-73.9373291, 40.8206458], \"type\": \"Point\"}, \"name\": \"King'S Pizza\"}, {\"_id\": {\"$oid\": \"55cba2476c522cafdb058dfc\"}, \"location\": {\"coordinates\": [-73.9370572, 40.8206095], \"type\": \"Point\"}, \"name\": \"108 Fast Food Corp\"}, {\"_id\": {\"$oid\": \"55cba2476c522cafdb0548e0\"}, \"location\": {\"coordinates\": [-73.9381738, 40.8224212], \"type\": \"Point\"}, \"name\": \"Red Star Chinese Restaurant\"}, {\"_id\": {\"$oid\": \"55cba2476c522cafdb057d52\"}, \"location\": {\"coordinates\": [-73.9385009, 40.8222455], \"type\": \"Point\"}, \"name\": \"United Fried Chicken\"}, {\"_id\": {\"$oid\": \"55cba2476c522cafdb0580a7\"}, \"location\": {\"coordinates\": [-73.938599, 40.82211110000001], \"type\": \"Point\"}, \"name\": \"Home Garden Chinese Restaurant\"}, {\"_id\": {\"$oid\": \"55cba2476c522cafdb0587d9\"}, \"location\": {\"coordinates\": [-73.9394446, 40.8215751], \"type\": \"Point\"}, \"name\": \"Cea-Lo Cafe\"}, {\"_id\": {\"$oid\": \"55cba2476c522cafdb05667c\"}, \"location\": {\"coordinates\": [-73.93951050000001, 40.821488], \"type\": \"Point\"}, \"name\": \"Little Ochie Jamaican Cuisine\"}, {\"_id\": {\"$oid\": \"55cba2476c522cafdb056b0c\"}, \"location\": {\"coordinates\": [-73.939145, 40.8213757], \"type\": \"Point\"}, \"name\": \"Ho Lee Chinese Restaurant\"}, {\"_id\": {\"$oid\": \"55cba2476c522cafdb056ffd\"}, \"location\": {\"coordinates\": [-73.939159, 40.8216897], \"type\": \"Point\"}, \"name\": \"Reggae Sun Delights Natural Juice Bar\"}, {\"_id\": {\"$oid\": \"55cba2486c522cafdb059617\"}, \"location\": {\"coordinates\": [-73.9396354, 40.8220958], \"type\": \"Point\"}, \"name\": \"Ivory D O S  Inc\"}]))});"
      ]
     },
     "metadata": {},
     "output_type": "display_data"
    },
    {
     "data": {
      "text/plain": [
       "{ \"_id\" : ObjectId(\"55cba2476c522cafdb056b6a\"), \"location\" : { \"coordinates\" : [ -73.93011659999999, 40.8219403 ], \"type\" : \"Point\" }, \"name\" : \"Applebee'S Neighborhood Grill & Bar\" }\r\n",
       "{ \"_id\" : ObjectId(\"55cba2476c522cafdb0578b3\"), \"location\" : { \"coordinates\" : [ -73.93011659999999, 40.8219403 ], \"type\" : \"Point\" }, \"name\" : \"Marisco Centro Seafood Restaurant  & Bar\" }\r\n",
       "{ \"_id\" : ObjectId(\"55cba2476c522cafdb058c83\"), \"location\" : { \"coordinates\" : [ -73.9316894, 40.8231974 ], \"type\" : \"Point\" }, \"name\" : \"Gotham Stadium Tennis Center Cafe\" }\r\n",
       "{ \"_id\" : ObjectId(\"55cba2476c522cafdb058c63\"), \"location\" : { \"coordinates\" : [ -73.9303724, 40.8234978 ], \"type\" : \"Point\" }, \"name\" : \"Chuck E. Cheese'S\" }\r\n",
       "{ \"_id\" : ObjectId(\"55cba2476c522cafdb056b96\"), \"location\" : { \"coordinates\" : [ -73.9308109, 40.82594580000001 ], \"type\" : \"Point\" }, \"name\" : \"Dunkin Donuts (Inside Gulf Gas Station On North Side Of Maj. Deegan Exwy- After Exit 13 - 233 St.)\" }\r\n",
       "{ \"_id\" : ObjectId(\"55cba2476c522cafdb05814c\"), \"location\" : { \"coordinates\" : [ -73.9367511, 40.8198978 ], \"type\" : \"Point\" }, \"name\" : \"Sweet Mama'S Soul Food\" }\r\n",
       "{ \"_id\" : ObjectId(\"55cba2476c522cafdb0574cd\"), \"location\" : { \"coordinates\" : [ -73.9365102, 40.8202205 ], \"type\" : \"Point\" }, \"name\" : \"Kentucky Fried Chicken\" }\r\n",
       "{ \"_id\" : ObjectId(\"55cba2476c522cafdb05476a\"), \"location\" : { \"coordinates\" : [ -73.9365637, 40.8201488 ], \"type\" : \"Point\" }, \"name\" : \"Papa John'S\" }\r\n",
       "{ \"_id\" : ObjectId(\"55cba2486c522cafdb059a11\"), \"location\" : { \"coordinates\" : [ -73.9365637, 40.8201488 ], \"type\" : \"Point\" }, \"name\" : \"Jimbo'S Hamburgers\" }\r\n",
       "{ \"_id\" : ObjectId(\"55cba2476c522cafdb054e83\"), \"location\" : { \"coordinates\" : [ -73.9373291, 40.8206458 ], \"type\" : \"Point\" }, \"name\" : \"Dunkin Donuts\" }\r\n",
       "{ \"_id\" : ObjectId(\"55cba2476c522cafdb05615f\"), \"location\" : { \"coordinates\" : [ -73.9373291, 40.8206458 ], \"type\" : \"Point\" }, \"name\" : \"King'S Pizza\" }\r\n",
       "{ \"_id\" : ObjectId(\"55cba2476c522cafdb058dfc\"), \"location\" : { \"coordinates\" : [ -73.9370572, 40.8206095 ], \"type\" : \"Point\" }, \"name\" : \"108 Fast Food Corp\" }\r\n",
       "{ \"_id\" : ObjectId(\"55cba2476c522cafdb0548e0\"), \"location\" : { \"coordinates\" : [ -73.9381738, 40.8224212 ], \"type\" : \"Point\" }, \"name\" : \"Red Star Chinese Restaurant\" }\r\n",
       "{ \"_id\" : ObjectId(\"55cba2476c522cafdb057d52\"), \"location\" : { \"coordinates\" : [ -73.9385009, 40.8222455 ], \"type\" : \"Point\" }, \"name\" : \"United Fried Chicken\" }\r\n",
       "{ \"_id\" : ObjectId(\"55cba2476c522cafdb0580a7\"), \"location\" : { \"coordinates\" : [ -73.938599, 40.82211110000001 ], \"type\" : \"Point\" }, \"name\" : \"Home Garden Chinese Restaurant\" }\r\n",
       "{ \"_id\" : ObjectId(\"55cba2476c522cafdb0587d9\"), \"location\" : { \"coordinates\" : [ -73.9394446, 40.8215751 ], \"type\" : \"Point\" }, \"name\" : \"Cea-Lo Cafe\" }\r\n",
       "{ \"_id\" : ObjectId(\"55cba2476c522cafdb05667c\"), \"location\" : { \"coordinates\" : [ -73.93951050000001, 40.821488 ], \"type\" : \"Point\" }, \"name\" : \"Little Ochie Jamaican Cuisine\" }\r\n",
       "{ \"_id\" : ObjectId(\"55cba2476c522cafdb056b0c\"), \"location\" : { \"coordinates\" : [ -73.939145, 40.8213757 ], \"type\" : \"Point\" }, \"name\" : \"Ho Lee Chinese Restaurant\" }\r\n",
       "{ \"_id\" : ObjectId(\"55cba2476c522cafdb056ffd\"), \"location\" : { \"coordinates\" : [ -73.939159, 40.8216897 ], \"type\" : \"Point\" }, \"name\" : \"Reggae Sun Delights Natural Juice Bar\" }\r\n",
       "{ \"_id\" : ObjectId(\"55cba2486c522cafdb059617\"), \"location\" : { \"coordinates\" : [ -73.9396354, 40.8220958 ], \"type\" : \"Point\" }, \"name\" : \"Ivory D O S  Inc\" }\r\n",
       "Type \"it\" for more"
      ]
     },
     "execution_count": 10,
     "metadata": {},
     "output_type": "execute_result"
    }
   ],
   "source": [
    "db.restaurants.find({ location:\n",
    "                      { $geoWithin:\n",
    "                        { $centerSphere: [ \n",
    "                          [ -73.93414657, 40.82302903 ], \n",
    "                          500 / 6378100.0 ] } \n",
    "                        } \n",
    "                    })"
   ]
  },
  {
   "cell_type": "markdown",
   "metadata": {
    "slideshow": {
     "slide_type": "subslide"
    }
   },
   "source": [
    "The `$nearSphere` operator returns the matching locations in sorted order from nearest to farthest.\n",
    "\n",
    "`$maxDistance` and `$minDistance` are specified in meters."
   ]
  },
  {
   "cell_type": "code",
   "execution_count": 7,
   "metadata": {
    "slideshow": {
     "slide_type": "fragment"
    }
   },
   "outputs": [
    {
     "data": {
      "text/html": [
       "<style>a.disclosure:link{text-decoration:none;}a.disclosure:visited{text-decoration:none;}.disclosure{color:#337AB7;font-size:150%;}.syntax{color:grey;}.string{color:#9A334F;}.number{color:#5C9632;}.boolean{color:#AA9739;}.key{color:#403075;}.keyword{color:#AA9739;}.object.syntax{color:#337AB7;}.array.syntax{color:#337AB7;}></style><div id=\"c50a7299-cd6d-40aa-961a-a39f71c7c088\"></div>"
      ]
     },
     "metadata": {},
     "output_type": "display_data"
    },
    {
     "data": {
      "application/javascript": [
       "require([\"https://rawgit.com/caldwell/renderjson/master/renderjson.js\"], function() {document.getElementById('c50a7299-cd6d-40aa-961a-a39f71c7c088').appendChild(renderjson.set_show_to_level(2)([{\"_id\": {\"$oid\": \"55cba2476c522cafdb058c83\"}, \"location\": {\"coordinates\": [-73.9316894, 40.8231974], \"type\": \"Point\"}, \"name\": \"Gotham Stadium Tennis Center Cafe\"}, {\"_id\": {\"$oid\": \"55cba2476c522cafdb05864b\"}, \"location\": {\"coordinates\": [-73.9378967, 40.823448], \"type\": \"Point\"}, \"name\": \"Tia Melli'S Latin Kitchen\"}, {\"_id\": {\"$oid\": \"55cba2476c522cafdb058c63\"}, \"location\": {\"coordinates\": [-73.9303724, 40.8234978], \"type\": \"Point\"}, \"name\": \"Chuck E. Cheese'S\"}, {\"_id\": {\"$oid\": \"55cba2476c522cafdb0550aa\"}, \"location\": {\"coordinates\": [-73.93795159999999, 40.823376], \"type\": \"Point\"}, \"name\": \"Domino'S Pizza\"}, {\"_id\": {\"$oid\": \"55cba2476c522cafdb0548e0\"}, \"location\": {\"coordinates\": [-73.9381738, 40.8224212], \"type\": \"Point\"}, \"name\": \"Red Star Chinese Restaurant\"}, {\"_id\": {\"$oid\": \"55cba2476c522cafdb0578b3\"}, \"location\": {\"coordinates\": [-73.93011659999999, 40.8219403], \"type\": \"Point\"}, \"name\": \"Marisco Centro Seafood Restaurant  & Bar\"}, {\"_id\": {\"$oid\": \"55cba2476c522cafdb056b6a\"}, \"location\": {\"coordinates\": [-73.93011659999999, 40.8219403], \"type\": \"Point\"}, \"name\": \"Applebee'S Neighborhood Grill & Bar\"}, {\"_id\": {\"$oid\": \"55cba2476c522cafdb058dfc\"}, \"location\": {\"coordinates\": [-73.9370572, 40.8206095], \"type\": \"Point\"}, \"name\": \"108 Fast Food Corp\"}, {\"_id\": {\"$oid\": \"55cba2476c522cafdb0574cd\"}, \"location\": {\"coordinates\": [-73.9365102, 40.8202205], \"type\": \"Point\"}, \"name\": \"Kentucky Fried Chicken\"}, {\"_id\": {\"$oid\": \"55cba2476c522cafdb057d52\"}, \"location\": {\"coordinates\": [-73.9385009, 40.8222455], \"type\": \"Point\"}, \"name\": \"United Fried Chicken\"}, {\"_id\": {\"$oid\": \"55cba2476c522cafdb054e83\"}, \"location\": {\"coordinates\": [-73.9373291, 40.8206458], \"type\": \"Point\"}, \"name\": \"Dunkin Donuts\"}, {\"_id\": {\"$oid\": \"55cba2476c522cafdb05615f\"}, \"location\": {\"coordinates\": [-73.9373291, 40.8206458], \"type\": \"Point\"}, \"name\": \"King'S Pizza\"}, {\"_id\": {\"$oid\": \"55cba2476c522cafdb05476a\"}, \"location\": {\"coordinates\": [-73.9365637, 40.8201488], \"type\": \"Point\"}, \"name\": \"Papa John'S\"}, {\"_id\": {\"$oid\": \"55cba2486c522cafdb059a11\"}, \"location\": {\"coordinates\": [-73.9365637, 40.8201488], \"type\": \"Point\"}, \"name\": \"Jimbo'S Hamburgers\"}, {\"_id\": {\"$oid\": \"55cba2476c522cafdb0580a7\"}, \"location\": {\"coordinates\": [-73.938599, 40.82211110000001], \"type\": \"Point\"}, \"name\": \"Home Garden Chinese Restaurant\"}, {\"_id\": {\"$oid\": \"55cba2476c522cafdb05814c\"}, \"location\": {\"coordinates\": [-73.9367511, 40.8198978], \"type\": \"Point\"}, \"name\": \"Sweet Mama'S Soul Food\"}, {\"_id\": {\"$oid\": \"55cba2476c522cafdb056b96\"}, \"location\": {\"coordinates\": [-73.9308109, 40.82594580000001], \"type\": \"Point\"}, \"name\": \"Dunkin Donuts (Inside Gulf Gas Station On North Side Of Maj. Deegan Exwy- After Exit 13 - 233 St.)\"}, {\"_id\": {\"$oid\": \"55cba2476c522cafdb056ffd\"}, \"location\": {\"coordinates\": [-73.939159, 40.8216897], \"type\": \"Point\"}, \"name\": \"Reggae Sun Delights Natural Juice Bar\"}, {\"_id\": {\"$oid\": \"55cba2476c522cafdb056b0c\"}, \"location\": {\"coordinates\": [-73.939145, 40.8213757], \"type\": \"Point\"}, \"name\": \"Ho Lee Chinese Restaurant\"}, {\"_id\": {\"$oid\": \"55cba2486c522cafdb059617\"}, \"location\": {\"coordinates\": [-73.9396354, 40.8220958], \"type\": \"Point\"}, \"name\": \"Ivory D O S  Inc\"}]))});"
      ]
     },
     "metadata": {},
     "output_type": "display_data"
    },
    {
     "data": {
      "text/plain": [
       "{ \"_id\" : ObjectId(\"55cba2476c522cafdb058c83\"), \"location\" : { \"coordinates\" : [ -73.9316894, 40.8231974 ], \"type\" : \"Point\" }, \"name\" : \"Gotham Stadium Tennis Center Cafe\" }\r\n",
       "{ \"_id\" : ObjectId(\"55cba2476c522cafdb05864b\"), \"location\" : { \"coordinates\" : [ -73.9378967, 40.823448 ], \"type\" : \"Point\" }, \"name\" : \"Tia Melli'S Latin Kitchen\" }\r\n",
       "{ \"_id\" : ObjectId(\"55cba2476c522cafdb058c63\"), \"location\" : { \"coordinates\" : [ -73.9303724, 40.8234978 ], \"type\" : \"Point\" }, \"name\" : \"Chuck E. Cheese'S\" }\r\n",
       "{ \"_id\" : ObjectId(\"55cba2476c522cafdb0550aa\"), \"location\" : { \"coordinates\" : [ -73.93795159999999, 40.823376 ], \"type\" : \"Point\" }, \"name\" : \"Domino'S Pizza\" }\r\n",
       "{ \"_id\" : ObjectId(\"55cba2476c522cafdb0548e0\"), \"location\" : { \"coordinates\" : [ -73.9381738, 40.8224212 ], \"type\" : \"Point\" }, \"name\" : \"Red Star Chinese Restaurant\" }\r\n",
       "{ \"_id\" : ObjectId(\"55cba2476c522cafdb0578b3\"), \"location\" : { \"coordinates\" : [ -73.93011659999999, 40.8219403 ], \"type\" : \"Point\" }, \"name\" : \"Marisco Centro Seafood Restaurant  & Bar\" }\r\n",
       "{ \"_id\" : ObjectId(\"55cba2476c522cafdb056b6a\"), \"location\" : { \"coordinates\" : [ -73.93011659999999, 40.8219403 ], \"type\" : \"Point\" }, \"name\" : \"Applebee'S Neighborhood Grill & Bar\" }\r\n",
       "{ \"_id\" : ObjectId(\"55cba2476c522cafdb058dfc\"), \"location\" : { \"coordinates\" : [ -73.9370572, 40.8206095 ], \"type\" : \"Point\" }, \"name\" : \"108 Fast Food Corp\" }\r\n",
       "{ \"_id\" : ObjectId(\"55cba2476c522cafdb0574cd\"), \"location\" : { \"coordinates\" : [ -73.9365102, 40.8202205 ], \"type\" : \"Point\" }, \"name\" : \"Kentucky Fried Chicken\" }\r\n",
       "{ \"_id\" : ObjectId(\"55cba2476c522cafdb057d52\"), \"location\" : { \"coordinates\" : [ -73.9385009, 40.8222455 ], \"type\" : \"Point\" }, \"name\" : \"United Fried Chicken\" }\r\n",
       "{ \"_id\" : ObjectId(\"55cba2476c522cafdb054e83\"), \"location\" : { \"coordinates\" : [ -73.9373291, 40.8206458 ], \"type\" : \"Point\" }, \"name\" : \"Dunkin Donuts\" }\r\n",
       "{ \"_id\" : ObjectId(\"55cba2476c522cafdb05615f\"), \"location\" : { \"coordinates\" : [ -73.9373291, 40.8206458 ], \"type\" : \"Point\" }, \"name\" : \"King'S Pizza\" }\r\n",
       "{ \"_id\" : ObjectId(\"55cba2476c522cafdb05476a\"), \"location\" : { \"coordinates\" : [ -73.9365637, 40.8201488 ], \"type\" : \"Point\" }, \"name\" : \"Papa John'S\" }\r\n",
       "{ \"_id\" : ObjectId(\"55cba2486c522cafdb059a11\"), \"location\" : { \"coordinates\" : [ -73.9365637, 40.8201488 ], \"type\" : \"Point\" }, \"name\" : \"Jimbo'S Hamburgers\" }\r\n",
       "{ \"_id\" : ObjectId(\"55cba2476c522cafdb0580a7\"), \"location\" : { \"coordinates\" : [ -73.938599, 40.82211110000001 ], \"type\" : \"Point\" }, \"name\" : \"Home Garden Chinese Restaurant\" }\r\n",
       "{ \"_id\" : ObjectId(\"55cba2476c522cafdb05814c\"), \"location\" : { \"coordinates\" : [ -73.9367511, 40.8198978 ], \"type\" : \"Point\" }, \"name\" : \"Sweet Mama'S Soul Food\" }\r\n",
       "{ \"_id\" : ObjectId(\"55cba2476c522cafdb056b96\"), \"location\" : { \"coordinates\" : [ -73.9308109, 40.82594580000001 ], \"type\" : \"Point\" }, \"name\" : \"Dunkin Donuts (Inside Gulf Gas Station On North Side Of Maj. Deegan Exwy- After Exit 13 - 233 St.)\" }\r\n",
       "{ \"_id\" : ObjectId(\"55cba2476c522cafdb056ffd\"), \"location\" : { \"coordinates\" : [ -73.939159, 40.8216897 ], \"type\" : \"Point\" }, \"name\" : \"Reggae Sun Delights Natural Juice Bar\" }\r\n",
       "{ \"_id\" : ObjectId(\"55cba2476c522cafdb056b0c\"), \"location\" : { \"coordinates\" : [ -73.939145, 40.8213757 ], \"type\" : \"Point\" }, \"name\" : \"Ho Lee Chinese Restaurant\" }\r\n",
       "{ \"_id\" : ObjectId(\"55cba2486c522cafdb059617\"), \"location\" : { \"coordinates\" : [ -73.9396354, 40.8220958 ], \"type\" : \"Point\" }, \"name\" : \"Ivory D O S  Inc\" }\r\n",
       "Type \"it\" for more"
      ]
     },
     "execution_count": 7,
     "metadata": {},
     "output_type": "execute_result"
    }
   ],
   "source": [
    "db.restaurants.find({ location: \n",
    "                      { $nearSphere: \n",
    "                        { $geometry: \n",
    "                          { type: \"Point\", \n",
    "                            coordinates: [ -73.93414657, 40.82302903 ] \n",
    "                          }, \n",
    "                        $maxDistance: 500 } } })"
   ]
  },
  {
   "cell_type": "markdown",
   "metadata": {
    "slideshow": {
     "slide_type": "subslide"
    }
   },
   "source": [
    "## References\n",
    "\n",
    "  * https://docs.mongodb.com/manual/tutorial/geospatial-tutorial/\n",
    "  "
   ]
  },
  {
   "cell_type": "markdown",
   "metadata": {
    "slideshow": {
     "slide_type": "subslide"
    }
   },
   "source": [
    "# Your Turn!\n",
    "\n",
    "\n",
    "![](http://www.twenty19.com/blog/wp-content/uploads/2017/07/typing2.gif)\n",
    "\n",
    "\n",
    "Try it on your own. Import the cities file that you need for your project, e.g.,\n",
    "\n",
    "  * http://download.geonames.org/export/dump/cities15000.zip   \n",
    "  * http://download.geonames.org/export/dump/cities5000.zip \n",
    "  * http://download.geonames.org/export/dump/cities1000.zip \n",
    "\n",
    "and create a geospatial index, so that you can find all cities, which are in 50 kilometers distance of Copenhagen `(55.67594, 12.56553)` for example."
   ]
  },
  {
   "cell_type": "markdown",
   "metadata": {
    "slideshow": {
     "slide_type": "slide"
    }
   },
   "source": [
    "# Data Modeling Concepts\n",
    "\n",
    "  > Database schema design is the process of choosing the best representation for a data set, given the features of the database system, the nature of the data, and the application requirements.\n",
    "  >\n",
    "  > _MongoDB in Action_\n",
    "\n",
    "  > The key challenge in data modeling is balancing the needs of the application, the performance characteristics of the database engine, and the data retrieval patterns. When designing data models, always consider the application usage of the data (i.e. queries, updates, and processing of the data) as well as the inherent structure of the data itself.\n",
    "  >\n",
    "  > https://docs.mongodb.com/manual/core/data-modeling-introduction/\n",
    "  \n"
   ]
  },
  {
   "cell_type": "markdown",
   "metadata": {
    "slideshow": {
     "slide_type": "subslide"
    }
   },
   "source": [
    "## Embedded Data Models - Embedded Documents\n",
    "\n",
    "![](https://docs.mongodb.com/manual/_images/data-model-denormalized.bakedsvg.svg)\n",
    "\n",
    "Use embedded data models for:\n",
    "\n",
    "  * modeling _contains_ relationships between entities.\n",
    "  * modeling _one-to-many_ relationships between entities."
   ]
  },
  {
   "cell_type": "markdown",
   "metadata": {
    "slideshow": {
     "slide_type": "subslide"
    }
   },
   "source": [
    "## Normalized Data Models - References\n",
    "\n",
    "![](https://docs.mongodb.com/manual/_images/data-model-normalized.bakedsvg.svg)\n",
    "\n",
    "Use normalized data models:\n",
    "\n",
    "  * when _embedding_ would result in duplication of data but would not provide sufficient read performance advantages to outweigh the implications of the duplication.\n",
    "  * to model large _hierarchical data sets_\n",
    "\n",
    "https://docs.mongodb.com/manual/core/data-model-design/"
   ]
  },
  {
   "cell_type": "markdown",
   "metadata": {
    "slideshow": {
     "slide_type": "subslide"
    }
   },
   "source": [
    "### What to consider under data modelling\n",
    "\n",
    "  * Atomicity of Write Operations\n",
    "  * Document Growth\n",
    "  * Data Use and Performance\n",
    "  * Document Growth \n",
    "  * Indexes\n",
    "  * Collection Contains Large Number of Small Documents\n",
    "  * Data Lifecycle Management\n",
    "  * Sharding\n",
    "\n",
    "https://docs.mongodb.com/manual/core/data-model-operations/"
   ]
  },
  {
   "cell_type": "markdown",
   "metadata": {
    "slideshow": {
     "slide_type": "subslide"
    }
   },
   "source": [
    "## Sharding?\n",
    "\n",
    "![](https://docs.mongodb.com/manual/_images/sharding-range-based.bakedsvg.svg)"
   ]
  },
  {
   "cell_type": "markdown",
   "metadata": {
    "slideshow": {
     "slide_type": "slide"
    }
   },
   "source": [
    "## Data Model Examples and Patterns\n",
    "\n",
    "### Model Relationships Between Documents"
   ]
  },
  {
   "cell_type": "markdown",
   "metadata": {
    "slideshow": {
     "slide_type": "subslide"
    }
   },
   "source": [
    "#### One-to-One Relationships with Embedded Documents\n",
    "\n",
    "```json\n",
    "{\n",
    "   _id: \"joe\",\n",
    "   name: \"Joe Bookreader\"\n",
    "}\n",
    "\n",
    "{\n",
    "   patron_id: \"joe\",\n",
    "   street: \"123 Fake Street\",\n",
    "   city: \"Faketon\",\n",
    "   state: \"MA\",\n",
    "   zip: \"12345\"\n",
    "}\n",
    "```\n",
    "\n",
    "\n",
    "```json\n",
    "{\n",
    "   _id: \"joe\",\n",
    "   name: \"Joe Bookreader\",\n",
    "   address: {\n",
    "              street: \"123 Fake Street\",\n",
    "              city: \"Faketon\",\n",
    "              state: \"MA\",\n",
    "              zip: \"12345\"\n",
    "            }\n",
    "}\n",
    "```"
   ]
  },
  {
   "cell_type": "markdown",
   "metadata": {
    "slideshow": {
     "slide_type": "subslide"
    }
   },
   "source": [
    "#### One-to-Many Relationships with Embedded Documents\n",
    "\n",
    "```json\n",
    "{\n",
    "   _id: \"joe\",\n",
    "   name: \"Joe Bookreader\"\n",
    "}\n",
    "```\n",
    "\n",
    "```json\n",
    "{\n",
    "   patron_id: \"joe\",\n",
    "   street: \"123 Fake Street\",\n",
    "   city: \"Faketon\",\n",
    "   state: \"MA\",\n",
    "   zip: \"12345\"\n",
    "}\n",
    "```\n",
    "\n",
    "```json\n",
    "{\n",
    "   patron_id: \"joe\",\n",
    "   street: \"1 Some Other Street\",\n",
    "   city: \"Boston\",\n",
    "   state: \"MA\",\n",
    "   zip: \"12345\"\n",
    "}\n",
    "```"
   ]
  },
  {
   "cell_type": "markdown",
   "metadata": {
    "slideshow": {
     "slide_type": "subslide"
    }
   },
   "source": [
    "#### One-to-Many Relationships with Embedded Documents II\n",
    "\n",
    "\n",
    "```json\n",
    "{\n",
    "   _id: \"joe\",\n",
    "   name: \"Joe Bookreader\",\n",
    "   addresses: [\n",
    "                {\n",
    "                  street: \"123 Fake Street\",\n",
    "                  city: \"Faketon\",\n",
    "                  state: \"MA\",\n",
    "                  zip: \"12345\"\n",
    "                },\n",
    "                {\n",
    "                  street: \"1 Some Other Street\",\n",
    "                  city: \"Boston\",\n",
    "                  state: \"MA\",\n",
    "                  zip: \"12345\"\n",
    "                }\n",
    "              ]\n",
    " }\n",
    " ```"
   ]
  },
  {
   "cell_type": "markdown",
   "metadata": {
    "slideshow": {
     "slide_type": "subslide"
    }
   },
   "source": [
    "#### One-to-Many Relationships with Document References\n",
    "\n",
    "```json\n",
    "{\n",
    "   title: \"MongoDB: The Definitive Guide\",\n",
    "   author: [ \"Kristina Chodorow\", \"Mike Dirolf\" ],\n",
    "   published_date: ISODate(\"2010-09-24\"),\n",
    "   pages: 216,\n",
    "   language: \"English\",\n",
    "   publisher: {\n",
    "              name: \"O'Reilly Media\",\n",
    "              founded: 1980,\n",
    "              location: \"CA\"\n",
    "            }\n",
    "}\n",
    "```\n",
    "\n",
    "```json\n",
    "{\n",
    "   title: \"50 Tips and Tricks for MongoDB Developer\",\n",
    "   author: \"Kristina Chodorow\",\n",
    "   published_date: ISODate(\"2011-05-06\"),\n",
    "   pages: 68,\n",
    "   language: \"English\",\n",
    "   publisher: {\n",
    "              name: \"O'Reilly Media\",\n",
    "              founded: 1980,\n",
    "              location: \"CA\"\n",
    "            }\n",
    "}\n",
    "```"
   ]
  },
  {
   "cell_type": "markdown",
   "metadata": {
    "slideshow": {
     "slide_type": "subslide"
    }
   },
   "source": [
    "#### One-to-Many Relationships with Document References II\n",
    "\n",
    "```json\n",
    "{\n",
    "   name: \"O'Reilly Media\",\n",
    "   founded: 1980,\n",
    "   location: \"CA\",\n",
    "   books: [123456789, 234567890, ...]\n",
    "}\n",
    "\n",
    "{\n",
    "    _id: 123456789,\n",
    "    title: \"MongoDB: The Definitive Guide\",\n",
    "    author: [ \"Kristina Chodorow\", \"Mike Dirolf\" ],\n",
    "    published_date: ISODate(\"2010-09-24\"),\n",
    "    pages: 216,\n",
    "    language: \"English\"\n",
    "}\n",
    "\n",
    "{\n",
    "   _id: 234567890,\n",
    "   title: \"50 Tips and Tricks for MongoDB Developer\",\n",
    "   author: \"Kristina Chodorow\",\n",
    "   published_date: ISODate(\"2011-05-06\"),\n",
    "   pages: 68,\n",
    "   language: \"English\"\n",
    "}\n",
    "```"
   ]
  },
  {
   "cell_type": "markdown",
   "metadata": {
    "slideshow": {
     "slide_type": "subslide"
    }
   },
   "source": [
    "#### One-to-Many Relationships with Document References III\n",
    "\n",
    "\n",
    "```json\n",
    "{\n",
    "   _id: \"oreilly\",\n",
    "   name: \"O'Reilly Media\",\n",
    "   founded: 1980,\n",
    "   location: \"CA\"\n",
    "}\n",
    "```\n",
    "\n",
    "```json\n",
    "{\n",
    "   _id: 123456789,\n",
    "   title: \"MongoDB: The Definitive Guide\",\n",
    "   author: [ \"Kristina Chodorow\", \"Mike Dirolf\" ],\n",
    "   published_date: ISODate(\"2010-09-24\"),\n",
    "   pages: 216,\n",
    "   language: \"English\",\n",
    "   publisher_id: \"oreilly\"\n",
    "}\n",
    "```\n",
    "\n",
    "```json\n",
    "{\n",
    "   _id: 234567890,\n",
    "   title: \"50 Tips and Tricks for MongoDB Developer\",\n",
    "   author: \"Kristina Chodorow\",\n",
    "   published_date: ISODate(\"2011-05-06\"),\n",
    "   pages: 68,\n",
    "   language: \"English\",\n",
    "   publisher_id: \"oreilly\"\n",
    "}\n",
    "```"
   ]
  },
  {
   "cell_type": "markdown",
   "metadata": {
    "slideshow": {
     "slide_type": "subslide"
    }
   },
   "source": [
    "### Modeling Tree Structures with Parent References\n",
    "\n",
    "![](https://docs.mongodb.com/manual/_images/data-model-tree.bakedsvg.svg)\n",
    "\n",
    "\n",
    "```javascript\n",
    "db.categories.insert( { _id: \"MongoDB\", parent: \"Databases\" } )\n",
    "db.categories.insert( { _id: \"dbm\", parent: \"Databases\" } )\n",
    "db.categories.insert( { _id: \"Databases\", parent: \"Programming\" } )\n",
    "db.categories.insert( { _id: \"Languages\", parent: \"Programming\" } )\n",
    "db.categories.insert( { _id: \"Programming\", parent: \"Books\" } )\n",
    "db.categories.insert( { _id: \"Books\", parent: null } )\n",
    "```\n",
    "\n",
    "#### Getting the Parent\n",
    "\n",
    "```javascript\n",
    "db.categories.findOne( { _id: \"MongoDB\" } ).parent\n",
    "```\n",
    "\n",
    "#### Getting Children\n",
    "\n",
    "```javascript\n",
    "db.categories.find( { parent: \"Databases\" } )\n",
    "```\n"
   ]
  },
  {
   "cell_type": "markdown",
   "metadata": {
    "slideshow": {
     "slide_type": "subslide"
    }
   },
   "source": [
    "#### Modeling Tree Structures with Child References\n",
    "\n",
    "![](https://docs.mongodb.com/manual/_images/data-model-tree.bakedsvg.svg)\n",
    "\n",
    "\n",
    "```javascript\n",
    "db.categories.insert( { _id: \"MongoDB\", children: [] } )\n",
    "db.categories.insert( { _id: \"dbm\", children: [] } )\n",
    "db.categories.insert( { _id: \"Databases\", children: [ \"MongoDB\", \"dbm\" ] } )\n",
    "db.categories.insert( { _id: \"Languages\", children: [] } )\n",
    "db.categories.insert( { _id: \"Programming\", children: [ \"Databases\", \"Languages\" ] })\n",
    "db.categories.insert( { _id: \"Books\", children: [ \"Programming\" ] } )\n",
    "```\n",
    "\n",
    "#### Getting the Children\n",
    "\n",
    "```javascript\n",
    "db.categories.findOne( { _id: \"Databases\" } ).children\n",
    "```\n",
    "\n",
    "#### Getting Parent and Siblings\n",
    "\n",
    "```javascript\n",
    "db.categories.find( { children: \"MongoDB\" } )\n",
    "```\n",
    "\n"
   ]
  },
  {
   "cell_type": "markdown",
   "metadata": {
    "slideshow": {
     "slide_type": "subslide"
    }
   },
   "source": [
    "# Your Turn!\n",
    "\n",
    "![](http://www.twenty19.com/blog/wp-content/uploads/2017/07/typing2.gif)\n",
    "\n",
    "Model the tree above in your MongoDB using the following three strategies:\n",
    "\n",
    "  * Arrays of Ancestors, see https://docs.mongodb.com/manual/tutorial/model-tree-structures-with-ancestors-array/\n",
    "  * Materialized paths, see https://docs.mongodb.com/manual/tutorial/model-tree-structures-with-materialized-paths/\n",
    "  * Nested sets, https://docs.mongodb.com/manual/tutorial/model-tree-structures-with-nested-sets/\n",
    "\n",
    "Run the corresponding queries and describe when to use which strategy.\n",
    "\n",
    "\n",
    "Since it was asked during the last session: How do I enforce certain schema constraints? The following document provides information on how to do that in the DB engine instead of application code, see https://docs.mongodb.com/manual/core/document-validation/"
   ]
  }
 ],
 "metadata": {
  "celltoolbar": "Slideshow",
  "kernelspec": {
   "display_name": "IMongo",
   "language": "",
   "name": "imongo"
  },
  "language_info": {
   "codemirror_mode": "shell",
   "file_extension": ".js",
   "mimetype": "text/x-mongodb",
   "name": "javascript"
  }
 },
 "nbformat": 4,
 "nbformat_minor": 2
}
