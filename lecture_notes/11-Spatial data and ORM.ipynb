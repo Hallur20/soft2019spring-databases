{
 "cells": [
  {
   "cell_type": "markdown",
   "metadata": {
    "slideshow": {
     "slide_type": "slide"
    }
   },
   "source": [
    "# Spatial data, denormalisation and ORM\n",
    "\n",
    "``<jeep@cphbusiness.dk>``"
   ]
  },
  {
   "cell_type": "markdown",
   "metadata": {
    "slideshow": {
     "slide_type": "subslide"
    }
   },
   "source": [
    "## Agenda\n",
    "\n",
    "* Spatial data\n",
    "* Denormalisation\n",
    "* PL/pgSQL\n",
    "* Object-relational mapping\n",
    "\n",
    "### Literature\n",
    "\n",
    "* http://www.cs.toronto.edu/~faye/343/f07/lectures/wk12/wk12_BCNF2-up.pdf"
   ]
  },
  {
   "cell_type": "code",
   "execution_count": null,
   "metadata": {
    "slideshow": {
     "slide_type": "subslide"
    }
   },
   "outputs": [],
   "source": [
    "%load_ext sql"
   ]
  },
  {
   "cell_type": "code",
   "execution_count": null,
   "metadata": {
    "slideshow": {
     "slide_type": "fragment"
    }
   },
   "outputs": [],
   "source": [
    "%matplotlib inline"
   ]
  },
  {
   "cell_type": "code",
   "execution_count": null,
   "metadata": {
    "slideshow": {
     "slide_type": "fragment"
    }
   },
   "outputs": [],
   "source": [
    "%sql postgresql://appdev@0.0.0.0/appdev"
   ]
  },
  {
   "cell_type": "markdown",
   "metadata": {
    "slideshow": {
     "slide_type": "subslide"
    }
   },
   "source": [
    "## Solution to assignment"
   ]
  },
  {
   "cell_type": "code",
   "execution_count": null,
   "metadata": {
    "slideshow": {
     "slide_type": "fragment"
    }
   },
   "outputs": [],
   "source": [
    "%%sql\n",
    "SELECT driverref, name, count(*), sum(milliseconds) / count(*)\n",
    "FROM results\n",
    "INNER JOIN (SELECT driverid, raceid, sum(milliseconds) FROM pitstops GROUP BY driverid, raceid) AS p using (driverid, raceid) \n",
    "INNER JOIN drivers using (driverid) \n",
    "INNER JOIN constructors using (constructorid)\n",
    "WHERE statusid = 1\n",
    "group by constructorid, name, driverid, driverref ORDER BY sum(milliseconds) / count(*) ASC;"
   ]
  },
  {
   "cell_type": "markdown",
   "metadata": {
    "slideshow": {
     "slide_type": "subslide"
    }
   },
   "source": [
    "## Solution with view"
   ]
  },
  {
   "cell_type": "code",
   "execution_count": null,
   "metadata": {
    "slideshow": {
     "slide_type": "fragment"
    }
   },
   "outputs": [],
   "source": [
    "%%sql\n",
    "CREATE VIEW pitstop_view AS \n",
    "  SELECT driverid, raceid, sum(milliseconds) FROM pitstops GROUP BY driverid, raceid"
   ]
  },
  {
   "cell_type": "code",
   "execution_count": null,
   "metadata": {
    "slideshow": {
     "slide_type": "fragment"
    }
   },
   "outputs": [],
   "source": [
    "%%sql\n",
    "SELECT driverref, name, count(*), sum(milliseconds) / count(*)\n",
    "FROM results\n",
    "INNER JOIN pitstop_view using (driverid, raceid) \n",
    "INNER JOIN drivers using (driverid) \n",
    "INNER JOIN constructors using (constructorid)\n",
    "WHERE statusid = 1\n",
    "group by constructorid, name, driverid, driverref ORDER BY sum(milliseconds) / count(*) ASC;"
   ]
  },
  {
   "cell_type": "markdown",
   "metadata": {
    "slideshow": {
     "slide_type": "slide"
    }
   },
   "source": [
    "# Handling spatial data in PostgreSQL\n",
    "\n",
    "* Geometric data types\n",
    "* Geometric functions"
   ]
  },
  {
   "cell_type": "markdown",
   "metadata": {
    "slideshow": {
     "slide_type": "subslide"
    }
   },
   "source": [
    "## Geometric data types\n",
    "\n",
    "https://www.postgresql.org/docs/current/static/datatype-geometric.html\n",
    "\n",
    "<table class=\"CALSTABLE\" border=\"1\">\n",
    "      <colgroup><col>\n",
    "      <col>\n",
    "      <col>\n",
    "      <col>\n",
    "      </colgroup><thead>\n",
    "        <tr>\n",
    "          <th>Name</th>\n",
    "          <th>Storage Size</th>\n",
    "          <th>Description</th>\n",
    "          <th>Representation</th>\n",
    "        </tr>\n",
    "      </thead>\n",
    "      <tbody>\n",
    "        <tr>\n",
    "          <td><tt class=\"TYPE\">point</tt></td>\n",
    "          <td>16 bytes</td>\n",
    "          <td>Point on a plane</td>\n",
    "          <td>(x,y)</td>\n",
    "        </tr>\n",
    "        <tr>\n",
    "          <td><tt class=\"TYPE\">line</tt></td>\n",
    "          <td>32 bytes</td>\n",
    "          <td>Infinite line</td>\n",
    "          <td>{A,B,C}</td>\n",
    "        </tr>\n",
    "        <tr>\n",
    "          <td><tt class=\"TYPE\">lseg</tt></td>\n",
    "          <td>32 bytes</td>\n",
    "          <td>Finite line segment</td>\n",
    "          <td>((x1,y1),(x2,y2))</td>\n",
    "        </tr>\n",
    "        <tr>\n",
    "          <td><tt class=\"TYPE\">box</tt></td>\n",
    "          <td>32 bytes</td>\n",
    "          <td>Rectangular box</td>\n",
    "          <td>((x1,y1),(x2,y2))</td>\n",
    "        </tr>\n",
    "        <tr>\n",
    "          <td><tt class=\"TYPE\">path</tt></td>\n",
    "          <td>16+16n bytes</td>\n",
    "          <td>Closed path (similar to polygon)</td>\n",
    "          <td>((x1,y1),...)</td>\n",
    "        </tr>\n",
    "        <tr>\n",
    "          <td><tt class=\"TYPE\">path</tt></td>\n",
    "          <td>16+16n bytes</td>\n",
    "          <td>Open path</td>\n",
    "          <td>[(x1,y1),...]</td>\n",
    "        </tr>\n",
    "        <tr>\n",
    "          <td><tt class=\"TYPE\">polygon</tt></td>\n",
    "          <td>40+16n bytes</td>\n",
    "          <td>Polygon (similar to closed path)</td>\n",
    "          <td>((x1,y1),...)</td>\n",
    "        </tr>\n",
    "        <tr>\n",
    "          <td><tt class=\"TYPE\">circle</tt></td>\n",
    "          <td>24 bytes</td>\n",
    "          <td>Circle</td>\n",
    "          <td>&lt;(x,y),r&gt; (center point and radius)</td>\n",
    "        </tr>\n",
    "      </tbody>\n",
    "    </table>"
   ]
  },
  {
   "cell_type": "code",
   "execution_count": null,
   "metadata": {
    "slideshow": {
     "slide_type": "subslide"
    }
   },
   "outputs": [],
   "source": [
    "%%sql\n",
    "CREATE TABLE mygeom (\n",
    "    p point,\n",
    "    mbr box\n",
    ");"
   ]
  },
  {
   "cell_type": "code",
   "execution_count": null,
   "metadata": {
    "slideshow": {
     "slide_type": "subslide"
    }
   },
   "outputs": [],
   "source": [
    "%sql INSERT INTO mygeom (p, mbr) VALUES ( point(1, 2), box(point(0, 4), point(0, 5)));"
   ]
  },
  {
   "cell_type": "code",
   "execution_count": null,
   "metadata": {
    "slideshow": {
     "slide_type": "subslide"
    }
   },
   "outputs": [],
   "source": [
    "%sql INSERT INTO mygeom (p, mbr) VALUES ( point '7, 9', box '((3, 5), (-20, -2))');"
   ]
  },
  {
   "cell_type": "markdown",
   "metadata": {
    "slideshow": {
     "slide_type": "subslide"
    }
   },
   "source": [
    "## Geometric functions\n",
    "\n",
    "https://www.postgresql.org/docs/current/static/functions-geometry.html\n",
    "\n",
    "<table class=\"table\" summary=\"Geometric Operators\" border=\"1\">\n",
    "<colgroup>\n",
    "<col>\n",
    "<col>\n",
    "<col></colgroup>\n",
    "<thead>\n",
    "<tr>\n",
    "<th>Operator</th>\n",
    "<th>Description</th>\n",
    "<th>Example</th>\n",
    "</tr>\n",
    "</thead>\n",
    "<tbody>\n",
    "<tr>\n",
    "<td><code class=\"literal\">+</code></td>\n",
    "<td>Translation</td>\n",
    "<td><code class=\"literal\">box '((0,0),(1,1))' + point\n",
    "'(2.0,0)'</code></td>\n",
    "</tr>\n",
    "<tr>\n",
    "<td><code class=\"literal\">-</code></td>\n",
    "<td>Translation</td>\n",
    "<td><code class=\"literal\">box '((0,0),(1,1))' - point\n",
    "'(2.0,0)'</code></td>\n",
    "</tr>\n",
    "<tr>\n",
    "<td><code class=\"literal\">\\*</code></td>\n",
    "<td>Scaling/rotation</td>\n",
    "<td><code class=\"literal\">box '((0,0),(1,1))' \\* point\n",
    "'(2.0,0)'</code></td>\n",
    "</tr>\n",
    "<tr>\n",
    "<td><code class=\"literal\">/</code></td>\n",
    "<td>Scaling/rotation</td>\n",
    "<td><code class=\"literal\">box '((0,0),(2,2))' / point\n",
    "'(2.0,0)'</code></td>\n",
    "</tr>\n",
    "<tr>\n",
    "<td><code class=\"literal\">#</code></td>\n",
    "<td>Point or box of intersection</td>\n",
    "<td><code class=\"literal\">box '((1,-1),(-1,1))' # box\n",
    "'((1,1),(-2,-2))'</code></td>\n",
    "</tr>\n",
    "<tr>\n",
    "<td><code class=\"literal\">#</code></td>\n",
    "<td>Number of points in path or polygon</td>\n",
    "<td><code class=\"literal\"># path '((1,0),(0,1),(-1,0))'</code></td>\n",
    "</tr>\n",
    "<tr>\n",
    "<td><code class=\"literal\">@-@</code></td>\n",
    "<td>Length or circumference</td>\n",
    "<td><code class=\"literal\">@-@ path '((0,0),(1,0))'</code></td>\n",
    "</tr>\n",
    "<tr>\n",
    "<td><code class=\"literal\">@@</code></td>\n",
    "<td>Center</td>\n",
    "<td><code class=\"literal\">@@ circle '((0,0),10)'</code></td>\n",
    "</tr>\n",
    "<tr>\n",
    "<td><code class=\"literal\">##</code></td>\n",
    "<td>Closest point to first operand on second operand</td>\n",
    "<td><code class=\"literal\">point '(0,0)' ## lseg\n",
    "'((2,0),(0,2))'</code></td>\n",
    "</tr>\n",
    "<tr>\n",
    "<td><code class=\"literal\">&lt;-&gt;</code></td>\n",
    "<td>Distance between</td>\n",
    "<td><code class=\"literal\">circle '((0,0),1)' &lt;-&gt; circle\n",
    "'((5,0),1)'</code></td>\n",
    "</tr>\n",
    "<tr>\n",
    "<td><code class=\"literal\">&amp;&amp;</code></td>\n",
    "<td>Overlaps? (One point in common makes this true.)</td>\n",
    "<td><code class=\"literal\">box '((0,0),(1,1))' &amp;&amp; box\n",
    "'((0,0),(2,2))'</code></td>\n",
    "</tr>\n",
    "<tr>\n",
    "<td><code class=\"literal\">@&gt;</code></td>\n",
    "<td>Contains?</td>\n",
    "<td><code class=\"literal\">circle '((0,0),2)' @&gt; point\n",
    "'(1,1)'</code></td>\n",
    "</tr>\n",
    "<tr>\n",
    "\n",
    "<td><code class=\"literal\">&lt;@</code></td>\n",
    "<td>Contained in or on?</td>\n",
    "<td><code class=\"literal\">point '(1,1)' &lt;@ circle\n",
    "'((0,0),2)'</code></td>\n",
    "</tr>\n",
    "</tbody>\n",
    "</table>"
   ]
  },
  {
   "cell_type": "code",
   "execution_count": null,
   "metadata": {
    "slideshow": {
     "slide_type": "subslide"
    }
   },
   "outputs": [],
   "source": [
    "%sql SELECT @@mbr AS center FROM mygeom;"
   ]
  },
  {
   "cell_type": "code",
   "execution_count": null,
   "metadata": {
    "slideshow": {
     "slide_type": "subslide"
    }
   },
   "outputs": [],
   "source": [
    "%sql SELECT p <-> mbr AS distance FROM mygeom;"
   ]
  },
  {
   "cell_type": "markdown",
   "metadata": {
    "slideshow": {
     "slide_type": "subslide"
    }
   },
   "source": [
    "## Exercise on geometric data\n",
    "\n",
    "1. Translate the box (1, 1) (2, 2) two units to the left.\n",
    "2. Find the intersection between the box (1, 0), (10, 10) and the box (1, 1), (2, 2)\n",
    "3. Find the distance between the point (0, 2) and the box (1, 3), (-20, 0)\n",
    "4. Is the point (7, 7) within the circle with the center (4, 2) and radius 5.83?"
   ]
  },
  {
   "cell_type": "markdown",
   "metadata": {
    "slideshow": {
     "slide_type": "slide"
    }
   },
   "source": [
    "# Denormalisation\n",
    "\n",
    "Fully normalised schemas have a high number of tables and references (foreign keys) between them\n",
    "\n",
    "Can cause problems\n",
    "\n",
    "  * Heavy join queries\n",
    "  * Lots of locking constraints on foreign keys\n",
    "  \n",
    "This is typically not a problem in PostgreSQL\n",
    "\n",
    "  * Support for row-level locking"
   ]
  },
  {
   "cell_type": "markdown",
   "metadata": {
    "slideshow": {
     "slide_type": "subslide"
    }
   },
   "source": [
    "## When and why to use denormalisation\n",
    "\n",
    "* Query performance \n",
    "* Cached numbers\n",
    "* Maintaining history\n",
    "\n"
   ]
  },
  {
   "cell_type": "markdown",
   "metadata": {
    "slideshow": {
     "slide_type": "fragment"
    }
   },
   "source": [
    "\n",
    "**Only** do this when you need it (and can prove that you need it)"
   ]
  },
  {
   "cell_type": "markdown",
   "metadata": {
    "slideshow": {
     "slide_type": "subslide"
    }
   },
   "source": [
    "## Method 1: Breaking functional dependencies\n",
    "\n",
    "* When you denormalise you typically break functional dependencies\n",
    "  * When done correctly, this is the same as implementing a cache\n",
    "  * Can also be done with views!\n",
    " \n",
    "* When done correctly, you have some kind of cache invalidation mechanism\n",
    "  * Prevents inconsistencies"
   ]
  },
  {
   "cell_type": "markdown",
   "metadata": {
    "slideshow": {
     "slide_type": "subslide"
    }
   },
   "source": [
    "## Method 2: Denormalising with data types\n",
    "\n",
    "* Arrays\n",
    "  * ``int[]``\n",
    "* Composite types\n",
    "  * ``tuple``, ``point``, ``daterange``\n",
    "* Enums\n",
    "* XML\n",
    "* JSON"
   ]
  },
  {
   "cell_type": "markdown",
   "metadata": {
    "slideshow": {
     "slide_type": "subslide"
    }
   },
   "source": [
    "## Method 3: Partitioning tables\n",
    "\n",
    "* Tables can be split based on an attribute (date, id, etc.)\n",
    "\n",
    "https://www.postgresql.org/docs/10/static/ddl-partitioning.html\n",
    "\n",
    "1. Create table with partitioning\n",
    "\n",
    "          CREATE TABLE measurement (\n",
    "              logdate         date not null,\n",
    "              ...\n",
    "          ) PARTITION BY RANGE (logdate);\n",
    "    \n",
    "    \n",
    "2. Create the partitions\n",
    "\n",
    "        CREATE TABLE measurement_y2006m02 PARTITION OF measurement\n",
    "            FOR VALUES FROM ('2006-02-01') TO ('2006-03-01');\n",
    "\n",
    "3. Index (you want this)\n",
    "\n",
    "        CREATE INDEX ON measurement_y2006m02 (logdate);"
   ]
  },
  {
   "cell_type": "markdown",
   "metadata": {
    "slideshow": {
     "slide_type": "subslide"
    }
   },
   "source": [
    "Befor partitioning    \n",
    "    \n",
    "    EXPLAIN SELECT count(*) FROM measurement WHERE logdate >= DATE '2008-01-01';\n",
    "                                              QUERY PLAN\n",
    "    -----------------------------------------------------------------------------------------------\n",
    "     Aggregate  (cost=158.66..158.68 rows=1 width=0)\n",
    "       ->  Append  (cost=0.00..151.88 rows=2715 width=0)\n",
    "             ->  Seq Scan on measurement  (cost=0.00..30.38 rows=543 width=0)\n",
    "                   Filter: (logdate >= '2008-01-01'::date)\n",
    "             ->  Seq Scan on measurement_y2006m02 measurement  (cost=0.00..30.38 rows=543 width=0)\n",
    "                   Filter: (logdate >= '2008-01-01'::date)\n",
    "             ->  Seq Scan on measurement_y2006m03 measurement  (cost=0.00..30.38 rows=543 width=0)\n",
    "                   Filter: (logdate >= '2008-01-01'::date)\n",
    "    ...\n",
    "             ->  Seq Scan on measurement_y2007m12 measurement  (cost=0.00..30.38 rows=543 width=0)\n",
    "                   Filter: (logdate >= '2008-01-01'::date)\n",
    "             ->  Seq Scan on measurement_y2008m01 measurement  (cost=0.00..30.38 rows=543 width=0)\n",
    "                   Filter: (logdate >= '2008-01-01'::date)"
   ]
  },
  {
   "cell_type": "markdown",
   "metadata": {
    "slideshow": {
     "slide_type": "subslide"
    }
   },
   "source": [
    "After partitioning\n",
    "\n",
    "\n",
    "    SET constraint_exclusion = on;\n",
    "    EXPLAIN SELECT count(*) FROM measurement WHERE logdate >= DATE '2008-01-01';\n",
    "                                              QUERY PLAN\n",
    "    -----------------------------------------------------------------------------------------------\n",
    "     Aggregate  (cost=63.47..63.48 rows=1 width=0)\n",
    "       ->  Append  (cost=0.00..60.75 rows=1086 width=0)\n",
    "             ->  Seq Scan on measurement  (cost=0.00..30.38 rows=543 width=0)\n",
    "                   Filter: (logdate >= '2008-01-01'::date)\n",
    "             ->  Seq Scan on measurement_y2008m01 measurement  (cost=0.00..30.38 rows=543 width=0)\n",
    "                   Filter: (logdate >= '2008-01-01'::date)"
   ]
  },
  {
   "cell_type": "markdown",
   "metadata": {
    "slideshow": {
     "slide_type": "subslide"
    }
   },
   "source": [
    "## Other methods\n",
    "\n",
    "* PostgreSQL has a number of extensions\n",
    "  * hstore\n",
    "  * ltree \n",
    "  * intarray\n",
    "  * pg_trgm"
   ]
  },
  {
   "cell_type": "markdown",
   "metadata": {
    "slideshow": {
     "slide_type": "subslide"
    }
   },
   "source": [
    "## Denormalisation exercise\n",
    "\n",
    "\n",
    "This is your shemas:\n",
    "\n",
    "    Projects(ProjectId, ProjectName, CustomerId) \n",
    "     ProjectDetails(ProjectId, ItemId, ActivityId, EmployeeId, WorkDate, TimeSpent) \n",
    "     Customers(CustomerId, CustomerName) Activities(ActivityId, ActivityName) \n",
    "     Employees(EmployeeId, EmployeeName)\n",
    "       \n",
    "You have performance problems with a report that calculates total time spent on a project. How can you improve report performance? "
   ]
  },
  {
   "cell_type": "markdown",
   "metadata": {
    "slideshow": {
     "slide_type": "fragment"
    }
   },
   "source": [
    "    Projects(ProjectId, ProjectName, CustomerId, StartDate, CustomerName, TotalTimeSpent)"
   ]
  },
  {
   "cell_type": "markdown",
   "metadata": {
    "slideshow": {
     "slide_type": "fragment"
    }
   },
   "source": [
    "More denormalisation exercises: https://msdn.microsoft.com/en-us/library/cc505841.aspx"
   ]
  },
  {
   "cell_type": "markdown",
   "metadata": {
    "slideshow": {
     "slide_type": "slide"
    }
   },
   "source": [
    "## PL introduction\n",
    "\n",
    "So far we have only talked about RDMSs as data storage. They can do so much more\n",
    "\n",
    "* ``PL`` $=$ procedural language\n",
    "* Comes in many flavours\n",
    "  * PL/Python\n",
    "  * PL/v8\n",
    "  * PL/perl\n",
    "  * PL/pgSQL\n",
    "* PL/pgSQL is the shipped by default"
   ]
  },
  {
   "cell_type": "code",
   "execution_count": 186,
   "metadata": {
    "slideshow": {
     "slide_type": "subslide"
    }
   },
   "outputs": [
    {
     "name": "stdout",
     "output_type": "stream",
     "text": [
      "Done.\n"
     ]
    },
    {
     "data": {
      "text/plain": [
       "[]"
      ]
     },
     "execution_count": 186,
     "metadata": {},
     "output_type": "execute_result"
    }
   ],
   "source": [
    "%%sql\n",
    "DO $$ \n",
    "BEGIN\n",
    "    PERFORM '1';\n",
    "END\n",
    "$$ LANGUAGE plpgsql;"
   ]
  },
  {
   "cell_type": "markdown",
   "metadata": {
    "slideshow": {
     "slide_type": "subslide"
    }
   },
   "source": [
    "## Triggers and functions in the bigger picture\n",
    "\n",
    "* PL/pgSQL supports many more features\n",
    "  * Caching\n",
    "  * Channel/socket communication/notification\n",
    "  * Event-based triggering\n",
    "  \n",
    "* Logic in the database versus logic in the application\n",
    "    * Especially Oracle allows for program logic **within** the database\n",
    "\n",
    "* With RDBMS, who should be responsible of updating the relations?"
   ]
  },
  {
   "cell_type": "markdown",
   "metadata": {
    "slideshow": {
     "slide_type": "slide"
    }
   },
   "source": [
    "## Object-relational mapping\n",
    "\n",
    "* ORM is a technique to create a direct mapping between the object in your OOP language and the object in your database\n",
    "  * Maintains a 1:1 relation between the state of the objects in memory and in the database\n",
    "  \n",
    "* Popular frameworks that supports ORM\n",
    "  * [JPA](https://en.wikipedia.org/wiki/Java_Persistence_API), Java\n",
    "  * [Hibernate](http://hibernate.org/orm/what-is-an-orm/), Java\n",
    "  * [LINQ](https://en.wikipedia.org/wiki/Language_Integrated_Query#LINQ_to_SQL), C#\n",
    "  * [Zend](https://en.wikipedia.org/wiki/Zend_Framework), PHP\n",
    "  * <a href=\"https://en.wikipedia.org/wiki/Django_(web_framework)\">Django</a>, Python\n",
    "  \n",
    "* Problem to solve: RDBMS works with scalar values"
   ]
  },
  {
   "cell_type": "markdown",
   "metadata": {
    "slideshow": {
     "slide_type": "subslide"
    }
   },
   "source": [
    "## A word of warning\n",
    "\n",
    "There’s  a  fundamental  difference  application state and database model\n",
    "\n",
    "* The application implements workflows and interaction with the users (dynamic)\n",
    "* The database model ensures a consistent view of world (static)\n",
    "\n",
    "\n"
   ]
  },
  {
   "cell_type": "markdown",
   "metadata": {
    "slideshow": {
     "slide_type": "fragment"
    }
   },
   "source": [
    "\n",
    "\n",
    "* The application model code should focus around user stories and interaction\n",
    "* The database model should focus on keeping data consistent and safe"
   ]
  },
  {
   "cell_type": "markdown",
   "metadata": {
    "slideshow": {
     "slide_type": "fragment"
    }
   },
   "source": [
    "If you try to merge the two, you will feel pain."
   ]
  },
  {
   "cell_type": "markdown",
   "metadata": {
    "slideshow": {
     "slide_type": "subslide"
    }
   },
   "source": [
    "## SQLAlchemy\n",
    "\n",
    "In Python, SQL alchemy is a popular framework to achieve this. \n",
    "\n",
    "Models are defined in Python as classes."
   ]
  },
  {
   "cell_type": "code",
   "execution_count": null,
   "metadata": {
    "slideshow": {
     "slide_type": "fragment"
    }
   },
   "outputs": [],
   "source": [
    "import sqlalchemy\n",
    "from sqlalchemy import create_engine\n",
    "engine = create_engine('postgresql://appdev@data/appdev', echo=True)"
   ]
  },
  {
   "cell_type": "markdown",
   "metadata": {
    "slideshow": {
     "slide_type": "subslide"
    }
   },
   "source": [
    "### Creating a model in SQLAlchemy\n",
    "    class Movie(Base):\n",
    "        __tablename__ = 'movies'\n",
    "\n",
    "        id = Column(Integer, primary_key=True)\n",
    "        title = Column(String(255), nullable=False)\n",
    "        year = Column(Integer)\n",
    "        directed_by = Column(Integer, ForeignKey('directors.id'))\n",
    "\n",
    "        director = relation(\"Director\", backref='movies', lazy=False)\n",
    "\n",
    "        def __init__(self, title=None, year=None):\n",
    "            self.title = title\n",
    "            self.year = year\n",
    "\n",
    "        def __repr__(self):\n",
    "            return \"Movie(%r, %r, %r)\" % (self.title, self.year, self.director)"
   ]
  },
  {
   "cell_type": "markdown",
   "metadata": {
    "slideshow": {
     "slide_type": "subslide"
    }
   },
   "source": [
    "## Storing data in SQLAlchemy\n",
    "\n",
    "    Session = sessionmaker(bind=engine)\n",
    "    session = Session()\n",
    "\n",
    "    try:\n",
    "        session.add(m1)\n",
    "        session.commit()\n",
    "    except:\n",
    "        session.rollback()"
   ]
  },
  {
   "cell_type": "markdown",
   "metadata": {
    "slideshow": {
     "slide_type": "subslide"
    }
   },
   "source": [
    "## Querying in SQLAlchemy\n",
    "\n",
    "    alldata = session.query(Movie).all()\n",
    "    for somedata in alldata:\n",
    "        print somedata\n",
    "\n",
    "\n",
    "Translates to:\n",
    "\n",
    "    SELECT movies.id, movies.title, movies.year, movies.directed_by, directors.id, directors.name\n",
    "    FROM movies LEFT OUTER JOIN directors ON directors.id = movies.directed_by"
   ]
  },
  {
   "cell_type": "markdown",
   "metadata": {
    "slideshow": {
     "slide_type": "subslide"
    }
   },
   "source": [
    "## Exercise on SQLAlchemy ORM\n",
    "\n",
    "http://docs.sqlalchemy.org/en/latest/orm/tutorial.html"
   ]
  },
  {
   "cell_type": "markdown",
   "metadata": {
    "slideshow": {
     "slide_type": "slide"
    }
   },
   "source": [
    "# Assignment 8: Spatial data and Magic: The gathering\n",
    "\n"
   ]
  },
  {
   "cell_type": "markdown",
   "metadata": {
    "slideshow": {
     "slide_type": "subslide"
    }
   },
   "source": [
    "## Introduction to JSON functions\n",
    "\n",
    "https://www.postgresql.org/docs/current/static/functions-json.html"
   ]
  },
  {
   "cell_type": "code",
   "execution_count": null,
   "metadata": {
    "slideshow": {
     "slide_type": "fragment"
    }
   },
   "outputs": [],
   "source": [
    "%sql SELECT data FROM cards LIMIT 10;"
   ]
  },
  {
   "cell_type": "markdown",
   "metadata": {
    "slideshow": {
     "slide_type": "subslide"
    }
   },
   "source": [
    "<table><colgroup>\n",
    "<col>\n",
    "<col>\n",
    "<col>\n",
    "<col>\n",
    "<col></colgroup>\n",
    "<thead>\n",
    "<tr>\n",
    "<th>Operator</th>\n",
    "<th>Right Operand Type</th>\n",
    "<th>Description</th>\n",
    "<th>Example</th>\n",
    "<th>Example Result</th>\n",
    "</tr>\n",
    "</thead>\n",
    "<tbody>\n",
    "<tr>\n",
    "<td><code class=\"literal\">-&gt;</code></td>\n",
    "<td><code class=\"type\">int</code></td>\n",
    "<td>Get JSON array element (indexed from zero, negative integers\n",
    "count from the end)</td>\n",
    "<td><code class=\"literal\">'[{\"a\":\"foo\"},{\"b\":\"bar\"},{\"c\":\"baz\"}]'::json-&gt;2</code></td>\n",
    "<td><code class=\"literal\">{\"c\":\"baz\"}</code></td>\n",
    "</tr>\n",
    "<tr>\n",
    "<td><code class=\"literal\">-&gt;</code></td>\n",
    "<td><code class=\"type\">text</code></td>\n",
    "<td>Get JSON object field by key</td>\n",
    "<td><code class=\"literal\">'{\"a\":\n",
    "{\"b\":\"foo\"}}'::json-&gt;'a'</code></td>\n",
    "<td><code class=\"literal\">{\"b\":\"foo\"}</code></td>\n",
    "</tr>\n",
    "<tr>\n",
    "<td><code class=\"literal\">-&gt;&gt;</code></td>\n",
    "<td><code class=\"type\">int</code></td>\n",
    "<td>Get JSON array element as <code class=\"type\">text</code></td>\n",
    "<td><code class=\"literal\">'[1,2,3]'::json-&gt;&gt;2</code></td>\n",
    "<td><code class=\"literal\">3</code></td>\n",
    "</tr>\n",
    "<tr>\n",
    "<td><code class=\"literal\">-&gt;&gt;</code></td>\n",
    "<td><code class=\"type\">text</code></td>\n",
    "<td>Get JSON object field as <code class=\"type\">text</code></td>\n",
    "<td><code class=\"literal\">'{\"a\":1,\"b\":2}'::json-&gt;&gt;'b'</code></td>\n",
    "<td><code class=\"literal\">2</code></td>\n",
    "</tr>\n",
    "<tr>\n",
    "<td><code class=\"literal\">#&gt;</code></td>\n",
    "<td><code class=\"type\">text[]</code></td>\n",
    "<td>Get JSON object at specified path</td>\n",
    "<td><code class=\"literal\">'{\"a\": {\"b\":{\"c\":\n",
    "\"foo\"}}}'::json#&gt;'{a,b}'</code></td>\n",
    "<td><code class=\"literal\">{\"c\": \"foo\"}</code></td>\n",
    "</tr>\n",
    "<tr>\n",
    "<td><code class=\"literal\">#&gt;&gt;</code></td>\n",
    "<td><code class=\"type\">text[]</code></td>\n",
    "<td>Get JSON object at specified path as <code class=\"type\">text</code></td>\n",
    "<td><code class=\"literal\">'{\"a\":[1,2,3],\"b\":[4,5,6]}'::json#&gt;&gt;'{a,2}'</code></td>\n",
    "<td><code class=\"literal\">3</code></td>\n",
    "</tr>\n",
    "</tbody>\n",
    "</table>"
   ]
  },
  {
   "cell_type": "code",
   "execution_count": null,
   "metadata": {
    "slideshow": {
     "slide_type": "subslide"
    }
   },
   "outputs": [],
   "source": [
    "%sql SELECT data -> 'type' FROM cards LIMIT 10;"
   ]
  },
  {
   "cell_type": "markdown",
   "metadata": {
    "slideshow": {
     "slide_type": "subslide"
    }
   },
   "source": [
    "<table>\n",
    "<colgroup>\n",
    "<col>\n",
    "<col>\n",
    "<col>\n",
    "<col></colgroup>\n",
    "<thead>\n",
    "<tr>\n",
    "<th>Operator</th>\n",
    "<th>Right Operand Type</th>\n",
    "<th>Description</th>\n",
    "<th>Example</th>\n",
    "</tr>\n",
    "</thead>\n",
    "<tbody>\n",
    "<tr>\n",
    "<td><code class=\"literal\">@&gt;</code></td>\n",
    "<td><code class=\"type\">jsonb</code></td>\n",
    "<td>Does the left JSON value contain the right JSON path/value\n",
    "entries at the top level?</td>\n",
    "<td><code class=\"literal\">'{\"a\":1, \"b\":2}'::jsonb @&gt;\n",
    "'{\"b\":2}'::jsonb</code></td>\n",
    "</tr>\n",
    "<tr>\n",
    "<td><code class=\"literal\">&lt;@</code></td>\n",
    "<td><code class=\"type\">jsonb</code></td>\n",
    "<td>Are the left JSON path/value entries contained at the top level\n",
    "within the right JSON value?</td>\n",
    "<td><code class=\"literal\">'{\"b\":2}'::jsonb &lt;@ '{\"a\":1,\n",
    "\"b\":2}'::jsonb</code></td>\n",
    "</tr>\n",
    "<tr>\n",
    "<td><code class=\"literal\">?</code></td>\n",
    "<td><code class=\"type\">text</code></td>\n",
    "<td>Does the <span class=\"emphasis\"><em>string</em></span> exist as\n",
    "a top-level key within the JSON value?</td>\n",
    "<td><code class=\"literal\">'{\"a\":1, \"b\":2}'::jsonb ? 'b'</code></td>\n",
    "</tr>\n",
    "<tr>\n",
    "<td><code class=\"literal\">?|</code></td>\n",
    "<td><code class=\"type\">text[]</code></td>\n",
    "<td>Do any of these array <span class=\"emphasis\"><em>strings</em></span> exist as top-level keys?</td>\n",
    "<td><code class=\"literal\">'{\"a\":1, \"b\":2, \"c\":3}'::jsonb ?|\n",
    "array['b', 'c']</code></td>\n",
    "</tr>\n",
    "<tr>\n",
    "<td><code class=\"literal\">?&amp;</code></td>\n",
    "<td><code class=\"type\">text[]</code></td>\n",
    "<td>Do all of these array <span class=\"emphasis\"><em>strings</em></span> exist as top-level keys?</td>\n",
    "<td><code class=\"literal\">'[\"a\", \"b\"]'::jsonb ?&amp; array['a',\n",
    "'b']</code></td>\n",
    "</tr>\n",
    "</tbody>\n",
    "</table>"
   ]
  },
  {
   "cell_type": "code",
   "execution_count": null,
   "metadata": {
    "slideshow": {
     "slide_type": "subslide"
    }
   },
   "outputs": [],
   "source": [
    "%sql SELECT data FROM cards WHERE data @> '{\"type\":\"Enchantment\"}' LIMIT 10;"
   ]
  },
  {
   "cell_type": "markdown",
   "metadata": {
    "slideshow": {
     "slide_type": "subslide"
    }
   },
   "source": [
    "# Assignment 8: Spatial data and Magic: The gathering\n",
    "\n",
    "**Deadline**: 10th of April 12:00\n",
    "\n",
    "**Review deadline**: 11th of April 23:59\n",
    "\n",
    "This assignment is split into two parts: a spatial part and a JSON parsing part\n",
    "\n",
    "1. In the first part you'll be processing the data in the ``geonames`` table.\n",
    "  1. Find the tuple with the largest population\n",
    "  2. Now calculate the distance from all locations to the tuple above using the ``<->`` function\n",
    "  3. Now calculate the distance from all locations to the tuple above using the haversine distance\n",
    "    1. The haversine distance has been implemented in PL/PGSQL here: https://gist.github.com/carlzulauf/1724506\n",
    "  4. Plot the latitude and longitude of the largest 1000 populations on a 2-D scatter plot\n",
    "    1. You can use [IPython-SQL](https://github.com/catherinedevlin/ipython-sql#graphing) or [Pandas](https://pandas.pydata.org/pandas-docs/stable/visualization.html) to create the plot\n",
    "  \n",
    "2. In the second part your job is to work with JSON data from the ``magic`` schema. The schema is based on the game Magic: The gathering\n",
    "  1. Find all the cards that is made by Rob Alexander\n",
    "  2. Find all the cards that have the subtype \"Human\"\n",
    "  3. Group all the cards based on the colour. Aggregate them by counting the number of cards per colour.\n",
    "  \n",
    "Hand-in: a 2-d plot of the latitude and longitudes of the 1000 largest populations from the ``geonames`` table and a histogram that counts the number of cards for each colour"
   ]
  }
 ],
 "metadata": {
  "celltoolbar": "Slideshow",
  "kernelspec": {
   "display_name": "Python 3",
   "language": "python",
   "name": "python3"
  },
  "language_info": {
   "codemirror_mode": {
    "name": "ipython",
    "version": 3
   },
   "file_extension": ".py",
   "mimetype": "text/x-python",
   "name": "python",
   "nbconvert_exporter": "python",
   "pygments_lexer": "ipython3",
   "version": "3.6.3"
  }
 },
 "nbformat": 4,
 "nbformat_minor": 2
}
